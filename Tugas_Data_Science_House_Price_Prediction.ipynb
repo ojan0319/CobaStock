{
  "cells": [
    {
      "cell_type": "markdown",
      "metadata": {
        "id": "view-in-github",
        "colab_type": "text"
      },
      "source": [
        "<a href=\"https://colab.research.google.com/github/ojan0319/CobaStock/blob/main/Tugas_Data_Science_House_Price_Prediction.ipynb\" target=\"_parent\"><img src=\"https://colab.research.google.com/assets/colab-badge.svg\" alt=\"Open In Colab\"/></a>"
      ]
    },
    {
      "cell_type": "markdown",
      "id": "89a1e033",
      "metadata": {
        "id": "89a1e033"
      },
      "source": [
        "## Import Library"
      ]
    },
    {
      "cell_type": "code",
      "execution_count": 25,
      "id": "cceba71b",
      "metadata": {
        "id": "cceba71b"
      },
      "outputs": [],
      "source": [
        "import pandas as pd\n",
        "import numpy as np\n",
        "import matplotlib.pyplot as plt\n",
        "import seaborn as sns\n",
        "\n",
        "from sklearn.metrics import r2_score, mean_squared_error, mean_absolute_error"
      ]
    },
    {
      "cell_type": "markdown",
      "id": "0b8de2c9",
      "metadata": {
        "id": "0b8de2c9"
      },
      "source": [
        "## Load dataset"
      ]
    },
    {
      "cell_type": "code",
      "source": [
        "from google.colab import files\n",
        "uploaded = files.upload()"
      ],
      "metadata": {
        "colab": {
          "base_uri": "https://localhost:8080/",
          "height": 74
        },
        "id": "myru3cB8Jz9B",
        "outputId": "5fdde8cb-0100-46e9-fe1d-7500610cecc3"
      },
      "id": "myru3cB8Jz9B",
      "execution_count": 28,
      "outputs": [
        {
          "output_type": "display_data",
          "data": {
            "text/plain": [
              "<IPython.core.display.HTML object>"
            ],
            "text/html": [
              "\n",
              "     <input type=\"file\" id=\"files-60b6cd9e-fe02-43e1-a698-db1127c73ade\" name=\"files[]\" multiple disabled\n",
              "        style=\"border:none\" />\n",
              "     <output id=\"result-60b6cd9e-fe02-43e1-a698-db1127c73ade\">\n",
              "      Upload widget is only available when the cell has been executed in the\n",
              "      current browser session. Please rerun this cell to enable.\n",
              "      </output>\n",
              "      <script>// Copyright 2017 Google LLC\n",
              "//\n",
              "// Licensed under the Apache License, Version 2.0 (the \"License\");\n",
              "// you may not use this file except in compliance with the License.\n",
              "// You may obtain a copy of the License at\n",
              "//\n",
              "//      http://www.apache.org/licenses/LICENSE-2.0\n",
              "//\n",
              "// Unless required by applicable law or agreed to in writing, software\n",
              "// distributed under the License is distributed on an \"AS IS\" BASIS,\n",
              "// WITHOUT WARRANTIES OR CONDITIONS OF ANY KIND, either express or implied.\n",
              "// See the License for the specific language governing permissions and\n",
              "// limitations under the License.\n",
              "\n",
              "/**\n",
              " * @fileoverview Helpers for google.colab Python module.\n",
              " */\n",
              "(function(scope) {\n",
              "function span(text, styleAttributes = {}) {\n",
              "  const element = document.createElement('span');\n",
              "  element.textContent = text;\n",
              "  for (const key of Object.keys(styleAttributes)) {\n",
              "    element.style[key] = styleAttributes[key];\n",
              "  }\n",
              "  return element;\n",
              "}\n",
              "\n",
              "// Max number of bytes which will be uploaded at a time.\n",
              "const MAX_PAYLOAD_SIZE = 100 * 1024;\n",
              "\n",
              "function _uploadFiles(inputId, outputId) {\n",
              "  const steps = uploadFilesStep(inputId, outputId);\n",
              "  const outputElement = document.getElementById(outputId);\n",
              "  // Cache steps on the outputElement to make it available for the next call\n",
              "  // to uploadFilesContinue from Python.\n",
              "  outputElement.steps = steps;\n",
              "\n",
              "  return _uploadFilesContinue(outputId);\n",
              "}\n",
              "\n",
              "// This is roughly an async generator (not supported in the browser yet),\n",
              "// where there are multiple asynchronous steps and the Python side is going\n",
              "// to poll for completion of each step.\n",
              "// This uses a Promise to block the python side on completion of each step,\n",
              "// then passes the result of the previous step as the input to the next step.\n",
              "function _uploadFilesContinue(outputId) {\n",
              "  const outputElement = document.getElementById(outputId);\n",
              "  const steps = outputElement.steps;\n",
              "\n",
              "  const next = steps.next(outputElement.lastPromiseValue);\n",
              "  return Promise.resolve(next.value.promise).then((value) => {\n",
              "    // Cache the last promise value to make it available to the next\n",
              "    // step of the generator.\n",
              "    outputElement.lastPromiseValue = value;\n",
              "    return next.value.response;\n",
              "  });\n",
              "}\n",
              "\n",
              "/**\n",
              " * Generator function which is called between each async step of the upload\n",
              " * process.\n",
              " * @param {string} inputId Element ID of the input file picker element.\n",
              " * @param {string} outputId Element ID of the output display.\n",
              " * @return {!Iterable<!Object>} Iterable of next steps.\n",
              " */\n",
              "function* uploadFilesStep(inputId, outputId) {\n",
              "  const inputElement = document.getElementById(inputId);\n",
              "  inputElement.disabled = false;\n",
              "\n",
              "  const outputElement = document.getElementById(outputId);\n",
              "  outputElement.innerHTML = '';\n",
              "\n",
              "  const pickedPromise = new Promise((resolve) => {\n",
              "    inputElement.addEventListener('change', (e) => {\n",
              "      resolve(e.target.files);\n",
              "    });\n",
              "  });\n",
              "\n",
              "  const cancel = document.createElement('button');\n",
              "  inputElement.parentElement.appendChild(cancel);\n",
              "  cancel.textContent = 'Cancel upload';\n",
              "  const cancelPromise = new Promise((resolve) => {\n",
              "    cancel.onclick = () => {\n",
              "      resolve(null);\n",
              "    };\n",
              "  });\n",
              "\n",
              "  // Wait for the user to pick the files.\n",
              "  const files = yield {\n",
              "    promise: Promise.race([pickedPromise, cancelPromise]),\n",
              "    response: {\n",
              "      action: 'starting',\n",
              "    }\n",
              "  };\n",
              "\n",
              "  cancel.remove();\n",
              "\n",
              "  // Disable the input element since further picks are not allowed.\n",
              "  inputElement.disabled = true;\n",
              "\n",
              "  if (!files) {\n",
              "    return {\n",
              "      response: {\n",
              "        action: 'complete',\n",
              "      }\n",
              "    };\n",
              "  }\n",
              "\n",
              "  for (const file of files) {\n",
              "    const li = document.createElement('li');\n",
              "    li.append(span(file.name, {fontWeight: 'bold'}));\n",
              "    li.append(span(\n",
              "        `(${file.type || 'n/a'}) - ${file.size} bytes, ` +\n",
              "        `last modified: ${\n",
              "            file.lastModifiedDate ? file.lastModifiedDate.toLocaleDateString() :\n",
              "                                    'n/a'} - `));\n",
              "    const percent = span('0% done');\n",
              "    li.appendChild(percent);\n",
              "\n",
              "    outputElement.appendChild(li);\n",
              "\n",
              "    const fileDataPromise = new Promise((resolve) => {\n",
              "      const reader = new FileReader();\n",
              "      reader.onload = (e) => {\n",
              "        resolve(e.target.result);\n",
              "      };\n",
              "      reader.readAsArrayBuffer(file);\n",
              "    });\n",
              "    // Wait for the data to be ready.\n",
              "    let fileData = yield {\n",
              "      promise: fileDataPromise,\n",
              "      response: {\n",
              "        action: 'continue',\n",
              "      }\n",
              "    };\n",
              "\n",
              "    // Use a chunked sending to avoid message size limits. See b/62115660.\n",
              "    let position = 0;\n",
              "    do {\n",
              "      const length = Math.min(fileData.byteLength - position, MAX_PAYLOAD_SIZE);\n",
              "      const chunk = new Uint8Array(fileData, position, length);\n",
              "      position += length;\n",
              "\n",
              "      const base64 = btoa(String.fromCharCode.apply(null, chunk));\n",
              "      yield {\n",
              "        response: {\n",
              "          action: 'append',\n",
              "          file: file.name,\n",
              "          data: base64,\n",
              "        },\n",
              "      };\n",
              "\n",
              "      let percentDone = fileData.byteLength === 0 ?\n",
              "          100 :\n",
              "          Math.round((position / fileData.byteLength) * 100);\n",
              "      percent.textContent = `${percentDone}% done`;\n",
              "\n",
              "    } while (position < fileData.byteLength);\n",
              "  }\n",
              "\n",
              "  // All done.\n",
              "  yield {\n",
              "    response: {\n",
              "      action: 'complete',\n",
              "    }\n",
              "  };\n",
              "}\n",
              "\n",
              "scope.google = scope.google || {};\n",
              "scope.google.colab = scope.google.colab || {};\n",
              "scope.google.colab._files = {\n",
              "  _uploadFiles,\n",
              "  _uploadFilesContinue,\n",
              "};\n",
              "})(self);\n",
              "</script> "
            ]
          },
          "metadata": {}
        },
        {
          "output_type": "stream",
          "name": "stdout",
          "text": [
            "Saving kc_house_data.csv to kc_house_data.csv\n"
          ]
        }
      ]
    },
    {
      "cell_type": "code",
      "execution_count": 30,
      "id": "3ff53966",
      "metadata": {
        "colab": {
          "base_uri": "https://localhost:8080/",
          "height": 299
        },
        "id": "3ff53966",
        "outputId": "8f65c15e-e3ca-4216-ec42-05e6e7ed3acb"
      },
      "outputs": [
        {
          "output_type": "execute_result",
          "data": {
            "text/plain": [
              "           id             date     price  bedrooms  bathrooms  sqft_living  \\\n",
              "0  7129300520  20141013T000000  221900.0         3       1.00         1180   \n",
              "1  6414100192  20141209T000000  538000.0         3       2.25         2570   \n",
              "2  5631500400  20150225T000000  180000.0         2       1.00          770   \n",
              "3  2487200875  20141209T000000  604000.0         4       3.00         1960   \n",
              "4  1954400510  20150218T000000  510000.0         3       2.00         1680   \n",
              "\n",
              "   sqft_lot  floors  waterfront  view  ...  grade  sqft_above  sqft_basement  \\\n",
              "0      5650     1.0           0     0  ...      7        1180              0   \n",
              "1      7242     2.0           0     0  ...      7        2170            400   \n",
              "2     10000     1.0           0     0  ...      6         770              0   \n",
              "3      5000     1.0           0     0  ...      7        1050            910   \n",
              "4      8080     1.0           0     0  ...      8        1680              0   \n",
              "\n",
              "   yr_built  yr_renovated  zipcode      lat     long  sqft_living15  \\\n",
              "0      1955             0    98178  47.5112 -122.257           1340   \n",
              "1      1951          1991    98125  47.7210 -122.319           1690   \n",
              "2      1933             0    98028  47.7379 -122.233           2720   \n",
              "3      1965             0    98136  47.5208 -122.393           1360   \n",
              "4      1987             0    98074  47.6168 -122.045           1800   \n",
              "\n",
              "   sqft_lot15  \n",
              "0        5650  \n",
              "1        7639  \n",
              "2        8062  \n",
              "3        5000  \n",
              "4        7503  \n",
              "\n",
              "[5 rows x 21 columns]"
            ],
            "text/html": [
              "\n",
              "  <div id=\"df-88cf96ae-fd06-48cb-9d17-e28788b65613\">\n",
              "    <div class=\"colab-df-container\">\n",
              "      <div>\n",
              "<style scoped>\n",
              "    .dataframe tbody tr th:only-of-type {\n",
              "        vertical-align: middle;\n",
              "    }\n",
              "\n",
              "    .dataframe tbody tr th {\n",
              "        vertical-align: top;\n",
              "    }\n",
              "\n",
              "    .dataframe thead th {\n",
              "        text-align: right;\n",
              "    }\n",
              "</style>\n",
              "<table border=\"1\" class=\"dataframe\">\n",
              "  <thead>\n",
              "    <tr style=\"text-align: right;\">\n",
              "      <th></th>\n",
              "      <th>id</th>\n",
              "      <th>date</th>\n",
              "      <th>price</th>\n",
              "      <th>bedrooms</th>\n",
              "      <th>bathrooms</th>\n",
              "      <th>sqft_living</th>\n",
              "      <th>sqft_lot</th>\n",
              "      <th>floors</th>\n",
              "      <th>waterfront</th>\n",
              "      <th>view</th>\n",
              "      <th>...</th>\n",
              "      <th>grade</th>\n",
              "      <th>sqft_above</th>\n",
              "      <th>sqft_basement</th>\n",
              "      <th>yr_built</th>\n",
              "      <th>yr_renovated</th>\n",
              "      <th>zipcode</th>\n",
              "      <th>lat</th>\n",
              "      <th>long</th>\n",
              "      <th>sqft_living15</th>\n",
              "      <th>sqft_lot15</th>\n",
              "    </tr>\n",
              "  </thead>\n",
              "  <tbody>\n",
              "    <tr>\n",
              "      <th>0</th>\n",
              "      <td>7129300520</td>\n",
              "      <td>20141013T000000</td>\n",
              "      <td>221900.0</td>\n",
              "      <td>3</td>\n",
              "      <td>1.00</td>\n",
              "      <td>1180</td>\n",
              "      <td>5650</td>\n",
              "      <td>1.0</td>\n",
              "      <td>0</td>\n",
              "      <td>0</td>\n",
              "      <td>...</td>\n",
              "      <td>7</td>\n",
              "      <td>1180</td>\n",
              "      <td>0</td>\n",
              "      <td>1955</td>\n",
              "      <td>0</td>\n",
              "      <td>98178</td>\n",
              "      <td>47.5112</td>\n",
              "      <td>-122.257</td>\n",
              "      <td>1340</td>\n",
              "      <td>5650</td>\n",
              "    </tr>\n",
              "    <tr>\n",
              "      <th>1</th>\n",
              "      <td>6414100192</td>\n",
              "      <td>20141209T000000</td>\n",
              "      <td>538000.0</td>\n",
              "      <td>3</td>\n",
              "      <td>2.25</td>\n",
              "      <td>2570</td>\n",
              "      <td>7242</td>\n",
              "      <td>2.0</td>\n",
              "      <td>0</td>\n",
              "      <td>0</td>\n",
              "      <td>...</td>\n",
              "      <td>7</td>\n",
              "      <td>2170</td>\n",
              "      <td>400</td>\n",
              "      <td>1951</td>\n",
              "      <td>1991</td>\n",
              "      <td>98125</td>\n",
              "      <td>47.7210</td>\n",
              "      <td>-122.319</td>\n",
              "      <td>1690</td>\n",
              "      <td>7639</td>\n",
              "    </tr>\n",
              "    <tr>\n",
              "      <th>2</th>\n",
              "      <td>5631500400</td>\n",
              "      <td>20150225T000000</td>\n",
              "      <td>180000.0</td>\n",
              "      <td>2</td>\n",
              "      <td>1.00</td>\n",
              "      <td>770</td>\n",
              "      <td>10000</td>\n",
              "      <td>1.0</td>\n",
              "      <td>0</td>\n",
              "      <td>0</td>\n",
              "      <td>...</td>\n",
              "      <td>6</td>\n",
              "      <td>770</td>\n",
              "      <td>0</td>\n",
              "      <td>1933</td>\n",
              "      <td>0</td>\n",
              "      <td>98028</td>\n",
              "      <td>47.7379</td>\n",
              "      <td>-122.233</td>\n",
              "      <td>2720</td>\n",
              "      <td>8062</td>\n",
              "    </tr>\n",
              "    <tr>\n",
              "      <th>3</th>\n",
              "      <td>2487200875</td>\n",
              "      <td>20141209T000000</td>\n",
              "      <td>604000.0</td>\n",
              "      <td>4</td>\n",
              "      <td>3.00</td>\n",
              "      <td>1960</td>\n",
              "      <td>5000</td>\n",
              "      <td>1.0</td>\n",
              "      <td>0</td>\n",
              "      <td>0</td>\n",
              "      <td>...</td>\n",
              "      <td>7</td>\n",
              "      <td>1050</td>\n",
              "      <td>910</td>\n",
              "      <td>1965</td>\n",
              "      <td>0</td>\n",
              "      <td>98136</td>\n",
              "      <td>47.5208</td>\n",
              "      <td>-122.393</td>\n",
              "      <td>1360</td>\n",
              "      <td>5000</td>\n",
              "    </tr>\n",
              "    <tr>\n",
              "      <th>4</th>\n",
              "      <td>1954400510</td>\n",
              "      <td>20150218T000000</td>\n",
              "      <td>510000.0</td>\n",
              "      <td>3</td>\n",
              "      <td>2.00</td>\n",
              "      <td>1680</td>\n",
              "      <td>8080</td>\n",
              "      <td>1.0</td>\n",
              "      <td>0</td>\n",
              "      <td>0</td>\n",
              "      <td>...</td>\n",
              "      <td>8</td>\n",
              "      <td>1680</td>\n",
              "      <td>0</td>\n",
              "      <td>1987</td>\n",
              "      <td>0</td>\n",
              "      <td>98074</td>\n",
              "      <td>47.6168</td>\n",
              "      <td>-122.045</td>\n",
              "      <td>1800</td>\n",
              "      <td>7503</td>\n",
              "    </tr>\n",
              "  </tbody>\n",
              "</table>\n",
              "<p>5 rows × 21 columns</p>\n",
              "</div>\n",
              "      <button class=\"colab-df-convert\" onclick=\"convertToInteractive('df-88cf96ae-fd06-48cb-9d17-e28788b65613')\"\n",
              "              title=\"Convert this dataframe to an interactive table.\"\n",
              "              style=\"display:none;\">\n",
              "        \n",
              "  <svg xmlns=\"http://www.w3.org/2000/svg\" height=\"24px\"viewBox=\"0 0 24 24\"\n",
              "       width=\"24px\">\n",
              "    <path d=\"M0 0h24v24H0V0z\" fill=\"none\"/>\n",
              "    <path d=\"M18.56 5.44l.94 2.06.94-2.06 2.06-.94-2.06-.94-.94-2.06-.94 2.06-2.06.94zm-11 1L8.5 8.5l.94-2.06 2.06-.94-2.06-.94L8.5 2.5l-.94 2.06-2.06.94zm10 10l.94 2.06.94-2.06 2.06-.94-2.06-.94-.94-2.06-.94 2.06-2.06.94z\"/><path d=\"M17.41 7.96l-1.37-1.37c-.4-.4-.92-.59-1.43-.59-.52 0-1.04.2-1.43.59L10.3 9.45l-7.72 7.72c-.78.78-.78 2.05 0 2.83L4 21.41c.39.39.9.59 1.41.59.51 0 1.02-.2 1.41-.59l7.78-7.78 2.81-2.81c.8-.78.8-2.07 0-2.86zM5.41 20L4 18.59l7.72-7.72 1.47 1.35L5.41 20z\"/>\n",
              "  </svg>\n",
              "      </button>\n",
              "      \n",
              "  <style>\n",
              "    .colab-df-container {\n",
              "      display:flex;\n",
              "      flex-wrap:wrap;\n",
              "      gap: 12px;\n",
              "    }\n",
              "\n",
              "    .colab-df-convert {\n",
              "      background-color: #E8F0FE;\n",
              "      border: none;\n",
              "      border-radius: 50%;\n",
              "      cursor: pointer;\n",
              "      display: none;\n",
              "      fill: #1967D2;\n",
              "      height: 32px;\n",
              "      padding: 0 0 0 0;\n",
              "      width: 32px;\n",
              "    }\n",
              "\n",
              "    .colab-df-convert:hover {\n",
              "      background-color: #E2EBFA;\n",
              "      box-shadow: 0px 1px 2px rgba(60, 64, 67, 0.3), 0px 1px 3px 1px rgba(60, 64, 67, 0.15);\n",
              "      fill: #174EA6;\n",
              "    }\n",
              "\n",
              "    [theme=dark] .colab-df-convert {\n",
              "      background-color: #3B4455;\n",
              "      fill: #D2E3FC;\n",
              "    }\n",
              "\n",
              "    [theme=dark] .colab-df-convert:hover {\n",
              "      background-color: #434B5C;\n",
              "      box-shadow: 0px 1px 3px 1px rgba(0, 0, 0, 0.15);\n",
              "      filter: drop-shadow(0px 1px 2px rgba(0, 0, 0, 0.3));\n",
              "      fill: #FFFFFF;\n",
              "    }\n",
              "  </style>\n",
              "\n",
              "      <script>\n",
              "        const buttonEl =\n",
              "          document.querySelector('#df-88cf96ae-fd06-48cb-9d17-e28788b65613 button.colab-df-convert');\n",
              "        buttonEl.style.display =\n",
              "          google.colab.kernel.accessAllowed ? 'block' : 'none';\n",
              "\n",
              "        async function convertToInteractive(key) {\n",
              "          const element = document.querySelector('#df-88cf96ae-fd06-48cb-9d17-e28788b65613');\n",
              "          const dataTable =\n",
              "            await google.colab.kernel.invokeFunction('convertToInteractive',\n",
              "                                                     [key], {});\n",
              "          if (!dataTable) return;\n",
              "\n",
              "          const docLinkHtml = 'Like what you see? Visit the ' +\n",
              "            '<a target=\"_blank\" href=https://colab.research.google.com/notebooks/data_table.ipynb>data table notebook</a>'\n",
              "            + ' to learn more about interactive tables.';\n",
              "          element.innerHTML = '';\n",
              "          dataTable['output_type'] = 'display_data';\n",
              "          await google.colab.output.renderOutput(dataTable, element);\n",
              "          const docLink = document.createElement('div');\n",
              "          docLink.innerHTML = docLinkHtml;\n",
              "          element.appendChild(docLink);\n",
              "        }\n",
              "      </script>\n",
              "    </div>\n",
              "  </div>\n",
              "  "
            ]
          },
          "metadata": {},
          "execution_count": 30
        }
      ],
      "source": [
        "df = pd.read_csv('kc_house_data.csv')\n",
        "df.head()"
      ]
    },
    {
      "cell_type": "markdown",
      "id": "c19ba3e6",
      "metadata": {
        "id": "c19ba3e6"
      },
      "source": [
        "## Knowing the size of the dataset"
      ]
    },
    {
      "cell_type": "code",
      "execution_count": 31,
      "id": "9daaa08f",
      "metadata": {
        "colab": {
          "base_uri": "https://localhost:8080/"
        },
        "id": "9daaa08f",
        "outputId": "2ede137c-9b56-477a-9d18-3106e1d86752"
      },
      "outputs": [
        {
          "output_type": "execute_result",
          "data": {
            "text/plain": [
              "(21613, 21)"
            ]
          },
          "metadata": {},
          "execution_count": 31
        }
      ],
      "source": [
        "df.shape"
      ]
    },
    {
      "cell_type": "markdown",
      "id": "a8f167eb",
      "metadata": {
        "id": "a8f167eb"
      },
      "source": [
        "## Dataset information"
      ]
    },
    {
      "cell_type": "code",
      "execution_count": 32,
      "id": "2784dc4d",
      "metadata": {
        "colab": {
          "base_uri": "https://localhost:8080/"
        },
        "id": "2784dc4d",
        "outputId": "06fdb374-61de-4c80-9cab-d28257a58199"
      },
      "outputs": [
        {
          "output_type": "stream",
          "name": "stdout",
          "text": [
            "<class 'pandas.core.frame.DataFrame'>\n",
            "RangeIndex: 21613 entries, 0 to 21612\n",
            "Data columns (total 21 columns):\n",
            " #   Column         Non-Null Count  Dtype  \n",
            "---  ------         --------------  -----  \n",
            " 0   id             21613 non-null  int64  \n",
            " 1   date           21613 non-null  object \n",
            " 2   price          21613 non-null  float64\n",
            " 3   bedrooms       21613 non-null  int64  \n",
            " 4   bathrooms      21613 non-null  float64\n",
            " 5   sqft_living    21613 non-null  int64  \n",
            " 6   sqft_lot       21613 non-null  int64  \n",
            " 7   floors         21613 non-null  float64\n",
            " 8   waterfront     21613 non-null  int64  \n",
            " 9   view           21613 non-null  int64  \n",
            " 10  condition      21613 non-null  int64  \n",
            " 11  grade          21613 non-null  int64  \n",
            " 12  sqft_above     21613 non-null  int64  \n",
            " 13  sqft_basement  21613 non-null  int64  \n",
            " 14  yr_built       21613 non-null  int64  \n",
            " 15  yr_renovated   21613 non-null  int64  \n",
            " 16  zipcode        21613 non-null  int64  \n",
            " 17  lat            21613 non-null  float64\n",
            " 18  long           21613 non-null  float64\n",
            " 19  sqft_living15  21613 non-null  int64  \n",
            " 20  sqft_lot15     21613 non-null  int64  \n",
            "dtypes: float64(5), int64(15), object(1)\n",
            "memory usage: 3.5+ MB\n"
          ]
        }
      ],
      "source": [
        "df.info()"
      ]
    },
    {
      "cell_type": "markdown",
      "id": "eaf9df0b",
      "metadata": {
        "id": "eaf9df0b"
      },
      "source": [
        "## Handling missing value"
      ]
    },
    {
      "cell_type": "code",
      "execution_count": 33,
      "id": "92b2e5de",
      "metadata": {
        "scrolled": false,
        "colab": {
          "base_uri": "https://localhost:8080/"
        },
        "id": "92b2e5de",
        "outputId": "1c7602c4-e49b-418e-bad8-dd9da42d212c"
      },
      "outputs": [
        {
          "output_type": "stream",
          "name": "stdout",
          "text": [
            "BEFORE HANDLING\n"
          ]
        },
        {
          "output_type": "execute_result",
          "data": {
            "text/plain": [
              "id               0\n",
              "date             0\n",
              "price            0\n",
              "bedrooms         0\n",
              "bathrooms        0\n",
              "sqft_living      0\n",
              "sqft_lot         0\n",
              "floors           0\n",
              "waterfront       0\n",
              "view             0\n",
              "condition        0\n",
              "grade            0\n",
              "sqft_above       0\n",
              "sqft_basement    0\n",
              "yr_built         0\n",
              "yr_renovated     0\n",
              "zipcode          0\n",
              "lat              0\n",
              "long             0\n",
              "sqft_living15    0\n",
              "sqft_lot15       0\n",
              "dtype: int64"
            ]
          },
          "metadata": {},
          "execution_count": 33
        }
      ],
      "source": [
        "print(\"BEFORE HANDLING\")\n",
        "df.isna().sum()"
      ]
    },
    {
      "cell_type": "code",
      "execution_count": 34,
      "id": "54d12755",
      "metadata": {
        "colab": {
          "base_uri": "https://localhost:8080/"
        },
        "id": "54d12755",
        "outputId": "4d14744e-5cb0-40f8-f55a-6b0b60b6172b"
      },
      "outputs": [
        {
          "output_type": "stream",
          "name": "stdout",
          "text": [
            "AFTER HANDLING\n"
          ]
        },
        {
          "output_type": "execute_result",
          "data": {
            "text/plain": [
              "id               0\n",
              "date             0\n",
              "price            0\n",
              "bedrooms         0\n",
              "bathrooms        0\n",
              "sqft_living      0\n",
              "sqft_lot         0\n",
              "floors           0\n",
              "waterfront       0\n",
              "view             0\n",
              "condition        0\n",
              "grade            0\n",
              "sqft_above       0\n",
              "sqft_basement    0\n",
              "yr_built         0\n",
              "yr_renovated     0\n",
              "zipcode          0\n",
              "lat              0\n",
              "long             0\n",
              "sqft_living15    0\n",
              "sqft_lot15       0\n",
              "dtype: int64"
            ]
          },
          "metadata": {},
          "execution_count": 34
        }
      ],
      "source": [
        "print(\"AFTER HANDLING\")\n",
        "df.dropna(axis=0, inplace=True)\n",
        "df.isna().sum()"
      ]
    },
    {
      "cell_type": "markdown",
      "id": "2c346352",
      "metadata": {
        "id": "2c346352"
      },
      "source": [
        "## Handling duplicate data"
      ]
    },
    {
      "cell_type": "code",
      "execution_count": 35,
      "id": "6addd139",
      "metadata": {
        "colab": {
          "base_uri": "https://localhost:8080/"
        },
        "id": "6addd139",
        "outputId": "7798d906-02b6-48c6-dec3-fc7249d22000"
      },
      "outputs": [
        {
          "output_type": "execute_result",
          "data": {
            "text/plain": [
              "False"
            ]
          },
          "metadata": {},
          "execution_count": 35
        }
      ],
      "source": [
        "df.duplicated().any()"
      ]
    },
    {
      "cell_type": "code",
      "execution_count": 36,
      "id": "bf252e60",
      "metadata": {
        "colab": {
          "base_uri": "https://localhost:8080/"
        },
        "id": "bf252e60",
        "outputId": "dd36b8cf-0b60-4755-e1ef-d2e6ee0ad08e"
      },
      "outputs": [
        {
          "output_type": "execute_result",
          "data": {
            "text/plain": [
              "0"
            ]
          },
          "metadata": {},
          "execution_count": 36
        }
      ],
      "source": [
        "df.duplicated().sum()"
      ]
    },
    {
      "cell_type": "code",
      "execution_count": 38,
      "id": "a23ebea2",
      "metadata": {
        "id": "a23ebea2"
      },
      "outputs": [],
      "source": [
        "df.drop_duplicates(inplace=True)"
      ]
    },
    {
      "cell_type": "markdown",
      "id": "263a1a75",
      "metadata": {
        "id": "263a1a75"
      },
      "source": [
        "## Data Preprocessing"
      ]
    },
    {
      "cell_type": "code",
      "execution_count": 39,
      "id": "96ab8663",
      "metadata": {
        "id": "96ab8663"
      },
      "outputs": [],
      "source": [
        "nums = [data for data in dict(df.dtypes) if dict(df.dtypes)[data] in ['float64', 'int64']]\n",
        "strs = [data for data in dict(df.dtypes) if dict(df.dtypes)[data] in ['object']]"
      ]
    },
    {
      "cell_type": "code",
      "execution_count": 42,
      "id": "f17209bb",
      "metadata": {
        "scrolled": true,
        "colab": {
          "base_uri": "https://localhost:8080/",
          "height": 740
        },
        "id": "f17209bb",
        "outputId": "f981ccd7-e3ec-48af-8d31-45fab4dfa1e1"
      },
      "outputs": [
        {
          "output_type": "execute_result",
          "data": {
            "text/plain": [
              "                 count          mean           std           min  \\\n",
              "id             21613.0  4.580302e+09  2.876566e+09  1.000102e+06   \n",
              "price          21613.0  5.400881e+05  3.671272e+05  7.500000e+04   \n",
              "bedrooms       21613.0  3.370842e+00  9.300618e-01  0.000000e+00   \n",
              "bathrooms      21613.0  2.114757e+00  7.701632e-01  0.000000e+00   \n",
              "sqft_living    21613.0  2.079900e+03  9.184409e+02  2.900000e+02   \n",
              "sqft_lot       21613.0  1.510697e+04  4.142051e+04  5.200000e+02   \n",
              "floors         21613.0  1.494309e+00  5.399889e-01  1.000000e+00   \n",
              "waterfront     21613.0  7.541757e-03  8.651720e-02  0.000000e+00   \n",
              "view           21613.0  2.343034e-01  7.663176e-01  0.000000e+00   \n",
              "condition      21613.0  3.409430e+00  6.507430e-01  1.000000e+00   \n",
              "grade          21613.0  7.656873e+00  1.175459e+00  1.000000e+00   \n",
              "sqft_above     21613.0  1.788391e+03  8.280910e+02  2.900000e+02   \n",
              "sqft_basement  21613.0  2.915090e+02  4.425750e+02  0.000000e+00   \n",
              "yr_built       21613.0  1.971005e+03  2.937341e+01  1.900000e+03   \n",
              "yr_renovated   21613.0  8.440226e+01  4.016792e+02  0.000000e+00   \n",
              "zipcode        21613.0  9.807794e+04  5.350503e+01  9.800100e+04   \n",
              "lat            21613.0  4.756005e+01  1.385637e-01  4.715590e+01   \n",
              "long           21613.0 -1.222139e+02  1.408283e-01 -1.225190e+02   \n",
              "sqft_living15  21613.0  1.986552e+03  6.853913e+02  3.990000e+02   \n",
              "sqft_lot15     21613.0  1.276846e+04  2.730418e+04  6.510000e+02   \n",
              "\n",
              "                        25%           50%           75%           max  \n",
              "id             2.123049e+09  3.904930e+09  7.308900e+09  9.900000e+09  \n",
              "price          3.219500e+05  4.500000e+05  6.450000e+05  7.700000e+06  \n",
              "bedrooms       3.000000e+00  3.000000e+00  4.000000e+00  3.300000e+01  \n",
              "bathrooms      1.750000e+00  2.250000e+00  2.500000e+00  8.000000e+00  \n",
              "sqft_living    1.427000e+03  1.910000e+03  2.550000e+03  1.354000e+04  \n",
              "sqft_lot       5.040000e+03  7.618000e+03  1.068800e+04  1.651359e+06  \n",
              "floors         1.000000e+00  1.500000e+00  2.000000e+00  3.500000e+00  \n",
              "waterfront     0.000000e+00  0.000000e+00  0.000000e+00  1.000000e+00  \n",
              "view           0.000000e+00  0.000000e+00  0.000000e+00  4.000000e+00  \n",
              "condition      3.000000e+00  3.000000e+00  4.000000e+00  5.000000e+00  \n",
              "grade          7.000000e+00  7.000000e+00  8.000000e+00  1.300000e+01  \n",
              "sqft_above     1.190000e+03  1.560000e+03  2.210000e+03  9.410000e+03  \n",
              "sqft_basement  0.000000e+00  0.000000e+00  5.600000e+02  4.820000e+03  \n",
              "yr_built       1.951000e+03  1.975000e+03  1.997000e+03  2.015000e+03  \n",
              "yr_renovated   0.000000e+00  0.000000e+00  0.000000e+00  2.015000e+03  \n",
              "zipcode        9.803300e+04  9.806500e+04  9.811800e+04  9.819900e+04  \n",
              "lat            4.747100e+01  4.757180e+01  4.767800e+01  4.777760e+01  \n",
              "long          -1.223280e+02 -1.222300e+02 -1.221250e+02 -1.213150e+02  \n",
              "sqft_living15  1.490000e+03  1.840000e+03  2.360000e+03  6.210000e+03  \n",
              "sqft_lot15     5.100000e+03  7.620000e+03  1.008300e+04  8.712000e+05  "
            ],
            "text/html": [
              "\n",
              "  <div id=\"df-4f1656e0-20e9-4c3a-8295-071296a1b44b\">\n",
              "    <div class=\"colab-df-container\">\n",
              "      <div>\n",
              "<style scoped>\n",
              "    .dataframe tbody tr th:only-of-type {\n",
              "        vertical-align: middle;\n",
              "    }\n",
              "\n",
              "    .dataframe tbody tr th {\n",
              "        vertical-align: top;\n",
              "    }\n",
              "\n",
              "    .dataframe thead th {\n",
              "        text-align: right;\n",
              "    }\n",
              "</style>\n",
              "<table border=\"1\" class=\"dataframe\">\n",
              "  <thead>\n",
              "    <tr style=\"text-align: right;\">\n",
              "      <th></th>\n",
              "      <th>count</th>\n",
              "      <th>mean</th>\n",
              "      <th>std</th>\n",
              "      <th>min</th>\n",
              "      <th>25%</th>\n",
              "      <th>50%</th>\n",
              "      <th>75%</th>\n",
              "      <th>max</th>\n",
              "    </tr>\n",
              "  </thead>\n",
              "  <tbody>\n",
              "    <tr>\n",
              "      <th>id</th>\n",
              "      <td>21613.0</td>\n",
              "      <td>4.580302e+09</td>\n",
              "      <td>2.876566e+09</td>\n",
              "      <td>1.000102e+06</td>\n",
              "      <td>2.123049e+09</td>\n",
              "      <td>3.904930e+09</td>\n",
              "      <td>7.308900e+09</td>\n",
              "      <td>9.900000e+09</td>\n",
              "    </tr>\n",
              "    <tr>\n",
              "      <th>price</th>\n",
              "      <td>21613.0</td>\n",
              "      <td>5.400881e+05</td>\n",
              "      <td>3.671272e+05</td>\n",
              "      <td>7.500000e+04</td>\n",
              "      <td>3.219500e+05</td>\n",
              "      <td>4.500000e+05</td>\n",
              "      <td>6.450000e+05</td>\n",
              "      <td>7.700000e+06</td>\n",
              "    </tr>\n",
              "    <tr>\n",
              "      <th>bedrooms</th>\n",
              "      <td>21613.0</td>\n",
              "      <td>3.370842e+00</td>\n",
              "      <td>9.300618e-01</td>\n",
              "      <td>0.000000e+00</td>\n",
              "      <td>3.000000e+00</td>\n",
              "      <td>3.000000e+00</td>\n",
              "      <td>4.000000e+00</td>\n",
              "      <td>3.300000e+01</td>\n",
              "    </tr>\n",
              "    <tr>\n",
              "      <th>bathrooms</th>\n",
              "      <td>21613.0</td>\n",
              "      <td>2.114757e+00</td>\n",
              "      <td>7.701632e-01</td>\n",
              "      <td>0.000000e+00</td>\n",
              "      <td>1.750000e+00</td>\n",
              "      <td>2.250000e+00</td>\n",
              "      <td>2.500000e+00</td>\n",
              "      <td>8.000000e+00</td>\n",
              "    </tr>\n",
              "    <tr>\n",
              "      <th>sqft_living</th>\n",
              "      <td>21613.0</td>\n",
              "      <td>2.079900e+03</td>\n",
              "      <td>9.184409e+02</td>\n",
              "      <td>2.900000e+02</td>\n",
              "      <td>1.427000e+03</td>\n",
              "      <td>1.910000e+03</td>\n",
              "      <td>2.550000e+03</td>\n",
              "      <td>1.354000e+04</td>\n",
              "    </tr>\n",
              "    <tr>\n",
              "      <th>sqft_lot</th>\n",
              "      <td>21613.0</td>\n",
              "      <td>1.510697e+04</td>\n",
              "      <td>4.142051e+04</td>\n",
              "      <td>5.200000e+02</td>\n",
              "      <td>5.040000e+03</td>\n",
              "      <td>7.618000e+03</td>\n",
              "      <td>1.068800e+04</td>\n",
              "      <td>1.651359e+06</td>\n",
              "    </tr>\n",
              "    <tr>\n",
              "      <th>floors</th>\n",
              "      <td>21613.0</td>\n",
              "      <td>1.494309e+00</td>\n",
              "      <td>5.399889e-01</td>\n",
              "      <td>1.000000e+00</td>\n",
              "      <td>1.000000e+00</td>\n",
              "      <td>1.500000e+00</td>\n",
              "      <td>2.000000e+00</td>\n",
              "      <td>3.500000e+00</td>\n",
              "    </tr>\n",
              "    <tr>\n",
              "      <th>waterfront</th>\n",
              "      <td>21613.0</td>\n",
              "      <td>7.541757e-03</td>\n",
              "      <td>8.651720e-02</td>\n",
              "      <td>0.000000e+00</td>\n",
              "      <td>0.000000e+00</td>\n",
              "      <td>0.000000e+00</td>\n",
              "      <td>0.000000e+00</td>\n",
              "      <td>1.000000e+00</td>\n",
              "    </tr>\n",
              "    <tr>\n",
              "      <th>view</th>\n",
              "      <td>21613.0</td>\n",
              "      <td>2.343034e-01</td>\n",
              "      <td>7.663176e-01</td>\n",
              "      <td>0.000000e+00</td>\n",
              "      <td>0.000000e+00</td>\n",
              "      <td>0.000000e+00</td>\n",
              "      <td>0.000000e+00</td>\n",
              "      <td>4.000000e+00</td>\n",
              "    </tr>\n",
              "    <tr>\n",
              "      <th>condition</th>\n",
              "      <td>21613.0</td>\n",
              "      <td>3.409430e+00</td>\n",
              "      <td>6.507430e-01</td>\n",
              "      <td>1.000000e+00</td>\n",
              "      <td>3.000000e+00</td>\n",
              "      <td>3.000000e+00</td>\n",
              "      <td>4.000000e+00</td>\n",
              "      <td>5.000000e+00</td>\n",
              "    </tr>\n",
              "    <tr>\n",
              "      <th>grade</th>\n",
              "      <td>21613.0</td>\n",
              "      <td>7.656873e+00</td>\n",
              "      <td>1.175459e+00</td>\n",
              "      <td>1.000000e+00</td>\n",
              "      <td>7.000000e+00</td>\n",
              "      <td>7.000000e+00</td>\n",
              "      <td>8.000000e+00</td>\n",
              "      <td>1.300000e+01</td>\n",
              "    </tr>\n",
              "    <tr>\n",
              "      <th>sqft_above</th>\n",
              "      <td>21613.0</td>\n",
              "      <td>1.788391e+03</td>\n",
              "      <td>8.280910e+02</td>\n",
              "      <td>2.900000e+02</td>\n",
              "      <td>1.190000e+03</td>\n",
              "      <td>1.560000e+03</td>\n",
              "      <td>2.210000e+03</td>\n",
              "      <td>9.410000e+03</td>\n",
              "    </tr>\n",
              "    <tr>\n",
              "      <th>sqft_basement</th>\n",
              "      <td>21613.0</td>\n",
              "      <td>2.915090e+02</td>\n",
              "      <td>4.425750e+02</td>\n",
              "      <td>0.000000e+00</td>\n",
              "      <td>0.000000e+00</td>\n",
              "      <td>0.000000e+00</td>\n",
              "      <td>5.600000e+02</td>\n",
              "      <td>4.820000e+03</td>\n",
              "    </tr>\n",
              "    <tr>\n",
              "      <th>yr_built</th>\n",
              "      <td>21613.0</td>\n",
              "      <td>1.971005e+03</td>\n",
              "      <td>2.937341e+01</td>\n",
              "      <td>1.900000e+03</td>\n",
              "      <td>1.951000e+03</td>\n",
              "      <td>1.975000e+03</td>\n",
              "      <td>1.997000e+03</td>\n",
              "      <td>2.015000e+03</td>\n",
              "    </tr>\n",
              "    <tr>\n",
              "      <th>yr_renovated</th>\n",
              "      <td>21613.0</td>\n",
              "      <td>8.440226e+01</td>\n",
              "      <td>4.016792e+02</td>\n",
              "      <td>0.000000e+00</td>\n",
              "      <td>0.000000e+00</td>\n",
              "      <td>0.000000e+00</td>\n",
              "      <td>0.000000e+00</td>\n",
              "      <td>2.015000e+03</td>\n",
              "    </tr>\n",
              "    <tr>\n",
              "      <th>zipcode</th>\n",
              "      <td>21613.0</td>\n",
              "      <td>9.807794e+04</td>\n",
              "      <td>5.350503e+01</td>\n",
              "      <td>9.800100e+04</td>\n",
              "      <td>9.803300e+04</td>\n",
              "      <td>9.806500e+04</td>\n",
              "      <td>9.811800e+04</td>\n",
              "      <td>9.819900e+04</td>\n",
              "    </tr>\n",
              "    <tr>\n",
              "      <th>lat</th>\n",
              "      <td>21613.0</td>\n",
              "      <td>4.756005e+01</td>\n",
              "      <td>1.385637e-01</td>\n",
              "      <td>4.715590e+01</td>\n",
              "      <td>4.747100e+01</td>\n",
              "      <td>4.757180e+01</td>\n",
              "      <td>4.767800e+01</td>\n",
              "      <td>4.777760e+01</td>\n",
              "    </tr>\n",
              "    <tr>\n",
              "      <th>long</th>\n",
              "      <td>21613.0</td>\n",
              "      <td>-1.222139e+02</td>\n",
              "      <td>1.408283e-01</td>\n",
              "      <td>-1.225190e+02</td>\n",
              "      <td>-1.223280e+02</td>\n",
              "      <td>-1.222300e+02</td>\n",
              "      <td>-1.221250e+02</td>\n",
              "      <td>-1.213150e+02</td>\n",
              "    </tr>\n",
              "    <tr>\n",
              "      <th>sqft_living15</th>\n",
              "      <td>21613.0</td>\n",
              "      <td>1.986552e+03</td>\n",
              "      <td>6.853913e+02</td>\n",
              "      <td>3.990000e+02</td>\n",
              "      <td>1.490000e+03</td>\n",
              "      <td>1.840000e+03</td>\n",
              "      <td>2.360000e+03</td>\n",
              "      <td>6.210000e+03</td>\n",
              "    </tr>\n",
              "    <tr>\n",
              "      <th>sqft_lot15</th>\n",
              "      <td>21613.0</td>\n",
              "      <td>1.276846e+04</td>\n",
              "      <td>2.730418e+04</td>\n",
              "      <td>6.510000e+02</td>\n",
              "      <td>5.100000e+03</td>\n",
              "      <td>7.620000e+03</td>\n",
              "      <td>1.008300e+04</td>\n",
              "      <td>8.712000e+05</td>\n",
              "    </tr>\n",
              "  </tbody>\n",
              "</table>\n",
              "</div>\n",
              "      <button class=\"colab-df-convert\" onclick=\"convertToInteractive('df-4f1656e0-20e9-4c3a-8295-071296a1b44b')\"\n",
              "              title=\"Convert this dataframe to an interactive table.\"\n",
              "              style=\"display:none;\">\n",
              "        \n",
              "  <svg xmlns=\"http://www.w3.org/2000/svg\" height=\"24px\"viewBox=\"0 0 24 24\"\n",
              "       width=\"24px\">\n",
              "    <path d=\"M0 0h24v24H0V0z\" fill=\"none\"/>\n",
              "    <path d=\"M18.56 5.44l.94 2.06.94-2.06 2.06-.94-2.06-.94-.94-2.06-.94 2.06-2.06.94zm-11 1L8.5 8.5l.94-2.06 2.06-.94-2.06-.94L8.5 2.5l-.94 2.06-2.06.94zm10 10l.94 2.06.94-2.06 2.06-.94-2.06-.94-.94-2.06-.94 2.06-2.06.94z\"/><path d=\"M17.41 7.96l-1.37-1.37c-.4-.4-.92-.59-1.43-.59-.52 0-1.04.2-1.43.59L10.3 9.45l-7.72 7.72c-.78.78-.78 2.05 0 2.83L4 21.41c.39.39.9.59 1.41.59.51 0 1.02-.2 1.41-.59l7.78-7.78 2.81-2.81c.8-.78.8-2.07 0-2.86zM5.41 20L4 18.59l7.72-7.72 1.47 1.35L5.41 20z\"/>\n",
              "  </svg>\n",
              "      </button>\n",
              "      \n",
              "  <style>\n",
              "    .colab-df-container {\n",
              "      display:flex;\n",
              "      flex-wrap:wrap;\n",
              "      gap: 12px;\n",
              "    }\n",
              "\n",
              "    .colab-df-convert {\n",
              "      background-color: #E8F0FE;\n",
              "      border: none;\n",
              "      border-radius: 50%;\n",
              "      cursor: pointer;\n",
              "      display: none;\n",
              "      fill: #1967D2;\n",
              "      height: 32px;\n",
              "      padding: 0 0 0 0;\n",
              "      width: 32px;\n",
              "    }\n",
              "\n",
              "    .colab-df-convert:hover {\n",
              "      background-color: #E2EBFA;\n",
              "      box-shadow: 0px 1px 2px rgba(60, 64, 67, 0.3), 0px 1px 3px 1px rgba(60, 64, 67, 0.15);\n",
              "      fill: #174EA6;\n",
              "    }\n",
              "\n",
              "    [theme=dark] .colab-df-convert {\n",
              "      background-color: #3B4455;\n",
              "      fill: #D2E3FC;\n",
              "    }\n",
              "\n",
              "    [theme=dark] .colab-df-convert:hover {\n",
              "      background-color: #434B5C;\n",
              "      box-shadow: 0px 1px 3px 1px rgba(0, 0, 0, 0.15);\n",
              "      filter: drop-shadow(0px 1px 2px rgba(0, 0, 0, 0.3));\n",
              "      fill: #FFFFFF;\n",
              "    }\n",
              "  </style>\n",
              "\n",
              "      <script>\n",
              "        const buttonEl =\n",
              "          document.querySelector('#df-4f1656e0-20e9-4c3a-8295-071296a1b44b button.colab-df-convert');\n",
              "        buttonEl.style.display =\n",
              "          google.colab.kernel.accessAllowed ? 'block' : 'none';\n",
              "\n",
              "        async function convertToInteractive(key) {\n",
              "          const element = document.querySelector('#df-4f1656e0-20e9-4c3a-8295-071296a1b44b');\n",
              "          const dataTable =\n",
              "            await google.colab.kernel.invokeFunction('convertToInteractive',\n",
              "                                                     [key], {});\n",
              "          if (!dataTable) return;\n",
              "\n",
              "          const docLinkHtml = 'Like what you see? Visit the ' +\n",
              "            '<a target=\"_blank\" href=https://colab.research.google.com/notebooks/data_table.ipynb>data table notebook</a>'\n",
              "            + ' to learn more about interactive tables.';\n",
              "          element.innerHTML = '';\n",
              "          dataTable['output_type'] = 'display_data';\n",
              "          await google.colab.output.renderOutput(dataTable, element);\n",
              "          const docLink = document.createElement('div');\n",
              "          docLink.innerHTML = docLinkHtml;\n",
              "          element.appendChild(docLink);\n",
              "        }\n",
              "      </script>\n",
              "    </div>\n",
              "  </div>\n",
              "  "
            ]
          },
          "metadata": {},
          "execution_count": 42
        }
      ],
      "source": [
        "#statistik data numerik\n",
        "#df[nums].describe()\n",
        "df.describe().transpose()"
      ]
    },
    {
      "cell_type": "code",
      "execution_count": 43,
      "id": "73ee54d3",
      "metadata": {
        "scrolled": true,
        "colab": {
          "base_uri": "https://localhost:8080/",
          "height": 175
        },
        "id": "73ee54d3",
        "outputId": "87f3536c-04f2-42a1-fe04-5694c21c50d2"
      },
      "outputs": [
        {
          "output_type": "execute_result",
          "data": {
            "text/plain": [
              "                   date\n",
              "count             21613\n",
              "unique              372\n",
              "top     20140623T000000\n",
              "freq                142"
            ],
            "text/html": [
              "\n",
              "  <div id=\"df-eaed8772-5bba-4764-9a45-2cb829d41c1f\">\n",
              "    <div class=\"colab-df-container\">\n",
              "      <div>\n",
              "<style scoped>\n",
              "    .dataframe tbody tr th:only-of-type {\n",
              "        vertical-align: middle;\n",
              "    }\n",
              "\n",
              "    .dataframe tbody tr th {\n",
              "        vertical-align: top;\n",
              "    }\n",
              "\n",
              "    .dataframe thead th {\n",
              "        text-align: right;\n",
              "    }\n",
              "</style>\n",
              "<table border=\"1\" class=\"dataframe\">\n",
              "  <thead>\n",
              "    <tr style=\"text-align: right;\">\n",
              "      <th></th>\n",
              "      <th>date</th>\n",
              "    </tr>\n",
              "  </thead>\n",
              "  <tbody>\n",
              "    <tr>\n",
              "      <th>count</th>\n",
              "      <td>21613</td>\n",
              "    </tr>\n",
              "    <tr>\n",
              "      <th>unique</th>\n",
              "      <td>372</td>\n",
              "    </tr>\n",
              "    <tr>\n",
              "      <th>top</th>\n",
              "      <td>20140623T000000</td>\n",
              "    </tr>\n",
              "    <tr>\n",
              "      <th>freq</th>\n",
              "      <td>142</td>\n",
              "    </tr>\n",
              "  </tbody>\n",
              "</table>\n",
              "</div>\n",
              "      <button class=\"colab-df-convert\" onclick=\"convertToInteractive('df-eaed8772-5bba-4764-9a45-2cb829d41c1f')\"\n",
              "              title=\"Convert this dataframe to an interactive table.\"\n",
              "              style=\"display:none;\">\n",
              "        \n",
              "  <svg xmlns=\"http://www.w3.org/2000/svg\" height=\"24px\"viewBox=\"0 0 24 24\"\n",
              "       width=\"24px\">\n",
              "    <path d=\"M0 0h24v24H0V0z\" fill=\"none\"/>\n",
              "    <path d=\"M18.56 5.44l.94 2.06.94-2.06 2.06-.94-2.06-.94-.94-2.06-.94 2.06-2.06.94zm-11 1L8.5 8.5l.94-2.06 2.06-.94-2.06-.94L8.5 2.5l-.94 2.06-2.06.94zm10 10l.94 2.06.94-2.06 2.06-.94-2.06-.94-.94-2.06-.94 2.06-2.06.94z\"/><path d=\"M17.41 7.96l-1.37-1.37c-.4-.4-.92-.59-1.43-.59-.52 0-1.04.2-1.43.59L10.3 9.45l-7.72 7.72c-.78.78-.78 2.05 0 2.83L4 21.41c.39.39.9.59 1.41.59.51 0 1.02-.2 1.41-.59l7.78-7.78 2.81-2.81c.8-.78.8-2.07 0-2.86zM5.41 20L4 18.59l7.72-7.72 1.47 1.35L5.41 20z\"/>\n",
              "  </svg>\n",
              "      </button>\n",
              "      \n",
              "  <style>\n",
              "    .colab-df-container {\n",
              "      display:flex;\n",
              "      flex-wrap:wrap;\n",
              "      gap: 12px;\n",
              "    }\n",
              "\n",
              "    .colab-df-convert {\n",
              "      background-color: #E8F0FE;\n",
              "      border: none;\n",
              "      border-radius: 50%;\n",
              "      cursor: pointer;\n",
              "      display: none;\n",
              "      fill: #1967D2;\n",
              "      height: 32px;\n",
              "      padding: 0 0 0 0;\n",
              "      width: 32px;\n",
              "    }\n",
              "\n",
              "    .colab-df-convert:hover {\n",
              "      background-color: #E2EBFA;\n",
              "      box-shadow: 0px 1px 2px rgba(60, 64, 67, 0.3), 0px 1px 3px 1px rgba(60, 64, 67, 0.15);\n",
              "      fill: #174EA6;\n",
              "    }\n",
              "\n",
              "    [theme=dark] .colab-df-convert {\n",
              "      background-color: #3B4455;\n",
              "      fill: #D2E3FC;\n",
              "    }\n",
              "\n",
              "    [theme=dark] .colab-df-convert:hover {\n",
              "      background-color: #434B5C;\n",
              "      box-shadow: 0px 1px 3px 1px rgba(0, 0, 0, 0.15);\n",
              "      filter: drop-shadow(0px 1px 2px rgba(0, 0, 0, 0.3));\n",
              "      fill: #FFFFFF;\n",
              "    }\n",
              "  </style>\n",
              "\n",
              "      <script>\n",
              "        const buttonEl =\n",
              "          document.querySelector('#df-eaed8772-5bba-4764-9a45-2cb829d41c1f button.colab-df-convert');\n",
              "        buttonEl.style.display =\n",
              "          google.colab.kernel.accessAllowed ? 'block' : 'none';\n",
              "\n",
              "        async function convertToInteractive(key) {\n",
              "          const element = document.querySelector('#df-eaed8772-5bba-4764-9a45-2cb829d41c1f');\n",
              "          const dataTable =\n",
              "            await google.colab.kernel.invokeFunction('convertToInteractive',\n",
              "                                                     [key], {});\n",
              "          if (!dataTable) return;\n",
              "\n",
              "          const docLinkHtml = 'Like what you see? Visit the ' +\n",
              "            '<a target=\"_blank\" href=https://colab.research.google.com/notebooks/data_table.ipynb>data table notebook</a>'\n",
              "            + ' to learn more about interactive tables.';\n",
              "          element.innerHTML = '';\n",
              "          dataTable['output_type'] = 'display_data';\n",
              "          await google.colab.output.renderOutput(dataTable, element);\n",
              "          const docLink = document.createElement('div');\n",
              "          docLink.innerHTML = docLinkHtml;\n",
              "          element.appendChild(docLink);\n",
              "        }\n",
              "      </script>\n",
              "    </div>\n",
              "  </div>\n",
              "  "
            ]
          },
          "metadata": {},
          "execution_count": 43
        }
      ],
      "source": [
        "#informasi data string/objek\n",
        "df[strs].describe()"
      ]
    },
    {
      "cell_type": "code",
      "execution_count": 44,
      "id": "6e9f86e3",
      "metadata": {
        "colab": {
          "base_uri": "https://localhost:8080/"
        },
        "id": "6e9f86e3",
        "outputId": "56f8cde6-ee61-431e-f70a-5f79855a613f"
      },
      "outputs": [
        {
          "output_type": "stream",
          "name": "stdout",
          "text": [
            "Value count pada kolom id:\n",
            "==================================\n",
            "795000620     3\n",
            "8651510380    2\n",
            "2568300045    2\n",
            "9353300600    2\n",
            "4139480200    2\n",
            "             ..\n",
            "2767603649    1\n",
            "1446403617    1\n",
            "5602000275    1\n",
            "1786200010    1\n",
            "1523300157    1\n",
            "Name: id, Length: 21436, dtype: int64\n",
            "\n",
            "==================================\n",
            "Value count pada kolom price:\n",
            "==================================\n",
            "350000.0     172\n",
            "450000.0     172\n",
            "550000.0     159\n",
            "500000.0     152\n",
            "425000.0     150\n",
            "            ... \n",
            "607010.0       1\n",
            "1362500.0      1\n",
            "298800.0       1\n",
            "957500.0       1\n",
            "402101.0       1\n",
            "Name: price, Length: 4028, dtype: int64\n",
            "\n",
            "==================================\n",
            "Value count pada kolom bedrooms:\n",
            "==================================\n",
            "3     9824\n",
            "4     6882\n",
            "2     2760\n",
            "5     1601\n",
            "6      272\n",
            "1      199\n",
            "7       38\n",
            "0       13\n",
            "8       13\n",
            "9        6\n",
            "10       3\n",
            "11       1\n",
            "33       1\n",
            "Name: bedrooms, dtype: int64\n",
            "\n",
            "==================================\n",
            "Value count pada kolom bathrooms:\n",
            "==================================\n",
            "2.50    5380\n",
            "1.00    3852\n",
            "1.75    3048\n",
            "2.25    2047\n",
            "2.00    1930\n",
            "1.50    1446\n",
            "2.75    1185\n",
            "3.00     753\n",
            "3.50     731\n",
            "3.25     589\n",
            "3.75     155\n",
            "4.00     136\n",
            "4.50     100\n",
            "4.25      79\n",
            "0.75      72\n",
            "4.75      23\n",
            "5.00      21\n",
            "5.25      13\n",
            "0.00      10\n",
            "5.50      10\n",
            "1.25       9\n",
            "6.00       6\n",
            "0.50       4\n",
            "5.75       4\n",
            "6.75       2\n",
            "8.00       2\n",
            "6.25       2\n",
            "6.50       2\n",
            "7.50       1\n",
            "7.75       1\n",
            "Name: bathrooms, dtype: int64\n",
            "\n",
            "==================================\n",
            "Value count pada kolom sqft_living:\n",
            "==================================\n",
            "1300    138\n",
            "1400    135\n",
            "1440    133\n",
            "1800    129\n",
            "1660    129\n",
            "       ... \n",
            "9890      1\n",
            "5584      1\n",
            "1961      1\n",
            "5720      1\n",
            "1425      1\n",
            "Name: sqft_living, Length: 1038, dtype: int64\n",
            "\n",
            "==================================\n",
            "Value count pada kolom sqft_lot:\n",
            "==================================\n",
            "5000     358\n",
            "6000     290\n",
            "4000     251\n",
            "7200     220\n",
            "4800     120\n",
            "        ... \n",
            "25248      1\n",
            "9934       1\n",
            "9142       1\n",
            "24330      1\n",
            "1076       1\n",
            "Name: sqft_lot, Length: 9782, dtype: int64\n",
            "\n",
            "==================================\n",
            "Value count pada kolom floors:\n",
            "==================================\n",
            "1.0    10680\n",
            "2.0     8241\n",
            "1.5     1910\n",
            "3.0      613\n",
            "2.5      161\n",
            "3.5        8\n",
            "Name: floors, dtype: int64\n",
            "\n",
            "==================================\n",
            "Value count pada kolom waterfront:\n",
            "==================================\n",
            "0    21450\n",
            "1      163\n",
            "Name: waterfront, dtype: int64\n",
            "\n",
            "==================================\n",
            "Value count pada kolom view:\n",
            "==================================\n",
            "0    19489\n",
            "2      963\n",
            "3      510\n",
            "1      332\n",
            "4      319\n",
            "Name: view, dtype: int64\n",
            "\n",
            "==================================\n",
            "Value count pada kolom condition:\n",
            "==================================\n",
            "3    14031\n",
            "4     5679\n",
            "5     1701\n",
            "2      172\n",
            "1       30\n",
            "Name: condition, dtype: int64\n",
            "\n",
            "==================================\n",
            "Value count pada kolom grade:\n",
            "==================================\n",
            "7     8981\n",
            "8     6068\n",
            "9     2615\n",
            "6     2038\n",
            "10    1134\n",
            "11     399\n",
            "5      242\n",
            "12      90\n",
            "4       29\n",
            "13      13\n",
            "3        3\n",
            "1        1\n",
            "Name: grade, dtype: int64\n",
            "\n",
            "==================================\n",
            "Value count pada kolom sqft_above:\n",
            "==================================\n",
            "1300    212\n",
            "1010    210\n",
            "1200    206\n",
            "1220    192\n",
            "1140    184\n",
            "       ... \n",
            "3674      1\n",
            "2979      1\n",
            "2382      1\n",
            "6290      1\n",
            "1425      1\n",
            "Name: sqft_above, Length: 946, dtype: int64\n",
            "\n",
            "==================================\n",
            "Value count pada kolom sqft_basement:\n",
            "==================================\n",
            "0      13126\n",
            "600      221\n",
            "700      218\n",
            "500      214\n",
            "800      206\n",
            "       ...  \n",
            "518        1\n",
            "374        1\n",
            "784        1\n",
            "906        1\n",
            "248        1\n",
            "Name: sqft_basement, Length: 306, dtype: int64\n",
            "\n",
            "==================================\n",
            "Value count pada kolom yr_built:\n",
            "==================================\n",
            "2014    559\n",
            "2006    454\n",
            "2005    450\n",
            "2004    433\n",
            "2003    422\n",
            "       ... \n",
            "1933     30\n",
            "1901     29\n",
            "1902     27\n",
            "1935     24\n",
            "1934     21\n",
            "Name: yr_built, Length: 116, dtype: int64\n",
            "\n",
            "==================================\n",
            "Value count pada kolom yr_renovated:\n",
            "==================================\n",
            "0       20699\n",
            "2014       91\n",
            "2013       37\n",
            "2003       36\n",
            "2005       35\n",
            "        ...  \n",
            "1951        1\n",
            "1959        1\n",
            "1948        1\n",
            "1954        1\n",
            "1944        1\n",
            "Name: yr_renovated, Length: 70, dtype: int64\n",
            "\n",
            "==================================\n",
            "Value count pada kolom zipcode:\n",
            "==================================\n",
            "98103    602\n",
            "98038    590\n",
            "98115    583\n",
            "98052    574\n",
            "98117    553\n",
            "        ... \n",
            "98102    105\n",
            "98010    100\n",
            "98024     81\n",
            "98148     57\n",
            "98039     50\n",
            "Name: zipcode, Length: 70, dtype: int64\n",
            "\n",
            "==================================\n",
            "Value count pada kolom lat:\n",
            "==================================\n",
            "47.6624    17\n",
            "47.5322    17\n",
            "47.6846    17\n",
            "47.5491    17\n",
            "47.6955    16\n",
            "           ..\n",
            "47.6139     1\n",
            "47.4184     1\n",
            "47.4387     1\n",
            "47.7526     1\n",
            "47.6502     1\n",
            "Name: lat, Length: 5034, dtype: int64\n",
            "\n",
            "==================================\n",
            "Value count pada kolom long:\n",
            "==================================\n",
            "-122.290    116\n",
            "-122.300    111\n",
            "-122.362    104\n",
            "-122.291    100\n",
            "-122.363     99\n",
            "           ... \n",
            "-121.691      1\n",
            "-122.514      1\n",
            "-121.646      1\n",
            "-122.515      1\n",
            "-121.403      1\n",
            "Name: long, Length: 752, dtype: int64\n",
            "\n",
            "==================================\n",
            "Value count pada kolom sqft_living15:\n",
            "==================================\n",
            "1540    197\n",
            "1440    195\n",
            "1560    192\n",
            "1500    181\n",
            "1460    169\n",
            "       ... \n",
            "2054      1\n",
            "3736      1\n",
            "4950      1\n",
            "2728      1\n",
            "2927      1\n",
            "Name: sqft_living15, Length: 777, dtype: int64\n",
            "\n",
            "==================================\n",
            "Value count pada kolom sqft_lot15:\n",
            "==================================\n",
            "5000     427\n",
            "4000     357\n",
            "6000     289\n",
            "7200     211\n",
            "4800     145\n",
            "        ... \n",
            "25927      1\n",
            "35943      1\n",
            "5107       1\n",
            "1514       1\n",
            "2007       1\n",
            "Name: sqft_lot15, Length: 8689, dtype: int64\n",
            "\n",
            "==================================\n"
          ]
        }
      ],
      "source": [
        "for col in nums:\n",
        "    print(f'''Value count pada kolom {col}:''')\n",
        "    print('==================================')\n",
        "    print(df[col].value_counts())\n",
        "    print()\n",
        "    print('==================================')"
      ]
    },
    {
      "cell_type": "code",
      "execution_count": 45,
      "id": "3defb63e",
      "metadata": {
        "scrolled": true,
        "colab": {
          "base_uri": "https://localhost:8080/"
        },
        "id": "3defb63e",
        "outputId": "87e4eee5-c7ef-4176-9101-9c227f2b8d3c"
      },
      "outputs": [
        {
          "output_type": "stream",
          "name": "stdout",
          "text": [
            "Value count pada kolom date:\n",
            "==================================\n",
            "20140623T000000    142\n",
            "20140626T000000    131\n",
            "20140625T000000    131\n",
            "20140708T000000    127\n",
            "20150427T000000    126\n",
            "                  ... \n",
            "20141102T000000      1\n",
            "20150131T000000      1\n",
            "20150524T000000      1\n",
            "20140517T000000      1\n",
            "20140727T000000      1\n",
            "Name: date, Length: 372, dtype: int64\n",
            "\n",
            "==================================\n"
          ]
        }
      ],
      "source": [
        "for col in strs:\n",
        "    print(f'''Value count pada kolom {col}:''')\n",
        "    print('==================================')\n",
        "    print(df[col].value_counts())\n",
        "    print()\n",
        "    print('==================================')"
      ]
    },
    {
      "cell_type": "code",
      "execution_count": 49,
      "id": "b09e3010",
      "metadata": {
        "scrolled": false,
        "colab": {
          "base_uri": "https://localhost:8080/"
        },
        "id": "b09e3010",
        "outputId": "1a539649-c0ca-4749-c440-69c161d89254"
      },
      "outputs": [
        {
          "output_type": "execute_result",
          "data": {
            "text/plain": [
              "Index(['id', 'date', 'price', 'bedrooms', 'bathrooms', 'sqft_living',\n",
              "       'sqft_lot', 'floors', 'waterfront', 'view', 'condition', 'grade',\n",
              "       'sqft_above', 'sqft_basement', 'yr_built', 'yr_renovated', 'zipcode',\n",
              "       'lat', 'long', 'sqft_living15', 'sqft_lot15'],\n",
              "      dtype='object')"
            ]
          },
          "metadata": {},
          "execution_count": 49
        }
      ],
      "source": [
        "#fitur tiap properti (dalam kolom)\n",
        "df.columns"
      ]
    },
    {
      "cell_type": "code",
      "execution_count": 50,
      "id": "419015a8",
      "metadata": {
        "id": "419015a8"
      },
      "outputs": [],
      "source": [
        "df['bathrooms'] = df['bathrooms'].astype(int)"
      ]
    },
    {
      "cell_type": "code",
      "execution_count": 51,
      "id": "1e41dbfe",
      "metadata": {
        "colab": {
          "base_uri": "https://localhost:8080/",
          "height": 206
        },
        "id": "1e41dbfe",
        "outputId": "4bfb0e0b-7a0e-450a-bade-2477e2cc6771"
      },
      "outputs": [
        {
          "output_type": "execute_result",
          "data": {
            "text/plain": [
              "      price  bedrooms  bathrooms  sqft_living  grade  yr_built\n",
              "0  221900.0         3          1         1180      7      1955\n",
              "1  538000.0         3          2         2570      7      1951\n",
              "2  180000.0         2          1          770      6      1933\n",
              "3  604000.0         4          3         1960      7      1965\n",
              "4  510000.0         3          2         1680      8      1987"
            ],
            "text/html": [
              "\n",
              "  <div id=\"df-f950f65f-b038-410d-9dbb-b11a217bdcb8\">\n",
              "    <div class=\"colab-df-container\">\n",
              "      <div>\n",
              "<style scoped>\n",
              "    .dataframe tbody tr th:only-of-type {\n",
              "        vertical-align: middle;\n",
              "    }\n",
              "\n",
              "    .dataframe tbody tr th {\n",
              "        vertical-align: top;\n",
              "    }\n",
              "\n",
              "    .dataframe thead th {\n",
              "        text-align: right;\n",
              "    }\n",
              "</style>\n",
              "<table border=\"1\" class=\"dataframe\">\n",
              "  <thead>\n",
              "    <tr style=\"text-align: right;\">\n",
              "      <th></th>\n",
              "      <th>price</th>\n",
              "      <th>bedrooms</th>\n",
              "      <th>bathrooms</th>\n",
              "      <th>sqft_living</th>\n",
              "      <th>grade</th>\n",
              "      <th>yr_built</th>\n",
              "    </tr>\n",
              "  </thead>\n",
              "  <tbody>\n",
              "    <tr>\n",
              "      <th>0</th>\n",
              "      <td>221900.0</td>\n",
              "      <td>3</td>\n",
              "      <td>1</td>\n",
              "      <td>1180</td>\n",
              "      <td>7</td>\n",
              "      <td>1955</td>\n",
              "    </tr>\n",
              "    <tr>\n",
              "      <th>1</th>\n",
              "      <td>538000.0</td>\n",
              "      <td>3</td>\n",
              "      <td>2</td>\n",
              "      <td>2570</td>\n",
              "      <td>7</td>\n",
              "      <td>1951</td>\n",
              "    </tr>\n",
              "    <tr>\n",
              "      <th>2</th>\n",
              "      <td>180000.0</td>\n",
              "      <td>2</td>\n",
              "      <td>1</td>\n",
              "      <td>770</td>\n",
              "      <td>6</td>\n",
              "      <td>1933</td>\n",
              "    </tr>\n",
              "    <tr>\n",
              "      <th>3</th>\n",
              "      <td>604000.0</td>\n",
              "      <td>4</td>\n",
              "      <td>3</td>\n",
              "      <td>1960</td>\n",
              "      <td>7</td>\n",
              "      <td>1965</td>\n",
              "    </tr>\n",
              "    <tr>\n",
              "      <th>4</th>\n",
              "      <td>510000.0</td>\n",
              "      <td>3</td>\n",
              "      <td>2</td>\n",
              "      <td>1680</td>\n",
              "      <td>8</td>\n",
              "      <td>1987</td>\n",
              "    </tr>\n",
              "  </tbody>\n",
              "</table>\n",
              "</div>\n",
              "      <button class=\"colab-df-convert\" onclick=\"convertToInteractive('df-f950f65f-b038-410d-9dbb-b11a217bdcb8')\"\n",
              "              title=\"Convert this dataframe to an interactive table.\"\n",
              "              style=\"display:none;\">\n",
              "        \n",
              "  <svg xmlns=\"http://www.w3.org/2000/svg\" height=\"24px\"viewBox=\"0 0 24 24\"\n",
              "       width=\"24px\">\n",
              "    <path d=\"M0 0h24v24H0V0z\" fill=\"none\"/>\n",
              "    <path d=\"M18.56 5.44l.94 2.06.94-2.06 2.06-.94-2.06-.94-.94-2.06-.94 2.06-2.06.94zm-11 1L8.5 8.5l.94-2.06 2.06-.94-2.06-.94L8.5 2.5l-.94 2.06-2.06.94zm10 10l.94 2.06.94-2.06 2.06-.94-2.06-.94-.94-2.06-.94 2.06-2.06.94z\"/><path d=\"M17.41 7.96l-1.37-1.37c-.4-.4-.92-.59-1.43-.59-.52 0-1.04.2-1.43.59L10.3 9.45l-7.72 7.72c-.78.78-.78 2.05 0 2.83L4 21.41c.39.39.9.59 1.41.59.51 0 1.02-.2 1.41-.59l7.78-7.78 2.81-2.81c.8-.78.8-2.07 0-2.86zM5.41 20L4 18.59l7.72-7.72 1.47 1.35L5.41 20z\"/>\n",
              "  </svg>\n",
              "      </button>\n",
              "      \n",
              "  <style>\n",
              "    .colab-df-container {\n",
              "      display:flex;\n",
              "      flex-wrap:wrap;\n",
              "      gap: 12px;\n",
              "    }\n",
              "\n",
              "    .colab-df-convert {\n",
              "      background-color: #E8F0FE;\n",
              "      border: none;\n",
              "      border-radius: 50%;\n",
              "      cursor: pointer;\n",
              "      display: none;\n",
              "      fill: #1967D2;\n",
              "      height: 32px;\n",
              "      padding: 0 0 0 0;\n",
              "      width: 32px;\n",
              "    }\n",
              "\n",
              "    .colab-df-convert:hover {\n",
              "      background-color: #E2EBFA;\n",
              "      box-shadow: 0px 1px 2px rgba(60, 64, 67, 0.3), 0px 1px 3px 1px rgba(60, 64, 67, 0.15);\n",
              "      fill: #174EA6;\n",
              "    }\n",
              "\n",
              "    [theme=dark] .colab-df-convert {\n",
              "      background-color: #3B4455;\n",
              "      fill: #D2E3FC;\n",
              "    }\n",
              "\n",
              "    [theme=dark] .colab-df-convert:hover {\n",
              "      background-color: #434B5C;\n",
              "      box-shadow: 0px 1px 3px 1px rgba(0, 0, 0, 0.15);\n",
              "      filter: drop-shadow(0px 1px 2px rgba(0, 0, 0, 0.3));\n",
              "      fill: #FFFFFF;\n",
              "    }\n",
              "  </style>\n",
              "\n",
              "      <script>\n",
              "        const buttonEl =\n",
              "          document.querySelector('#df-f950f65f-b038-410d-9dbb-b11a217bdcb8 button.colab-df-convert');\n",
              "        buttonEl.style.display =\n",
              "          google.colab.kernel.accessAllowed ? 'block' : 'none';\n",
              "\n",
              "        async function convertToInteractive(key) {\n",
              "          const element = document.querySelector('#df-f950f65f-b038-410d-9dbb-b11a217bdcb8');\n",
              "          const dataTable =\n",
              "            await google.colab.kernel.invokeFunction('convertToInteractive',\n",
              "                                                     [key], {});\n",
              "          if (!dataTable) return;\n",
              "\n",
              "          const docLinkHtml = 'Like what you see? Visit the ' +\n",
              "            '<a target=\"_blank\" href=https://colab.research.google.com/notebooks/data_table.ipynb>data table notebook</a>'\n",
              "            + ' to learn more about interactive tables.';\n",
              "          element.innerHTML = '';\n",
              "          dataTable['output_type'] = 'display_data';\n",
              "          await google.colab.output.renderOutput(dataTable, element);\n",
              "          const docLink = document.createElement('div');\n",
              "          docLink.innerHTML = docLinkHtml;\n",
              "          element.appendChild(docLink);\n",
              "        }\n",
              "      </script>\n",
              "    </div>\n",
              "  </div>\n",
              "  "
            ]
          },
          "metadata": {},
          "execution_count": 51
        }
      ],
      "source": [
        "df_new = df.drop(columns=['id', 'date', 'sqft_lot', 'floors', 'waterfront', 'view', \n",
        "                          'condition', 'sqft_above', 'sqft_basement', 'yr_renovated', 'zipcode',\n",
        "                          'lat', 'long', 'sqft_living15', 'sqft_lot15'])\n",
        "df_new.head()"
      ]
    },
    {
      "cell_type": "code",
      "execution_count": 52,
      "id": "7b78cc59",
      "metadata": {
        "scrolled": true,
        "colab": {
          "base_uri": "https://localhost:8080/"
        },
        "id": "7b78cc59",
        "outputId": "2c6ba9f0-8970-41dc-93e5-782e41ae536d"
      },
      "outputs": [
        {
          "output_type": "stream",
          "name": "stdout",
          "text": [
            "<class 'pandas.core.frame.DataFrame'>\n",
            "Int64Index: 21613 entries, 0 to 21612\n",
            "Data columns (total 21 columns):\n",
            " #   Column         Non-Null Count  Dtype  \n",
            "---  ------         --------------  -----  \n",
            " 0   id             21613 non-null  int64  \n",
            " 1   date           21613 non-null  object \n",
            " 2   price          21613 non-null  float64\n",
            " 3   bedrooms       21613 non-null  int64  \n",
            " 4   bathrooms      21613 non-null  int64  \n",
            " 5   sqft_living    21613 non-null  int64  \n",
            " 6   sqft_lot       21613 non-null  int64  \n",
            " 7   floors         21613 non-null  float64\n",
            " 8   waterfront     21613 non-null  int64  \n",
            " 9   view           21613 non-null  int64  \n",
            " 10  condition      21613 non-null  int64  \n",
            " 11  grade          21613 non-null  int64  \n",
            " 12  sqft_above     21613 non-null  int64  \n",
            " 13  sqft_basement  21613 non-null  int64  \n",
            " 14  yr_built       21613 non-null  int64  \n",
            " 15  yr_renovated   21613 non-null  int64  \n",
            " 16  zipcode        21613 non-null  int64  \n",
            " 17  lat            21613 non-null  float64\n",
            " 18  long           21613 non-null  float64\n",
            " 19  sqft_living15  21613 non-null  int64  \n",
            " 20  sqft_lot15     21613 non-null  int64  \n",
            "dtypes: float64(4), int64(16), object(1)\n",
            "memory usage: 3.6+ MB\n"
          ]
        }
      ],
      "source": [
        "df.info()"
      ]
    },
    {
      "cell_type": "markdown",
      "id": "1ebd1c8f",
      "metadata": {
        "id": "1ebd1c8f"
      },
      "source": [
        "## Exploratory Data Analysis"
      ]
    },
    {
      "cell_type": "code",
      "execution_count": 84,
      "id": "ca0fa515",
      "metadata": {
        "colab": {
          "base_uri": "https://localhost:8080/",
          "height": 299
        },
        "id": "ca0fa515",
        "outputId": "a31687c4-20de-4973-ae2f-94c1f4bfca9b"
      },
      "outputs": [
        {
          "output_type": "execute_result",
          "data": {
            "text/plain": [
              "           id             date     price  bedrooms  bathrooms  sqft_living  \\\n",
              "0  7129300520  20141013T000000  221900.0         3          1         1180   \n",
              "1  6414100192  20141209T000000  538000.0         3          2         2570   \n",
              "2  5631500400  20150225T000000  180000.0         2          1          770   \n",
              "3  2487200875  20141209T000000  604000.0         4          3         1960   \n",
              "4  1954400510  20150218T000000  510000.0         3          2         1680   \n",
              "\n",
              "   sqft_lot  floors  waterfront  view  ...  grade  sqft_above  sqft_basement  \\\n",
              "0      5650     1.0           0     0  ...      7        1180              0   \n",
              "1      7242     2.0           0     0  ...      7        2170            400   \n",
              "2     10000     1.0           0     0  ...      6         770              0   \n",
              "3      5000     1.0           0     0  ...      7        1050            910   \n",
              "4      8080     1.0           0     0  ...      8        1680              0   \n",
              "\n",
              "   yr_built  yr_renovated  zipcode      lat     long  sqft_living15  \\\n",
              "0      1955             0    98178  47.5112 -122.257           1340   \n",
              "1      1951          1991    98125  47.7210 -122.319           1690   \n",
              "2      1933             0    98028  47.7379 -122.233           2720   \n",
              "3      1965             0    98136  47.5208 -122.393           1360   \n",
              "4      1987             0    98074  47.6168 -122.045           1800   \n",
              "\n",
              "   sqft_lot15  \n",
              "0        5650  \n",
              "1        7639  \n",
              "2        8062  \n",
              "3        5000  \n",
              "4        7503  \n",
              "\n",
              "[5 rows x 21 columns]"
            ],
            "text/html": [
              "\n",
              "  <div id=\"df-02acf5e4-99b1-476e-a58b-ae4cf5842702\">\n",
              "    <div class=\"colab-df-container\">\n",
              "      <div>\n",
              "<style scoped>\n",
              "    .dataframe tbody tr th:only-of-type {\n",
              "        vertical-align: middle;\n",
              "    }\n",
              "\n",
              "    .dataframe tbody tr th {\n",
              "        vertical-align: top;\n",
              "    }\n",
              "\n",
              "    .dataframe thead th {\n",
              "        text-align: right;\n",
              "    }\n",
              "</style>\n",
              "<table border=\"1\" class=\"dataframe\">\n",
              "  <thead>\n",
              "    <tr style=\"text-align: right;\">\n",
              "      <th></th>\n",
              "      <th>id</th>\n",
              "      <th>date</th>\n",
              "      <th>price</th>\n",
              "      <th>bedrooms</th>\n",
              "      <th>bathrooms</th>\n",
              "      <th>sqft_living</th>\n",
              "      <th>sqft_lot</th>\n",
              "      <th>floors</th>\n",
              "      <th>waterfront</th>\n",
              "      <th>view</th>\n",
              "      <th>...</th>\n",
              "      <th>grade</th>\n",
              "      <th>sqft_above</th>\n",
              "      <th>sqft_basement</th>\n",
              "      <th>yr_built</th>\n",
              "      <th>yr_renovated</th>\n",
              "      <th>zipcode</th>\n",
              "      <th>lat</th>\n",
              "      <th>long</th>\n",
              "      <th>sqft_living15</th>\n",
              "      <th>sqft_lot15</th>\n",
              "    </tr>\n",
              "  </thead>\n",
              "  <tbody>\n",
              "    <tr>\n",
              "      <th>0</th>\n",
              "      <td>7129300520</td>\n",
              "      <td>20141013T000000</td>\n",
              "      <td>221900.0</td>\n",
              "      <td>3</td>\n",
              "      <td>1</td>\n",
              "      <td>1180</td>\n",
              "      <td>5650</td>\n",
              "      <td>1.0</td>\n",
              "      <td>0</td>\n",
              "      <td>0</td>\n",
              "      <td>...</td>\n",
              "      <td>7</td>\n",
              "      <td>1180</td>\n",
              "      <td>0</td>\n",
              "      <td>1955</td>\n",
              "      <td>0</td>\n",
              "      <td>98178</td>\n",
              "      <td>47.5112</td>\n",
              "      <td>-122.257</td>\n",
              "      <td>1340</td>\n",
              "      <td>5650</td>\n",
              "    </tr>\n",
              "    <tr>\n",
              "      <th>1</th>\n",
              "      <td>6414100192</td>\n",
              "      <td>20141209T000000</td>\n",
              "      <td>538000.0</td>\n",
              "      <td>3</td>\n",
              "      <td>2</td>\n",
              "      <td>2570</td>\n",
              "      <td>7242</td>\n",
              "      <td>2.0</td>\n",
              "      <td>0</td>\n",
              "      <td>0</td>\n",
              "      <td>...</td>\n",
              "      <td>7</td>\n",
              "      <td>2170</td>\n",
              "      <td>400</td>\n",
              "      <td>1951</td>\n",
              "      <td>1991</td>\n",
              "      <td>98125</td>\n",
              "      <td>47.7210</td>\n",
              "      <td>-122.319</td>\n",
              "      <td>1690</td>\n",
              "      <td>7639</td>\n",
              "    </tr>\n",
              "    <tr>\n",
              "      <th>2</th>\n",
              "      <td>5631500400</td>\n",
              "      <td>20150225T000000</td>\n",
              "      <td>180000.0</td>\n",
              "      <td>2</td>\n",
              "      <td>1</td>\n",
              "      <td>770</td>\n",
              "      <td>10000</td>\n",
              "      <td>1.0</td>\n",
              "      <td>0</td>\n",
              "      <td>0</td>\n",
              "      <td>...</td>\n",
              "      <td>6</td>\n",
              "      <td>770</td>\n",
              "      <td>0</td>\n",
              "      <td>1933</td>\n",
              "      <td>0</td>\n",
              "      <td>98028</td>\n",
              "      <td>47.7379</td>\n",
              "      <td>-122.233</td>\n",
              "      <td>2720</td>\n",
              "      <td>8062</td>\n",
              "    </tr>\n",
              "    <tr>\n",
              "      <th>3</th>\n",
              "      <td>2487200875</td>\n",
              "      <td>20141209T000000</td>\n",
              "      <td>604000.0</td>\n",
              "      <td>4</td>\n",
              "      <td>3</td>\n",
              "      <td>1960</td>\n",
              "      <td>5000</td>\n",
              "      <td>1.0</td>\n",
              "      <td>0</td>\n",
              "      <td>0</td>\n",
              "      <td>...</td>\n",
              "      <td>7</td>\n",
              "      <td>1050</td>\n",
              "      <td>910</td>\n",
              "      <td>1965</td>\n",
              "      <td>0</td>\n",
              "      <td>98136</td>\n",
              "      <td>47.5208</td>\n",
              "      <td>-122.393</td>\n",
              "      <td>1360</td>\n",
              "      <td>5000</td>\n",
              "    </tr>\n",
              "    <tr>\n",
              "      <th>4</th>\n",
              "      <td>1954400510</td>\n",
              "      <td>20150218T000000</td>\n",
              "      <td>510000.0</td>\n",
              "      <td>3</td>\n",
              "      <td>2</td>\n",
              "      <td>1680</td>\n",
              "      <td>8080</td>\n",
              "      <td>1.0</td>\n",
              "      <td>0</td>\n",
              "      <td>0</td>\n",
              "      <td>...</td>\n",
              "      <td>8</td>\n",
              "      <td>1680</td>\n",
              "      <td>0</td>\n",
              "      <td>1987</td>\n",
              "      <td>0</td>\n",
              "      <td>98074</td>\n",
              "      <td>47.6168</td>\n",
              "      <td>-122.045</td>\n",
              "      <td>1800</td>\n",
              "      <td>7503</td>\n",
              "    </tr>\n",
              "  </tbody>\n",
              "</table>\n",
              "<p>5 rows × 21 columns</p>\n",
              "</div>\n",
              "      <button class=\"colab-df-convert\" onclick=\"convertToInteractive('df-02acf5e4-99b1-476e-a58b-ae4cf5842702')\"\n",
              "              title=\"Convert this dataframe to an interactive table.\"\n",
              "              style=\"display:none;\">\n",
              "        \n",
              "  <svg xmlns=\"http://www.w3.org/2000/svg\" height=\"24px\"viewBox=\"0 0 24 24\"\n",
              "       width=\"24px\">\n",
              "    <path d=\"M0 0h24v24H0V0z\" fill=\"none\"/>\n",
              "    <path d=\"M18.56 5.44l.94 2.06.94-2.06 2.06-.94-2.06-.94-.94-2.06-.94 2.06-2.06.94zm-11 1L8.5 8.5l.94-2.06 2.06-.94-2.06-.94L8.5 2.5l-.94 2.06-2.06.94zm10 10l.94 2.06.94-2.06 2.06-.94-2.06-.94-.94-2.06-.94 2.06-2.06.94z\"/><path d=\"M17.41 7.96l-1.37-1.37c-.4-.4-.92-.59-1.43-.59-.52 0-1.04.2-1.43.59L10.3 9.45l-7.72 7.72c-.78.78-.78 2.05 0 2.83L4 21.41c.39.39.9.59 1.41.59.51 0 1.02-.2 1.41-.59l7.78-7.78 2.81-2.81c.8-.78.8-2.07 0-2.86zM5.41 20L4 18.59l7.72-7.72 1.47 1.35L5.41 20z\"/>\n",
              "  </svg>\n",
              "      </button>\n",
              "      \n",
              "  <style>\n",
              "    .colab-df-container {\n",
              "      display:flex;\n",
              "      flex-wrap:wrap;\n",
              "      gap: 12px;\n",
              "    }\n",
              "\n",
              "    .colab-df-convert {\n",
              "      background-color: #E8F0FE;\n",
              "      border: none;\n",
              "      border-radius: 50%;\n",
              "      cursor: pointer;\n",
              "      display: none;\n",
              "      fill: #1967D2;\n",
              "      height: 32px;\n",
              "      padding: 0 0 0 0;\n",
              "      width: 32px;\n",
              "    }\n",
              "\n",
              "    .colab-df-convert:hover {\n",
              "      background-color: #E2EBFA;\n",
              "      box-shadow: 0px 1px 2px rgba(60, 64, 67, 0.3), 0px 1px 3px 1px rgba(60, 64, 67, 0.15);\n",
              "      fill: #174EA6;\n",
              "    }\n",
              "\n",
              "    [theme=dark] .colab-df-convert {\n",
              "      background-color: #3B4455;\n",
              "      fill: #D2E3FC;\n",
              "    }\n",
              "\n",
              "    [theme=dark] .colab-df-convert:hover {\n",
              "      background-color: #434B5C;\n",
              "      box-shadow: 0px 1px 3px 1px rgba(0, 0, 0, 0.15);\n",
              "      filter: drop-shadow(0px 1px 2px rgba(0, 0, 0, 0.3));\n",
              "      fill: #FFFFFF;\n",
              "    }\n",
              "  </style>\n",
              "\n",
              "      <script>\n",
              "        const buttonEl =\n",
              "          document.querySelector('#df-02acf5e4-99b1-476e-a58b-ae4cf5842702 button.colab-df-convert');\n",
              "        buttonEl.style.display =\n",
              "          google.colab.kernel.accessAllowed ? 'block' : 'none';\n",
              "\n",
              "        async function convertToInteractive(key) {\n",
              "          const element = document.querySelector('#df-02acf5e4-99b1-476e-a58b-ae4cf5842702');\n",
              "          const dataTable =\n",
              "            await google.colab.kernel.invokeFunction('convertToInteractive',\n",
              "                                                     [key], {});\n",
              "          if (!dataTable) return;\n",
              "\n",
              "          const docLinkHtml = 'Like what you see? Visit the ' +\n",
              "            '<a target=\"_blank\" href=https://colab.research.google.com/notebooks/data_table.ipynb>data table notebook</a>'\n",
              "            + ' to learn more about interactive tables.';\n",
              "          element.innerHTML = '';\n",
              "          dataTable['output_type'] = 'display_data';\n",
              "          await google.colab.output.renderOutput(dataTable, element);\n",
              "          const docLink = document.createElement('div');\n",
              "          docLink.innerHTML = docLinkHtml;\n",
              "          element.appendChild(docLink);\n",
              "        }\n",
              "      </script>\n",
              "    </div>\n",
              "  </div>\n",
              "  "
            ]
          },
          "metadata": {},
          "execution_count": 84
        }
      ],
      "source": [
        "df.head()"
      ]
    },
    {
      "cell_type": "code",
      "execution_count": 85,
      "id": "cb92ae73",
      "metadata": {
        "scrolled": false,
        "colab": {
          "base_uri": "https://localhost:8080/",
          "height": 307
        },
        "id": "cb92ae73",
        "outputId": "03dd99e0-e69e-4e07-d631-01c2b7d59bb9"
      },
      "outputs": [
        {
          "output_type": "stream",
          "name": "stderr",
          "text": [
            "/usr/local/lib/python3.7/dist-packages/seaborn/_decorators.py:43: FutureWarning: Pass the following variable as a keyword arg: x. From version 0.12, the only valid positional argument will be `data`, and passing other arguments without an explicit keyword will result in an error or misinterpretation.\n",
            "  FutureWarning\n"
          ]
        },
        {
          "output_type": "display_data",
          "data": {
            "text/plain": [
              "<Figure size 1296x432 with 2 Axes>"
            ],
            "image/png": "[encoded data removed]"
          },
          "metadata": {}
        }
      ],
      "source": [
        "fig = plt.figure(figsize=(18,6))\n",
        "\n",
        "sns.set(font_scale=1.1)\n",
        "\n",
        "fig.add_subplot(1,2,1)\n",
        "p = sns.countplot(df_new['bedrooms'], palette='RdPu')\n",
        "plt.ylabel('Total', fontsize=16)\n",
        "plt.xlabel('Jumlah Kamar Tidur', fontsize=16)\n",
        "\n",
        "fig.add_subplot(1,2,2)\n",
        "plt.boxplot(df_new['bedrooms'])\n",
        "    \n",
        "plt.show()"
      ]
    },
    {
      "cell_type": "code",
      "execution_count": 86,
      "id": "bf83e8bb",
      "metadata": {
        "colab": {
          "base_uri": "https://localhost:8080/"
        },
        "id": "bf83e8bb",
        "outputId": "ef596b1e-b134-4d06-c2d4-1ed14f3b699a"
      },
      "outputs": [
        {
          "output_type": "stream",
          "name": "stdout",
          "text": [
            "Kuartil 1 =  3.0\n",
            "Kuartil 2 =  3.0\n",
            "Kuartil 3 =  4.0\n",
            "IQR =  1.0\n",
            "IQR minimum =  1.5\n",
            "IQR maksimum =  5.5\n",
            "Nilai minimum data =  0\n",
            "Nilai maksimum data =  33\n"
          ]
        }
      ],
      "source": [
        "# Hitung nilai Q1 dan Q3\n",
        "Q1 = np.quantile(df_new['bedrooms'], .25)\n",
        "Q2 = np.quantile(df_new['bedrooms'], .50)\n",
        "Q3 = np.quantile(df_new['bedrooms'], .75)\n",
        "IQR = Q3-Q1\n",
        "min_IQR = Q1-1.5*IQR\n",
        "max_IQR = Q3+1.5*IQR\n",
        "nilai_min = np.min(df_new['bedrooms'])\n",
        "nilai_max = np.max(df_new['bedrooms'])\n",
        "\n",
        "# Hitung nilai IQR\n",
        "print('Kuartil 1 = ', Q1)\n",
        "print('Kuartil 2 = ', Q2)\n",
        "print('Kuartil 3 = ', Q3)\n",
        "print('IQR = ', IQR)\n",
        "\n",
        "# Hitung min dan max IQR\n",
        "print('IQR minimum = ', min_IQR)\n",
        "print('IQR maksimum = ', max_IQR)\n",
        "\n",
        "# Hitung nilai min dan max data\n",
        "print('Nilai minimum data = ', nilai_min)\n",
        "print('Nilai maksimum data = ', nilai_max)"
      ]
    },
    {
      "cell_type": "code",
      "execution_count": 87,
      "id": "3be03f22",
      "metadata": {
        "colab": {
          "base_uri": "https://localhost:8080/"
        },
        "id": "3be03f22",
        "outputId": "ba2e53ac-0831-4b49-ef70-6da865420de8"
      },
      "outputs": [
        {
          "output_type": "stream",
          "name": "stdout",
          "text": [
            "Ditemukan low outlier!\n",
            "Ditemukan high outlier!\n"
          ]
        }
      ],
      "source": [
        "# Mendefinisikan outlier data\n",
        "if (nilai_min < min_IQR):\n",
        "    print('Ditemukan low outlier!')\n",
        "else:\n",
        "    print('Tidak ditemukan low outlier!')  \n",
        "\n",
        "if (nilai_max > max_IQR):\n",
        "    print('Ditemukan high outlier!')\n",
        "else:\n",
        "    print('Tidak ditemukan high outlier!')"
      ]
    },
    {
      "cell_type": "code",
      "execution_count": 88,
      "id": "67a356af",
      "metadata": {
        "colab": {
          "base_uri": "https://localhost:8080/"
        },
        "id": "67a356af",
        "outputId": "f5ef7c1c-c2ca-4e8e-867d-a16871b836f0"
      },
      "outputs": [
        {
          "output_type": "stream",
          "name": "stdout",
          "text": [
            "Low outlier : \n",
            " [1, 1, 1, 1, 1, 1, 0, 1, 1, 1, 1, 1, 1, 1, 1, 1, 1, 1, 1, 1, 1, 1, 1, 1, 1, 1, 1, 1, 1, 0, 1, 1, 1, 1, 1, 0, 1, 1, 1, 1, 1, 1, 1, 1, 1, 1, 1, 1, 1, 1, 1, 1, 0, 1, 1, 1, 1, 1, 1, 1, 1, 1, 1, 1, 1, 1, 1, 1, 0, 1, 1, 1, 1, 1, 1, 1, 1, 1, 1, 1, 1, 1, 1, 1, 0, 0, 1, 1, 1, 1, 1, 1, 1, 1, 1, 1, 1, 1, 1, 1, 1, 1, 1, 1, 0, 1, 1, 0, 1, 1, 1, 1, 1, 1, 1, 1, 1, 1, 1, 1, 1, 1, 1, 1, 1, 1, 1, 1, 1, 1, 1, 1, 1, 1, 1, 1, 0, 1, 1, 1, 1, 1, 1, 1, 1, 1, 1, 1, 1, 1, 1, 1, 1, 1, 1, 0, 1, 1, 1, 1, 1, 1, 1, 1, 1, 1, 1, 1, 1, 1, 1, 1, 1, 1, 1, 1, 1, 1, 1, 1, 1, 1, 1, 1, 1, 1, 1, 0, 1, 1, 1, 1, 1, 1, 1, 1, 1, 1, 1, 0, 1, 1, 1, 1, 1, 1, 1, 1, 1, 1, 1, 1]\n",
            "High outlier : \n",
            " [6, 6, 6, 6, 6, 6, 7, 6, 6, 6, 6, 6, 7, 6, 6, 6, 6, 7, 6, 6, 6, 6, 6, 6, 6, 6, 6, 8, 6, 6, 6, 6, 6, 6, 6, 6, 6, 6, 6, 6, 6, 6, 6, 6, 6, 6, 6, 6, 6, 6, 6, 6, 6, 6, 6, 6, 6, 6, 6, 6, 6, 6, 6, 6, 6, 6, 7, 6, 6, 6, 6, 6, 7, 8, 8, 9, 6, 6, 9, 6, 6, 6, 6, 6, 6, 6, 6, 6, 7, 7, 7, 6, 6, 6, 6, 6, 6, 6, 6, 6, 6, 6, 6, 6, 6, 9, 6, 8, 6, 6, 6, 6, 6, 6, 6, 6, 6, 7, 6, 6, 6, 7, 6, 6, 6, 6, 6, 6, 6, 6, 6, 6, 6, 6, 6, 6, 7, 6, 6, 6, 6, 6, 6, 7, 9, 7, 6, 6, 11, 6, 6, 6, 8, 6, 6, 6, 7, 6, 6, 6, 6, 6, 8, 6, 6, 6, 6, 7, 6, 6, 7, 6, 6, 6, 6, 6, 6, 6, 6, 6, 7, 6, 6, 7, 8, 6, 6, 6, 6, 6, 6, 6, 6, 6, 6, 6, 6, 6, 6, 6, 6, 6, 6, 7, 6, 6, 6, 6, 6, 6, 7, 7, 7, 7, 6, 6, 8, 6, 6, 7, 6, 10, 6, 6, 6, 6, 6, 6, 6, 6, 6, 7, 6, 7, 6, 6, 6, 6, 6, 6, 6, 6, 7, 6, 7, 6, 8, 6, 6, 10, 6, 7, 6, 6, 6, 7, 6, 6, 8, 6, 7, 6, 6, 33, 6, 6, 6, 6, 7, 6, 6, 6, 6, 6, 7, 6, 9, 6, 6, 6, 6, 8, 7, 6, 6, 6, 6, 6, 6, 6, 6, 6, 6, 6, 6, 6, 9, 7, 8, 6, 6, 6, 7, 6, 6, 6, 7, 6, 6, 6, 6, 10, 6, 8, 7, 6, 6, 6, 6, 6, 6, 6, 6, 6, 6, 6, 6, 6, 6, 6, 6, 6, 6, 6]\n"
          ]
        }
      ],
      "source": [
        "# Tampilkan letak data outlier\n",
        "low_out = []\n",
        "high_out = []\n",
        "\n",
        "for i in df_new['bedrooms']:\n",
        "    if (i < min_IQR):\n",
        "        low_out.append(i)\n",
        "    if (i > max_IQR):\n",
        "        high_out.append(i)\n",
        "\n",
        "print('Low outlier : \\n', low_out)\n",
        "print('High outlier : \\n', high_out)"
      ]
    },
    {
      "cell_type": "code",
      "execution_count": 89,
      "id": "0ddcd5f2",
      "metadata": {
        "colab": {
          "base_uri": "https://localhost:8080/",
          "height": 307
        },
        "id": "0ddcd5f2",
        "outputId": "94409916-bbaf-42e7-899f-7a6b33cf8cae"
      },
      "outputs": [
        {
          "output_type": "stream",
          "name": "stderr",
          "text": [
            "/usr/local/lib/python3.7/dist-packages/seaborn/_decorators.py:43: FutureWarning: Pass the following variable as a keyword arg: x. From version 0.12, the only valid positional argument will be `data`, and passing other arguments without an explicit keyword will result in an error or misinterpretation.\n",
            "  FutureWarning\n"
          ]
        },
        {
          "output_type": "display_data",
          "data": {
            "text/plain": [
              "<Figure size 1296x432 with 2 Axes>"
            ],
            "image/png": "[encoded data removed]"
          },
          "metadata": {}
        }
      ],
      "source": [
        "fig = plt.figure(figsize=(18,6))\n",
        "\n",
        "sns.set(font_scale=1.1)\n",
        "\n",
        "fig.add_subplot(1,2,1)\n",
        "p = sns.countplot(df_new['bathrooms'], palette='RdPu')\n",
        "plt.ylabel('Total', fontsize=16)\n",
        "plt.xlabel('Jumlah Kamar Mandi', fontsize=16)\n",
        "\n",
        "fig.add_subplot(1,2,2)\n",
        "plt.boxplot(df_new['bathrooms'])\n",
        "    \n",
        "plt.show()"
      ]
    },
    {
      "cell_type": "code",
      "execution_count": 90,
      "id": "ebcef54f",
      "metadata": {
        "colab": {
          "base_uri": "https://localhost:8080/"
        },
        "id": "ebcef54f",
        "outputId": "64f45cdf-8336-4a7d-912c-90da3c259639"
      },
      "outputs": [
        {
          "output_type": "stream",
          "name": "stdout",
          "text": [
            "Kuartil 1 =  1.0\n",
            "Kuartil 2 =  2.0\n",
            "Kuartil 3 =  2.0\n",
            "IQR =  1.0\n",
            "IQR minimum =  -0.5\n",
            "IQR maksimum =  3.5\n",
            "Nilai minimum data =  0\n",
            "Nilai maksimum data =  8\n"
          ]
        }
      ],
      "source": [
        "# Hitung nilai Q1 dan Q3\n",
        "Q1 = np.quantile(df_new['bathrooms'], .25)\n",
        "Q2 = np.quantile(df_new['bathrooms'], .50)\n",
        "Q3 = np.quantile(df_new['bathrooms'], .75)\n",
        "IQR = Q3-Q1\n",
        "min_IQR = Q1-1.5*IQR\n",
        "max_IQR = Q3+1.5*IQR\n",
        "nilai_min = np.min(df_new['bathrooms'])\n",
        "nilai_max = np.max(df_new['bathrooms'])\n",
        "\n",
        "# Hitung nilai IQR\n",
        "print('Kuartil 1 = ', Q1)\n",
        "print('Kuartil 2 = ', Q2)\n",
        "print('Kuartil 3 = ', Q3)\n",
        "print('IQR = ', IQR)\n",
        "\n",
        "# Hitung min dan max IQR\n",
        "print('IQR minimum = ', min_IQR)\n",
        "print('IQR maksimum = ', max_IQR)\n",
        "\n",
        "# Hitung nilai min dan max data\n",
        "print('Nilai minimum data = ', nilai_min)\n",
        "print('Nilai maksimum data = ', nilai_max)"
      ]
    },
    {
      "cell_type": "code",
      "execution_count": 91,
      "id": "731a47f9",
      "metadata": {
        "colab": {
          "base_uri": "https://localhost:8080/"
        },
        "id": "731a47f9",
        "outputId": "da6a74b9-2d4f-4547-c086-127ab46aac8b"
      },
      "outputs": [
        {
          "output_type": "stream",
          "name": "stdout",
          "text": [
            "Tidak ditemukan low outlier!\n",
            "Ditemukan high outlier!\n"
          ]
        }
      ],
      "source": [
        "# Mendefinisikan outlier data\n",
        "if (nilai_min < min_IQR):\n",
        "    print('Ditemukan low outlier!')\n",
        "else:\n",
        "    print('Tidak ditemukan low outlier!')  \n",
        "\n",
        "if (nilai_max > max_IQR):\n",
        "    print('Ditemukan high outlier!')\n",
        "else:\n",
        "    print('Tidak ditemukan high outlier!')"
      ]
    },
    {
      "cell_type": "code",
      "execution_count": 92,
      "id": "ec59f9f6",
      "metadata": {
        "colab": {
          "base_uri": "https://localhost:8080/"
        },
        "id": "ec59f9f6",
        "outputId": "7863509d-b6fd-4e59-e5ae-476d7fc86e05"
      },
      "outputs": [
        {
          "output_type": "stream",
          "name": "stdout",
          "text": [
            "Low outlier : \n",
            " []\n",
            "High outlier : \n",
            " [4, 4, 4, 4, 5, 4, 4, 4, 5, 4, 4, 4, 4, 4, 4, 4, 4, 4, 4, 5, 4, 4, 4, 4, 6, 4, 4, 4, 5, 5, 4, 4, 4, 4, 4, 5, 4, 4, 4, 4, 4, 4, 4, 5, 4, 5, 5, 4, 5, 4, 4, 4, 4, 5, 4, 5, 5, 4, 4, 4, 4, 4, 4, 4, 4, 4, 4, 4, 4, 4, 4, 4, 4, 4, 6, 6, 4, 5, 4, 4, 4, 5, 4, 4, 4, 5, 4, 4, 4, 4, 4, 5, 4, 5, 4, 4, 4, 4, 4, 5, 4, 4, 4, 4, 4, 4, 4, 4, 4, 4, 4, 5, 4, 4, 4, 4, 4, 4, 5, 4, 4, 4, 4, 4, 4, 8, 4, 4, 4, 4, 4, 4, 4, 4, 5, 4, 4, 4, 6, 4, 4, 4, 4, 4, 7, 4, 4, 4, 4, 4, 4, 4, 4, 4, 4, 7, 4, 4, 4, 4, 4, 4, 4, 4, 4, 4, 4, 4, 4, 4, 4, 4, 4, 4, 4, 4, 4, 5, 4, 4, 4, 5, 4, 4, 4, 4, 4, 4, 4, 4, 4, 4, 4, 4, 4, 4, 4, 4, 4, 4, 4, 4, 4, 4, 4, 4, 4, 4, 4, 4, 4, 4, 6, 4, 4, 4, 4, 4, 4, 4, 4, 8, 4, 4, 4, 4, 5, 5, 4, 4, 4, 4, 4, 4, 5, 4, 4, 4, 4, 4, 4, 4, 6, 4, 4, 4, 5, 4, 4, 4, 4, 4, 4, 4, 4, 4, 4, 4, 4, 5, 5, 4, 5, 4, 5, 4, 4, 4, 4, 4, 4, 5, 4, 4, 4, 5, 5, 4, 4, 4, 5, 4, 4, 4, 4, 4, 4, 4, 4, 4, 4, 4, 4, 4, 4, 4, 4, 5, 4, 4, 4, 4, 5, 6, 4, 4, 4, 5, 5, 4, 4, 4, 4, 4, 4, 5, 4, 4, 4, 6, 4, 4, 4, 4, 4, 4, 4, 5, 4, 4, 4, 4, 4, 4, 4, 4, 4, 4, 4, 4, 4, 4, 4, 4, 4, 4, 4, 4, 4, 5, 4, 4, 4, 5, 4, 4, 4, 4, 4, 4, 4, 4, 4, 4, 4, 4, 5, 4, 4, 4, 4, 4, 6, 4, 4, 4, 4, 4, 5, 4, 4, 5, 4, 4, 6, 5, 4, 4, 4, 4, 4, 6, 4, 4, 4, 4, 6, 4, 4, 4, 4, 4]\n"
          ]
        }
      ],
      "source": [
        "# Tampilkan letak data outlier\n",
        "low_out = []\n",
        "high_out = []\n",
        "\n",
        "for i in df_new['bathrooms']:\n",
        "    if (i < min_IQR):\n",
        "        low_out.append(i)\n",
        "    if (i > max_IQR):\n",
        "        high_out.append(i)\n",
        "\n",
        "print('Low outlier : \\n', low_out)\n",
        "print('High outlier : \\n', high_out)"
      ]
    },
    {
      "cell_type": "code",
      "execution_count": 93,
      "id": "62481295",
      "metadata": {
        "colab": {
          "base_uri": "https://localhost:8080/",
          "height": 250
        },
        "id": "62481295",
        "outputId": "68653555-47d4-443e-bcfd-49640f313a64"
      },
      "outputs": [
        {
          "output_type": "display_data",
          "data": {
            "text/plain": [
              "<Figure size 1296x432 with 2 Axes>"
            ],
            "image/png": "[encoded data removed]"
          },
          "metadata": {}
        }
      ],
      "source": [
        "f = plt.figure(figsize=(18,6))\n",
        "\n",
        "sns.set(font_scale=1.1)\n",
        "\n",
        "f.add_subplot(1,2,1)\n",
        "# df_new['sqft_living'].plot(kind='kde')\n",
        "df_new['sqft_living'].hist(density=True, alpha=0.3)\n",
        "plt.ylabel('Density', fontsize=16)\n",
        "plt.xlabel('Luas Bagian Dalam Rumah', fontsize=16)\n",
        "\n",
        "f.add_subplot(1,2,2)\n",
        "plt.boxplot(df_new['sqft_living'])\n",
        "plt.show()"
      ]
    },
    {
      "cell_type": "code",
      "execution_count": 94,
      "id": "559b80e6",
      "metadata": {
        "colab": {
          "base_uri": "https://localhost:8080/"
        },
        "id": "559b80e6",
        "outputId": "0833f519-9d3e-4646-8520-ff9faadad806"
      },
      "outputs": [
        {
          "output_type": "stream",
          "name": "stdout",
          "text": [
            "Kuartil 1 =  1427.0\n",
            "Kuartil 2 =  1910.0\n",
            "Kuartil 3 =  2550.0\n",
            "IQR =  1123.0\n",
            "IQR minimum =  -257.5\n",
            "IQR maksimum =  4234.5\n",
            "Nilai minimum data =  290\n",
            "Nilai maksimum data =  13540\n"
          ]
        }
      ],
      "source": [
        "# Hitung nilai Q1 dan Q3\n",
        "Q1 = np.quantile(df_new['sqft_living'], .25)\n",
        "Q2 = np.quantile(df_new['sqft_living'], .50)\n",
        "Q3 = np.quantile(df_new['sqft_living'], .75)\n",
        "IQR = Q3-Q1\n",
        "min_IQR = Q1-1.5*IQR\n",
        "max_IQR = Q3+1.5*IQR\n",
        "nilai_min = np.min(df_new['sqft_living'])\n",
        "nilai_max = np.max(df_new['sqft_living'])\n",
        "\n",
        "# Hitung nilai IQR\n",
        "print('Kuartil 1 = ', Q1)\n",
        "print('Kuartil 2 = ', Q2)\n",
        "print('Kuartil 3 = ', Q3)\n",
        "print('IQR = ', IQR)\n",
        "\n",
        "# Hitung min dan max IQR\n",
        "print('IQR minimum = ', min_IQR)\n",
        "print('IQR maksimum = ', max_IQR)\n",
        "\n",
        "# Hitung nilai min dan max data\n",
        "print('Nilai minimum data = ', nilai_min)\n",
        "print('Nilai maksimum data = ', nilai_max)"
      ]
    },
    {
      "cell_type": "code",
      "execution_count": 95,
      "id": "725150c5",
      "metadata": {
        "colab": {
          "base_uri": "https://localhost:8080/"
        },
        "id": "725150c5",
        "outputId": "59f5dcbd-1349-47b4-e232-20a5256f1481"
      },
      "outputs": [
        {
          "output_type": "stream",
          "name": "stdout",
          "text": [
            "Tidak ditemukan low outlier!\n",
            "Ditemukan high outlier!\n"
          ]
        }
      ],
      "source": [
        "# Mendefinisikan outlier data\n",
        "if (nilai_min < min_IQR):\n",
        "    print('Ditemukan low outlier!')\n",
        "else:\n",
        "    print('Tidak ditemukan low outlier!')  \n",
        "\n",
        "if (nilai_max > max_IQR):\n",
        "    print('Ditemukan high outlier!')\n",
        "else:\n",
        "    print('Tidak ditemukan high outlier!')"
      ]
    },
    {
      "cell_type": "code",
      "execution_count": 96,
      "id": "27d0b89e",
      "metadata": {
        "colab": {
          "base_uri": "https://localhost:8080/"
        },
        "id": "27d0b89e",
        "outputId": "e0c31c70-1baa-4359-e9a7-5f8fc4639290"
      },
      "outputs": [
        {
          "output_type": "stream",
          "name": "stdout",
          "text": [
            "Low outlier : \n",
            " []\n",
            "High outlier : \n",
            " [5420, 4770, 4380, 5180, 4410, 5050, 5310, 4550, 4290, 4290, 4800, 6070, 4870, 4860, 4860, 4410, 4760, 6050, 4740, 5403, 4380, 4640, 6050, 4370, 4570, 4670, 4860, 4270, 4890, 4390, 4250, 5670, 4475, 6070, 4300, 4390, 8010, 4460, 4610, 4380, 4250, 4930, 7390, 4640, 5320, 8000, 6563, 4740, 5450, 4440, 4830, 4280, 4570, 4370, 5710, 5620, 5774, 4470, 4490, 5040, 5770, 5180, 6400, 4490, 6055, 4250, 6300, 4350, 4460, 4340, 4250, 5110, 4700, 4910, 4750, 6840, 4930, 5180, 5130, 6640, 5740, 7350, 4510, 4300, 4870, 5020, 4740, 5370, 4860, 6930, 6550, 6110, 4883, 5010, 4660, 4600, 4910, 5410, 4270, 4520, 5340, 5230, 5370, 4730, 4430, 5780, 6240, 10040, 4250, 5360, 4610, 7480, 5620, 4340, 7080, 5760, 4400, 4280, 9200, 4320, 4420, 4380, 4580, 5310, 4660, 4300, 4240, 5180, 6810, 4690, 5830, 4930, 5700, 5990, 5070, 4750, 4270, 4750, 5040, 4890, 4350, 4280, 6390, 4570, 4350, 4410, 4430, 4720, 5450, 4470, 6410, 6330, 4250, 4290, 5860, 5990, 4260, 4360, 4370, 4440, 4970, 4940, 7220, 5480, 4740, 4386, 5440, 4500, 4700, 4410, 4240, 4470, 4650, 5180, 5400, 4810, 4750, 4490, 7050, 4370, 4870, 6210, 4270, 12050, 4250, 4360, 4260, 5480, 4530, 5850, 4280, 4800, 4240, 4380, 4320, 5250, 4330, 4350, 5330, 4560, 4560, 4540, 7100, 4580, 5230, 9640, 4460, 4410, 5030, 5660, 4330, 5067, 5270, 5150, 4380, 4460, 6430, 4430, 4610, 4250, 4460, 4420, 5720, 4500, 4300, 4530, 5584, 9890, 5770, 5540, 5050, 5220, 4340, 4830, 4850, 5844, 5530, 4480, 5270, 5860, 5545, 4610, 4700, 4440, 5960, 4420, 5000, 6510, 4610, 5050, 4600, 7400, 5730, 4260, 4490, 5370, 4350, 4320, 4720, 5000, 5440, 6085, 4250, 5461, 4400, 4470, 6640, 4620, 5300, 4380, 4500, 4850, 4400, 4290, 4330, 4560, 5000, 4590, 5000, 6900, 4570, 5840, 4980, 4560, 4340, 5490, 4320, 7420, 4850, 4310, 4690, 4780, 4590, 4370, 5100, 6200, 4500, 4360, 5280, 7440, 4610, 4285, 4430, 4690, 4450, 4440, 4600, 13540, 6980, 4270, 4590, 4300, 4340, 4390, 5850, 4460, 4260, 4590, 6380, 4550, 7880, 4440, 4330, 4320, 4470, 4790, 4500, 5270, 5370, 4340, 5190, 4290, 4730, 5350, 7620, 4430, 6200, 4410, 5840, 4320, 5550, 5290, 5290, 5020, 5480, 8670, 4480, 4770, 4930, 4320, 4420, 5470, 5160, 4570, 4600, 4370, 4260, 4780, 4670, 5770, 4300, 4980, 4280, 6040, 5310, 4830, 4790, 5010, 7000, 4320, 5600, 6030, 4830, 4400, 5170, 4670, 4660, 4680, 4400, 4560, 4590, 5310, 5930, 4240, 4630, 4310, 4720, 4510, 4560, 4420, 4510, 5550, 4390, 4430, 4240, 5860, 5810, 4700, 4500, 4250, 5210, 5110, 5960, 4640, 7730, 4285, 4475, 4300, 4620, 4740, 4610, 5610, 4270, 4280, 5090, 4240, 4270, 4440, 5150, 4310, 4960, 4510, 4560, 5480, 5040, 5120, 4410, 5550, 6500, 4920, 4480, 4860, 5190, 4560, 4820, 5570, 4340, 4960, 5240, 8020, 4390, 4575, 5470, 5540, 5820, 4670, 4420, 4290, 7710, 5020, 4280, 7320, 4270, 4660, 4410, 4290, 4690, 4710, 6630, 5510, 4720, 5490, 4370, 6490, 4460, 5300, 4260, 4440, 4460, 5080, 4520, 4360, 4660, 4910, 4270, 5430, 4600, 4890, 4310, 4630, 5610, 4660, 4270, 5050, 5330, 4590, 4800, 7850, 4280, 4420, 4490, 4645, 4570, 4700, 5305, 4320, 4670, 4650, 5120, 5220, 4340, 4360, 5060, 4700, 4920, 4810, 5635, 4410, 4410, 5550, 4270, 4420, 4690, 4280, 6670, 6530, 4640, 5350, 6370, 4360, 4470, 5790, 6260, 4600, 4390, 5780, 4700, 4410, 4490, 4750, 4360, 5790, 6160, 4360, 4490, 5370, 4500, 5940, 4700, 4450, 5520, 4495, 4240, 5190, 7120, 4390, 4490, 4370, 5430, 5010, 4680, 5640, 6880, 4350, 4460, 4310, 5230, 4590, 4620, 4360, 7270, 4920, 5150, 4300, 5090, 4420, 4410, 4350, 4500, 4850, 4910, 4470]\n"
          ]
        }
      ],
      "source": [
        "# Tampilkan letak data outlier\n",
        "low_out = []\n",
        "high_out = []\n",
        "\n",
        "for i in df_new['sqft_living']:\n",
        "    if (i < min_IQR):\n",
        "        low_out.append(i)\n",
        "    if (i > max_IQR):\n",
        "        high_out.append(i)\n",
        "\n",
        "print('Low outlier : \\n', low_out)\n",
        "print('High outlier : \\n', high_out)"
      ]
    },
    {
      "cell_type": "code",
      "execution_count": 97,
      "id": "ef5305d1",
      "metadata": {
        "scrolled": false,
        "colab": {
          "base_uri": "https://localhost:8080/",
          "height": 309
        },
        "id": "ef5305d1",
        "outputId": "949c3c90-f189-4e0b-8268-298b062a7b17"
      },
      "outputs": [
        {
          "output_type": "stream",
          "name": "stderr",
          "text": [
            "/usr/local/lib/python3.7/dist-packages/seaborn/_decorators.py:43: FutureWarning: Pass the following variable as a keyword arg: x. From version 0.12, the only valid positional argument will be `data`, and passing other arguments without an explicit keyword will result in an error or misinterpretation.\n",
            "  FutureWarning\n"
          ]
        },
        {
          "output_type": "display_data",
          "data": {
            "text/plain": [
              "<Figure size 1296x432 with 2 Axes>"
            ],
            "image/png": "[encoded data removed]"
          },
          "metadata": {}
        }
      ],
      "source": [
        "fig = plt.figure(figsize=(18,6))\n",
        "\n",
        "sns.set(font_scale=1.1)\n",
        "\n",
        "fig.add_subplot(1,2,1)\n",
        "p = sns.countplot(df_new['grade'], palette='RdPu')\n",
        "plt.ylabel('Total', fontsize=16)\n",
        "plt.xlabel('Grade', fontsize=16)\n",
        "\n",
        "fig.add_subplot(1,2,2)\n",
        "plt.boxplot(df_new['grade'])\n",
        "    \n",
        "plt.show()"
      ]
    },
    {
      "cell_type": "code",
      "execution_count": 98,
      "id": "6bb95d3a",
      "metadata": {
        "colab": {
          "base_uri": "https://localhost:8080/"
        },
        "id": "6bb95d3a",
        "outputId": "beb2902f-fa2b-4ee4-b490-b64455b6551d"
      },
      "outputs": [
        {
          "output_type": "stream",
          "name": "stdout",
          "text": [
            "Kuartil 1 =  7.0\n",
            "Kuartil 2 =  7.0\n",
            "Kuartil 3 =  8.0\n",
            "IQR =  1.0\n",
            "IQR minimum =  5.5\n",
            "IQR maksimum =  9.5\n",
            "Nilai minimum data =  1\n",
            "Nilai maksimum data =  13\n"
          ]
        }
      ],
      "source": [
        "# Hitung nilai Q1 dan Q3\n",
        "Q1 = np.quantile(df_new['grade'], .25)\n",
        "Q2 = np.quantile(df_new['grade'], .50)\n",
        "Q3 = np.quantile(df_new['grade'], .75)\n",
        "IQR = Q3-Q1\n",
        "min_IQR = Q1-1.5*IQR\n",
        "max_IQR = Q3+1.5*IQR\n",
        "nilai_min = np.min(df_new['grade'])\n",
        "nilai_max = np.max(df_new['grade'])\n",
        "\n",
        "# Hitung nilai IQR\n",
        "print('Kuartil 1 = ', Q1)\n",
        "print('Kuartil 2 = ', Q2)\n",
        "print('Kuartil 3 = ', Q3)\n",
        "print('IQR = ', IQR)\n",
        "\n",
        "# Hitung min dan max IQR\n",
        "print('IQR minimum = ', min_IQR)\n",
        "print('IQR maksimum = ', max_IQR)\n",
        "\n",
        "# Hitung nilai min dan max data\n",
        "print('Nilai minimum data = ', nilai_min)\n",
        "print('Nilai maksimum data = ', nilai_max)"
      ]
    },
    {
      "cell_type": "code",
      "execution_count": 99,
      "id": "c9a83803",
      "metadata": {
        "colab": {
          "base_uri": "https://localhost:8080/"
        },
        "id": "c9a83803",
        "outputId": "2cca9242-6670-4c7e-c285-595b0249e63d"
      },
      "outputs": [
        {
          "output_type": "stream",
          "name": "stdout",
          "text": [
            "Ditemukan low outlier!\n",
            "Ditemukan high outlier!\n"
          ]
        }
      ],
      "source": [
        "# Mendefinisikan outlier data\n",
        "if (nilai_min < min_IQR):\n",
        "    print('Ditemukan low outlier!')\n",
        "else:\n",
        "    print('Tidak ditemukan low outlier!')  \n",
        "\n",
        "if (nilai_max > max_IQR):\n",
        "    print('Ditemukan high outlier!')\n",
        "else:\n",
        "    print('Tidak ditemukan high outlier!')"
      ]
    },
    {
      "cell_type": "code",
      "execution_count": 100,
      "id": "5594b04c",
      "metadata": {
        "colab": {
          "base_uri": "https://localhost:8080/"
        },
        "id": "5594b04c",
        "outputId": "31e84c0f-74b7-4a8b-ce93-90e01aeb0f45"
      },
      "outputs": [
        {
          "output_type": "stream",
          "name": "stdout",
          "text": [
            "Low outlier : \n",
            " [5, 5, 5, 5, 4, 5, 4, 5, 5, 5, 5, 5, 5, 5, 5, 4, 5, 5, 5, 3, 5, 5, 5, 5, 5, 5, 5, 5, 5, 5, 5, 5, 5, 5, 3, 5, 5, 5, 5, 5, 5, 5, 4, 5, 5, 5, 5, 5, 5, 4, 5, 5, 5, 5, 5, 5, 5, 5, 5, 5, 5, 5, 5, 5, 4, 5, 4, 5, 5, 5, 5, 5, 5, 5, 5, 5, 5, 5, 5, 5, 5, 3, 5, 5, 5, 5, 5, 5, 5, 5, 5, 5, 5, 4, 5, 5, 5, 5, 5, 5, 5, 5, 5, 5, 5, 5, 5, 5, 5, 4, 5, 5, 5, 5, 5, 5, 5, 5, 5, 4, 5, 5, 4, 4, 5, 5, 5, 5, 5, 5, 5, 5, 4, 4, 5, 5, 5, 5, 5, 5, 5, 5, 5, 5, 5, 5, 5, 5, 5, 5, 5, 5, 4, 5, 4, 5, 5, 5, 5, 5, 4, 5, 5, 5, 5, 5, 5, 5, 5, 5, 5, 5, 5, 5, 5, 5, 5, 5, 5, 5, 5, 5, 5, 5, 5, 5, 5, 5, 4, 5, 5, 4, 5, 5, 5, 5, 5, 5, 5, 5, 4, 5, 5, 5, 5, 5, 5, 4, 5, 5, 5, 5, 5, 5, 5, 5, 5, 5, 4, 5, 5, 5, 5, 4, 5, 5, 4, 5, 5, 5, 5, 5, 5, 5, 5, 5, 5, 5, 4, 5, 5, 5, 5, 5, 5, 5, 5, 5, 5, 5, 5, 5, 5, 5, 5, 5, 4, 5, 4, 5, 5, 4, 5, 5, 5, 5, 5, 5, 5, 5, 5, 4, 5, 1, 5]\n",
            "High outlier : \n",
            " [11, 10, 11, 10, 10, 10, 10, 12, 10, 10, 10, 10, 10, 10, 10, 11, 11, 10, 10, 10, 11, 11, 10, 10, 10, 11, 10, 10, 12, 11, 10, 10, 10, 10, 10, 10, 11, 11, 10, 10, 10, 11, 10, 12, 11, 10, 10, 11, 10, 10, 11, 10, 11, 10, 10, 12, 11, 10, 10, 10, 11, 12, 11, 10, 10, 10, 10, 10, 10, 10, 10, 10, 10, 10, 10, 11, 10, 11, 10, 11, 11, 10, 10, 10, 12, 11, 10, 10, 10, 10, 10, 10, 10, 12, 11, 12, 10, 10, 11, 10, 10, 11, 10, 10, 12, 10, 10, 11, 10, 10, 10, 10, 10, 10, 10, 11, 10, 10, 10, 10, 10, 10, 10, 10, 11, 12, 10, 10, 10, 10, 10, 10, 11, 11, 10, 10, 11, 10, 11, 10, 10, 10, 11, 10, 11, 10, 11, 10, 10, 10, 10, 10, 10, 11, 10, 10, 10, 10, 11, 11, 11, 10, 11, 10, 10, 10, 10, 10, 12, 12, 10, 12, 10, 10, 11, 10, 10, 10, 10, 11, 10, 11, 11, 10, 11, 10, 10, 10, 10, 10, 10, 10, 11, 10, 12, 11, 10, 10, 11, 10, 11, 10, 10, 10, 10, 10, 10, 10, 12, 10, 10, 10, 10, 10, 10, 10, 10, 10, 10, 12, 11, 12, 10, 10, 11, 11, 10, 11, 10, 12, 10, 10, 10, 10, 10, 10, 10, 11, 11, 10, 11, 10, 11, 10, 10, 10, 10, 10, 11, 11, 11, 10, 10, 10, 10, 10, 10, 11, 10, 11, 10, 11, 10, 10, 10, 10, 10, 11, 10, 10, 10, 10, 10, 11, 11, 10, 11, 10, 10, 11, 11, 10, 12, 10, 10, 10, 11, 10, 11, 10, 11, 10, 11, 12, 10, 12, 10, 11, 10, 10, 11, 10, 10, 10, 10, 11, 11, 10, 13, 10, 10, 10, 11, 10, 10, 11, 11, 11, 10, 10, 10, 10, 10, 11, 10, 10, 10, 10, 10, 10, 10, 11, 11, 11, 10, 10, 10, 10, 10, 13, 10, 10, 11, 10, 10, 10, 10, 11, 10, 10, 10, 10, 11, 10, 10, 11, 10, 10, 11, 11, 10, 10, 10, 10, 10, 10, 10, 11, 11, 10, 10, 10, 10, 11, 11, 11, 10, 10, 10, 10, 10, 10, 10, 10, 10, 10, 13, 10, 10, 10, 10, 10, 11, 11, 10, 10, 10, 10, 10, 10, 11, 10, 10, 10, 10, 11, 10, 11, 10, 12, 12, 11, 11, 10, 11, 10, 10, 11, 11, 10, 10, 10, 11, 10, 10, 11, 10, 10, 11, 12, 10, 13, 10, 10, 10, 10, 11, 11, 10, 10, 10, 10, 11, 10, 10, 10, 10, 11, 11, 10, 10, 10, 10, 10, 10, 10, 10, 10, 10, 11, 10, 11, 10, 10, 11, 10, 10, 11, 11, 12, 11, 10, 11, 11, 10, 11, 10, 12, 10, 12, 10, 11, 10, 10, 10, 10, 10, 10, 11, 11, 11, 10, 10, 10, 10, 10, 10, 12, 11, 11, 12, 11, 11, 10, 13, 10, 11, 10, 10, 11, 10, 10, 10, 10, 11, 10, 10, 10, 13, 11, 12, 12, 10, 10, 10, 10, 10, 10, 11, 10, 12, 10, 10, 10, 10, 10, 10, 11, 10, 10, 11, 10, 10, 11, 10, 10, 11, 10, 10, 10, 12, 10, 10, 10, 11, 10, 10, 10, 10, 11, 11, 10, 10, 10, 10, 10, 10, 11, 12, 12, 11, 11, 10, 11, 10, 13, 10, 11, 10, 10, 11, 12, 11, 11, 10, 10, 10, 11, 11, 10, 10, 10, 10, 10, 10, 10, 10, 10, 10, 11, 10, 12, 11, 11, 10, 10, 11, 10, 10, 10, 10, 10, 12, 10, 10, 11, 10, 10, 10, 11, 11, 10, 10, 11, 10, 10, 10, 10, 10, 10, 10, 10, 10, 10, 10, 10, 10, 11, 10, 10, 10, 10, 10, 10, 10, 10, 11, 13, 12, 11, 11, 10, 10, 10, 11, 10, 10, 10, 11, 11, 10, 10, 10, 11, 10, 10, 11, 10, 10, 10, 10, 10, 10, 11, 10, 10, 10, 10, 10, 11, 11, 10, 10, 10, 10, 10, 10, 10, 10, 10, 10, 10, 10, 10, 10, 11, 10, 11, 11, 10, 10, 10, 10, 10, 10, 10, 10, 10, 10, 11, 11, 10, 13, 10, 11, 10, 10, 10, 10, 10, 11, 10, 12, 10, 10, 10, 10, 10, 10, 10, 10, 10, 11, 10, 11, 10, 10, 11, 10, 11, 10, 10, 10, 10, 10, 11, 11, 10, 10, 11, 10, 11, 12, 10, 10, 10, 10, 10, 12, 10, 11, 10, 10, 11, 10, 10, 10, 10, 11, 12, 11, 10, 10, 10, 10, 11, 10, 12, 10, 10, 11, 10, 10, 10, 10, 11, 10, 11, 10, 11, 11, 12, 10, 10, 10, 10, 10, 10, 10, 11, 10, 10, 11, 10, 11, 10, 11, 11, 11, 10, 10, 10, 10, 11, 10, 10, 10, 12, 12, 10, 10, 11, 12, 12, 10, 10, 10, 12, 10, 10, 10, 10, 10, 10, 10, 10, 10, 11, 10, 10, 10, 10, 10, 11, 11, 10, 10, 10, 10, 10, 10, 11, 10, 10, 10, 10, 10, 11, 10, 10, 10, 10, 11, 10, 11, 11, 10, 10, 10, 10, 10, 11, 10, 12, 11, 11, 11, 10, 10, 11, 10, 10, 10, 10, 10, 12, 10, 10, 10, 10, 10, 10, 10, 12, 10, 10, 10, 10, 12, 11, 10, 10, 10, 10, 10, 10, 10, 11, 10, 10, 10, 11, 10, 10, 10, 10, 10, 10, 10, 11, 11, 10, 10, 10, 10, 10, 10, 11, 11, 11, 10, 10, 10, 10, 10, 12, 13, 10, 10, 11, 11, 10, 10, 11, 10, 10, 10, 10, 11, 10, 10, 10, 12, 11, 10, 11, 11, 10, 10, 10, 11, 10, 10, 10, 10, 11, 13, 11, 12, 10, 10, 11, 10, 10, 11, 10, 11, 10, 10, 10, 10, 10, 10, 10, 10, 10, 10, 11, 11, 10, 10, 11, 10, 11, 11, 10, 11, 10, 10, 10, 11, 10, 10, 11, 11, 11, 10, 10, 10, 10, 12, 11, 10, 10, 10, 10, 10, 11, 10, 13, 10, 10, 10, 10, 10, 11, 12, 12, 10, 10, 10, 10, 10, 10, 11, 10, 10, 12, 11, 10, 10, 11, 10, 11, 11, 11, 10, 10, 10, 10, 10, 11, 10, 10, 11, 10, 11, 10, 10, 10, 10, 12, 10, 11, 10, 10, 11, 10, 11, 10, 10, 10, 11, 11, 11, 10, 12, 10, 10, 12, 10, 10, 10, 10, 12, 10, 10, 11, 10, 10, 11, 10, 11, 12, 10, 11, 10, 11, 11, 10, 12, 10, 10, 10, 10, 10, 10, 10, 11, 10, 12, 11, 10, 11, 10, 10, 11, 10, 10, 10, 11, 10, 12, 10, 10, 10, 10, 10, 10, 10, 10, 10, 12, 12, 10, 10, 10, 11, 11, 10, 10, 10, 10, 12, 10, 10, 10, 10, 10, 10, 11, 11, 10, 10, 10, 10, 11, 10, 10, 10, 10, 10, 10, 10, 10, 11, 12, 10, 10, 10, 10, 11, 10, 10, 10, 10, 10, 10, 10, 11, 11, 11, 10, 10, 10, 12, 10, 10, 10, 12, 10, 11, 10, 10, 11, 11, 11, 11, 10, 11, 11, 10, 10, 12, 10, 10, 10, 10, 10, 10, 10, 10, 10, 10, 10, 10, 10, 10, 10, 10, 10, 10, 11, 10, 10, 10, 11, 10, 10, 10, 10, 10, 11, 10, 10, 10, 10, 10, 11, 10, 10, 10, 10, 10, 11, 10, 11, 10, 10, 10, 10, 11, 10, 10, 11, 11, 10, 10, 10, 10, 10, 11, 11, 10, 10, 11, 11, 10, 10, 11, 12, 10, 10, 11, 10, 10, 10, 10, 11, 11, 10, 11, 10, 10, 11, 11, 11, 10, 11, 10, 10, 10, 11, 10, 10, 10, 11, 10, 10, 10, 10, 11, 10, 10, 11, 11, 11, 12, 10, 10, 10, 10, 11, 10, 10, 12, 12, 10, 10, 10, 10, 11, 10, 10, 10, 10, 11, 10, 11, 10, 10, 10, 12, 10, 11, 10, 10, 10, 10, 11, 10, 10, 10, 10, 10, 10, 10, 10, 10, 10, 13, 10, 10, 10, 11, 10, 12, 10, 10, 11, 10, 10, 10, 11, 11, 11, 11, 10, 11, 10, 11, 10, 10, 10, 10, 11, 10, 12, 10, 10, 10, 10, 10, 10, 10, 11, 10, 10, 10, 10, 11, 10, 11, 10, 10, 10, 10, 10, 11, 11, 10, 10, 10, 10, 10, 10, 10, 10, 10, 10, 11, 10, 10, 12, 11, 10, 11, 10, 10, 10, 11, 11, 10, 11, 10, 10, 10, 10, 10, 12, 10, 10, 10, 10, 10, 10, 10, 10, 10, 10, 10, 10, 10, 10, 10, 10, 10, 11, 11, 11, 10, 10, 10, 11, 11, 10, 11, 11, 11, 10, 10, 11, 10, 10, 10, 10, 10, 10, 10, 10, 10, 10, 10, 11, 10, 11, 10, 10, 10, 10, 11, 10, 10, 10, 11, 11, 11, 11, 10, 11, 10, 10, 10, 10, 10, 10, 10, 10, 12, 11, 10, 10, 11, 10, 10, 12, 10, 10, 10, 10, 10, 10, 10, 10, 11, 10, 10, 10, 11, 10, 10, 10, 10, 11, 10, 10, 11, 10, 10, 10, 10, 10, 10, 11, 10, 10, 10, 10, 11, 10, 10, 11, 11, 10, 10, 10, 10, 10, 10, 10, 11, 11, 11, 10, 11, 10, 10, 10, 10, 11, 11, 12, 10, 10, 10, 10, 10, 10, 10, 10, 10, 11, 10, 10, 10, 10, 10, 10, 10, 10, 10, 11, 10, 11, 10, 10, 10, 11, 11, 10, 10, 10, 11, 12, 10, 10, 10, 10, 10, 10, 10, 10, 10, 10, 10, 10, 11, 10, 10, 10, 10, 10, 10, 10, 10, 10, 12, 11, 10, 10, 10, 11, 11, 11, 10, 11, 11, 10, 10, 10, 10, 10, 11, 10, 10, 11]\n"
          ]
        }
      ],
      "source": [
        "# Tampilkan letak data outlier\n",
        "low_out = []\n",
        "high_out = []\n",
        "\n",
        "for i in df_new['grade']:\n",
        "    if (i < min_IQR):\n",
        "        low_out.append(i)\n",
        "    if (i > max_IQR):\n",
        "        high_out.append(i)\n",
        "\n",
        "print('Low outlier : \\n', low_out)\n",
        "print('High outlier : \\n', high_out)"
      ]
    },
    {
      "cell_type": "code",
      "execution_count": 101,
      "id": "2283df7d",
      "metadata": {
        "colab": {
          "base_uri": "https://localhost:8080/"
        },
        "id": "2283df7d",
        "outputId": "7f763230-ea64-490d-fe0d-30bff304fe4b"
      },
      "outputs": [
        {
          "output_type": "execute_result",
          "data": {
            "text/plain": [
              "array([ 7,  6,  8, 11,  9,  5, 10, 12,  4,  3, 13,  1])"
            ]
          },
          "metadata": {},
          "execution_count": 101
        }
      ],
      "source": [
        "df_new['grade'].unique()"
      ]
    },
    {
      "cell_type": "code",
      "execution_count": 102,
      "id": "a87ec925",
      "metadata": {
        "id": "a87ec925"
      },
      "outputs": [],
      "source": [
        "df_new['grade_cat'] = df.apply(\n",
        "    lambda x: 'Di atas 6' if x['grade'] > 6\n",
        "    else 'Di bawah 6', axis=1)"
      ]
    },
    {
      "cell_type": "code",
      "execution_count": 103,
      "id": "88b6d958",
      "metadata": {
        "colab": {
          "base_uri": "https://localhost:8080/"
        },
        "id": "88b6d958",
        "outputId": "a30add1e-60c4-4088-d7c8-941e70f37752"
      },
      "outputs": [
        {
          "output_type": "execute_result",
          "data": {
            "text/plain": [
              "Di atas 6     19300\n",
              "Di bawah 6     2313\n",
              "Name: grade_cat, dtype: int64"
            ]
          },
          "metadata": {},
          "execution_count": 103
        }
      ],
      "source": [
        "df_new['grade_cat'].value_counts()"
      ]
    },
    {
      "cell_type": "code",
      "execution_count": 104,
      "id": "18fbda46",
      "metadata": {
        "scrolled": false,
        "colab": {
          "base_uri": "https://localhost:8080/",
          "height": 342
        },
        "id": "18fbda46",
        "outputId": "86207f98-be56-4b42-f996-b8137bedd824"
      },
      "outputs": [
        {
          "output_type": "stream",
          "name": "stderr",
          "text": [
            "/usr/local/lib/python3.7/dist-packages/seaborn/_decorators.py:43: FutureWarning: Pass the following variable as a keyword arg: x. From version 0.12, the only valid positional argument will be `data`, and passing other arguments without an explicit keyword will result in an error or misinterpretation.\n",
            "  FutureWarning\n"
          ]
        },
        {
          "output_type": "display_data",
          "data": {
            "text/plain": [
              "<Figure size 1440x576 with 2 Axes>"
            ],
            "image/png": "[encoded data removed]"
          },
          "metadata": {}
        }
      ],
      "source": [
        "f = plt.figure(figsize=(20,8))\n",
        "\n",
        "sns.set(font_scale=1.1)\n",
        "\n",
        "f.add_subplot(1,2,1)\n",
        "p = sns.countplot(df_new['grade_cat'], palette='RdPu')\n",
        "plt.ylabel('Total', fontsize=16)\n",
        "plt.xlabel('Grade', fontsize=16)\n",
        "\n",
        "f.add_subplot(1,2,2)\n",
        "labels = df_new['grade_cat'].unique()\n",
        "colors = sns.color_palette('RdPu')\n",
        "\n",
        "grade = df_new['grade_cat'].value_counts()\n",
        "plt.pie(grade, labels=labels, autopct='%.0f%%', \n",
        "        explode=[0.25, 0], colors=colors, shadow=True, textprops={'fontsize': 16})\n",
        "    \n",
        "plt.show()"
      ]
    },
    {
      "cell_type": "code",
      "execution_count": 106,
      "id": "9c9688bb",
      "metadata": {
        "scrolled": true,
        "colab": {
          "base_uri": "https://localhost:8080/"
        },
        "id": "9c9688bb",
        "outputId": "c6271f32-05f0-46c4-e53b-ce9504fbff48"
      },
      "outputs": [
        {
          "output_type": "execute_result",
          "data": {
            "text/plain": [
              "array([1955, 1951, 1933, 1965, 1987, 2001, 1995, 1963, 1960, 2003, 1942,\n",
              "       1927, 1977, 1900, 1979, 1994, 1916, 1921, 1969, 1947, 1968, 1985,\n",
              "       1941, 1915, 1909, 1948, 2005, 1929, 1981, 1930, 1904, 1996, 2000,\n",
              "       1984, 2014, 1922, 1959, 1966, 1953, 1950, 2008, 1991, 1954, 1973,\n",
              "       1925, 1989, 1972, 1986, 1956, 2002, 1992, 1964, 1952, 1961, 2006,\n",
              "       1988, 1962, 1939, 1946, 1967, 1975, 1980, 1910, 1983, 1978, 1905,\n",
              "       1971, 2010, 1945, 1924, 1990, 1914, 1926, 2004, 1923, 2007, 1976,\n",
              "       1949, 1999, 1901, 1993, 1920, 1997, 1943, 1957, 1940, 1918, 1928,\n",
              "       1974, 1911, 1936, 1937, 1982, 1908, 1931, 1998, 1913, 2013, 1907,\n",
              "       1958, 2012, 1912, 2011, 1917, 1932, 1944, 1902, 2009, 1903, 1970,\n",
              "       2015, 1934, 1938, 1919, 1906, 1935])"
            ]
          },
          "metadata": {},
          "execution_count": 106
        }
      ],
      "source": [
        "#tahun properti dibangun\n",
        "df_new['yr_built'].unique()"
      ]
    },
    {
      "cell_type": "code",
      "execution_count": 107,
      "id": "1287f8a0",
      "metadata": {
        "id": "1287f8a0"
      },
      "outputs": [],
      "source": [
        "df_new['yr_built_cat'] = df.apply(\n",
        "    lambda x: 'Di atas tahun 2000' if x['yr_built'] > 2000\n",
        "    else 'Di bawah tahun 2000', axis=1)"
      ]
    },
    {
      "cell_type": "code",
      "execution_count": 108,
      "id": "08d7be1c",
      "metadata": {
        "colab": {
          "base_uri": "https://localhost:8080/"
        },
        "id": "08d7be1c",
        "outputId": "8ed955ed-2104-4f35-cbed-f3d52d78e879"
      },
      "outputs": [
        {
          "output_type": "execute_result",
          "data": {
            "text/plain": [
              "Di bawah tahun 2000    17072\n",
              "Di atas tahun 2000      4541\n",
              "Name: yr_built_cat, dtype: int64"
            ]
          },
          "metadata": {},
          "execution_count": 108
        }
      ],
      "source": [
        "df_new['yr_built_cat'].value_counts()"
      ]
    },
    {
      "cell_type": "code",
      "execution_count": 109,
      "id": "e49350b4",
      "metadata": {
        "colab": {
          "base_uri": "https://localhost:8080/",
          "height": 335
        },
        "id": "e49350b4",
        "outputId": "20ae3e06-0c7a-4d39-a8d6-ecc1e37bcff6"
      },
      "outputs": [
        {
          "output_type": "stream",
          "name": "stderr",
          "text": [
            "/usr/local/lib/python3.7/dist-packages/seaborn/_decorators.py:43: FutureWarning: Pass the following variable as a keyword arg: x. From version 0.12, the only valid positional argument will be `data`, and passing other arguments without an explicit keyword will result in an error or misinterpretation.\n",
            "  FutureWarning\n"
          ]
        },
        {
          "output_type": "display_data",
          "data": {
            "text/plain": [
              "<Figure size 1440x576 with 2 Axes>"
            ],
            "image/png": "[encoded data removed]"
          },
          "metadata": {}
        }
      ],
      "source": [
        "f = plt.figure(figsize=(20,8))\n",
        "\n",
        "sns.set(font_scale=1.1)\n",
        "\n",
        "f.add_subplot(1,2,1)\n",
        "p = sns.countplot(df_new['yr_built_cat'], palette='RdPu')\n",
        "plt.ylabel('Total', fontsize=16)\n",
        "plt.xlabel('Tahun Bangunan', fontsize=16)\n",
        "\n",
        "f.add_subplot(1,2,2)\n",
        "labels = df_new['yr_built_cat'].unique()\n",
        "colors = sns.color_palette('RdPu')\n",
        "\n",
        "grade = df_new['yr_built_cat'].value_counts()\n",
        "plt.pie(grade, labels=labels, autopct='%.0f%%', \n",
        "        explode=[0.25, 0], colors=colors, \n",
        "        shadow=True, textprops={'fontsize': 16})\n",
        "\n",
        "plt.show()"
      ]
    },
    {
      "cell_type": "code",
      "execution_count": 110,
      "id": "64da5e0f",
      "metadata": {
        "colab": {
          "base_uri": "https://localhost:8080/",
          "height": 258
        },
        "id": "64da5e0f",
        "outputId": "8977ff67-dab4-406d-ee7a-879a8f110c01"
      },
      "outputs": [
        {
          "output_type": "display_data",
          "data": {
            "text/plain": [
              "<Figure size 1440x1080 with 2 Axes>"
            ],
            "image/png": "[encoded data removed]"
          },
          "metadata": {}
        }
      ],
      "source": [
        "g = plt.figure(figsize=(20,15))\n",
        "\n",
        "sns.set(font_scale=1.1)\n",
        "\n",
        "g.add_subplot(2,2,1)\n",
        "df_new['yr_built'].hist(density=True, alpha=0.3)\n",
        "plt.ylabel('Density', fontsize=16)\n",
        "plt.xlabel('Tahun Bangunan', fontsize=16)\n",
        "\n",
        "g.add_subplot(2,2,2)\n",
        "plt.boxplot(df_new['yr_built'])\n",
        "\n",
        "plt.show()"
      ]
    },
    {
      "cell_type": "code",
      "execution_count": 111,
      "id": "3e6f3b7e",
      "metadata": {
        "colab": {
          "base_uri": "https://localhost:8080/"
        },
        "id": "3e6f3b7e",
        "outputId": "d6614aab-b6de-44bc-b878-ee7eb03d4dc9"
      },
      "outputs": [
        {
          "output_type": "stream",
          "name": "stdout",
          "text": [
            "Kuartil 1 =  1951.0\n",
            "Kuartil 2 =  1975.0\n",
            "Kuartil 3 =  1997.0\n",
            "IQR =  46.0\n",
            "IQR minimum =  1882.0\n",
            "IQR maksimum =  2066.0\n",
            "Nilai minimum data =  1900\n",
            "Nilai maksimum data =  2015\n"
          ]
        }
      ],
      "source": [
        "# Hitung nilai Q1 dan Q3\n",
        "Q1 = np.quantile(df_new['yr_built'], .25)\n",
        "Q2 = np.quantile(df_new['yr_built'], .50)\n",
        "Q3 = np.quantile(df_new['yr_built'], .75)\n",
        "IQR = Q3-Q1\n",
        "min_IQR = Q1-1.5*IQR\n",
        "max_IQR = Q3+1.5*IQR\n",
        "nilai_min = np.min(df_new['yr_built'])\n",
        "nilai_max = np.max(df_new['yr_built'])\n",
        "\n",
        "# Hitung nilai IQR\n",
        "print('Kuartil 1 = ', Q1)\n",
        "print('Kuartil 2 = ', Q2)\n",
        "print('Kuartil 3 = ', Q3)\n",
        "print('IQR = ', IQR)\n",
        "\n",
        "# Hitung min dan max IQR\n",
        "print('IQR minimum = ', min_IQR)\n",
        "print('IQR maksimum = ', max_IQR)\n",
        "\n",
        "# Hitung nilai min dan max data\n",
        "print('Nilai minimum data = ', nilai_min)\n",
        "print('Nilai maksimum data = ', nilai_max)"
      ]
    },
    {
      "cell_type": "code",
      "execution_count": 112,
      "id": "f6c778af",
      "metadata": {
        "colab": {
          "base_uri": "https://localhost:8080/"
        },
        "id": "f6c778af",
        "outputId": "7557b70a-d605-4afb-ba3b-57a73f229db8"
      },
      "outputs": [
        {
          "output_type": "stream",
          "name": "stdout",
          "text": [
            "Tidak ditemukan low outlier!\n",
            "Tidak ditemukan high outlier!\n"
          ]
        }
      ],
      "source": [
        "# Mendefinisikan outlier data\n",
        "if (nilai_min < min_IQR):\n",
        "    print('Ditemukan low outlier!')\n",
        "else:\n",
        "    print('Tidak ditemukan low outlier!')  \n",
        "\n",
        "if (nilai_max > max_IQR):\n",
        "    print('Ditemukan high outlier!')\n",
        "else:\n",
        "    print('Tidak ditemukan high outlier!')"
      ]
    },
    {
      "cell_type": "code",
      "execution_count": 113,
      "id": "dca74445",
      "metadata": {
        "colab": {
          "base_uri": "https://localhost:8080/"
        },
        "id": "dca74445",
        "outputId": "06305f3c-d259-451b-b40e-6c5c2ac0ee92"
      },
      "outputs": [
        {
          "output_type": "stream",
          "name": "stdout",
          "text": [
            "Low outlier : \n",
            " []\n",
            "High outlier : \n",
            " []\n"
          ]
        }
      ],
      "source": [
        "# Tampilkan letak data outlier\n",
        "low_out = []\n",
        "high_out = []\n",
        "\n",
        "for i in df_new['yr_built']:\n",
        "    if (i < min_IQR):\n",
        "        low_out.append(i)\n",
        "    if (i > max_IQR):\n",
        "        high_out.append(i)\n",
        "\n",
        "print('Low outlier : \\n', low_out)\n",
        "print('High outlier : \\n', high_out)"
      ]
    },
    {
      "cell_type": "code",
      "execution_count": 114,
      "id": "cf1acc5d",
      "metadata": {
        "colab": {
          "base_uri": "https://localhost:8080/",
          "height": 268
        },
        "id": "cf1acc5d",
        "outputId": "a2dcba40-cc17-49c6-d3c6-fb369e048552"
      },
      "outputs": [
        {
          "output_type": "stream",
          "name": "stderr",
          "text": [
            "/usr/local/lib/python3.7/dist-packages/seaborn/axisgrid.py:2076: UserWarning: The `size` parameter has been renamed to `height`; please update your code.\n",
            "  warnings.warn(msg, UserWarning)\n"
          ]
        },
        {
          "output_type": "display_data",
          "data": {
            "text/plain": [
              "<Figure size 720x576 with 0 Axes>"
            ]
          },
          "metadata": {}
        },
        {
          "output_type": "display_data",
          "data": {
            "text/plain": [
              "<Figure size 1350x360 with 5 Axes>"
            ],
            "image/png": "[encoded data removed]"
          },
          "metadata": {}
        }
      ],
      "source": [
        "plt.figure(figsize=(10,8))\n",
        "sns.pairplot(data=df_new, x_vars=['bedrooms', 'bathrooms', 'sqft_living', 'grade', 'yr_built'], y_vars=['price'], size=5, aspect=0.75)\n",
        "plt.show()"
      ]
    },
    {
      "cell_type": "code",
      "execution_count": 115,
      "id": "989ddb95",
      "metadata": {
        "colab": {
          "base_uri": "https://localhost:8080/",
          "height": 292
        },
        "id": "989ddb95",
        "outputId": "879324db-030f-459c-eb81-6308e85c2426"
      },
      "outputs": [
        {
          "output_type": "stream",
          "name": "stderr",
          "text": [
            "/usr/local/lib/python3.7/dist-packages/ipykernel_launcher.py:1: FutureWarning: this method is deprecated in favour of `Styler.format(precision=..)`\n",
            "  \"\"\"Entry point for launching an IPython kernel.\n"
          ]
        },
        {
          "output_type": "execute_result",
          "data": {
            "text/plain": [
              "<pandas.io.formats.style.Styler at 0x7f9dd0d8ccd0>"
            ],
            "text/html": [
              "<style type=\"text/css\">\n",
              "#T_36175_row0_col0, #T_36175_row1_col1, #T_36175_row2_col2, #T_36175_row3_col3, #T_36175_row4_col4, #T_36175_row5_col5 {\n",
              "  background-color: #023858;\n",
              "  color: #f1f1f1;\n",
              "}\n",
              "#T_36175_row0_col1 {\n",
              "  background-color: #e0dded;\n",
              "  color: #000000;\n",
              "}\n",
              "#T_36175_row0_col2 {\n",
              "  background-color: #eae6f1;\n",
              "  color: #000000;\n",
              "}\n",
              "#T_36175_row0_col3 {\n",
              "  background-color: #549cc7;\n",
              "  color: #f1f1f1;\n",
              "}\n",
              "#T_36175_row0_col4, #T_36175_row2_col0 {\n",
              "  background-color: #7bacd1;\n",
              "  color: #f1f1f1;\n",
              "}\n",
              "#T_36175_row0_col5, #T_36175_row1_col4, #T_36175_row5_col0, #T_36175_row5_col1, #T_36175_row5_col2, #T_36175_row5_col3 {\n",
              "  background-color: #fff7fb;\n",
              "  color: #000000;\n",
              "}\n",
              "#T_36175_row1_col0 {\n",
              "  background-color: #cacee5;\n",
              "  color: #000000;\n",
              "}\n",
              "#T_36175_row1_col2 {\n",
              "  background-color: #f6eff7;\n",
              "  color: #000000;\n",
              "}\n",
              "#T_36175_row1_col3 {\n",
              "  background-color: #a4bcda;\n",
              "  color: #000000;\n",
              "}\n",
              "#T_36175_row1_col5 {\n",
              "  background-color: #efe9f3;\n",
              "  color: #000000;\n",
              "}\n",
              "#T_36175_row2_col1 {\n",
              "  background-color: #a8bedc;\n",
              "  color: #000000;\n",
              "}\n",
              "#T_36175_row2_col3 {\n",
              "  background-color: #589ec8;\n",
              "  color: #f1f1f1;\n",
              "}\n",
              "#T_36175_row2_col4 {\n",
              "  background-color: #a1bbda;\n",
              "  color: #000000;\n",
              "}\n",
              "#T_36175_row2_col5 {\n",
              "  background-color: #9cb9d9;\n",
              "  color: #000000;\n",
              "}\n",
              "#T_36175_row3_col0 {\n",
              "  background-color: #1e80b8;\n",
              "  color: #f1f1f1;\n",
              "}\n",
              "#T_36175_row3_col1 {\n",
              "  background-color: #75a9cf;\n",
              "  color: #f1f1f1;\n",
              "}\n",
              "#T_36175_row3_col2 {\n",
              "  background-color: #81aed2;\n",
              "  color: #f1f1f1;\n",
              "}\n",
              "#T_36175_row3_col4 {\n",
              "  background-color: #348ebf;\n",
              "  color: #f1f1f1;\n",
              "}\n",
              "#T_36175_row3_col5 {\n",
              "  background-color: #c6cce3;\n",
              "  color: #000000;\n",
              "}\n",
              "#T_36175_row4_col0, #T_36175_row4_col3 {\n",
              "  background-color: #2c89bd;\n",
              "  color: #f1f1f1;\n",
              "}\n",
              "#T_36175_row4_col1 {\n",
              "  background-color: #d2d3e7;\n",
              "  color: #000000;\n",
              "}\n",
              "#T_36175_row4_col2 {\n",
              "  background-color: #bdc8e1;\n",
              "  color: #000000;\n",
              "}\n",
              "#T_36175_row4_col5 {\n",
              "  background-color: #96b6d7;\n",
              "  color: #000000;\n",
              "}\n",
              "#T_36175_row5_col4 {\n",
              "  background-color: #e9e5f1;\n",
              "  color: #000000;\n",
              "}\n",
              "</style>\n",
              "<table id=\"T_36175_\" class=\"dataframe\">\n",
              "  <thead>\n",
              "    <tr>\n",
              "      <th class=\"blank level0\" >&nbsp;</th>\n",
              "      <th class=\"col_heading level0 col0\" >price</th>\n",
              "      <th class=\"col_heading level0 col1\" >bedrooms</th>\n",
              "      <th class=\"col_heading level0 col2\" >bathrooms</th>\n",
              "      <th class=\"col_heading level0 col3\" >sqft_living</th>\n",
              "      <th class=\"col_heading level0 col4\" >grade</th>\n",
              "      <th class=\"col_heading level0 col5\" >yr_built</th>\n",
              "    </tr>\n",
              "  </thead>\n",
              "  <tbody>\n",
              "    <tr>\n",
              "      <th id=\"T_36175_level0_row0\" class=\"row_heading level0 row0\" >price</th>\n",
              "      <td id=\"T_36175_row0_col0\" class=\"data row0 col0\" >1.00</td>\n",
              "      <td id=\"T_36175_row0_col1\" class=\"data row0 col1\" >0.31</td>\n",
              "      <td id=\"T_36175_row0_col2\" class=\"data row0 col2\" >0.51</td>\n",
              "      <td id=\"T_36175_row0_col3\" class=\"data row0 col3\" >0.70</td>\n",
              "      <td id=\"T_36175_row0_col4\" class=\"data row0 col4\" >0.67</td>\n",
              "      <td id=\"T_36175_row0_col5\" class=\"data row0 col5\" >0.05</td>\n",
              "    </tr>\n",
              "    <tr>\n",
              "      <th id=\"T_36175_level0_row1\" class=\"row_heading level0 row1\" >bedrooms</th>\n",
              "      <td id=\"T_36175_row1_col0\" class=\"data row1 col0\" >0.31</td>\n",
              "      <td id=\"T_36175_row1_col1\" class=\"data row1 col1\" >1.00</td>\n",
              "      <td id=\"T_36175_row1_col2\" class=\"data row1 col2\" >0.47</td>\n",
              "      <td id=\"T_36175_row1_col3\" class=\"data row1 col3\" >0.58</td>\n",
              "      <td id=\"T_36175_row1_col4\" class=\"data row1 col4\" >0.36</td>\n",
              "      <td id=\"T_36175_row1_col5\" class=\"data row1 col5\" >0.15</td>\n",
              "    </tr>\n",
              "    <tr>\n",
              "      <th id=\"T_36175_level0_row2\" class=\"row_heading level0 row2\" >bathrooms</th>\n",
              "      <td id=\"T_36175_row2_col0\" class=\"data row2 col0\" >0.51</td>\n",
              "      <td id=\"T_36175_row2_col1\" class=\"data row2 col1\" >0.47</td>\n",
              "      <td id=\"T_36175_row2_col2\" class=\"data row2 col2\" >1.00</td>\n",
              "      <td id=\"T_36175_row2_col3\" class=\"data row2 col3\" >0.70</td>\n",
              "      <td id=\"T_36175_row2_col4\" class=\"data row2 col4\" >0.61</td>\n",
              "      <td id=\"T_36175_row2_col5\" class=\"data row2 col5\" >0.43</td>\n",
              "    </tr>\n",
              "    <tr>\n",
              "      <th id=\"T_36175_level0_row3\" class=\"row_heading level0 row3\" >sqft_living</th>\n",
              "      <td id=\"T_36175_row3_col0\" class=\"data row3 col0\" >0.70</td>\n",
              "      <td id=\"T_36175_row3_col1\" class=\"data row3 col1\" >0.58</td>\n",
              "      <td id=\"T_36175_row3_col2\" class=\"data row3 col2\" >0.70</td>\n",
              "      <td id=\"T_36175_row3_col3\" class=\"data row3 col3\" >1.00</td>\n",
              "      <td id=\"T_36175_row3_col4\" class=\"data row3 col4\" >0.76</td>\n",
              "      <td id=\"T_36175_row3_col5\" class=\"data row3 col5\" >0.32</td>\n",
              "    </tr>\n",
              "    <tr>\n",
              "      <th id=\"T_36175_level0_row4\" class=\"row_heading level0 row4\" >grade</th>\n",
              "      <td id=\"T_36175_row4_col0\" class=\"data row4 col0\" >0.67</td>\n",
              "      <td id=\"T_36175_row4_col1\" class=\"data row4 col1\" >0.36</td>\n",
              "      <td id=\"T_36175_row4_col2\" class=\"data row4 col2\" >0.61</td>\n",
              "      <td id=\"T_36175_row4_col3\" class=\"data row4 col3\" >0.76</td>\n",
              "      <td id=\"T_36175_row4_col4\" class=\"data row4 col4\" >1.00</td>\n",
              "      <td id=\"T_36175_row4_col5\" class=\"data row4 col5\" >0.45</td>\n",
              "    </tr>\n",
              "    <tr>\n",
              "      <th id=\"T_36175_level0_row5\" class=\"row_heading level0 row5\" >yr_built</th>\n",
              "      <td id=\"T_36175_row5_col0\" class=\"data row5 col0\" >0.05</td>\n",
              "      <td id=\"T_36175_row5_col1\" class=\"data row5 col1\" >0.15</td>\n",
              "      <td id=\"T_36175_row5_col2\" class=\"data row5 col2\" >0.43</td>\n",
              "      <td id=\"T_36175_row5_col3\" class=\"data row5 col3\" >0.32</td>\n",
              "      <td id=\"T_36175_row5_col4\" class=\"data row5 col4\" >0.45</td>\n",
              "      <td id=\"T_36175_row5_col5\" class=\"data row5 col5\" >1.00</td>\n",
              "    </tr>\n",
              "  </tbody>\n",
              "</table>\n"
            ]
          },
          "metadata": {},
          "execution_count": 115
        }
      ],
      "source": [
        "df_new.corr().style.background_gradient().set_precision(2)"
      ]
    },
    {
      "cell_type": "markdown",
      "source": [
        "**Variabel dengan korelasi tertinggi: grade,sqft_living, bathrooms, bedrooms **"
      ],
      "metadata": {
        "id": "rtIE2qndbVw3"
      },
      "id": "rtIE2qndbVw3"
    },
    {
      "cell_type": "markdown",
      "id": "94d3b581",
      "metadata": {
        "id": "94d3b581"
      },
      "source": [
        "## Machine Learning Modeling"
      ]
    },
    {
      "cell_type": "code",
      "execution_count": 116,
      "id": "5491ea12",
      "metadata": {
        "id": "5491ea12"
      },
      "outputs": [],
      "source": [
        "from sklearn.linear_model import LinearRegression\n",
        "from sklearn.feature_selection import RFE\n",
        "from sklearn.model_selection import train_test_split\n",
        "from sklearn import tree, linear_model"
      ]
    },
    {
      "cell_type": "code",
      "execution_count": 117,
      "id": "d2e2856b",
      "metadata": {
        "colab": {
          "base_uri": "https://localhost:8080/"
        },
        "id": "d2e2856b",
        "outputId": "ad58f31c-24b2-482e-c42f-b4c97cf88cae"
      },
      "outputs": [
        {
          "output_type": "execute_result",
          "data": {
            "text/plain": [
              "Index(['price', 'bedrooms', 'bathrooms', 'sqft_living', 'grade', 'yr_built',\n",
              "       'grade_cat', 'yr_built_cat'],\n",
              "      dtype='object')"
            ]
          },
          "metadata": {},
          "execution_count": 117
        }
      ],
      "source": [
        "df_new.columns"
      ]
    },
    {
      "cell_type": "code",
      "execution_count": 122,
      "id": "f7a78c8e",
      "metadata": {
        "colab": {
          "base_uri": "https://localhost:8080/",
          "height": 206
        },
        "id": "f7a78c8e",
        "outputId": "236f8988-90a0-41d0-fde5-336cd11a6378"
      },
      "outputs": [
        {
          "output_type": "execute_result",
          "data": {
            "text/plain": [
              "      price  bedrooms  bathrooms  sqft_living  grade  yr_built\n",
              "0  221900.0         3          1         1180      7      1955\n",
              "1  538000.0         3          2         2570      7      1951\n",
              "2  180000.0         2          1          770      6      1933\n",
              "3  604000.0         4          3         1960      7      1965\n",
              "4  510000.0         3          2         1680      8      1987"
            ],
            "text/html": [
              "\n",
              "  <div id=\"df-c74939f6-3b2f-4e7e-9ab7-9722100cc768\">\n",
              "    <div class=\"colab-df-container\">\n",
              "      <div>\n",
              "<style scoped>\n",
              "    .dataframe tbody tr th:only-of-type {\n",
              "        vertical-align: middle;\n",
              "    }\n",
              "\n",
              "    .dataframe tbody tr th {\n",
              "        vertical-align: top;\n",
              "    }\n",
              "\n",
              "    .dataframe thead th {\n",
              "        text-align: right;\n",
              "    }\n",
              "</style>\n",
              "<table border=\"1\" class=\"dataframe\">\n",
              "  <thead>\n",
              "    <tr style=\"text-align: right;\">\n",
              "      <th></th>\n",
              "      <th>price</th>\n",
              "      <th>bedrooms</th>\n",
              "      <th>bathrooms</th>\n",
              "      <th>sqft_living</th>\n",
              "      <th>grade</th>\n",
              "      <th>yr_built</th>\n",
              "    </tr>\n",
              "  </thead>\n",
              "  <tbody>\n",
              "    <tr>\n",
              "      <th>0</th>\n",
              "      <td>221900.0</td>\n",
              "      <td>3</td>\n",
              "      <td>1</td>\n",
              "      <td>1180</td>\n",
              "      <td>7</td>\n",
              "      <td>1955</td>\n",
              "    </tr>\n",
              "    <tr>\n",
              "      <th>1</th>\n",
              "      <td>538000.0</td>\n",
              "      <td>3</td>\n",
              "      <td>2</td>\n",
              "      <td>2570</td>\n",
              "      <td>7</td>\n",
              "      <td>1951</td>\n",
              "    </tr>\n",
              "    <tr>\n",
              "      <th>2</th>\n",
              "      <td>180000.0</td>\n",
              "      <td>2</td>\n",
              "      <td>1</td>\n",
              "      <td>770</td>\n",
              "      <td>6</td>\n",
              "      <td>1933</td>\n",
              "    </tr>\n",
              "    <tr>\n",
              "      <th>3</th>\n",
              "      <td>604000.0</td>\n",
              "      <td>4</td>\n",
              "      <td>3</td>\n",
              "      <td>1960</td>\n",
              "      <td>7</td>\n",
              "      <td>1965</td>\n",
              "    </tr>\n",
              "    <tr>\n",
              "      <th>4</th>\n",
              "      <td>510000.0</td>\n",
              "      <td>3</td>\n",
              "      <td>2</td>\n",
              "      <td>1680</td>\n",
              "      <td>8</td>\n",
              "      <td>1987</td>\n",
              "    </tr>\n",
              "  </tbody>\n",
              "</table>\n",
              "</div>\n",
              "      <button class=\"colab-df-convert\" onclick=\"convertToInteractive('df-c74939f6-3b2f-4e7e-9ab7-9722100cc768')\"\n",
              "              title=\"Convert this dataframe to an interactive table.\"\n",
              "              style=\"display:none;\">\n",
              "        \n",
              "  <svg xmlns=\"http://www.w3.org/2000/svg\" height=\"24px\"viewBox=\"0 0 24 24\"\n",
              "       width=\"24px\">\n",
              "    <path d=\"M0 0h24v24H0V0z\" fill=\"none\"/>\n",
              "    <path d=\"M18.56 5.44l.94 2.06.94-2.06 2.06-.94-2.06-.94-.94-2.06-.94 2.06-2.06.94zm-11 1L8.5 8.5l.94-2.06 2.06-.94-2.06-.94L8.5 2.5l-.94 2.06-2.06.94zm10 10l.94 2.06.94-2.06 2.06-.94-2.06-.94-.94-2.06-.94 2.06-2.06.94z\"/><path d=\"M17.41 7.96l-1.37-1.37c-.4-.4-.92-.59-1.43-.59-.52 0-1.04.2-1.43.59L10.3 9.45l-7.72 7.72c-.78.78-.78 2.05 0 2.83L4 21.41c.39.39.9.59 1.41.59.51 0 1.02-.2 1.41-.59l7.78-7.78 2.81-2.81c.8-.78.8-2.07 0-2.86zM5.41 20L4 18.59l7.72-7.72 1.47 1.35L5.41 20z\"/>\n",
              "  </svg>\n",
              "      </button>\n",
              "      \n",
              "  <style>\n",
              "    .colab-df-container {\n",
              "      display:flex;\n",
              "      flex-wrap:wrap;\n",
              "      gap: 12px;\n",
              "    }\n",
              "\n",
              "    .colab-df-convert {\n",
              "      background-color: #E8F0FE;\n",
              "      border: none;\n",
              "      border-radius: 50%;\n",
              "      cursor: pointer;\n",
              "      display: none;\n",
              "      fill: #1967D2;\n",
              "      height: 32px;\n",
              "      padding: 0 0 0 0;\n",
              "      width: 32px;\n",
              "    }\n",
              "\n",
              "    .colab-df-convert:hover {\n",
              "      background-color: #E2EBFA;\n",
              "      box-shadow: 0px 1px 2px rgba(60, 64, 67, 0.3), 0px 1px 3px 1px rgba(60, 64, 67, 0.15);\n",
              "      fill: #174EA6;\n",
              "    }\n",
              "\n",
              "    [theme=dark] .colab-df-convert {\n",
              "      background-color: #3B4455;\n",
              "      fill: #D2E3FC;\n",
              "    }\n",
              "\n",
              "    [theme=dark] .colab-df-convert:hover {\n",
              "      background-color: #434B5C;\n",
              "      box-shadow: 0px 1px 3px 1px rgba(0, 0, 0, 0.15);\n",
              "      filter: drop-shadow(0px 1px 2px rgba(0, 0, 0, 0.3));\n",
              "      fill: #FFFFFF;\n",
              "    }\n",
              "  </style>\n",
              "\n",
              "      <script>\n",
              "        const buttonEl =\n",
              "          document.querySelector('#df-c74939f6-3b2f-4e7e-9ab7-9722100cc768 button.colab-df-convert');\n",
              "        buttonEl.style.display =\n",
              "          google.colab.kernel.accessAllowed ? 'block' : 'none';\n",
              "\n",
              "        async function convertToInteractive(key) {\n",
              "          const element = document.querySelector('#df-c74939f6-3b2f-4e7e-9ab7-9722100cc768');\n",
              "          const dataTable =\n",
              "            await google.colab.kernel.invokeFunction('convertToInteractive',\n",
              "                                                     [key], {});\n",
              "          if (!dataTable) return;\n",
              "\n",
              "          const docLinkHtml = 'Like what you see? Visit the ' +\n",
              "            '<a target=\"_blank\" href=https://colab.research.google.com/notebooks/data_table.ipynb>data table notebook</a>'\n",
              "            + ' to learn more about interactive tables.';\n",
              "          element.innerHTML = '';\n",
              "          dataTable['output_type'] = 'display_data';\n",
              "          await google.colab.output.renderOutput(dataTable, element);\n",
              "          const docLink = document.createElement('div');\n",
              "          docLink.innerHTML = docLinkHtml;\n",
              "          element.appendChild(docLink);\n",
              "        }\n",
              "      </script>\n",
              "    </div>\n",
              "  </div>\n",
              "  "
            ]
          },
          "metadata": {},
          "execution_count": 122
        }
      ],
      "source": [
        "df_final = df_new.drop(columns=['grade_cat', 'yr_built_cat'])\n",
        "df_final.head()"
      ]
    },
    {
      "cell_type": "code",
      "execution_count": 123,
      "id": "b9a0be14",
      "metadata": {
        "id": "b9a0be14"
      },
      "outputs": [],
      "source": [
        "X = df_final.loc[:, df_final.columns != 'price']\n",
        "y = df_final['price']"
      ]
    },
    {
      "cell_type": "markdown",
      "id": "73c00fea",
      "metadata": {
        "id": "73c00fea"
      },
      "source": [
        "### Splitting data to train and test datasets"
      ]
    },
    {
      "cell_type": "code",
      "source": [
        "from sklearn.preprocessing import StandardScaler"
      ],
      "metadata": {
        "id": "g6tQe-SRIEIB"
      },
      "id": "g6tQe-SRIEIB",
      "execution_count": 124,
      "outputs": []
    },
    {
      "cell_type": "code",
      "execution_count": 125,
      "id": "ea51c3f7",
      "metadata": {
        "id": "ea51c3f7"
      },
      "outputs": [],
      "source": [
        "X_train, X_test, y_train, y_test = train_test_split(X, y, test_size=0.2, random_state=4)"
      ]
    },
    {
      "cell_type": "code",
      "execution_count": null,
      "id": "2c91547b",
      "metadata": {
        "scrolled": true,
        "colab": {
          "base_uri": "https://localhost:8080/"
        },
        "id": "2c91547b",
        "outputId": "b0726906-daf7-48ac-c968-f29e34004e4c"
      },
      "outputs": [
        {
          "output_type": "stream",
          "name": "stdout",
          "text": [
            "X_train\t: (17290, 5)\n",
            "y_train\t: (17290,)\n",
            "X_test\t: (4323, 5)\n",
            "y_test\t: (4323,)\n"
          ]
        }
      ],
      "source": [
        "print(\"X_train\\t:\", X_train.shape)\n",
        "print(\"y_train\\t:\", y_train.shape)\n",
        "print(\"X_test\\t:\", X_test.shape)\n",
        "print(\"y_test\\t:\", y_test.shape)"
      ]
    },
    {
      "cell_type": "markdown",
      "id": "db330516",
      "metadata": {
        "id": "db330516"
      },
      "source": [
        "### 1. Multiple Linear Regression"
      ]
    },
    {
      "cell_type": "code",
      "execution_count": 126,
      "id": "427bee80",
      "metadata": {
        "id": "427bee80"
      },
      "outputs": [],
      "source": [
        "linreg_model = LinearRegression()"
      ]
    },
    {
      "cell_type": "code",
      "execution_count": 127,
      "id": "44533259",
      "metadata": {
        "colab": {
          "base_uri": "https://localhost:8080/"
        },
        "id": "44533259",
        "outputId": "ca324e06-af94-4712-d208-264f891888d1"
      },
      "outputs": [
        {
          "output_type": "execute_result",
          "data": {
            "text/plain": [
              "LinearRegression()"
            ]
          },
          "metadata": {},
          "execution_count": 127
        }
      ],
      "source": [
        "linreg_model.fit(X_train, y_train)"
      ]
    },
    {
      "cell_type": "code",
      "execution_count": 128,
      "id": "c81c9060",
      "metadata": {
        "scrolled": true,
        "colab": {
          "base_uri": "https://localhost:8080/"
        },
        "id": "c81c9060",
        "outputId": "df195481-d9bb-48b6-f1c4-ee34f8d25979"
      },
      "outputs": [
        {
          "output_type": "stream",
          "name": "stdout",
          "text": [
            "Slope/koefisien (b) =\n",
            " [-47486.81155204  63376.05598502    185.36612637 132226.39440928\n",
            "  -3966.85481648]\n",
            "==========================================================\n",
            "Intercept (a) =\n",
            " 7009989.559774566\n"
          ]
        }
      ],
      "source": [
        "print(\"Slope/koefisien (b) =\\n\", linreg_model.coef_)\n",
        "print(\"==========================================================\")\n",
        "print(\"Intercept (a) =\\n\", linreg_model.intercept_)"
      ]
    },
    {
      "cell_type": "code",
      "execution_count": 129,
      "id": "e356a595",
      "metadata": {
        "colab": {
          "base_uri": "https://localhost:8080/",
          "height": 206
        },
        "id": "e356a595",
        "outputId": "df74f222-17b1-46db-f5ae-f67f12edd98d"
      },
      "outputs": [
        {
          "output_type": "execute_result",
          "data": {
            "text/plain": [
              "      features     coef_value\n",
              "0     bedrooms  -47486.811552\n",
              "1    bathrooms   63376.055985\n",
              "2  sqft_living     185.366126\n",
              "3        grade  132226.394409\n",
              "4     yr_built   -3966.854816"
            ],
            "text/html": [
              "\n",
              "  <div id=\"df-5ae3a003-6429-4a82-9d16-f749247f9295\">\n",
              "    <div class=\"colab-df-container\">\n",
              "      <div>\n",
              "<style scoped>\n",
              "    .dataframe tbody tr th:only-of-type {\n",
              "        vertical-align: middle;\n",
              "    }\n",
              "\n",
              "    .dataframe tbody tr th {\n",
              "        vertical-align: top;\n",
              "    }\n",
              "\n",
              "    .dataframe thead th {\n",
              "        text-align: right;\n",
              "    }\n",
              "</style>\n",
              "<table border=\"1\" class=\"dataframe\">\n",
              "  <thead>\n",
              "    <tr style=\"text-align: right;\">\n",
              "      <th></th>\n",
              "      <th>features</th>\n",
              "      <th>coef_value</th>\n",
              "    </tr>\n",
              "  </thead>\n",
              "  <tbody>\n",
              "    <tr>\n",
              "      <th>0</th>\n",
              "      <td>bedrooms</td>\n",
              "      <td>-47486.811552</td>\n",
              "    </tr>\n",
              "    <tr>\n",
              "      <th>1</th>\n",
              "      <td>bathrooms</td>\n",
              "      <td>63376.055985</td>\n",
              "    </tr>\n",
              "    <tr>\n",
              "      <th>2</th>\n",
              "      <td>sqft_living</td>\n",
              "      <td>185.366126</td>\n",
              "    </tr>\n",
              "    <tr>\n",
              "      <th>3</th>\n",
              "      <td>grade</td>\n",
              "      <td>132226.394409</td>\n",
              "    </tr>\n",
              "    <tr>\n",
              "      <th>4</th>\n",
              "      <td>yr_built</td>\n",
              "      <td>-3966.854816</td>\n",
              "    </tr>\n",
              "  </tbody>\n",
              "</table>\n",
              "</div>\n",
              "      <button class=\"colab-df-convert\" onclick=\"convertToInteractive('df-5ae3a003-6429-4a82-9d16-f749247f9295')\"\n",
              "              title=\"Convert this dataframe to an interactive table.\"\n",
              "              style=\"display:none;\">\n",
              "        \n",
              "  <svg xmlns=\"http://www.w3.org/2000/svg\" height=\"24px\"viewBox=\"0 0 24 24\"\n",
              "       width=\"24px\">\n",
              "    <path d=\"M0 0h24v24H0V0z\" fill=\"none\"/>\n",
              "    <path d=\"M18.56 5.44l.94 2.06.94-2.06 2.06-.94-2.06-.94-.94-2.06-.94 2.06-2.06.94zm-11 1L8.5 8.5l.94-2.06 2.06-.94-2.06-.94L8.5 2.5l-.94 2.06-2.06.94zm10 10l.94 2.06.94-2.06 2.06-.94-2.06-.94-.94-2.06-.94 2.06-2.06.94z\"/><path d=\"M17.41 7.96l-1.37-1.37c-.4-.4-.92-.59-1.43-.59-.52 0-1.04.2-1.43.59L10.3 9.45l-7.72 7.72c-.78.78-.78 2.05 0 2.83L4 21.41c.39.39.9.59 1.41.59.51 0 1.02-.2 1.41-.59l7.78-7.78 2.81-2.81c.8-.78.8-2.07 0-2.86zM5.41 20L4 18.59l7.72-7.72 1.47 1.35L5.41 20z\"/>\n",
              "  </svg>\n",
              "      </button>\n",
              "      \n",
              "  <style>\n",
              "    .colab-df-container {\n",
              "      display:flex;\n",
              "      flex-wrap:wrap;\n",
              "      gap: 12px;\n",
              "    }\n",
              "\n",
              "    .colab-df-convert {\n",
              "      background-color: #E8F0FE;\n",
              "      border: none;\n",
              "      border-radius: 50%;\n",
              "      cursor: pointer;\n",
              "      display: none;\n",
              "      fill: #1967D2;\n",
              "      height: 32px;\n",
              "      padding: 0 0 0 0;\n",
              "      width: 32px;\n",
              "    }\n",
              "\n",
              "    .colab-df-convert:hover {\n",
              "      background-color: #E2EBFA;\n",
              "      box-shadow: 0px 1px 2px rgba(60, 64, 67, 0.3), 0px 1px 3px 1px rgba(60, 64, 67, 0.15);\n",
              "      fill: #174EA6;\n",
              "    }\n",
              "\n",
              "    [theme=dark] .colab-df-convert {\n",
              "      background-color: #3B4455;\n",
              "      fill: #D2E3FC;\n",
              "    }\n",
              "\n",
              "    [theme=dark] .colab-df-convert:hover {\n",
              "      background-color: #434B5C;\n",
              "      box-shadow: 0px 1px 3px 1px rgba(0, 0, 0, 0.15);\n",
              "      filter: drop-shadow(0px 1px 2px rgba(0, 0, 0, 0.3));\n",
              "      fill: #FFFFFF;\n",
              "    }\n",
              "  </style>\n",
              "\n",
              "      <script>\n",
              "        const buttonEl =\n",
              "          document.querySelector('#df-5ae3a003-6429-4a82-9d16-f749247f9295 button.colab-df-convert');\n",
              "        buttonEl.style.display =\n",
              "          google.colab.kernel.accessAllowed ? 'block' : 'none';\n",
              "\n",
              "        async function convertToInteractive(key) {\n",
              "          const element = document.querySelector('#df-5ae3a003-6429-4a82-9d16-f749247f9295');\n",
              "          const dataTable =\n",
              "            await google.colab.kernel.invokeFunction('convertToInteractive',\n",
              "                                                     [key], {});\n",
              "          if (!dataTable) return;\n",
              "\n",
              "          const docLinkHtml = 'Like what you see? Visit the ' +\n",
              "            '<a target=\"_blank\" href=https://colab.research.google.com/notebooks/data_table.ipynb>data table notebook</a>'\n",
              "            + ' to learn more about interactive tables.';\n",
              "          element.innerHTML = '';\n",
              "          dataTable['output_type'] = 'display_data';\n",
              "          await google.colab.output.renderOutput(dataTable, element);\n",
              "          const docLink = document.createElement('div');\n",
              "          docLink.innerHTML = docLinkHtml;\n",
              "          element.appendChild(docLink);\n",
              "        }\n",
              "      </script>\n",
              "    </div>\n",
              "  </div>\n",
              "  "
            ]
          },
          "metadata": {},
          "execution_count": 129
        }
      ],
      "source": [
        "coef_dict = {\n",
        "    'features' : X.columns,\n",
        "    'coef_value' : linreg_model.coef_,\n",
        "}\n",
        "coef = pd.DataFrame(coef_dict, columns=['features', 'coef_value'])\n",
        "coef"
      ]
    },
    {
      "cell_type": "code",
      "execution_count": 130,
      "id": "05611b7b",
      "metadata": {
        "id": "05611b7b"
      },
      "outputs": [],
      "source": [
        "y_test_pred_linreg = linreg_model.predict(X_test)"
      ]
    },
    {
      "cell_type": "code",
      "execution_count": 131,
      "id": "8b116ded",
      "metadata": {
        "scrolled": false,
        "colab": {
          "base_uri": "https://localhost:8080/"
        },
        "id": "8b116ded",
        "outputId": "ad3d04cd-7ac4-4bd4-dcfc-49d5717f1d0b"
      },
      "outputs": [
        {
          "output_type": "stream",
          "name": "stdout",
          "text": [
            "R: 0.782872129516666\n",
            "R^2: 0.6128887711739595\n",
            "Adjusted R^2: 0.6124404144113627\n",
            "MAE: 145177.91247554787\n",
            "MSE: 50068666427.48913\n",
            "RMSE: 223760.2878696064\n",
            "MAPE: 30.021377621171375\n"
          ]
        }
      ],
      "source": [
        "# Model Evaluation\n",
        "acc_linreg = r2_score(y_test, y_test_pred_linreg)\n",
        "def mape_value(actual, pred): \n",
        "    actual, pred = np.array(actual), np.array(pred)\n",
        "    return np.mean(np.abs((actual - pred) / actual)) * 100\n",
        "\n",
        "print('R:', np.sqrt(acc_linreg))\n",
        "print('R^2:', acc_linreg)\n",
        "print('Adjusted R^2:', 1 - (1-r2_score(y_test, y_test_pred_linreg))*(len(y_test)-1)/(len(y_test)-X_test.shape[1]-1))\n",
        "print('MAE:', mean_absolute_error(y_test, y_test_pred_linreg))\n",
        "print('MSE:', mean_squared_error(y_test, y_test_pred_linreg))\n",
        "print('RMSE:', np.sqrt(mean_squared_error(y_test, y_test_pred_linreg)))\n",
        "print('MAPE:', mape_value(y_test, y_test_pred_linreg))"
      ]
    },
    {
      "cell_type": "markdown",
      "id": "de09d7c8",
      "metadata": {
        "id": "de09d7c8"
      },
      "source": [
        "### Prediction with Case Study (Multiple Linear Regression)"
      ]
    },
    {
      "cell_type": "markdown",
      "id": "00bad919",
      "metadata": {
        "id": "00bad919"
      },
      "source": [
        "Pada suatu hari, Hilman ingin membeli sebuah rumah. Namun, rumah yang dia inginkan setidaknya memenuhi kriteria sebagai berikut:\n",
        "1. bedrooms = 3\n",
        "2. bathrooms = 2\n",
        "3. sqft_living = 1818 sqft\n",
        "4. grade = 7\n",
        "5. yr_built = 2000"
      ]
    },
    {
      "cell_type": "code",
      "execution_count": 133,
      "id": "f6f72d04",
      "metadata": {
        "scrolled": true,
        "colab": {
          "base_uri": "https://localhost:8080/"
        },
        "id": "f6f72d04",
        "outputId": "a6453de1-63a5-4484-f510-4e2ee9ce9244"
      },
      "outputs": [
        {
          "output_type": "stream",
          "name": "stdout",
          "text": [
            "Jadi harga rumahnya yaitu = USD $[323151.98271886]\n"
          ]
        },
        {
          "output_type": "stream",
          "name": "stderr",
          "text": [
            "/usr/local/lib/python3.7/dist-packages/sklearn/base.py:451: UserWarning: X does not have valid feature names, but LinearRegression was fitted with feature names\n",
            "  \"X does not have valid feature names, but\"\n"
          ]
        }
      ],
      "source": [
        "harga_rumah = linreg_model.predict([[\n",
        "    3,\n",
        "    2,\n",
        "    1818,\n",
        "    7,\n",
        "    2000,\n",
        "]])\n",
        "print(f\"Jadi harga rumahnya yaitu = USD ${harga_rumah}\")"
      ]
    }
  ],
  "metadata": {
    "kernelspec": {
      "display_name": "Python 3 (ipykernel)",
      "language": "python",
      "name": "python3"
    },
    "language_info": {
      "codemirror_mode": {
        "name": "ipython",
        "version": 3
      },
      "file_extension": ".py",
      "mimetype": "text/x-python",
      "name": "python",
      "nbconvert_exporter": "python",
      "pygments_lexer": "ipython3",
      "version": "3.9.7"
    },
    "colab": {
      "provenance": [],
      "toc_visible": true,
      "collapsed_sections": [
        "263a1a75",
        "1ebd1c8f"
      ],
      "include_colab_link": true
    }
  },
  "nbformat": 4,
  "nbformat_minor": 5
}