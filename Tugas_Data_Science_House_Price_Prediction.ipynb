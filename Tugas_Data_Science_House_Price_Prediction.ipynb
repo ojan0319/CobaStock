{
  "cells": [
    {
      "cell_type": "markdown",
      "metadata": {
        "id": "view-in-github",
        "colab_type": "text"
      },
      "source": [
        "<a href=\"https://colab.research.google.com/github/ojan0319/HousePredict/blob/main/Tugas_Data_Science_House_Price_Prediction.ipynb\" target=\"_parent\"><img src=\"https://colab.research.google.com/assets/colab-badge.svg\" alt=\"Open In Colab\"/></a>"
      ]
    },
    {
      "cell_type": "markdown",
      "id": "89a1e033",
      "metadata": {
        "id": "89a1e033"
      },
      "source": [
        "## Import Library"
      ]
    },
    {
      "cell_type": "code",
      "execution_count": null,
      "id": "cceba71b",
      "metadata": {
        "id": "cceba71b"
      },
      "outputs": [],
      "source": [
        "import pandas as pd\n",
        "import numpy as np\n",
        "import matplotlib.pyplot as plt\n",
        "import seaborn as sns\n",
        "from tqdm import tqdm_notebook\n",
        "from sklearn.metrics import r2_score, mean_squared_error, mean_absolute_error"
      ]
    },
    {
      "cell_type": "markdown",
      "id": "0b8de2c9",
      "metadata": {
        "id": "0b8de2c9"
      },
      "source": [
        "## Load dataset"
      ]
    },
    {
      "cell_type": "code",
      "source": [
        "from google.colab import files\n",
        "uploaded = files.upload()"
      ],
      "metadata": {
        "colab": {
          "base_uri": "https://localhost:8080/",
          "height": 73
        },
        "id": "myru3cB8Jz9B",
        "outputId": "121c0ef4-74ea-4321-9e3a-fbb6e9a21991"
      },
      "id": "myru3cB8Jz9B",
      "execution_count": null,
      "outputs": [
        {
          "output_type": "display_data",
          "data": {
            "text/plain": [
              "<IPython.core.display.HTML object>"
            ],
            "text/html": [
              "\n",
              "     <input type=\"file\" id=\"files-d4e7cc73-df83-4bab-a69a-e279993d874a\" name=\"files[]\" multiple disabled\n",
              "        style=\"border:none\" />\n",
              "     <output id=\"result-d4e7cc73-df83-4bab-a69a-e279993d874a\">\n",
              "      Upload widget is only available when the cell has been executed in the\n",
              "      current browser session. Please rerun this cell to enable.\n",
              "      </output>\n",
              "      <script>// Copyright 2017 Google LLC\n",
              "//\n",
              "// Licensed under the Apache License, Version 2.0 (the \"License\");\n",
              "// you may not use this file except in compliance with the License.\n",
              "// You may obtain a copy of the License at\n",
              "//\n",
              "//      http://www.apache.org/licenses/LICENSE-2.0\n",
              "//\n",
              "// Unless required by applicable law or agreed to in writing, software\n",
              "// distributed under the License is distributed on an \"AS IS\" BASIS,\n",
              "// WITHOUT WARRANTIES OR CONDITIONS OF ANY KIND, either express or implied.\n",
              "// See the License for the specific language governing permissions and\n",
              "// limitations under the License.\n",
              "\n",
              "/**\n",
              " * @fileoverview Helpers for google.colab Python module.\n",
              " */\n",
              "(function(scope) {\n",
              "function span(text, styleAttributes = {}) {\n",
              "  const element = document.createElement('span');\n",
              "  element.textContent = text;\n",
              "  for (const key of Object.keys(styleAttributes)) {\n",
              "    element.style[key] = styleAttributes[key];\n",
              "  }\n",
              "  return element;\n",
              "}\n",
              "\n",
              "// Max number of bytes which will be uploaded at a time.\n",
              "const MAX_PAYLOAD_SIZE = 100 * 1024;\n",
              "\n",
              "function _uploadFiles(inputId, outputId) {\n",
              "  const steps = uploadFilesStep(inputId, outputId);\n",
              "  const outputElement = document.getElementById(outputId);\n",
              "  // Cache steps on the outputElement to make it available for the next call\n",
              "  // to uploadFilesContinue from Python.\n",
              "  outputElement.steps = steps;\n",
              "\n",
              "  return _uploadFilesContinue(outputId);\n",
              "}\n",
              "\n",
              "// This is roughly an async generator (not supported in the browser yet),\n",
              "// where there are multiple asynchronous steps and the Python side is going\n",
              "// to poll for completion of each step.\n",
              "// This uses a Promise to block the python side on completion of each step,\n",
              "// then passes the result of the previous step as the input to the next step.\n",
              "function _uploadFilesContinue(outputId) {\n",
              "  const outputElement = document.getElementById(outputId);\n",
              "  const steps = outputElement.steps;\n",
              "\n",
              "  const next = steps.next(outputElement.lastPromiseValue);\n",
              "  return Promise.resolve(next.value.promise).then((value) => {\n",
              "    // Cache the last promise value to make it available to the next\n",
              "    // step of the generator.\n",
              "    outputElement.lastPromiseValue = value;\n",
              "    return next.value.response;\n",
              "  });\n",
              "}\n",
              "\n",
              "/**\n",
              " * Generator function which is called between each async step of the upload\n",
              " * process.\n",
              " * @param {string} inputId Element ID of the input file picker element.\n",
              " * @param {string} outputId Element ID of the output display.\n",
              " * @return {!Iterable<!Object>} Iterable of next steps.\n",
              " */\n",
              "function* uploadFilesStep(inputId, outputId) {\n",
              "  const inputElement = document.getElementById(inputId);\n",
              "  inputElement.disabled = false;\n",
              "\n",
              "  const outputElement = document.getElementById(outputId);\n",
              "  outputElement.innerHTML = '';\n",
              "\n",
              "  const pickedPromise = new Promise((resolve) => {\n",
              "    inputElement.addEventListener('change', (e) => {\n",
              "      resolve(e.target.files);\n",
              "    });\n",
              "  });\n",
              "\n",
              "  const cancel = document.createElement('button');\n",
              "  inputElement.parentElement.appendChild(cancel);\n",
              "  cancel.textContent = 'Cancel upload';\n",
              "  const cancelPromise = new Promise((resolve) => {\n",
              "    cancel.onclick = () => {\n",
              "      resolve(null);\n",
              "    };\n",
              "  });\n",
              "\n",
              "  // Wait for the user to pick the files.\n",
              "  const files = yield {\n",
              "    promise: Promise.race([pickedPromise, cancelPromise]),\n",
              "    response: {\n",
              "      action: 'starting',\n",
              "    }\n",
              "  };\n",
              "\n",
              "  cancel.remove();\n",
              "\n",
              "  // Disable the input element since further picks are not allowed.\n",
              "  inputElement.disabled = true;\n",
              "\n",
              "  if (!files) {\n",
              "    return {\n",
              "      response: {\n",
              "        action: 'complete',\n",
              "      }\n",
              "    };\n",
              "  }\n",
              "\n",
              "  for (const file of files) {\n",
              "    const li = document.createElement('li');\n",
              "    li.append(span(file.name, {fontWeight: 'bold'}));\n",
              "    li.append(span(\n",
              "        `(${file.type || 'n/a'}) - ${file.size} bytes, ` +\n",
              "        `last modified: ${\n",
              "            file.lastModifiedDate ? file.lastModifiedDate.toLocaleDateString() :\n",
              "                                    'n/a'} - `));\n",
              "    const percent = span('0% done');\n",
              "    li.appendChild(percent);\n",
              "\n",
              "    outputElement.appendChild(li);\n",
              "\n",
              "    const fileDataPromise = new Promise((resolve) => {\n",
              "      const reader = new FileReader();\n",
              "      reader.onload = (e) => {\n",
              "        resolve(e.target.result);\n",
              "      };\n",
              "      reader.readAsArrayBuffer(file);\n",
              "    });\n",
              "    // Wait for the data to be ready.\n",
              "    let fileData = yield {\n",
              "      promise: fileDataPromise,\n",
              "      response: {\n",
              "        action: 'continue',\n",
              "      }\n",
              "    };\n",
              "\n",
              "    // Use a chunked sending to avoid message size limits. See b/62115660.\n",
              "    let position = 0;\n",
              "    do {\n",
              "      const length = Math.min(fileData.byteLength - position, MAX_PAYLOAD_SIZE);\n",
              "      const chunk = new Uint8Array(fileData, position, length);\n",
              "      position += length;\n",
              "\n",
              "      const base64 = btoa(String.fromCharCode.apply(null, chunk));\n",
              "      yield {\n",
              "        response: {\n",
              "          action: 'append',\n",
              "          file: file.name,\n",
              "          data: base64,\n",
              "        },\n",
              "      };\n",
              "\n",
              "      let percentDone = fileData.byteLength === 0 ?\n",
              "          100 :\n",
              "          Math.round((position / fileData.byteLength) * 100);\n",
              "      percent.textContent = `${percentDone}% done`;\n",
              "\n",
              "    } while (position < fileData.byteLength);\n",
              "  }\n",
              "\n",
              "  // All done.\n",
              "  yield {\n",
              "    response: {\n",
              "      action: 'complete',\n",
              "    }\n",
              "  };\n",
              "}\n",
              "\n",
              "scope.google = scope.google || {};\n",
              "scope.google.colab = scope.google.colab || {};\n",
              "scope.google.colab._files = {\n",
              "  _uploadFiles,\n",
              "  _uploadFilesContinue,\n",
              "};\n",
              "})(self);\n",
              "</script> "
            ]
          },
          "metadata": {}
        },
        {
          "output_type": "stream",
          "name": "stdout",
          "text": [
            "Saving kc_house_data.csv to kc_house_data.csv\n"
          ]
        }
      ]
    },
    {
      "cell_type": "code",
      "execution_count": null,
      "id": "3ff53966",
      "metadata": {
        "colab": {
          "base_uri": "https://localhost:8080/",
          "height": 300
        },
        "id": "3ff53966",
        "outputId": "d4ccd3f1-7e72-46e0-deb5-56b49594a57f"
      },
      "outputs": [
        {
          "output_type": "execute_result",
          "data": {
            "text/plain": [
              "           id             date     price  bedrooms  bathrooms  sqft_living  \\\n",
              "0  7129300520  20141013T000000  221900.0         3       1.00         1180   \n",
              "1  6414100192  20141209T000000  538000.0         3       2.25         2570   \n",
              "2  5631500400  20150225T000000  180000.0         2       1.00          770   \n",
              "3  2487200875  20141209T000000  604000.0         4       3.00         1960   \n",
              "4  1954400510  20150218T000000  510000.0         3       2.00         1680   \n",
              "\n",
              "   sqft_lot  floors  waterfront  view  ...  grade  sqft_above  sqft_basement  \\\n",
              "0      5650     1.0           0     0  ...      7      1180.0              0   \n",
              "1      7242     2.0           0     0  ...      7      2170.0            400   \n",
              "2     10000     1.0           0     0  ...      6       770.0              0   \n",
              "3      5000     1.0           0     0  ...      7      1050.0            910   \n",
              "4      8080     1.0           0     0  ...      8      1680.0              0   \n",
              "\n",
              "   yr_built  yr_renovated  zipcode      lat     long  sqft_living15  \\\n",
              "0      1955             0    98178  47.5112 -122.257           1340   \n",
              "1      1951          1991    98125  47.7210 -122.319           1690   \n",
              "2      1933             0    98028  47.7379 -122.233           2720   \n",
              "3      1965             0    98136  47.5208 -122.393           1360   \n",
              "4      1987             0    98074  47.6168 -122.045           1800   \n",
              "\n",
              "   sqft_lot15  \n",
              "0        5650  \n",
              "1        7639  \n",
              "2        8062  \n",
              "3        5000  \n",
              "4        7503  \n",
              "\n",
              "[5 rows x 21 columns]"
            ],
            "text/html": [
              "\n",
              "  <div id=\"df-0bc69b3f-ae9d-4281-9caa-426f05142c88\">\n",
              "    <div class=\"colab-df-container\">\n",
              "      <div>\n",
              "<style scoped>\n",
              "    .dataframe tbody tr th:only-of-type {\n",
              "        vertical-align: middle;\n",
              "    }\n",
              "\n",
              "    .dataframe tbody tr th {\n",
              "        vertical-align: top;\n",
              "    }\n",
              "\n",
              "    .dataframe thead th {\n",
              "        text-align: right;\n",
              "    }\n",
              "</style>\n",
              "<table border=\"1\" class=\"dataframe\">\n",
              "  <thead>\n",
              "    <tr style=\"text-align: right;\">\n",
              "      <th></th>\n",
              "      <th>id</th>\n",
              "      <th>date</th>\n",
              "      <th>price</th>\n",
              "      <th>bedrooms</th>\n",
              "      <th>bathrooms</th>\n",
              "      <th>sqft_living</th>\n",
              "      <th>sqft_lot</th>\n",
              "      <th>floors</th>\n",
              "      <th>waterfront</th>\n",
              "      <th>view</th>\n",
              "      <th>...</th>\n",
              "      <th>grade</th>\n",
              "      <th>sqft_above</th>\n",
              "      <th>sqft_basement</th>\n",
              "      <th>yr_built</th>\n",
              "      <th>yr_renovated</th>\n",
              "      <th>zipcode</th>\n",
              "      <th>lat</th>\n",
              "      <th>long</th>\n",
              "      <th>sqft_living15</th>\n",
              "      <th>sqft_lot15</th>\n",
              "    </tr>\n",
              "  </thead>\n",
              "  <tbody>\n",
              "    <tr>\n",
              "      <th>0</th>\n",
              "      <td>7129300520</td>\n",
              "      <td>20141013T000000</td>\n",
              "      <td>221900.0</td>\n",
              "      <td>3</td>\n",
              "      <td>1.00</td>\n",
              "      <td>1180</td>\n",
              "      <td>5650</td>\n",
              "      <td>1.0</td>\n",
              "      <td>0</td>\n",
              "      <td>0</td>\n",
              "      <td>...</td>\n",
              "      <td>7</td>\n",
              "      <td>1180.0</td>\n",
              "      <td>0</td>\n",
              "      <td>1955</td>\n",
              "      <td>0</td>\n",
              "      <td>98178</td>\n",
              "      <td>47.5112</td>\n",
              "      <td>-122.257</td>\n",
              "      <td>1340</td>\n",
              "      <td>5650</td>\n",
              "    </tr>\n",
              "    <tr>\n",
              "      <th>1</th>\n",
              "      <td>6414100192</td>\n",
              "      <td>20141209T000000</td>\n",
              "      <td>538000.0</td>\n",
              "      <td>3</td>\n",
              "      <td>2.25</td>\n",
              "      <td>2570</td>\n",
              "      <td>7242</td>\n",
              "      <td>2.0</td>\n",
              "      <td>0</td>\n",
              "      <td>0</td>\n",
              "      <td>...</td>\n",
              "      <td>7</td>\n",
              "      <td>2170.0</td>\n",
              "      <td>400</td>\n",
              "      <td>1951</td>\n",
              "      <td>1991</td>\n",
              "      <td>98125</td>\n",
              "      <td>47.7210</td>\n",
              "      <td>-122.319</td>\n",
              "      <td>1690</td>\n",
              "      <td>7639</td>\n",
              "    </tr>\n",
              "    <tr>\n",
              "      <th>2</th>\n",
              "      <td>5631500400</td>\n",
              "      <td>20150225T000000</td>\n",
              "      <td>180000.0</td>\n",
              "      <td>2</td>\n",
              "      <td>1.00</td>\n",
              "      <td>770</td>\n",
              "      <td>10000</td>\n",
              "      <td>1.0</td>\n",
              "      <td>0</td>\n",
              "      <td>0</td>\n",
              "      <td>...</td>\n",
              "      <td>6</td>\n",
              "      <td>770.0</td>\n",
              "      <td>0</td>\n",
              "      <td>1933</td>\n",
              "      <td>0</td>\n",
              "      <td>98028</td>\n",
              "      <td>47.7379</td>\n",
              "      <td>-122.233</td>\n",
              "      <td>2720</td>\n",
              "      <td>8062</td>\n",
              "    </tr>\n",
              "    <tr>\n",
              "      <th>3</th>\n",
              "      <td>2487200875</td>\n",
              "      <td>20141209T000000</td>\n",
              "      <td>604000.0</td>\n",
              "      <td>4</td>\n",
              "      <td>3.00</td>\n",
              "      <td>1960</td>\n",
              "      <td>5000</td>\n",
              "      <td>1.0</td>\n",
              "      <td>0</td>\n",
              "      <td>0</td>\n",
              "      <td>...</td>\n",
              "      <td>7</td>\n",
              "      <td>1050.0</td>\n",
              "      <td>910</td>\n",
              "      <td>1965</td>\n",
              "      <td>0</td>\n",
              "      <td>98136</td>\n",
              "      <td>47.5208</td>\n",
              "      <td>-122.393</td>\n",
              "      <td>1360</td>\n",
              "      <td>5000</td>\n",
              "    </tr>\n",
              "    <tr>\n",
              "      <th>4</th>\n",
              "      <td>1954400510</td>\n",
              "      <td>20150218T000000</td>\n",
              "      <td>510000.0</td>\n",
              "      <td>3</td>\n",
              "      <td>2.00</td>\n",
              "      <td>1680</td>\n",
              "      <td>8080</td>\n",
              "      <td>1.0</td>\n",
              "      <td>0</td>\n",
              "      <td>0</td>\n",
              "      <td>...</td>\n",
              "      <td>8</td>\n",
              "      <td>1680.0</td>\n",
              "      <td>0</td>\n",
              "      <td>1987</td>\n",
              "      <td>0</td>\n",
              "      <td>98074</td>\n",
              "      <td>47.6168</td>\n",
              "      <td>-122.045</td>\n",
              "      <td>1800</td>\n",
              "      <td>7503</td>\n",
              "    </tr>\n",
              "  </tbody>\n",
              "</table>\n",
              "<p>5 rows × 21 columns</p>\n",
              "</div>\n",
              "      <button class=\"colab-df-convert\" onclick=\"convertToInteractive('df-0bc69b3f-ae9d-4281-9caa-426f05142c88')\"\n",
              "              title=\"Convert this dataframe to an interactive table.\"\n",
              "              style=\"display:none;\">\n",
              "        \n",
              "  <svg xmlns=\"http://www.w3.org/2000/svg\" height=\"24px\"viewBox=\"0 0 24 24\"\n",
              "       width=\"24px\">\n",
              "    <path d=\"M0 0h24v24H0V0z\" fill=\"none\"/>\n",
              "    <path d=\"M18.56 5.44l.94 2.06.94-2.06 2.06-.94-2.06-.94-.94-2.06-.94 2.06-2.06.94zm-11 1L8.5 8.5l.94-2.06 2.06-.94-2.06-.94L8.5 2.5l-.94 2.06-2.06.94zm10 10l.94 2.06.94-2.06 2.06-.94-2.06-.94-.94-2.06-.94 2.06-2.06.94z\"/><path d=\"M17.41 7.96l-1.37-1.37c-.4-.4-.92-.59-1.43-.59-.52 0-1.04.2-1.43.59L10.3 9.45l-7.72 7.72c-.78.78-.78 2.05 0 2.83L4 21.41c.39.39.9.59 1.41.59.51 0 1.02-.2 1.41-.59l7.78-7.78 2.81-2.81c.8-.78.8-2.07 0-2.86zM5.41 20L4 18.59l7.72-7.72 1.47 1.35L5.41 20z\"/>\n",
              "  </svg>\n",
              "      </button>\n",
              "      \n",
              "  <style>\n",
              "    .colab-df-container {\n",
              "      display:flex;\n",
              "      flex-wrap:wrap;\n",
              "      gap: 12px;\n",
              "    }\n",
              "\n",
              "    .colab-df-convert {\n",
              "      background-color: #E8F0FE;\n",
              "      border: none;\n",
              "      border-radius: 50%;\n",
              "      cursor: pointer;\n",
              "      display: none;\n",
              "      fill: #1967D2;\n",
              "      height: 32px;\n",
              "      padding: 0 0 0 0;\n",
              "      width: 32px;\n",
              "    }\n",
              "\n",
              "    .colab-df-convert:hover {\n",
              "      background-color: #E2EBFA;\n",
              "      box-shadow: 0px 1px 2px rgba(60, 64, 67, 0.3), 0px 1px 3px 1px rgba(60, 64, 67, 0.15);\n",
              "      fill: #174EA6;\n",
              "    }\n",
              "\n",
              "    [theme=dark] .colab-df-convert {\n",
              "      background-color: #3B4455;\n",
              "      fill: #D2E3FC;\n",
              "    }\n",
              "\n",
              "    [theme=dark] .colab-df-convert:hover {\n",
              "      background-color: #434B5C;\n",
              "      box-shadow: 0px 1px 3px 1px rgba(0, 0, 0, 0.15);\n",
              "      filter: drop-shadow(0px 1px 2px rgba(0, 0, 0, 0.3));\n",
              "      fill: #FFFFFF;\n",
              "    }\n",
              "  </style>\n",
              "\n",
              "      <script>\n",
              "        const buttonEl =\n",
              "          document.querySelector('#df-0bc69b3f-ae9d-4281-9caa-426f05142c88 button.colab-df-convert');\n",
              "        buttonEl.style.display =\n",
              "          google.colab.kernel.accessAllowed ? 'block' : 'none';\n",
              "\n",
              "        async function convertToInteractive(key) {\n",
              "          const element = document.querySelector('#df-0bc69b3f-ae9d-4281-9caa-426f05142c88');\n",
              "          const dataTable =\n",
              "            await google.colab.kernel.invokeFunction('convertToInteractive',\n",
              "                                                     [key], {});\n",
              "          if (!dataTable) return;\n",
              "\n",
              "          const docLinkHtml = 'Like what you see? Visit the ' +\n",
              "            '<a target=\"_blank\" href=https://colab.research.google.com/notebooks/data_table.ipynb>data table notebook</a>'\n",
              "            + ' to learn more about interactive tables.';\n",
              "          element.innerHTML = '';\n",
              "          dataTable['output_type'] = 'display_data';\n",
              "          await google.colab.output.renderOutput(dataTable, element);\n",
              "          const docLink = document.createElement('div');\n",
              "          docLink.innerHTML = docLinkHtml;\n",
              "          element.appendChild(docLink);\n",
              "        }\n",
              "      </script>\n",
              "    </div>\n",
              "  </div>\n",
              "  "
            ]
          },
          "metadata": {},
          "execution_count": 4
        }
      ],
      "source": [
        "df = pd.read_csv('kc_house_data.csv')\n",
        "df.head()"
      ]
    },
    {
      "cell_type": "markdown",
      "id": "c19ba3e6",
      "metadata": {
        "id": "c19ba3e6"
      },
      "source": [
        "## Knowing the size of the dataset"
      ]
    },
    {
      "cell_type": "code",
      "execution_count": null,
      "id": "9daaa08f",
      "metadata": {
        "colab": {
          "base_uri": "https://localhost:8080/"
        },
        "id": "9daaa08f",
        "outputId": "6c62ad7c-03ba-419c-8487-44add6be9db9"
      },
      "outputs": [
        {
          "output_type": "execute_result",
          "data": {
            "text/plain": [
              "(21613, 21)"
            ]
          },
          "metadata": {},
          "execution_count": 5
        }
      ],
      "source": [
        "df.shape"
      ]
    },
    {
      "cell_type": "markdown",
      "id": "a8f167eb",
      "metadata": {
        "id": "a8f167eb"
      },
      "source": [
        "## Dataset information"
      ]
    },
    {
      "cell_type": "code",
      "execution_count": null,
      "id": "2784dc4d",
      "metadata": {
        "colab": {
          "base_uri": "https://localhost:8080/"
        },
        "id": "2784dc4d",
        "outputId": "998fe1ee-a8bf-45e9-9ac0-09318c91341b"
      },
      "outputs": [
        {
          "output_type": "stream",
          "name": "stdout",
          "text": [
            "<class 'pandas.core.frame.DataFrame'>\n",
            "RangeIndex: 21613 entries, 0 to 21612\n",
            "Data columns (total 21 columns):\n",
            " #   Column         Non-Null Count  Dtype  \n",
            "---  ------         --------------  -----  \n",
            " 0   id             21613 non-null  int64  \n",
            " 1   date           21613 non-null  object \n",
            " 2   price          21613 non-null  float64\n",
            " 3   bedrooms       21613 non-null  int64  \n",
            " 4   bathrooms      21613 non-null  float64\n",
            " 5   sqft_living    21613 non-null  int64  \n",
            " 6   sqft_lot       21613 non-null  int64  \n",
            " 7   floors         21613 non-null  float64\n",
            " 8   waterfront     21613 non-null  int64  \n",
            " 9   view           21613 non-null  int64  \n",
            " 10  condition      21613 non-null  int64  \n",
            " 11  grade          21613 non-null  int64  \n",
            " 12  sqft_above     21611 non-null  float64\n",
            " 13  sqft_basement  21613 non-null  int64  \n",
            " 14  yr_built       21613 non-null  int64  \n",
            " 15  yr_renovated   21613 non-null  int64  \n",
            " 16  zipcode        21613 non-null  int64  \n",
            " 17  lat            21613 non-null  float64\n",
            " 18  long           21613 non-null  float64\n",
            " 19  sqft_living15  21613 non-null  int64  \n",
            " 20  sqft_lot15     21613 non-null  int64  \n",
            "dtypes: float64(6), int64(14), object(1)\n",
            "memory usage: 3.5+ MB\n"
          ]
        }
      ],
      "source": [
        "df.info()"
      ]
    },
    {
      "cell_type": "markdown",
      "source": [
        "Fitur Kolom:\n",
        "1. id - ID unik untuk setiap rumah yang dijual\n",
        "2. date - Tanggal penjualan rumah\n",
        "3. price - Harga setiap rumah yang dijual\n",
        "4. bedrooms - Jumlah kamar tidur\n",
        "5. bathrooms - Jumlah kamar mandi, di mana nilai 0.5 berarti toilet tetapi tidak ada shower\n",
        "6. sqft_living - Luas persegi dari bangunan dalam\n",
        "7. sqft_lot - Luas persegi dari halaman\n",
        "8. floors - Jumlah lantai\n",
        "9. waterfront - Variabel tiruan untuk apakah apartemen itu menghadap ke tepi laut atau tidak\n",
        "10. view - Indeks dari 0 hingga 4 tentang seberapa bagus tampilan properti itu\n",
        "11. condition - Indeks dari 1 hingga 5 pada kondisi apartemen\n",
        "12. grade - Indeks dari 1 hingga 13, di mana 1-3 gagal dalam konstruksi dan desain bangunan, 7 memiliki tingkat konstruksi dan desain rata-rata, dan 11-13 memiliki tingkat kualitas konstruksi dan desain yang tinggi.\n",
        "13. sqft_above - Luas persegi dari lantai atas bangunan\n",
        "14. sqft_basement - Luas persegi dari bangunan bawah tanah\n",
        "15. yr_built - Tahun pertama rumah itu dibangun\n",
        "16. yr_renovated - Tahun renovasi terakhir rumah\n",
        "17. zipcode - Area kode pos di mana rumah itu berada\n",
        "18. lat - Lintang\n",
        "19. long - Bujur\n",
        "20. sqft_living15 - Luas persegi bangunan dalam dari 15 tetangga terdekat\n",
        "21. sqft_lot15 - Luas persegi halaman dari 15 tetangga terdekat\n"
      ],
      "metadata": {
        "id": "H75-OT9-q5Ot"
      },
      "id": "H75-OT9-q5Ot"
    },
    {
      "cell_type": "markdown",
      "id": "eaf9df0b",
      "metadata": {
        "id": "eaf9df0b"
      },
      "source": [
        "## Handling missing value"
      ]
    },
    {
      "cell_type": "code",
      "execution_count": null,
      "id": "92b2e5de",
      "metadata": {
        "scrolled": false,
        "colab": {
          "base_uri": "https://localhost:8080/"
        },
        "id": "92b2e5de",
        "outputId": "3473b522-67c5-42e7-f15a-7ad929c4b4ac"
      },
      "outputs": [
        {
          "output_type": "stream",
          "name": "stdout",
          "text": [
            "BEFORE HANDLING\n"
          ]
        },
        {
          "output_type": "execute_result",
          "data": {
            "text/plain": [
              "id               0\n",
              "date             0\n",
              "price            0\n",
              "bedrooms         0\n",
              "bathrooms        0\n",
              "sqft_living      0\n",
              "sqft_lot         0\n",
              "floors           0\n",
              "waterfront       0\n",
              "view             0\n",
              "condition        0\n",
              "grade            0\n",
              "sqft_above       2\n",
              "sqft_basement    0\n",
              "yr_built         0\n",
              "yr_renovated     0\n",
              "zipcode          0\n",
              "lat              0\n",
              "long             0\n",
              "sqft_living15    0\n",
              "sqft_lot15       0\n",
              "dtype: int64"
            ]
          },
          "metadata": {},
          "execution_count": 7
        }
      ],
      "source": [
        "print(\"BEFORE HANDLING\")\n",
        "df.isna().sum()"
      ]
    },
    {
      "cell_type": "code",
      "execution_count": null,
      "id": "54d12755",
      "metadata": {
        "colab": {
          "base_uri": "https://localhost:8080/"
        },
        "id": "54d12755",
        "outputId": "af211ff4-2bdd-4ebd-8167-149a7f4ba58c"
      },
      "outputs": [
        {
          "output_type": "stream",
          "name": "stdout",
          "text": [
            "AFTER HANDLING\n"
          ]
        },
        {
          "output_type": "execute_result",
          "data": {
            "text/plain": [
              "id               0\n",
              "date             0\n",
              "price            0\n",
              "bedrooms         0\n",
              "bathrooms        0\n",
              "sqft_living      0\n",
              "sqft_lot         0\n",
              "floors           0\n",
              "waterfront       0\n",
              "view             0\n",
              "condition        0\n",
              "grade            0\n",
              "sqft_above       0\n",
              "sqft_basement    0\n",
              "yr_built         0\n",
              "yr_renovated     0\n",
              "zipcode          0\n",
              "lat              0\n",
              "long             0\n",
              "sqft_living15    0\n",
              "sqft_lot15       0\n",
              "dtype: int64"
            ]
          },
          "metadata": {},
          "execution_count": 8
        }
      ],
      "source": [
        "print(\"AFTER HANDLING\")\n",
        "df.dropna(axis=0, inplace=True)\n",
        "df.isna().sum()"
      ]
    },
    {
      "cell_type": "markdown",
      "id": "2c346352",
      "metadata": {
        "id": "2c346352"
      },
      "source": [
        "## Handling duplicate data"
      ]
    },
    {
      "cell_type": "code",
      "execution_count": null,
      "id": "6addd139",
      "metadata": {
        "colab": {
          "base_uri": "https://localhost:8080/"
        },
        "id": "6addd139",
        "outputId": "0016230f-adaa-4d0a-dfc8-74d0d974bc52"
      },
      "outputs": [
        {
          "output_type": "execute_result",
          "data": {
            "text/plain": [
              "False"
            ]
          },
          "metadata": {},
          "execution_count": 9
        }
      ],
      "source": [
        "df.duplicated().any()"
      ]
    },
    {
      "cell_type": "code",
      "execution_count": null,
      "id": "bf252e60",
      "metadata": {
        "colab": {
          "base_uri": "https://localhost:8080/"
        },
        "id": "bf252e60",
        "outputId": "a3d3c602-e10a-492c-8262-7ed057830fd4"
      },
      "outputs": [
        {
          "output_type": "execute_result",
          "data": {
            "text/plain": [
              "0"
            ]
          },
          "metadata": {},
          "execution_count": 10
        }
      ],
      "source": [
        "df.duplicated().sum()"
      ]
    },
    {
      "cell_type": "code",
      "execution_count": null,
      "id": "a23ebea2",
      "metadata": {
        "id": "a23ebea2"
      },
      "outputs": [],
      "source": [
        "df.drop_duplicates(inplace=True)"
      ]
    },
    {
      "cell_type": "markdown",
      "id": "263a1a75",
      "metadata": {
        "id": "263a1a75"
      },
      "source": [
        "## Data Preprocessing"
      ]
    },
    {
      "cell_type": "code",
      "execution_count": null,
      "id": "96ab8663",
      "metadata": {
        "id": "96ab8663"
      },
      "outputs": [],
      "source": [
        "nums = [data for data in dict(df.dtypes) if dict(df.dtypes)[data] in ['float64', 'int64']]\n",
        "strs = [data for data in dict(df.dtypes) if dict(df.dtypes)[data] in ['object']]"
      ]
    },
    {
      "cell_type": "code",
      "execution_count": null,
      "id": "f17209bb",
      "metadata": {
        "scrolled": true,
        "colab": {
          "base_uri": "https://localhost:8080/",
          "height": 677
        },
        "id": "f17209bb",
        "outputId": "53b61f7a-8f96-4c54-efba-9c0adfe71911"
      },
      "outputs": [
        {
          "output_type": "execute_result",
          "data": {
            "text/plain": [
              "<pandas.io.formats.style.Styler at 0x7fddcbac7b90>"
            ],
            "text/html": [
              "<style type=\"text/css\">\n",
              "#T_f8d9e_row0_col1 {\n",
              "  width: 10em;\n",
              "  height: 80%;\n",
              "  background: linear-gradient(90deg,#606ff2 100.0%, transparent 100.0%);\n",
              "}\n",
              "#T_f8d9e_row0_col2, #T_f8d9e_row0_col5 {\n",
              "  background-color: #023858;\n",
              "  color: #f1f1f1;\n",
              "}\n",
              "#T_f8d9e_row1_col1, #T_f8d9e_row2_col1, #T_f8d9e_row3_col1, #T_f8d9e_row4_col1, #T_f8d9e_row5_col1, #T_f8d9e_row6_col1, #T_f8d9e_row7_col1, #T_f8d9e_row8_col1, #T_f8d9e_row9_col1, #T_f8d9e_row10_col1, #T_f8d9e_row11_col1, #T_f8d9e_row12_col1, #T_f8d9e_row13_col1, #T_f8d9e_row14_col1, #T_f8d9e_row15_col1, #T_f8d9e_row16_col1, #T_f8d9e_row18_col1, #T_f8d9e_row19_col1 {\n",
              "  width: 10em;\n",
              "  height: 80%;\n",
              "  background: linear-gradient(90deg,#606ff2 0.0%, transparent 0.0%);\n",
              "}\n",
              "#T_f8d9e_row1_col2, #T_f8d9e_row1_col5, #T_f8d9e_row2_col2, #T_f8d9e_row2_col5, #T_f8d9e_row3_col2, #T_f8d9e_row3_col5, #T_f8d9e_row4_col2, #T_f8d9e_row4_col5, #T_f8d9e_row5_col2, #T_f8d9e_row5_col5, #T_f8d9e_row6_col2, #T_f8d9e_row6_col5, #T_f8d9e_row7_col2, #T_f8d9e_row7_col5, #T_f8d9e_row8_col2, #T_f8d9e_row8_col5, #T_f8d9e_row9_col2, #T_f8d9e_row9_col5, #T_f8d9e_row10_col2, #T_f8d9e_row10_col5, #T_f8d9e_row11_col2, #T_f8d9e_row11_col5, #T_f8d9e_row12_col2, #T_f8d9e_row12_col5, #T_f8d9e_row13_col2, #T_f8d9e_row13_col5, #T_f8d9e_row14_col2, #T_f8d9e_row14_col5, #T_f8d9e_row15_col2, #T_f8d9e_row15_col5, #T_f8d9e_row16_col2, #T_f8d9e_row16_col5, #T_f8d9e_row17_col2, #T_f8d9e_row17_col5, #T_f8d9e_row18_col2, #T_f8d9e_row18_col5, #T_f8d9e_row19_col2, #T_f8d9e_row19_col5 {\n",
              "  background-color: #fff7fb;\n",
              "  color: #000000;\n",
              "}\n",
              "#T_f8d9e_row17_col1 {\n",
              "  width: 10em;\n",
              "  height: 80%;\n",
              "}\n",
              "</style>\n",
              "<table id=\"T_f8d9e_\" class=\"dataframe\">\n",
              "  <thead>\n",
              "    <tr>\n",
              "      <th class=\"blank level0\" >&nbsp;</th>\n",
              "      <th class=\"col_heading level0 col0\" >count</th>\n",
              "      <th class=\"col_heading level0 col1\" >mean</th>\n",
              "      <th class=\"col_heading level0 col2\" >std</th>\n",
              "      <th class=\"col_heading level0 col3\" >min</th>\n",
              "      <th class=\"col_heading level0 col4\" >25%</th>\n",
              "      <th class=\"col_heading level0 col5\" >50%</th>\n",
              "      <th class=\"col_heading level0 col6\" >75%</th>\n",
              "      <th class=\"col_heading level0 col7\" >max</th>\n",
              "    </tr>\n",
              "  </thead>\n",
              "  <tbody>\n",
              "    <tr>\n",
              "      <th id=\"T_f8d9e_level0_row0\" class=\"row_heading level0 row0\" >id</th>\n",
              "      <td id=\"T_f8d9e_row0_col0\" class=\"data row0 col0\" >21611.000000</td>\n",
              "      <td id=\"T_f8d9e_row0_col1\" class=\"data row0 col1\" >4580327368.923002</td>\n",
              "      <td id=\"T_f8d9e_row0_col2\" class=\"data row0 col2\" >2876591655.896095</td>\n",
              "      <td id=\"T_f8d9e_row0_col3\" class=\"data row0 col3\" >1000102.000000</td>\n",
              "      <td id=\"T_f8d9e_row0_col4\" class=\"data row0 col4\" >2123049307.000000</td>\n",
              "      <td id=\"T_f8d9e_row0_col5\" class=\"data row0 col5\" >3904930410.000000</td>\n",
              "      <td id=\"T_f8d9e_row0_col6\" class=\"data row0 col6\" >7308900467.500000</td>\n",
              "      <td id=\"T_f8d9e_row0_col7\" class=\"data row0 col7\" >9900000190.000000</td>\n",
              "    </tr>\n",
              "    <tr>\n",
              "      <th id=\"T_f8d9e_level0_row1\" class=\"row_heading level0 row1\" >price</th>\n",
              "      <td id=\"T_f8d9e_row1_col0\" class=\"data row1 col0\" >21611.000000</td>\n",
              "      <td id=\"T_f8d9e_row1_col1\" class=\"data row1 col1\" >540085.026514</td>\n",
              "      <td id=\"T_f8d9e_row1_col2\" class=\"data row1 col2\" >367143.049258</td>\n",
              "      <td id=\"T_f8d9e_row1_col3\" class=\"data row1 col3\" >75000.000000</td>\n",
              "      <td id=\"T_f8d9e_row1_col4\" class=\"data row1 col4\" >321725.000000</td>\n",
              "      <td id=\"T_f8d9e_row1_col5\" class=\"data row1 col5\" >450000.000000</td>\n",
              "      <td id=\"T_f8d9e_row1_col6\" class=\"data row1 col6\" >645000.000000</td>\n",
              "      <td id=\"T_f8d9e_row1_col7\" class=\"data row1 col7\" >7700000.000000</td>\n",
              "    </tr>\n",
              "    <tr>\n",
              "      <th id=\"T_f8d9e_level0_row2\" class=\"row_heading level0 row2\" >bedrooms</th>\n",
              "      <td id=\"T_f8d9e_row2_col0\" class=\"data row2 col0\" >21611.000000</td>\n",
              "      <td id=\"T_f8d9e_row2_col1\" class=\"data row2 col1\" >3.370830</td>\n",
              "      <td id=\"T_f8d9e_row2_col2\" class=\"data row2 col2\" >0.930092</td>\n",
              "      <td id=\"T_f8d9e_row2_col3\" class=\"data row2 col3\" >0.000000</td>\n",
              "      <td id=\"T_f8d9e_row2_col4\" class=\"data row2 col4\" >3.000000</td>\n",
              "      <td id=\"T_f8d9e_row2_col5\" class=\"data row2 col5\" >3.000000</td>\n",
              "      <td id=\"T_f8d9e_row2_col6\" class=\"data row2 col6\" >4.000000</td>\n",
              "      <td id=\"T_f8d9e_row2_col7\" class=\"data row2 col7\" >33.000000</td>\n",
              "    </tr>\n",
              "    <tr>\n",
              "      <th id=\"T_f8d9e_level0_row3\" class=\"row_heading level0 row3\" >bathrooms</th>\n",
              "      <td id=\"T_f8d9e_row3_col0\" class=\"data row3 col0\" >21611.000000</td>\n",
              "      <td id=\"T_f8d9e_row3_col1\" class=\"data row3 col1\" >2.114791</td>\n",
              "      <td id=\"T_f8d9e_row3_col2\" class=\"data row3 col2\" >0.770157</td>\n",
              "      <td id=\"T_f8d9e_row3_col3\" class=\"data row3 col3\" >0.000000</td>\n",
              "      <td id=\"T_f8d9e_row3_col4\" class=\"data row3 col4\" >1.750000</td>\n",
              "      <td id=\"T_f8d9e_row3_col5\" class=\"data row3 col5\" >2.250000</td>\n",
              "      <td id=\"T_f8d9e_row3_col6\" class=\"data row3 col6\" >2.500000</td>\n",
              "      <td id=\"T_f8d9e_row3_col7\" class=\"data row3 col7\" >8.000000</td>\n",
              "    </tr>\n",
              "    <tr>\n",
              "      <th id=\"T_f8d9e_level0_row4\" class=\"row_heading level0 row4\" >sqft_living</th>\n",
              "      <td id=\"T_f8d9e_row4_col0\" class=\"data row4 col0\" >21611.000000</td>\n",
              "      <td id=\"T_f8d9e_row4_col1\" class=\"data row4 col1\" >2079.853454</td>\n",
              "      <td id=\"T_f8d9e_row4_col2\" class=\"data row4 col2\" >918.422406</td>\n",
              "      <td id=\"T_f8d9e_row4_col3\" class=\"data row4 col3\" >290.000000</td>\n",
              "      <td id=\"T_f8d9e_row4_col4\" class=\"data row4 col4\" >1426.000000</td>\n",
              "      <td id=\"T_f8d9e_row4_col5\" class=\"data row4 col5\" >1910.000000</td>\n",
              "      <td id=\"T_f8d9e_row4_col6\" class=\"data row4 col6\" >2550.000000</td>\n",
              "      <td id=\"T_f8d9e_row4_col7\" class=\"data row4 col7\" >13540.000000</td>\n",
              "    </tr>\n",
              "    <tr>\n",
              "      <th id=\"T_f8d9e_level0_row5\" class=\"row_heading level0 row5\" >sqft_lot</th>\n",
              "      <td id=\"T_f8d9e_row5_col0\" class=\"data row5 col0\" >21611.000000</td>\n",
              "      <td id=\"T_f8d9e_row5_col1\" class=\"data row5 col1\" >15107.713387</td>\n",
              "      <td id=\"T_f8d9e_row5_col2\" class=\"data row5 col2\" >41422.347202</td>\n",
              "      <td id=\"T_f8d9e_row5_col3\" class=\"data row5 col3\" >520.000000</td>\n",
              "      <td id=\"T_f8d9e_row5_col4\" class=\"data row5 col4\" >5040.000000</td>\n",
              "      <td id=\"T_f8d9e_row5_col5\" class=\"data row5 col5\" >7618.000000</td>\n",
              "      <td id=\"T_f8d9e_row5_col6\" class=\"data row5 col6\" >10688.500000</td>\n",
              "      <td id=\"T_f8d9e_row5_col7\" class=\"data row5 col7\" >1651359.000000</td>\n",
              "    </tr>\n",
              "    <tr>\n",
              "      <th id=\"T_f8d9e_level0_row6\" class=\"row_heading level0 row6\" >floors</th>\n",
              "      <td id=\"T_f8d9e_row6_col0\" class=\"data row6 col0\" >21611.000000</td>\n",
              "      <td id=\"T_f8d9e_row6_col1\" class=\"data row6 col1\" >1.494332</td>\n",
              "      <td id=\"T_f8d9e_row6_col2\" class=\"data row6 col2\" >0.540003</td>\n",
              "      <td id=\"T_f8d9e_row6_col3\" class=\"data row6 col3\" >1.000000</td>\n",
              "      <td id=\"T_f8d9e_row6_col4\" class=\"data row6 col4\" >1.000000</td>\n",
              "      <td id=\"T_f8d9e_row6_col5\" class=\"data row6 col5\" >1.500000</td>\n",
              "      <td id=\"T_f8d9e_row6_col6\" class=\"data row6 col6\" >2.000000</td>\n",
              "      <td id=\"T_f8d9e_row6_col7\" class=\"data row6 col7\" >3.500000</td>\n",
              "    </tr>\n",
              "    <tr>\n",
              "      <th id=\"T_f8d9e_level0_row7\" class=\"row_heading level0 row7\" >waterfront</th>\n",
              "      <td id=\"T_f8d9e_row7_col0\" class=\"data row7 col0\" >21611.000000</td>\n",
              "      <td id=\"T_f8d9e_row7_col1\" class=\"data row7 col1\" >0.007542</td>\n",
              "      <td id=\"T_f8d9e_row7_col2\" class=\"data row7 col2\" >0.086521</td>\n",
              "      <td id=\"T_f8d9e_row7_col3\" class=\"data row7 col3\" >0.000000</td>\n",
              "      <td id=\"T_f8d9e_row7_col4\" class=\"data row7 col4\" >0.000000</td>\n",
              "      <td id=\"T_f8d9e_row7_col5\" class=\"data row7 col5\" >0.000000</td>\n",
              "      <td id=\"T_f8d9e_row7_col6\" class=\"data row7 col6\" >0.000000</td>\n",
              "      <td id=\"T_f8d9e_row7_col7\" class=\"data row7 col7\" >1.000000</td>\n",
              "    </tr>\n",
              "    <tr>\n",
              "      <th id=\"T_f8d9e_level0_row8\" class=\"row_heading level0 row8\" >view</th>\n",
              "      <td id=\"T_f8d9e_row8_col0\" class=\"data row8 col0\" >21611.000000</td>\n",
              "      <td id=\"T_f8d9e_row8_col1\" class=\"data row8 col1\" >0.234325</td>\n",
              "      <td id=\"T_f8d9e_row8_col2\" class=\"data row8 col2\" >0.766350</td>\n",
              "      <td id=\"T_f8d9e_row8_col3\" class=\"data row8 col3\" >0.000000</td>\n",
              "      <td id=\"T_f8d9e_row8_col4\" class=\"data row8 col4\" >0.000000</td>\n",
              "      <td id=\"T_f8d9e_row8_col5\" class=\"data row8 col5\" >0.000000</td>\n",
              "      <td id=\"T_f8d9e_row8_col6\" class=\"data row8 col6\" >0.000000</td>\n",
              "      <td id=\"T_f8d9e_row8_col7\" class=\"data row8 col7\" >4.000000</td>\n",
              "    </tr>\n",
              "    <tr>\n",
              "      <th id=\"T_f8d9e_level0_row9\" class=\"row_heading level0 row9\" >condition</th>\n",
              "      <td id=\"T_f8d9e_row9_col0\" class=\"data row9 col0\" >21611.000000</td>\n",
              "      <td id=\"T_f8d9e_row9_col1\" class=\"data row9 col1\" >3.409421</td>\n",
              "      <td id=\"T_f8d9e_row9_col2\" class=\"data row9 col2\" >0.650755</td>\n",
              "      <td id=\"T_f8d9e_row9_col3\" class=\"data row9 col3\" >1.000000</td>\n",
              "      <td id=\"T_f8d9e_row9_col4\" class=\"data row9 col4\" >3.000000</td>\n",
              "      <td id=\"T_f8d9e_row9_col5\" class=\"data row9 col5\" >3.000000</td>\n",
              "      <td id=\"T_f8d9e_row9_col6\" class=\"data row9 col6\" >4.000000</td>\n",
              "      <td id=\"T_f8d9e_row9_col7\" class=\"data row9 col7\" >5.000000</td>\n",
              "    </tr>\n",
              "    <tr>\n",
              "      <th id=\"T_f8d9e_level0_row10\" class=\"row_heading level0 row10\" >grade</th>\n",
              "      <td id=\"T_f8d9e_row10_col0\" class=\"data row10 col0\" >21611.000000</td>\n",
              "      <td id=\"T_f8d9e_row10_col1\" class=\"data row10 col1\" >7.656888</td>\n",
              "      <td id=\"T_f8d9e_row10_col2\" class=\"data row10 col2\" >1.175502</td>\n",
              "      <td id=\"T_f8d9e_row10_col3\" class=\"data row10 col3\" >1.000000</td>\n",
              "      <td id=\"T_f8d9e_row10_col4\" class=\"data row10 col4\" >7.000000</td>\n",
              "      <td id=\"T_f8d9e_row10_col5\" class=\"data row10 col5\" >7.000000</td>\n",
              "      <td id=\"T_f8d9e_row10_col6\" class=\"data row10 col6\" >8.000000</td>\n",
              "      <td id=\"T_f8d9e_row10_col7\" class=\"data row10 col7\" >13.000000</td>\n",
              "    </tr>\n",
              "    <tr>\n",
              "      <th id=\"T_f8d9e_level0_row11\" class=\"row_heading level0 row11\" >sqft_above</th>\n",
              "      <td id=\"T_f8d9e_row11_col0\" class=\"data row11 col0\" >21611.000000</td>\n",
              "      <td id=\"T_f8d9e_row11_col1\" class=\"data row11 col1\" >1788.396095</td>\n",
              "      <td id=\"T_f8d9e_row11_col2\" class=\"data row11 col2\" >828.128162</td>\n",
              "      <td id=\"T_f8d9e_row11_col3\" class=\"data row11 col3\" >290.000000</td>\n",
              "      <td id=\"T_f8d9e_row11_col4\" class=\"data row11 col4\" >1190.000000</td>\n",
              "      <td id=\"T_f8d9e_row11_col5\" class=\"data row11 col5\" >1560.000000</td>\n",
              "      <td id=\"T_f8d9e_row11_col6\" class=\"data row11 col6\" >2210.000000</td>\n",
              "      <td id=\"T_f8d9e_row11_col7\" class=\"data row11 col7\" >9410.000000</td>\n",
              "    </tr>\n",
              "    <tr>\n",
              "      <th id=\"T_f8d9e_level0_row12\" class=\"row_heading level0 row12\" >sqft_basement</th>\n",
              "      <td id=\"T_f8d9e_row12_col0\" class=\"data row12 col0\" >21611.000000</td>\n",
              "      <td id=\"T_f8d9e_row12_col1\" class=\"data row12 col1\" >291.457360</td>\n",
              "      <td id=\"T_f8d9e_row12_col2\" class=\"data row12 col2\" >442.487355</td>\n",
              "      <td id=\"T_f8d9e_row12_col3\" class=\"data row12 col3\" >0.000000</td>\n",
              "      <td id=\"T_f8d9e_row12_col4\" class=\"data row12 col4\" >0.000000</td>\n",
              "      <td id=\"T_f8d9e_row12_col5\" class=\"data row12 col5\" >0.000000</td>\n",
              "      <td id=\"T_f8d9e_row12_col6\" class=\"data row12 col6\" >560.000000</td>\n",
              "      <td id=\"T_f8d9e_row12_col7\" class=\"data row12 col7\" >4820.000000</td>\n",
              "    </tr>\n",
              "    <tr>\n",
              "      <th id=\"T_f8d9e_level0_row13\" class=\"row_heading level0 row13\" >yr_built</th>\n",
              "      <td id=\"T_f8d9e_row13_col0\" class=\"data row13 col0\" >21611.000000</td>\n",
              "      <td id=\"T_f8d9e_row13_col1\" class=\"data row13 col1\" >1971.007959</td>\n",
              "      <td id=\"T_f8d9e_row13_col2\" class=\"data row13 col2\" >29.372358</td>\n",
              "      <td id=\"T_f8d9e_row13_col3\" class=\"data row13 col3\" >1900.000000</td>\n",
              "      <td id=\"T_f8d9e_row13_col4\" class=\"data row13 col4\" >1951.000000</td>\n",
              "      <td id=\"T_f8d9e_row13_col5\" class=\"data row13 col5\" >1975.000000</td>\n",
              "      <td id=\"T_f8d9e_row13_col6\" class=\"data row13 col6\" >1997.000000</td>\n",
              "      <td id=\"T_f8d9e_row13_col7\" class=\"data row13 col7\" >2015.000000</td>\n",
              "    </tr>\n",
              "    <tr>\n",
              "      <th id=\"T_f8d9e_level0_row14\" class=\"row_heading level0 row14\" >yr_renovated</th>\n",
              "      <td id=\"T_f8d9e_row14_col0\" class=\"data row14 col0\" >21611.000000</td>\n",
              "      <td id=\"T_f8d9e_row14_col1\" class=\"data row14 col1\" >84.410069</td>\n",
              "      <td id=\"T_f8d9e_row14_col2\" class=\"data row14 col2\" >401.697007</td>\n",
              "      <td id=\"T_f8d9e_row14_col3\" class=\"data row14 col3\" >0.000000</td>\n",
              "      <td id=\"T_f8d9e_row14_col4\" class=\"data row14 col4\" >0.000000</td>\n",
              "      <td id=\"T_f8d9e_row14_col5\" class=\"data row14 col5\" >0.000000</td>\n",
              "      <td id=\"T_f8d9e_row14_col6\" class=\"data row14 col6\" >0.000000</td>\n",
              "      <td id=\"T_f8d9e_row14_col7\" class=\"data row14 col7\" >2015.000000</td>\n",
              "    </tr>\n",
              "    <tr>\n",
              "      <th id=\"T_f8d9e_level0_row15\" class=\"row_heading level0 row15\" >zipcode</th>\n",
              "      <td id=\"T_f8d9e_row15_col0\" class=\"data row15 col0\" >21611.000000</td>\n",
              "      <td id=\"T_f8d9e_row15_col1\" class=\"data row15 col1\" >98077.941928</td>\n",
              "      <td id=\"T_f8d9e_row15_col2\" class=\"data row15 col2\" >53.505054</td>\n",
              "      <td id=\"T_f8d9e_row15_col3\" class=\"data row15 col3\" >98001.000000</td>\n",
              "      <td id=\"T_f8d9e_row15_col4\" class=\"data row15 col4\" >98033.000000</td>\n",
              "      <td id=\"T_f8d9e_row15_col5\" class=\"data row15 col5\" >98065.000000</td>\n",
              "      <td id=\"T_f8d9e_row15_col6\" class=\"data row15 col6\" >98118.000000</td>\n",
              "      <td id=\"T_f8d9e_row15_col7\" class=\"data row15 col7\" >98199.000000</td>\n",
              "    </tr>\n",
              "    <tr>\n",
              "      <th id=\"T_f8d9e_level0_row16\" class=\"row_heading level0 row16\" >lat</th>\n",
              "      <td id=\"T_f8d9e_row16_col0\" class=\"data row16 col0\" >21611.000000</td>\n",
              "      <td id=\"T_f8d9e_row16_col1\" class=\"data row16 col1\" >47.560046</td>\n",
              "      <td id=\"T_f8d9e_row16_col2\" class=\"data row16 col2\" >0.138568</td>\n",
              "      <td id=\"T_f8d9e_row16_col3\" class=\"data row16 col3\" >47.155900</td>\n",
              "      <td id=\"T_f8d9e_row16_col4\" class=\"data row16 col4\" >47.470950</td>\n",
              "      <td id=\"T_f8d9e_row16_col5\" class=\"data row16 col5\" >47.571800</td>\n",
              "      <td id=\"T_f8d9e_row16_col6\" class=\"data row16 col6\" >47.678000</td>\n",
              "      <td id=\"T_f8d9e_row16_col7\" class=\"data row16 col7\" >47.777600</td>\n",
              "    </tr>\n",
              "    <tr>\n",
              "      <th id=\"T_f8d9e_level0_row17\" class=\"row_heading level0 row17\" >long</th>\n",
              "      <td id=\"T_f8d9e_row17_col0\" class=\"data row17 col0\" >21611.000000</td>\n",
              "      <td id=\"T_f8d9e_row17_col1\" class=\"data row17 col1\" >-122.213894</td>\n",
              "      <td id=\"T_f8d9e_row17_col2\" class=\"data row17 col2\" >0.140831</td>\n",
              "      <td id=\"T_f8d9e_row17_col3\" class=\"data row17 col3\" >-122.519000</td>\n",
              "      <td id=\"T_f8d9e_row17_col4\" class=\"data row17 col4\" >-122.328000</td>\n",
              "      <td id=\"T_f8d9e_row17_col5\" class=\"data row17 col5\" >-122.230000</td>\n",
              "      <td id=\"T_f8d9e_row17_col6\" class=\"data row17 col6\" >-122.125000</td>\n",
              "      <td id=\"T_f8d9e_row17_col7\" class=\"data row17 col7\" >-121.315000</td>\n",
              "    </tr>\n",
              "    <tr>\n",
              "      <th id=\"T_f8d9e_level0_row18\" class=\"row_heading level0 row18\" >sqft_living15</th>\n",
              "      <td id=\"T_f8d9e_row18_col0\" class=\"data row18 col0\" >21611.000000</td>\n",
              "      <td id=\"T_f8d9e_row18_col1\" class=\"data row18 col1\" >1986.559576</td>\n",
              "      <td id=\"T_f8d9e_row18_col2\" class=\"data row18 col2\" >685.416548</td>\n",
              "      <td id=\"T_f8d9e_row18_col3\" class=\"data row18 col3\" >399.000000</td>\n",
              "      <td id=\"T_f8d9e_row18_col4\" class=\"data row18 col4\" >1490.000000</td>\n",
              "      <td id=\"T_f8d9e_row18_col5\" class=\"data row18 col5\" >1840.000000</td>\n",
              "      <td id=\"T_f8d9e_row18_col6\" class=\"data row18 col6\" >2360.000000</td>\n",
              "      <td id=\"T_f8d9e_row18_col7\" class=\"data row18 col7\" >6210.000000</td>\n",
              "    </tr>\n",
              "    <tr>\n",
              "      <th id=\"T_f8d9e_level0_row19\" class=\"row_heading level0 row19\" >sqft_lot15</th>\n",
              "      <td id=\"T_f8d9e_row19_col0\" class=\"data row19 col0\" >21611.000000</td>\n",
              "      <td id=\"T_f8d9e_row19_col1\" class=\"data row19 col1\" >12769.025357</td>\n",
              "      <td id=\"T_f8d9e_row19_col2\" class=\"data row19 col2\" >27305.369808</td>\n",
              "      <td id=\"T_f8d9e_row19_col3\" class=\"data row19 col3\" >651.000000</td>\n",
              "      <td id=\"T_f8d9e_row19_col4\" class=\"data row19 col4\" >5100.000000</td>\n",
              "      <td id=\"T_f8d9e_row19_col5\" class=\"data row19 col5\" >7620.000000</td>\n",
              "      <td id=\"T_f8d9e_row19_col6\" class=\"data row19 col6\" >10083.500000</td>\n",
              "      <td id=\"T_f8d9e_row19_col7\" class=\"data row19 col7\" >871200.000000</td>\n",
              "    </tr>\n",
              "  </tbody>\n",
              "</table>\n"
            ]
          },
          "metadata": {},
          "execution_count": 13
        }
      ],
      "source": [
        "#statistik data numerik\n",
        "#df[nums].describe()\n",
        "#df.describe().transpose()\n",
        "df.describe().T.style.bar(\n",
        "    subset=['mean'],\n",
        "    color='#606ff2').background_gradient(\n",
        "    subset=['std'], cmap='PuBu').background_gradient(subset=['50%'], cmap='PuBu')"
      ]
    },
    {
      "cell_type": "code",
      "execution_count": null,
      "id": "73ee54d3",
      "metadata": {
        "scrolled": true,
        "colab": {
          "base_uri": "https://localhost:8080/",
          "height": 175
        },
        "id": "73ee54d3",
        "outputId": "c8d0d068-97e2-410a-969d-5eb1c348019f"
      },
      "outputs": [
        {
          "output_type": "execute_result",
          "data": {
            "text/plain": [
              "                   date\n",
              "count             21611\n",
              "unique              372\n",
              "top     20140623T000000\n",
              "freq                142"
            ],
            "text/html": [
              "\n",
              "  <div id=\"df-4ac2353c-be54-433d-a85a-a08e2e6be961\">\n",
              "    <div class=\"colab-df-container\">\n",
              "      <div>\n",
              "<style scoped>\n",
              "    .dataframe tbody tr th:only-of-type {\n",
              "        vertical-align: middle;\n",
              "    }\n",
              "\n",
              "    .dataframe tbody tr th {\n",
              "        vertical-align: top;\n",
              "    }\n",
              "\n",
              "    .dataframe thead th {\n",
              "        text-align: right;\n",
              "    }\n",
              "</style>\n",
              "<table border=\"1\" class=\"dataframe\">\n",
              "  <thead>\n",
              "    <tr style=\"text-align: right;\">\n",
              "      <th></th>\n",
              "      <th>date</th>\n",
              "    </tr>\n",
              "  </thead>\n",
              "  <tbody>\n",
              "    <tr>\n",
              "      <th>count</th>\n",
              "      <td>21611</td>\n",
              "    </tr>\n",
              "    <tr>\n",
              "      <th>unique</th>\n",
              "      <td>372</td>\n",
              "    </tr>\n",
              "    <tr>\n",
              "      <th>top</th>\n",
              "      <td>20140623T000000</td>\n",
              "    </tr>\n",
              "    <tr>\n",
              "      <th>freq</th>\n",
              "      <td>142</td>\n",
              "    </tr>\n",
              "  </tbody>\n",
              "</table>\n",
              "</div>\n",
              "      <button class=\"colab-df-convert\" onclick=\"convertToInteractive('df-4ac2353c-be54-433d-a85a-a08e2e6be961')\"\n",
              "              title=\"Convert this dataframe to an interactive table.\"\n",
              "              style=\"display:none;\">\n",
              "        \n",
              "  <svg xmlns=\"http://www.w3.org/2000/svg\" height=\"24px\"viewBox=\"0 0 24 24\"\n",
              "       width=\"24px\">\n",
              "    <path d=\"M0 0h24v24H0V0z\" fill=\"none\"/>\n",
              "    <path d=\"M18.56 5.44l.94 2.06.94-2.06 2.06-.94-2.06-.94-.94-2.06-.94 2.06-2.06.94zm-11 1L8.5 8.5l.94-2.06 2.06-.94-2.06-.94L8.5 2.5l-.94 2.06-2.06.94zm10 10l.94 2.06.94-2.06 2.06-.94-2.06-.94-.94-2.06-.94 2.06-2.06.94z\"/><path d=\"M17.41 7.96l-1.37-1.37c-.4-.4-.92-.59-1.43-.59-.52 0-1.04.2-1.43.59L10.3 9.45l-7.72 7.72c-.78.78-.78 2.05 0 2.83L4 21.41c.39.39.9.59 1.41.59.51 0 1.02-.2 1.41-.59l7.78-7.78 2.81-2.81c.8-.78.8-2.07 0-2.86zM5.41 20L4 18.59l7.72-7.72 1.47 1.35L5.41 20z\"/>\n",
              "  </svg>\n",
              "      </button>\n",
              "      \n",
              "  <style>\n",
              "    .colab-df-container {\n",
              "      display:flex;\n",
              "      flex-wrap:wrap;\n",
              "      gap: 12px;\n",
              "    }\n",
              "\n",
              "    .colab-df-convert {\n",
              "      background-color: #E8F0FE;\n",
              "      border: none;\n",
              "      border-radius: 50%;\n",
              "      cursor: pointer;\n",
              "      display: none;\n",
              "      fill: #1967D2;\n",
              "      height: 32px;\n",
              "      padding: 0 0 0 0;\n",
              "      width: 32px;\n",
              "    }\n",
              "\n",
              "    .colab-df-convert:hover {\n",
              "      background-color: #E2EBFA;\n",
              "      box-shadow: 0px 1px 2px rgba(60, 64, 67, 0.3), 0px 1px 3px 1px rgba(60, 64, 67, 0.15);\n",
              "      fill: #174EA6;\n",
              "    }\n",
              "\n",
              "    [theme=dark] .colab-df-convert {\n",
              "      background-color: #3B4455;\n",
              "      fill: #D2E3FC;\n",
              "    }\n",
              "\n",
              "    [theme=dark] .colab-df-convert:hover {\n",
              "      background-color: #434B5C;\n",
              "      box-shadow: 0px 1px 3px 1px rgba(0, 0, 0, 0.15);\n",
              "      filter: drop-shadow(0px 1px 2px rgba(0, 0, 0, 0.3));\n",
              "      fill: #FFFFFF;\n",
              "    }\n",
              "  </style>\n",
              "\n",
              "      <script>\n",
              "        const buttonEl =\n",
              "          document.querySelector('#df-4ac2353c-be54-433d-a85a-a08e2e6be961 button.colab-df-convert');\n",
              "        buttonEl.style.display =\n",
              "          google.colab.kernel.accessAllowed ? 'block' : 'none';\n",
              "\n",
              "        async function convertToInteractive(key) {\n",
              "          const element = document.querySelector('#df-4ac2353c-be54-433d-a85a-a08e2e6be961');\n",
              "          const dataTable =\n",
              "            await google.colab.kernel.invokeFunction('convertToInteractive',\n",
              "                                                     [key], {});\n",
              "          if (!dataTable) return;\n",
              "\n",
              "          const docLinkHtml = 'Like what you see? Visit the ' +\n",
              "            '<a target=\"_blank\" href=https://colab.research.google.com/notebooks/data_table.ipynb>data table notebook</a>'\n",
              "            + ' to learn more about interactive tables.';\n",
              "          element.innerHTML = '';\n",
              "          dataTable['output_type'] = 'display_data';\n",
              "          await google.colab.output.renderOutput(dataTable, element);\n",
              "          const docLink = document.createElement('div');\n",
              "          docLink.innerHTML = docLinkHtml;\n",
              "          element.appendChild(docLink);\n",
              "        }\n",
              "      </script>\n",
              "    </div>\n",
              "  </div>\n",
              "  "
            ]
          },
          "metadata": {},
          "execution_count": 14
        }
      ],
      "source": [
        "#informasi data string/objek\n",
        "df[strs].describe()"
      ]
    },
    {
      "cell_type": "code",
      "execution_count": null,
      "id": "6e9f86e3",
      "metadata": {
        "colab": {
          "base_uri": "https://localhost:8080/"
        },
        "id": "6e9f86e3",
        "outputId": "96ebd73d-7a0c-4898-d86b-e688ed2519e9"
      },
      "outputs": [
        {
          "output_type": "stream",
          "name": "stdout",
          "text": [
            "Value count pada kolom id:\n",
            "==================================\n",
            "795000620     3\n",
            "7983000200    2\n",
            "3293700496    2\n",
            "8945100320    2\n",
            "7520000695    2\n",
            "             ..\n",
            "3649100387    1\n",
            "2767603649    1\n",
            "1446403617    1\n",
            "5602000275    1\n",
            "1523300157    1\n",
            "Name: id, Length: 21434, dtype: int64\n",
            "\n",
            "==================================\n",
            "Value count pada kolom price:\n",
            "==================================\n",
            "450000.0     172\n",
            "350000.0     172\n",
            "550000.0     159\n",
            "500000.0     152\n",
            "425000.0     150\n",
            "            ... \n",
            "1362500.0      1\n",
            "957500.0       1\n",
            "298800.0       1\n",
            "265900.0       1\n",
            "402101.0       1\n",
            "Name: price, Length: 4028, dtype: int64\n",
            "\n",
            "==================================\n",
            "Value count pada kolom bedrooms:\n",
            "==================================\n",
            "3     9823\n",
            "4     6881\n",
            "2     2760\n",
            "5     1601\n",
            "6      272\n",
            "1      199\n",
            "7       38\n",
            "0       13\n",
            "8       13\n",
            "9        6\n",
            "10       3\n",
            "11       1\n",
            "33       1\n",
            "Name: bedrooms, dtype: int64\n",
            "\n",
            "==================================\n",
            "Value count pada kolom bathrooms:\n",
            "==================================\n",
            "2.50    5379\n",
            "1.00    3851\n",
            "1.75    3048\n",
            "2.25    2047\n",
            "2.00    1930\n",
            "1.50    1446\n",
            "2.75    1185\n",
            "3.00     753\n",
            "3.50     731\n",
            "3.25     589\n",
            "3.75     155\n",
            "4.00     136\n",
            "4.50     100\n",
            "4.25      79\n",
            "0.75      72\n",
            "4.75      23\n",
            "5.00      21\n",
            "5.25      13\n",
            "0.00      10\n",
            "5.50      10\n",
            "1.25       9\n",
            "6.00       6\n",
            "0.50       4\n",
            "5.75       4\n",
            "6.75       2\n",
            "8.00       2\n",
            "6.25       2\n",
            "6.50       2\n",
            "7.50       1\n",
            "7.75       1\n",
            "Name: bathrooms, dtype: int64\n",
            "\n",
            "==================================\n",
            "Value count pada kolom sqft_living:\n",
            "==================================\n",
            "1300    138\n",
            "1400    135\n",
            "1440    133\n",
            "1800    129\n",
            "1010    129\n",
            "       ... \n",
            "9890      1\n",
            "5584      1\n",
            "1961      1\n",
            "5720      1\n",
            "1425      1\n",
            "Name: sqft_living, Length: 1038, dtype: int64\n",
            "\n",
            "==================================\n",
            "Value count pada kolom sqft_lot:\n",
            "==================================\n",
            "5000     358\n",
            "6000     290\n",
            "4000     251\n",
            "7200     220\n",
            "4800     120\n",
            "        ... \n",
            "25248      1\n",
            "9934       1\n",
            "9142       1\n",
            "24330      1\n",
            "1076       1\n",
            "Name: sqft_lot, Length: 9782, dtype: int64\n",
            "\n",
            "==================================\n",
            "Value count pada kolom floors:\n",
            "==================================\n",
            "1.0    10679\n",
            "2.0     8241\n",
            "1.5     1909\n",
            "3.0      613\n",
            "2.5      161\n",
            "3.5        8\n",
            "Name: floors, dtype: int64\n",
            "\n",
            "==================================\n",
            "Value count pada kolom waterfront:\n",
            "==================================\n",
            "0    21448\n",
            "1      163\n",
            "Name: waterfront, dtype: int64\n",
            "\n",
            "==================================\n",
            "Value count pada kolom view:\n",
            "==================================\n",
            "0    19487\n",
            "2      963\n",
            "3      510\n",
            "1      332\n",
            "4      319\n",
            "Name: view, dtype: int64\n",
            "\n",
            "==================================\n",
            "Value count pada kolom condition:\n",
            "==================================\n",
            "3    14030\n",
            "4     5678\n",
            "5     1701\n",
            "2      172\n",
            "1       30\n",
            "Name: condition, dtype: int64\n",
            "\n",
            "==================================\n",
            "Value count pada kolom grade:\n",
            "==================================\n",
            "7     8980\n",
            "8     6067\n",
            "9     2615\n",
            "6     2038\n",
            "10    1134\n",
            "11     399\n",
            "5      242\n",
            "12      90\n",
            "4       29\n",
            "13      13\n",
            "3        3\n",
            "1        1\n",
            "Name: grade, dtype: int64\n",
            "\n",
            "==================================\n",
            "Value count pada kolom sqft_above:\n",
            "==================================\n",
            "1300.0    212\n",
            "1010.0    210\n",
            "1200.0    206\n",
            "1220.0    192\n",
            "1140.0    184\n",
            "         ... \n",
            "3674.0      1\n",
            "2979.0      1\n",
            "2382.0      1\n",
            "6290.0      1\n",
            "1425.0      1\n",
            "Name: sqft_above, Length: 946, dtype: int64\n",
            "\n",
            "==================================\n",
            "Value count pada kolom sqft_basement:\n",
            "==================================\n",
            "0       13125\n",
            "600       221\n",
            "700       218\n",
            "500       214\n",
            "800       206\n",
            "        ...  \n",
            "588         1\n",
            "3260        1\n",
            "243         1\n",
            "2570        1\n",
            "248         1\n",
            "Name: sqft_basement, Length: 306, dtype: int64\n",
            "\n",
            "==================================\n",
            "Value count pada kolom yr_built:\n",
            "==================================\n",
            "2014    559\n",
            "2006    454\n",
            "2005    450\n",
            "2004    433\n",
            "2003    422\n",
            "       ... \n",
            "1933     30\n",
            "1901     29\n",
            "1902     27\n",
            "1935     24\n",
            "1934     21\n",
            "Name: yr_built, Length: 116, dtype: int64\n",
            "\n",
            "==================================\n",
            "Value count pada kolom yr_renovated:\n",
            "==================================\n",
            "0       20697\n",
            "2014       91\n",
            "2013       37\n",
            "2003       36\n",
            "2005       35\n",
            "        ...  \n",
            "1951        1\n",
            "1959        1\n",
            "1948        1\n",
            "1954        1\n",
            "1944        1\n",
            "Name: yr_renovated, Length: 70, dtype: int64\n",
            "\n",
            "==================================\n",
            "Value count pada kolom zipcode:\n",
            "==================================\n",
            "98103    601\n",
            "98038    590\n",
            "98115    583\n",
            "98052    574\n",
            "98117    553\n",
            "        ... \n",
            "98102    105\n",
            "98010    100\n",
            "98024     81\n",
            "98148     57\n",
            "98039     50\n",
            "Name: zipcode, Length: 70, dtype: int64\n",
            "\n",
            "==================================\n",
            "Value count pada kolom lat:\n",
            "==================================\n",
            "47.5322    17\n",
            "47.6846    17\n",
            "47.6624    17\n",
            "47.5491    17\n",
            "47.6711    16\n",
            "           ..\n",
            "47.2492     1\n",
            "47.4529     1\n",
            "47.2672     1\n",
            "47.2702     1\n",
            "47.6502     1\n",
            "Name: lat, Length: 5034, dtype: int64\n",
            "\n",
            "==================================\n",
            "Value count pada kolom long:\n",
            "==================================\n",
            "-122.290    116\n",
            "-122.300    111\n",
            "-122.362    104\n",
            "-122.291    100\n",
            "-122.372     99\n",
            "           ... \n",
            "-121.726      1\n",
            "-121.819      1\n",
            "-122.440      1\n",
            "-121.818      1\n",
            "-121.403      1\n",
            "Name: long, Length: 752, dtype: int64\n",
            "\n",
            "==================================\n",
            "Value count pada kolom sqft_living15:\n",
            "==================================\n",
            "1540    197\n",
            "1440    195\n",
            "1560    192\n",
            "1500    181\n",
            "1460    169\n",
            "       ... \n",
            "2054      1\n",
            "3736      1\n",
            "4950      1\n",
            "2728      1\n",
            "2927      1\n",
            "Name: sqft_living15, Length: 777, dtype: int64\n",
            "\n",
            "==================================\n",
            "Value count pada kolom sqft_lot15:\n",
            "==================================\n",
            "5000     427\n",
            "4000     357\n",
            "6000     289\n",
            "7200     211\n",
            "4800     145\n",
            "        ... \n",
            "25927      1\n",
            "35943      1\n",
            "5107       1\n",
            "1514       1\n",
            "2007       1\n",
            "Name: sqft_lot15, Length: 8689, dtype: int64\n",
            "\n",
            "==================================\n"
          ]
        }
      ],
      "source": [
        "for col in nums:\n",
        "    print(f'''Value count pada kolom {col}:''')\n",
        "    print('==================================')\n",
        "    print(df[col].value_counts())\n",
        "    print()\n",
        "    print('==================================')"
      ]
    },
    {
      "cell_type": "code",
      "execution_count": null,
      "id": "3defb63e",
      "metadata": {
        "scrolled": true,
        "colab": {
          "base_uri": "https://localhost:8080/"
        },
        "id": "3defb63e",
        "outputId": "726a415c-7a97-490e-fa11-cb9117ec8696"
      },
      "outputs": [
        {
          "output_type": "stream",
          "name": "stdout",
          "text": [
            "Value count pada kolom date:\n",
            "==================================\n",
            "20140623T000000    142\n",
            "20140626T000000    131\n",
            "20140625T000000    131\n",
            "20140708T000000    127\n",
            "20150427T000000    126\n",
            "                  ... \n",
            "20141102T000000      1\n",
            "20150131T000000      1\n",
            "20150524T000000      1\n",
            "20140517T000000      1\n",
            "20140727T000000      1\n",
            "Name: date, Length: 372, dtype: int64\n",
            "\n",
            "==================================\n"
          ]
        }
      ],
      "source": [
        "for col in strs:\n",
        "    print(f'''Value count pada kolom {col}:''')\n",
        "    print('==================================')\n",
        "    print(df[col].value_counts())\n",
        "    print()\n",
        "    print('==================================')"
      ]
    },
    {
      "cell_type": "code",
      "execution_count": null,
      "id": "b09e3010",
      "metadata": {
        "scrolled": false,
        "colab": {
          "base_uri": "https://localhost:8080/"
        },
        "id": "b09e3010",
        "outputId": "54cdca15-2edf-4f99-a801-979baeaa467f"
      },
      "outputs": [
        {
          "output_type": "execute_result",
          "data": {
            "text/plain": [
              "Index(['id', 'date', 'price', 'bedrooms', 'bathrooms', 'sqft_living',\n",
              "       'sqft_lot', 'floors', 'waterfront', 'view', 'condition', 'grade',\n",
              "       'sqft_above', 'sqft_basement', 'yr_built', 'yr_renovated', 'zipcode',\n",
              "       'lat', 'long', 'sqft_living15', 'sqft_lot15'],\n",
              "      dtype='object')"
            ]
          },
          "metadata": {},
          "execution_count": 17
        }
      ],
      "source": [
        "#fitur tiap properti (dalam kolom)\n",
        "df.columns"
      ]
    },
    {
      "cell_type": "code",
      "execution_count": null,
      "id": "419015a8",
      "metadata": {
        "id": "419015a8"
      },
      "outputs": [],
      "source": [
        "df['bathrooms'] = df['bathrooms'].astype(int)"
      ]
    },
    {
      "cell_type": "code",
      "execution_count": null,
      "id": "1e41dbfe",
      "metadata": {
        "colab": {
          "base_uri": "https://localhost:8080/",
          "height": 206
        },
        "id": "1e41dbfe",
        "outputId": "7d3b46b6-7829-4f24-e170-f1f96c65c4f0"
      },
      "outputs": [
        {
          "output_type": "execute_result",
          "data": {
            "text/plain": [
              "      price  bedrooms  bathrooms  sqft_living  grade  yr_built\n",
              "0  221900.0         3       1.00         1180      7      1955\n",
              "1  538000.0         3       2.25         2570      7      1951\n",
              "2  180000.0         2       1.00          770      6      1933\n",
              "3  604000.0         4       3.00         1960      7      1965\n",
              "4  510000.0         3       2.00         1680      8      1987"
            ],
            "text/html": [
              "\n",
              "  <div id=\"df-195b149d-048c-4121-8da0-7b35e09e9fab\">\n",
              "    <div class=\"colab-df-container\">\n",
              "      <div>\n",
              "<style scoped>\n",
              "    .dataframe tbody tr th:only-of-type {\n",
              "        vertical-align: middle;\n",
              "    }\n",
              "\n",
              "    .dataframe tbody tr th {\n",
              "        vertical-align: top;\n",
              "    }\n",
              "\n",
              "    .dataframe thead th {\n",
              "        text-align: right;\n",
              "    }\n",
              "</style>\n",
              "<table border=\"1\" class=\"dataframe\">\n",
              "  <thead>\n",
              "    <tr style=\"text-align: right;\">\n",
              "      <th></th>\n",
              "      <th>price</th>\n",
              "      <th>bedrooms</th>\n",
              "      <th>bathrooms</th>\n",
              "      <th>sqft_living</th>\n",
              "      <th>grade</th>\n",
              "      <th>yr_built</th>\n",
              "    </tr>\n",
              "  </thead>\n",
              "  <tbody>\n",
              "    <tr>\n",
              "      <th>0</th>\n",
              "      <td>221900.0</td>\n",
              "      <td>3</td>\n",
              "      <td>1.00</td>\n",
              "      <td>1180</td>\n",
              "      <td>7</td>\n",
              "      <td>1955</td>\n",
              "    </tr>\n",
              "    <tr>\n",
              "      <th>1</th>\n",
              "      <td>538000.0</td>\n",
              "      <td>3</td>\n",
              "      <td>2.25</td>\n",
              "      <td>2570</td>\n",
              "      <td>7</td>\n",
              "      <td>1951</td>\n",
              "    </tr>\n",
              "    <tr>\n",
              "      <th>2</th>\n",
              "      <td>180000.0</td>\n",
              "      <td>2</td>\n",
              "      <td>1.00</td>\n",
              "      <td>770</td>\n",
              "      <td>6</td>\n",
              "      <td>1933</td>\n",
              "    </tr>\n",
              "    <tr>\n",
              "      <th>3</th>\n",
              "      <td>604000.0</td>\n",
              "      <td>4</td>\n",
              "      <td>3.00</td>\n",
              "      <td>1960</td>\n",
              "      <td>7</td>\n",
              "      <td>1965</td>\n",
              "    </tr>\n",
              "    <tr>\n",
              "      <th>4</th>\n",
              "      <td>510000.0</td>\n",
              "      <td>3</td>\n",
              "      <td>2.00</td>\n",
              "      <td>1680</td>\n",
              "      <td>8</td>\n",
              "      <td>1987</td>\n",
              "    </tr>\n",
              "  </tbody>\n",
              "</table>\n",
              "</div>\n",
              "      <button class=\"colab-df-convert\" onclick=\"convertToInteractive('df-195b149d-048c-4121-8da0-7b35e09e9fab')\"\n",
              "              title=\"Convert this dataframe to an interactive table.\"\n",
              "              style=\"display:none;\">\n",
              "        \n",
              "  <svg xmlns=\"http://www.w3.org/2000/svg\" height=\"24px\"viewBox=\"0 0 24 24\"\n",
              "       width=\"24px\">\n",
              "    <path d=\"M0 0h24v24H0V0z\" fill=\"none\"/>\n",
              "    <path d=\"M18.56 5.44l.94 2.06.94-2.06 2.06-.94-2.06-.94-.94-2.06-.94 2.06-2.06.94zm-11 1L8.5 8.5l.94-2.06 2.06-.94-2.06-.94L8.5 2.5l-.94 2.06-2.06.94zm10 10l.94 2.06.94-2.06 2.06-.94-2.06-.94-.94-2.06-.94 2.06-2.06.94z\"/><path d=\"M17.41 7.96l-1.37-1.37c-.4-.4-.92-.59-1.43-.59-.52 0-1.04.2-1.43.59L10.3 9.45l-7.72 7.72c-.78.78-.78 2.05 0 2.83L4 21.41c.39.39.9.59 1.41.59.51 0 1.02-.2 1.41-.59l7.78-7.78 2.81-2.81c.8-.78.8-2.07 0-2.86zM5.41 20L4 18.59l7.72-7.72 1.47 1.35L5.41 20z\"/>\n",
              "  </svg>\n",
              "      </button>\n",
              "      \n",
              "  <style>\n",
              "    .colab-df-container {\n",
              "      display:flex;\n",
              "      flex-wrap:wrap;\n",
              "      gap: 12px;\n",
              "    }\n",
              "\n",
              "    .colab-df-convert {\n",
              "      background-color: #E8F0FE;\n",
              "      border: none;\n",
              "      border-radius: 50%;\n",
              "      cursor: pointer;\n",
              "      display: none;\n",
              "      fill: #1967D2;\n",
              "      height: 32px;\n",
              "      padding: 0 0 0 0;\n",
              "      width: 32px;\n",
              "    }\n",
              "\n",
              "    .colab-df-convert:hover {\n",
              "      background-color: #E2EBFA;\n",
              "      box-shadow: 0px 1px 2px rgba(60, 64, 67, 0.3), 0px 1px 3px 1px rgba(60, 64, 67, 0.15);\n",
              "      fill: #174EA6;\n",
              "    }\n",
              "\n",
              "    [theme=dark] .colab-df-convert {\n",
              "      background-color: #3B4455;\n",
              "      fill: #D2E3FC;\n",
              "    }\n",
              "\n",
              "    [theme=dark] .colab-df-convert:hover {\n",
              "      background-color: #434B5C;\n",
              "      box-shadow: 0px 1px 3px 1px rgba(0, 0, 0, 0.15);\n",
              "      filter: drop-shadow(0px 1px 2px rgba(0, 0, 0, 0.3));\n",
              "      fill: #FFFFFF;\n",
              "    }\n",
              "  </style>\n",
              "\n",
              "      <script>\n",
              "        const buttonEl =\n",
              "          document.querySelector('#df-195b149d-048c-4121-8da0-7b35e09e9fab button.colab-df-convert');\n",
              "        buttonEl.style.display =\n",
              "          google.colab.kernel.accessAllowed ? 'block' : 'none';\n",
              "\n",
              "        async function convertToInteractive(key) {\n",
              "          const element = document.querySelector('#df-195b149d-048c-4121-8da0-7b35e09e9fab');\n",
              "          const dataTable =\n",
              "            await google.colab.kernel.invokeFunction('convertToInteractive',\n",
              "                                                     [key], {});\n",
              "          if (!dataTable) return;\n",
              "\n",
              "          const docLinkHtml = 'Like what you see? Visit the ' +\n",
              "            '<a target=\"_blank\" href=https://colab.research.google.com/notebooks/data_table.ipynb>data table notebook</a>'\n",
              "            + ' to learn more about interactive tables.';\n",
              "          element.innerHTML = '';\n",
              "          dataTable['output_type'] = 'display_data';\n",
              "          await google.colab.output.renderOutput(dataTable, element);\n",
              "          const docLink = document.createElement('div');\n",
              "          docLink.innerHTML = docLinkHtml;\n",
              "          element.appendChild(docLink);\n",
              "        }\n",
              "      </script>\n",
              "    </div>\n",
              "  </div>\n",
              "  "
            ]
          },
          "metadata": {},
          "execution_count": 18
        }
      ],
      "source": [
        "df_new = df.drop(columns=['id', 'date', 'sqft_lot', 'floors', 'waterfront', 'view', \n",
        "                          'condition', 'sqft_above', 'sqft_basement', 'yr_renovated', 'zipcode',\n",
        "                          'lat', 'long', 'sqft_living15', 'sqft_lot15'])\n",
        "df_new.head()"
      ]
    },
    {
      "cell_type": "code",
      "execution_count": null,
      "id": "7b78cc59",
      "metadata": {
        "scrolled": true,
        "colab": {
          "base_uri": "https://localhost:8080/"
        },
        "id": "7b78cc59",
        "outputId": "f1a8ece1-c5d1-4064-de0d-26d56e53a413"
      },
      "outputs": [
        {
          "output_type": "stream",
          "name": "stdout",
          "text": [
            "<class 'pandas.core.frame.DataFrame'>\n",
            "Int64Index: 21611 entries, 0 to 21612\n",
            "Data columns (total 21 columns):\n",
            " #   Column         Non-Null Count  Dtype  \n",
            "---  ------         --------------  -----  \n",
            " 0   id             21611 non-null  int64  \n",
            " 1   date           21611 non-null  object \n",
            " 2   price          21611 non-null  float64\n",
            " 3   bedrooms       21611 non-null  int64  \n",
            " 4   bathrooms      21611 non-null  float64\n",
            " 5   sqft_living    21611 non-null  int64  \n",
            " 6   sqft_lot       21611 non-null  int64  \n",
            " 7   floors         21611 non-null  float64\n",
            " 8   waterfront     21611 non-null  int64  \n",
            " 9   view           21611 non-null  int64  \n",
            " 10  condition      21611 non-null  int64  \n",
            " 11  grade          21611 non-null  int64  \n",
            " 12  sqft_above     21611 non-null  float64\n",
            " 13  sqft_basement  21611 non-null  int64  \n",
            " 14  yr_built       21611 non-null  int64  \n",
            " 15  yr_renovated   21611 non-null  int64  \n",
            " 16  zipcode        21611 non-null  int64  \n",
            " 17  lat            21611 non-null  float64\n",
            " 18  long           21611 non-null  float64\n",
            " 19  sqft_living15  21611 non-null  int64  \n",
            " 20  sqft_lot15     21611 non-null  int64  \n",
            "dtypes: float64(6), int64(14), object(1)\n",
            "memory usage: 3.6+ MB\n"
          ]
        }
      ],
      "source": [
        "df.info()"
      ]
    },
    {
      "cell_type": "markdown",
      "id": "1ebd1c8f",
      "metadata": {
        "id": "1ebd1c8f"
      },
      "source": [
        "## Exploratory Data Analysis"
      ]
    },
    {
      "cell_type": "code",
      "execution_count": null,
      "id": "ca0fa515",
      "metadata": {
        "colab": {
          "base_uri": "https://localhost:8080/",
          "height": 300
        },
        "id": "ca0fa515",
        "outputId": "ed694f8a-912b-44dc-e55e-f1b0d8c874e6"
      },
      "outputs": [
        {
          "output_type": "execute_result",
          "data": {
            "text/plain": [
              "           id             date     price  bedrooms  bathrooms  sqft_living  \\\n",
              "0  7129300520  20141013T000000  221900.0         3       1.00         1180   \n",
              "1  6414100192  20141209T000000  538000.0         3       2.25         2570   \n",
              "2  5631500400  20150225T000000  180000.0         2       1.00          770   \n",
              "3  2487200875  20141209T000000  604000.0         4       3.00         1960   \n",
              "4  1954400510  20150218T000000  510000.0         3       2.00         1680   \n",
              "\n",
              "   sqft_lot  floors  waterfront  view  ...  grade  sqft_above  sqft_basement  \\\n",
              "0      5650     1.0           0     0  ...      7      1180.0              0   \n",
              "1      7242     2.0           0     0  ...      7      2170.0            400   \n",
              "2     10000     1.0           0     0  ...      6       770.0              0   \n",
              "3      5000     1.0           0     0  ...      7      1050.0            910   \n",
              "4      8080     1.0           0     0  ...      8      1680.0              0   \n",
              "\n",
              "   yr_built  yr_renovated  zipcode      lat     long  sqft_living15  \\\n",
              "0      1955             0    98178  47.5112 -122.257           1340   \n",
              "1      1951          1991    98125  47.7210 -122.319           1690   \n",
              "2      1933             0    98028  47.7379 -122.233           2720   \n",
              "3      1965             0    98136  47.5208 -122.393           1360   \n",
              "4      1987             0    98074  47.6168 -122.045           1800   \n",
              "\n",
              "   sqft_lot15  \n",
              "0        5650  \n",
              "1        7639  \n",
              "2        8062  \n",
              "3        5000  \n",
              "4        7503  \n",
              "\n",
              "[5 rows x 21 columns]"
            ],
            "text/html": [
              "\n",
              "  <div id=\"df-949b66e7-3d72-4fca-9782-6253dd6138d4\">\n",
              "    <div class=\"colab-df-container\">\n",
              "      <div>\n",
              "<style scoped>\n",
              "    .dataframe tbody tr th:only-of-type {\n",
              "        vertical-align: middle;\n",
              "    }\n",
              "\n",
              "    .dataframe tbody tr th {\n",
              "        vertical-align: top;\n",
              "    }\n",
              "\n",
              "    .dataframe thead th {\n",
              "        text-align: right;\n",
              "    }\n",
              "</style>\n",
              "<table border=\"1\" class=\"dataframe\">\n",
              "  <thead>\n",
              "    <tr style=\"text-align: right;\">\n",
              "      <th></th>\n",
              "      <th>id</th>\n",
              "      <th>date</th>\n",
              "      <th>price</th>\n",
              "      <th>bedrooms</th>\n",
              "      <th>bathrooms</th>\n",
              "      <th>sqft_living</th>\n",
              "      <th>sqft_lot</th>\n",
              "      <th>floors</th>\n",
              "      <th>waterfront</th>\n",
              "      <th>view</th>\n",
              "      <th>...</th>\n",
              "      <th>grade</th>\n",
              "      <th>sqft_above</th>\n",
              "      <th>sqft_basement</th>\n",
              "      <th>yr_built</th>\n",
              "      <th>yr_renovated</th>\n",
              "      <th>zipcode</th>\n",
              "      <th>lat</th>\n",
              "      <th>long</th>\n",
              "      <th>sqft_living15</th>\n",
              "      <th>sqft_lot15</th>\n",
              "    </tr>\n",
              "  </thead>\n",
              "  <tbody>\n",
              "    <tr>\n",
              "      <th>0</th>\n",
              "      <td>7129300520</td>\n",
              "      <td>20141013T000000</td>\n",
              "      <td>221900.0</td>\n",
              "      <td>3</td>\n",
              "      <td>1.00</td>\n",
              "      <td>1180</td>\n",
              "      <td>5650</td>\n",
              "      <td>1.0</td>\n",
              "      <td>0</td>\n",
              "      <td>0</td>\n",
              "      <td>...</td>\n",
              "      <td>7</td>\n",
              "      <td>1180.0</td>\n",
              "      <td>0</td>\n",
              "      <td>1955</td>\n",
              "      <td>0</td>\n",
              "      <td>98178</td>\n",
              "      <td>47.5112</td>\n",
              "      <td>-122.257</td>\n",
              "      <td>1340</td>\n",
              "      <td>5650</td>\n",
              "    </tr>\n",
              "    <tr>\n",
              "      <th>1</th>\n",
              "      <td>6414100192</td>\n",
              "      <td>20141209T000000</td>\n",
              "      <td>538000.0</td>\n",
              "      <td>3</td>\n",
              "      <td>2.25</td>\n",
              "      <td>2570</td>\n",
              "      <td>7242</td>\n",
              "      <td>2.0</td>\n",
              "      <td>0</td>\n",
              "      <td>0</td>\n",
              "      <td>...</td>\n",
              "      <td>7</td>\n",
              "      <td>2170.0</td>\n",
              "      <td>400</td>\n",
              "      <td>1951</td>\n",
              "      <td>1991</td>\n",
              "      <td>98125</td>\n",
              "      <td>47.7210</td>\n",
              "      <td>-122.319</td>\n",
              "      <td>1690</td>\n",
              "      <td>7639</td>\n",
              "    </tr>\n",
              "    <tr>\n",
              "      <th>2</th>\n",
              "      <td>5631500400</td>\n",
              "      <td>20150225T000000</td>\n",
              "      <td>180000.0</td>\n",
              "      <td>2</td>\n",
              "      <td>1.00</td>\n",
              "      <td>770</td>\n",
              "      <td>10000</td>\n",
              "      <td>1.0</td>\n",
              "      <td>0</td>\n",
              "      <td>0</td>\n",
              "      <td>...</td>\n",
              "      <td>6</td>\n",
              "      <td>770.0</td>\n",
              "      <td>0</td>\n",
              "      <td>1933</td>\n",
              "      <td>0</td>\n",
              "      <td>98028</td>\n",
              "      <td>47.7379</td>\n",
              "      <td>-122.233</td>\n",
              "      <td>2720</td>\n",
              "      <td>8062</td>\n",
              "    </tr>\n",
              "    <tr>\n",
              "      <th>3</th>\n",
              "      <td>2487200875</td>\n",
              "      <td>20141209T000000</td>\n",
              "      <td>604000.0</td>\n",
              "      <td>4</td>\n",
              "      <td>3.00</td>\n",
              "      <td>1960</td>\n",
              "      <td>5000</td>\n",
              "      <td>1.0</td>\n",
              "      <td>0</td>\n",
              "      <td>0</td>\n",
              "      <td>...</td>\n",
              "      <td>7</td>\n",
              "      <td>1050.0</td>\n",
              "      <td>910</td>\n",
              "      <td>1965</td>\n",
              "      <td>0</td>\n",
              "      <td>98136</td>\n",
              "      <td>47.5208</td>\n",
              "      <td>-122.393</td>\n",
              "      <td>1360</td>\n",
              "      <td>5000</td>\n",
              "    </tr>\n",
              "    <tr>\n",
              "      <th>4</th>\n",
              "      <td>1954400510</td>\n",
              "      <td>20150218T000000</td>\n",
              "      <td>510000.0</td>\n",
              "      <td>3</td>\n",
              "      <td>2.00</td>\n",
              "      <td>1680</td>\n",
              "      <td>8080</td>\n",
              "      <td>1.0</td>\n",
              "      <td>0</td>\n",
              "      <td>0</td>\n",
              "      <td>...</td>\n",
              "      <td>8</td>\n",
              "      <td>1680.0</td>\n",
              "      <td>0</td>\n",
              "      <td>1987</td>\n",
              "      <td>0</td>\n",
              "      <td>98074</td>\n",
              "      <td>47.6168</td>\n",
              "      <td>-122.045</td>\n",
              "      <td>1800</td>\n",
              "      <td>7503</td>\n",
              "    </tr>\n",
              "  </tbody>\n",
              "</table>\n",
              "<p>5 rows × 21 columns</p>\n",
              "</div>\n",
              "      <button class=\"colab-df-convert\" onclick=\"convertToInteractive('df-949b66e7-3d72-4fca-9782-6253dd6138d4')\"\n",
              "              title=\"Convert this dataframe to an interactive table.\"\n",
              "              style=\"display:none;\">\n",
              "        \n",
              "  <svg xmlns=\"http://www.w3.org/2000/svg\" height=\"24px\"viewBox=\"0 0 24 24\"\n",
              "       width=\"24px\">\n",
              "    <path d=\"M0 0h24v24H0V0z\" fill=\"none\"/>\n",
              "    <path d=\"M18.56 5.44l.94 2.06.94-2.06 2.06-.94-2.06-.94-.94-2.06-.94 2.06-2.06.94zm-11 1L8.5 8.5l.94-2.06 2.06-.94-2.06-.94L8.5 2.5l-.94 2.06-2.06.94zm10 10l.94 2.06.94-2.06 2.06-.94-2.06-.94-.94-2.06-.94 2.06-2.06.94z\"/><path d=\"M17.41 7.96l-1.37-1.37c-.4-.4-.92-.59-1.43-.59-.52 0-1.04.2-1.43.59L10.3 9.45l-7.72 7.72c-.78.78-.78 2.05 0 2.83L4 21.41c.39.39.9.59 1.41.59.51 0 1.02-.2 1.41-.59l7.78-7.78 2.81-2.81c.8-.78.8-2.07 0-2.86zM5.41 20L4 18.59l7.72-7.72 1.47 1.35L5.41 20z\"/>\n",
              "  </svg>\n",
              "      </button>\n",
              "      \n",
              "  <style>\n",
              "    .colab-df-container {\n",
              "      display:flex;\n",
              "      flex-wrap:wrap;\n",
              "      gap: 12px;\n",
              "    }\n",
              "\n",
              "    .colab-df-convert {\n",
              "      background-color: #E8F0FE;\n",
              "      border: none;\n",
              "      border-radius: 50%;\n",
              "      cursor: pointer;\n",
              "      display: none;\n",
              "      fill: #1967D2;\n",
              "      height: 32px;\n",
              "      padding: 0 0 0 0;\n",
              "      width: 32px;\n",
              "    }\n",
              "\n",
              "    .colab-df-convert:hover {\n",
              "      background-color: #E2EBFA;\n",
              "      box-shadow: 0px 1px 2px rgba(60, 64, 67, 0.3), 0px 1px 3px 1px rgba(60, 64, 67, 0.15);\n",
              "      fill: #174EA6;\n",
              "    }\n",
              "\n",
              "    [theme=dark] .colab-df-convert {\n",
              "      background-color: #3B4455;\n",
              "      fill: #D2E3FC;\n",
              "    }\n",
              "\n",
              "    [theme=dark] .colab-df-convert:hover {\n",
              "      background-color: #434B5C;\n",
              "      box-shadow: 0px 1px 3px 1px rgba(0, 0, 0, 0.15);\n",
              "      filter: drop-shadow(0px 1px 2px rgba(0, 0, 0, 0.3));\n",
              "      fill: #FFFFFF;\n",
              "    }\n",
              "  </style>\n",
              "\n",
              "      <script>\n",
              "        const buttonEl =\n",
              "          document.querySelector('#df-949b66e7-3d72-4fca-9782-6253dd6138d4 button.colab-df-convert');\n",
              "        buttonEl.style.display =\n",
              "          google.colab.kernel.accessAllowed ? 'block' : 'none';\n",
              "\n",
              "        async function convertToInteractive(key) {\n",
              "          const element = document.querySelector('#df-949b66e7-3d72-4fca-9782-6253dd6138d4');\n",
              "          const dataTable =\n",
              "            await google.colab.kernel.invokeFunction('convertToInteractive',\n",
              "                                                     [key], {});\n",
              "          if (!dataTable) return;\n",
              "\n",
              "          const docLinkHtml = 'Like what you see? Visit the ' +\n",
              "            '<a target=\"_blank\" href=https://colab.research.google.com/notebooks/data_table.ipynb>data table notebook</a>'\n",
              "            + ' to learn more about interactive tables.';\n",
              "          element.innerHTML = '';\n",
              "          dataTable['output_type'] = 'display_data';\n",
              "          await google.colab.output.renderOutput(dataTable, element);\n",
              "          const docLink = document.createElement('div');\n",
              "          docLink.innerHTML = docLinkHtml;\n",
              "          element.appendChild(docLink);\n",
              "        }\n",
              "      </script>\n",
              "    </div>\n",
              "  </div>\n",
              "  "
            ]
          },
          "metadata": {},
          "execution_count": 20
        }
      ],
      "source": [
        "df.head()"
      ]
    },
    {
      "cell_type": "code",
      "execution_count": null,
      "id": "cb92ae73",
      "metadata": {
        "scrolled": false,
        "colab": {
          "base_uri": "https://localhost:8080/",
          "height": 454
        },
        "id": "cb92ae73",
        "outputId": "52e68b02-5e64-4844-9c57-6de3cdcd32ba"
      },
      "outputs": [
        {
          "output_type": "stream",
          "name": "stderr",
          "text": [
            "/usr/local/lib/python3.7/dist-packages/seaborn/_decorators.py:43: FutureWarning: Pass the following variable as a keyword arg: x. From version 0.12, the only valid positional argument will be `data`, and passing other arguments without an explicit keyword will result in an error or misinterpretation.\n",
            "  FutureWarning\n"
          ]
        },
        {
          "output_type": "display_data",
          "data": {
            "text/plain": [
              "<Figure size 1296x432 with 2 Axes>"
            ],
            "image/png": "[encoded data removed]"
          },
          "metadata": {
            "needs_background": "light"
          }
        }
      ],
      "source": [
        "fig = plt.figure(figsize=(18,6))\n",
        "\n",
        "sns.set(font_scale=1.1)\n",
        "\n",
        "fig.add_subplot(1,2,1)\n",
        "p = sns.countplot(df_new['bedrooms'], palette='RdPu')\n",
        "plt.ylabel('Total', fontsize=16)\n",
        "plt.xlabel('Jumlah Kamar Tidur', fontsize=16)\n",
        "\n",
        "fig.add_subplot(1,2,2)\n",
        "plt.boxplot(df_new['bedrooms'])\n",
        "    \n",
        "plt.show()"
      ]
    },
    {
      "cell_type": "code",
      "execution_count": null,
      "id": "bf83e8bb",
      "metadata": {
        "colab": {
          "base_uri": "https://localhost:8080/"
        },
        "id": "bf83e8bb",
        "outputId": "de14195b-c37d-44b2-c804-f58160f51e8d"
      },
      "outputs": [
        {
          "output_type": "stream",
          "name": "stdout",
          "text": [
            "Kuartil 1 =  3.0\n",
            "Kuartil 2 =  3.0\n",
            "Kuartil 3 =  4.0\n",
            "IQR =  1.0\n",
            "IQR minimum =  1.5\n",
            "IQR maksimum =  5.5\n",
            "Nilai minimum data =  0\n",
            "Nilai maksimum data =  33\n"
          ]
        }
      ],
      "source": [
        "# Hitung nilai Q1 dan Q3\n",
        "Q1 = np.quantile(df_new['bedrooms'], .25)\n",
        "Q2 = np.quantile(df_new['bedrooms'], .50)\n",
        "Q3 = np.quantile(df_new['bedrooms'], .75)\n",
        "IQR = Q3-Q1\n",
        "min_IQR = Q1-1.5*IQR\n",
        "max_IQR = Q3+1.5*IQR\n",
        "nilai_min = np.min(df_new['bedrooms'])\n",
        "nilai_max = np.max(df_new['bedrooms'])\n",
        "\n",
        "# Hitung nilai IQR\n",
        "print('Kuartil 1 = ', Q1)\n",
        "print('Kuartil 2 = ', Q2)\n",
        "print('Kuartil 3 = ', Q3)\n",
        "print('IQR = ', IQR)\n",
        "\n",
        "# Hitung min dan max IQR\n",
        "print('IQR minimum = ', min_IQR)\n",
        "print('IQR maksimum = ', max_IQR)\n",
        "\n",
        "# Hitung nilai min dan max data\n",
        "print('Nilai minimum data = ', nilai_min)\n",
        "print('Nilai maksimum data = ', nilai_max)"
      ]
    },
    {
      "cell_type": "code",
      "execution_count": null,
      "id": "3be03f22",
      "metadata": {
        "colab": {
          "base_uri": "https://localhost:8080/"
        },
        "id": "3be03f22",
        "outputId": "9891ad6d-c858-4e1b-8406-df40c7ad44a8"
      },
      "outputs": [
        {
          "output_type": "stream",
          "name": "stdout",
          "text": [
            "Ditemukan low outlier!\n",
            "Ditemukan high outlier!\n"
          ]
        }
      ],
      "source": [
        "# Mendefinisikan outlier data\n",
        "if (nilai_min < min_IQR):\n",
        "    print('Ditemukan low outlier!')\n",
        "else:\n",
        "    print('Tidak ditemukan low outlier!')  \n",
        "\n",
        "if (nilai_max > max_IQR):\n",
        "    print('Ditemukan high outlier!')\n",
        "else:\n",
        "    print('Tidak ditemukan high outlier!')"
      ]
    },
    {
      "cell_type": "code",
      "execution_count": null,
      "id": "67a356af",
      "metadata": {
        "colab": {
          "base_uri": "https://localhost:8080/"
        },
        "id": "67a356af",
        "outputId": "04c293b9-9797-4268-bd68-e7098f933cdc"
      },
      "outputs": [
        {
          "output_type": "stream",
          "name": "stdout",
          "text": [
            "Low outlier : \n",
            " [1, 1, 1, 1, 1, 1, 0, 1, 1, 1, 1, 1, 1, 1, 1, 1, 1, 1, 1, 1, 1, 1, 1, 1, 1, 1, 1, 1, 1, 0, 1, 1, 1, 1, 1, 0, 1, 1, 1, 1, 1, 1, 1, 1, 1, 1, 1, 1, 1, 1, 1, 1, 0, 1, 1, 1, 1, 1, 1, 1, 1, 1, 1, 1, 1, 1, 1, 1, 0, 1, 1, 1, 1, 1, 1, 1, 1, 1, 1, 1, 1, 1, 1, 1, 0, 0, 1, 1, 1, 1, 1, 1, 1, 1, 1, 1, 1, 1, 1, 1, 1, 1, 1, 1, 0, 1, 1, 0, 1, 1, 1, 1, 1, 1, 1, 1, 1, 1, 1, 1, 1, 1, 1, 1, 1, 1, 1, 1, 1, 1, 1, 1, 1, 1, 1, 1, 0, 1, 1, 1, 1, 1, 1, 1, 1, 1, 1, 1, 1, 1, 1, 1, 1, 1, 1, 0, 1, 1, 1, 1, 1, 1, 1, 1, 1, 1, 1, 1, 1, 1, 1, 1, 1, 1, 1, 1, 1, 1, 1, 1, 1, 1, 1, 1, 1, 1, 1, 0, 1, 1, 1, 1, 1, 1, 1, 1, 1, 1, 1, 0, 1, 1, 1, 1, 1, 1, 1, 1, 1, 1, 1, 1]\n",
            "High outlier : \n",
            " [6, 6, 6, 6, 6, 6, 7, 6, 6, 6, 6, 6, 7, 6, 6, 6, 6, 7, 6, 6, 6, 6, 6, 6, 6, 6, 6, 8, 6, 6, 6, 6, 6, 6, 6, 6, 6, 6, 6, 6, 6, 6, 6, 6, 6, 6, 6, 6, 6, 6, 6, 6, 6, 6, 6, 6, 6, 6, 6, 6, 6, 6, 6, 6, 6, 6, 7, 6, 6, 6, 6, 6, 7, 8, 8, 9, 6, 6, 9, 6, 6, 6, 6, 6, 6, 6, 6, 6, 7, 7, 7, 6, 6, 6, 6, 6, 6, 6, 6, 6, 6, 6, 6, 6, 6, 9, 6, 8, 6, 6, 6, 6, 6, 6, 6, 6, 6, 7, 6, 6, 6, 7, 6, 6, 6, 6, 6, 6, 6, 6, 6, 6, 6, 6, 6, 6, 7, 6, 6, 6, 6, 6, 6, 7, 9, 7, 6, 6, 11, 6, 6, 6, 8, 6, 6, 6, 7, 6, 6, 6, 6, 6, 8, 6, 6, 6, 6, 7, 6, 6, 7, 6, 6, 6, 6, 6, 6, 6, 6, 6, 7, 6, 6, 7, 8, 6, 6, 6, 6, 6, 6, 6, 6, 6, 6, 6, 6, 6, 6, 6, 6, 6, 6, 7, 6, 6, 6, 6, 6, 6, 7, 7, 7, 7, 6, 6, 8, 6, 6, 7, 6, 10, 6, 6, 6, 6, 6, 6, 6, 6, 6, 7, 6, 7, 6, 6, 6, 6, 6, 6, 6, 6, 7, 6, 7, 6, 8, 6, 6, 10, 6, 7, 6, 6, 6, 7, 6, 6, 8, 6, 7, 6, 6, 33, 6, 6, 6, 6, 7, 6, 6, 6, 6, 6, 7, 6, 9, 6, 6, 6, 6, 8, 7, 6, 6, 6, 6, 6, 6, 6, 6, 6, 6, 6, 6, 6, 9, 7, 8, 6, 6, 6, 7, 6, 6, 6, 7, 6, 6, 6, 6, 10, 6, 8, 7, 6, 6, 6, 6, 6, 6, 6, 6, 6, 6, 6, 6, 6, 6, 6, 6, 6, 6, 6]\n"
          ]
        }
      ],
      "source": [
        "# Tampilkan letak data outlier\n",
        "low_out = []\n",
        "high_out = []\n",
        "\n",
        "for i in df_new['bedrooms']:\n",
        "    if (i < min_IQR):\n",
        "        low_out.append(i)\n",
        "    if (i > max_IQR):\n",
        "        high_out.append(i)\n",
        "\n",
        "print('Low outlier : \\n', low_out)\n",
        "print('High outlier : \\n', high_out)"
      ]
    },
    {
      "cell_type": "code",
      "execution_count": null,
      "id": "0ddcd5f2",
      "metadata": {
        "colab": {
          "base_uri": "https://localhost:8080/",
          "height": 454
        },
        "id": "0ddcd5f2",
        "outputId": "0b335e38-31b4-43ea-9f2c-1d043f4b5ecf"
      },
      "outputs": [
        {
          "output_type": "stream",
          "name": "stderr",
          "text": [
            "/usr/local/lib/python3.7/dist-packages/seaborn/_decorators.py:43: FutureWarning: Pass the following variable as a keyword arg: x. From version 0.12, the only valid positional argument will be `data`, and passing other arguments without an explicit keyword will result in an error or misinterpretation.\n",
            "  FutureWarning\n"
          ]
        },
        {
          "output_type": "display_data",
          "data": {
            "text/plain": [
              "<Figure size 1296x432 with 2 Axes>"
            ],
            "image/png": "[encoded data removed]"
          },
          "metadata": {}
        }
      ],
      "source": [
        "fig = plt.figure(figsize=(18,6))\n",
        "\n",
        "sns.set(font_scale=1.1)\n",
        "\n",
        "fig.add_subplot(1,2,1)\n",
        "p = sns.countplot(df_new['bathrooms'], palette='RdPu')\n",
        "plt.ylabel('Total', fontsize=16)\n",
        "plt.xlabel('Jumlah Kamar Mandi', fontsize=16)\n",
        "\n",
        "fig.add_subplot(1,2,2)\n",
        "plt.boxplot(df_new['bathrooms'])\n",
        "    \n",
        "plt.show()"
      ]
    },
    {
      "cell_type": "code",
      "execution_count": null,
      "id": "ebcef54f",
      "metadata": {
        "colab": {
          "base_uri": "https://localhost:8080/"
        },
        "id": "ebcef54f",
        "outputId": "1ed2ec31-4ef2-48ec-a808-46a2d047ab51"
      },
      "outputs": [
        {
          "output_type": "stream",
          "name": "stdout",
          "text": [
            "Kuartil 1 =  1.75\n",
            "Kuartil 2 =  2.25\n",
            "Kuartil 3 =  2.5\n",
            "IQR =  0.75\n",
            "IQR minimum =  0.625\n",
            "IQR maksimum =  3.625\n",
            "Nilai minimum data =  0.0\n",
            "Nilai maksimum data =  8.0\n"
          ]
        }
      ],
      "source": [
        "# Hitung nilai Q1 dan Q3\n",
        "Q1 = np.quantile(df_new['bathrooms'], .25)\n",
        "Q2 = np.quantile(df_new['bathrooms'], .50)\n",
        "Q3 = np.quantile(df_new['bathrooms'], .75)\n",
        "IQR = Q3-Q1\n",
        "min_IQR = Q1-1.5*IQR\n",
        "max_IQR = Q3+1.5*IQR\n",
        "nilai_min = np.min(df_new['bathrooms'])\n",
        "nilai_max = np.max(df_new['bathrooms'])\n",
        "\n",
        "# Hitung nilai IQR\n",
        "print('Kuartil 1 = ', Q1)\n",
        "print('Kuartil 2 = ', Q2)\n",
        "print('Kuartil 3 = ', Q3)\n",
        "print('IQR = ', IQR)\n",
        "\n",
        "# Hitung min dan max IQR\n",
        "print('IQR minimum = ', min_IQR)\n",
        "print('IQR maksimum = ', max_IQR)\n",
        "\n",
        "# Hitung nilai min dan max data\n",
        "print('Nilai minimum data = ', nilai_min)\n",
        "print('Nilai maksimum data = ', nilai_max)"
      ]
    },
    {
      "cell_type": "code",
      "execution_count": null,
      "id": "731a47f9",
      "metadata": {
        "colab": {
          "base_uri": "https://localhost:8080/"
        },
        "id": "731a47f9",
        "outputId": "f01744e8-3fff-4019-ca0b-007990a083d7"
      },
      "outputs": [
        {
          "output_type": "stream",
          "name": "stdout",
          "text": [
            "Ditemukan low outlier!\n",
            "Ditemukan high outlier!\n"
          ]
        }
      ],
      "source": [
        "# Mendefinisikan outlier data\n",
        "if (nilai_min < min_IQR):\n",
        "    print('Ditemukan low outlier!')\n",
        "else:\n",
        "    print('Tidak ditemukan low outlier!')  \n",
        "\n",
        "if (nilai_max > max_IQR):\n",
        "    print('Ditemukan high outlier!')\n",
        "else:\n",
        "    print('Tidak ditemukan high outlier!')"
      ]
    },
    {
      "cell_type": "code",
      "execution_count": null,
      "id": "ec59f9f6",
      "metadata": {
        "colab": {
          "base_uri": "https://localhost:8080/"
        },
        "id": "ec59f9f6",
        "outputId": "dd739e9f-6919-4ac4-f400-a011ab510d08"
      },
      "outputs": [
        {
          "output_type": "stream",
          "name": "stdout",
          "text": [
            "Low outlier : \n",
            " [0.0, 0.0, 0.5, 0.0, 0.0, 0.0, 0.0, 0.0, 0.5, 0.0, 0.5, 0.5, 0.0, 0.0]\n",
            "High outlier : \n",
            " [4.5, 4.0, 4.0, 4.75, 5.0, 4.25, 4.5, 4.25, 3.75, 5.0, 4.0, 4.0, 4.25, 4.25, 4.25, 4.5, 4.5, 3.75, 4.5, 4.0, 4.5, 5.25, 4.0, 3.75, 4.5, 4.5, 4.25, 6.0, 3.75, 4.25, 4.0, 3.75, 3.75, 4.75, 5.0, 3.75, 3.75, 3.75, 5.0, 4.25, 3.75, 4.0, 4.25, 4.5, 3.75, 4.0, 3.75, 5.0, 3.75, 4.0, 3.75, 3.75, 4.25, 4.0, 4.25, 4.25, 4.5, 3.75, 4.0, 3.75, 5.0, 3.75, 4.0, 5.0, 5.0, 4.5, 5.5, 4.25, 4.0, 4.5, 3.75, 3.75, 4.5, 3.75, 5.5, 4.25, 5.5, 5.25, 4.25, 4.0, 4.5, 3.75, 3.75, 3.75, 3.75, 4.25, 4.5, 4.75, 3.75, 3.75, 3.75, 3.75, 3.75, 4.5, 4.25, 4.0, 4.75, 4.75, 3.75, 4.5, 4.0, 3.75, 3.75, 4.0, 4.0, 3.75, 4.75, 4.5, 3.75, 6.75, 6.0, 4.5, 5.5, 4.5, 3.75, 4.0, 4.25, 3.75, 5.75, 3.75, 4.0, 4.0, 4.0, 5.25, 4.75, 4.0, 4.25, 3.75, 4.0, 4.0, 5.25, 3.75, 3.75, 3.75, 4.5, 5.0, 3.75, 3.75, 4.5, 4.0, 3.75, 3.75, 4.0, 4.75, 3.75, 4.25, 5.0, 3.75, 4.0, 4.25, 4.0, 4.0, 4.5, 4.75, 4.0, 4.0, 4.0, 4.5, 3.75, 3.75, 4.5, 5.75, 4.75, 3.75, 4.0, 4.0, 3.75, 4.25, 4.25, 3.75, 4.5, 5.5, 4.0, 4.5, 4.5, 4.0, 4.5, 4.25, 8.0, 3.75, 4.25, 4.0, 3.75, 4.5, 3.75, 4.5, 4.5, 4.5, 4.0, 4.25, 5.0, 4.5, 4.25, 4.5, 6.75, 4.0, 3.75, 4.5, 4.25, 3.75, 4.5, 3.75, 3.75, 4.0, 7.5, 4.0, 4.0, 4.0, 4.25, 3.75, 4.5, 3.75, 4.25, 4.25, 4.5, 4.5, 4.25, 7.75, 4.25, 4.75, 4.0, 4.0, 4.25, 4.0, 4.0, 4.5, 4.25, 4.0, 4.5, 4.25, 4.0, 4.25, 3.75, 4.0, 4.0, 4.0, 4.0, 4.5, 3.75, 4.25, 4.0, 3.75, 5.0, 3.75, 4.25, 3.75, 4.0, 4.0, 3.75, 5.5, 4.0, 3.75, 4.25, 3.75, 3.75, 4.5, 4.0, 4.0, 4.25, 4.0, 4.5, 4.5, 4.5, 3.75, 4.25, 3.75, 4.5, 3.75, 4.25, 4.0, 4.5, 3.75, 4.25, 4.5, 4.5, 4.25, 4.0, 4.0, 3.75, 4.5, 4.5, 3.75, 4.25, 3.75, 3.75, 4.0, 4.75, 4.5, 4.5, 4.0, 3.75, 4.0, 6.0, 3.75, 4.0, 4.25, 4.0, 3.75, 4.25, 4.0, 4.5, 3.75, 4.0, 3.75, 4.5, 8.0, 4.25, 3.75, 4.0, 4.5, 4.25, 5.0, 5.25, 3.75, 4.5, 4.0, 4.75, 4.0, 4.5, 3.75, 4.0, 5.5, 3.75, 4.75, 4.0, 4.0, 3.75, 3.75, 4.25, 4.5, 4.25, 4.5, 6.25, 3.75, 4.0, 4.0, 3.75, 3.75, 3.75, 4.5, 5.0, 4.0, 4.5, 4.0, 4.25, 4.5, 3.75, 4.0, 3.75, 4.5, 4.75, 4.75, 4.0, 4.0, 3.75, 3.75, 3.75, 3.75, 4.75, 3.75, 3.75, 5.25, 3.75, 5.75, 4.5, 5.0, 4.5, 5.0, 3.75, 3.75, 4.5, 3.75, 4.25, 4.25, 4.0, 3.75, 4.0, 4.25, 5.0, 3.75, 4.0, 4.0, 4.0, 5.75, 5.25, 3.75, 3.75, 4.5, 4.0, 4.0, 5.25, 4.5, 4.0, 3.75, 4.25, 4.0, 4.25, 4.5, 4.0, 4.25, 4.0, 4.25, 4.5, 3.75, 4.25, 4.0, 4.5, 4.0, 4.5, 3.75, 5.25, 4.0, 3.75, 3.75, 4.0, 3.75, 4.5, 4.5, 3.75, 5.25, 6.25, 4.0, 4.75, 4.75, 5.0, 5.25, 4.5, 4.0, 3.75, 4.0, 4.0, 4.5, 3.75, 4.0, 3.75, 5.5, 4.25, 4.0, 4.25, 3.75, 6.0, 4.25, 3.75, 4.25, 4.25, 4.5, 4.5, 4.0, 4.0, 3.75, 5.0, 3.75, 3.75, 3.75, 4.25, 3.75, 4.0, 3.75, 4.5, 4.0, 4.0, 4.25, 4.25, 4.5, 4.0, 4.5, 3.75, 4.0, 4.5, 4.0, 4.5, 4.0, 4.25, 4.75, 3.75, 4.75, 4.0, 4.0, 3.75, 4.5, 5.25, 4.5, 4.5, 3.75, 3.75, 3.75, 4.0, 3.75, 3.75, 5.5, 4.5, 4.25, 4.5, 4.5, 4.25, 4.0, 4.0, 4.0, 4.25, 3.75, 4.25, 4.25, 3.75, 3.75, 4.0, 5.5, 3.75, 4.0, 3.75, 3.75, 4.5, 4.5, 4.25, 4.0, 6.5, 4.5, 3.75, 3.75, 4.0, 4.75, 3.75, 3.75, 4.0, 4.0, 3.75, 5.25, 4.25, 4.5, 5.0, 4.0, 4.0, 6.0, 5.0, 4.0, 4.0, 4.5, 3.75, 4.75, 4.25, 6.0, 3.75, 3.75, 3.75, 4.0, 4.0, 4.5, 4.25, 6.5, 3.75, 4.0, 3.75, 4.0, 4.5, 4.0, 4.5, 3.75, 3.75]\n"
          ]
        }
      ],
      "source": [
        "# Tampilkan letak data outlier\n",
        "low_out = []\n",
        "high_out = []\n",
        "\n",
        "for i in df_new['bathrooms']:\n",
        "    if (i < min_IQR):\n",
        "        low_out.append(i)\n",
        "    if (i > max_IQR):\n",
        "        high_out.append(i)\n",
        "\n",
        "print('Low outlier : \\n', low_out)\n",
        "print('High outlier : \\n', high_out)"
      ]
    },
    {
      "cell_type": "code",
      "execution_count": null,
      "id": "62481295",
      "metadata": {
        "colab": {
          "base_uri": "https://localhost:8080/",
          "height": 399
        },
        "id": "62481295",
        "outputId": "94385dee-f26f-4d08-963b-8f4a0aad39ce"
      },
      "outputs": [
        {
          "output_type": "display_data",
          "data": {
            "text/plain": [
              "<Figure size 1296x432 with 2 Axes>"
            ],
            "image/png": "[encoded data removed]"
          },
          "metadata": {}
        }
      ],
      "source": [
        "f = plt.figure(figsize=(18,6))\n",
        "\n",
        "sns.set(font_scale=1.1)\n",
        "\n",
        "f.add_subplot(1,2,1)\n",
        "# df_new['sqft_living'].plot(kind='kde')\n",
        "df_new['sqft_living'].hist(density=True, alpha=0.3)\n",
        "plt.ylabel('Density', fontsize=16)\n",
        "plt.xlabel('Luas Bagian Dalam Rumah', fontsize=16)\n",
        "\n",
        "f.add_subplot(1,2,2)\n",
        "plt.boxplot(df_new['sqft_living'])\n",
        "plt.show()"
      ]
    },
    {
      "cell_type": "code",
      "execution_count": null,
      "id": "559b80e6",
      "metadata": {
        "colab": {
          "base_uri": "https://localhost:8080/"
        },
        "id": "559b80e6",
        "outputId": "f3d1769d-a952-46aa-bc85-1426c92fcffc"
      },
      "outputs": [
        {
          "output_type": "stream",
          "name": "stdout",
          "text": [
            "Kuartil 1 =  1426.0\n",
            "Kuartil 2 =  1910.0\n",
            "Kuartil 3 =  2550.0\n",
            "IQR =  1124.0\n",
            "IQR minimum =  -260.0\n",
            "IQR maksimum =  4236.0\n",
            "Nilai minimum data =  290\n",
            "Nilai maksimum data =  13540\n"
          ]
        }
      ],
      "source": [
        "# Hitung nilai Q1 dan Q3\n",
        "Q1 = np.quantile(df_new['sqft_living'], .25)\n",
        "Q2 = np.quantile(df_new['sqft_living'], .50)\n",
        "Q3 = np.quantile(df_new['sqft_living'], .75)\n",
        "IQR = Q3-Q1\n",
        "min_IQR = Q1-1.5*IQR\n",
        "max_IQR = Q3+1.5*IQR\n",
        "nilai_min = np.min(df_new['sqft_living'])\n",
        "nilai_max = np.max(df_new['sqft_living'])\n",
        "\n",
        "# Hitung nilai IQR\n",
        "print('Kuartil 1 = ', Q1)\n",
        "print('Kuartil 2 = ', Q2)\n",
        "print('Kuartil 3 = ', Q3)\n",
        "print('IQR = ', IQR)\n",
        "\n",
        "# Hitung min dan max IQR\n",
        "print('IQR minimum = ', min_IQR)\n",
        "print('IQR maksimum = ', max_IQR)\n",
        "\n",
        "# Hitung nilai min dan max data\n",
        "print('Nilai minimum data = ', nilai_min)\n",
        "print('Nilai maksimum data = ', nilai_max)"
      ]
    },
    {
      "cell_type": "code",
      "execution_count": null,
      "id": "725150c5",
      "metadata": {
        "colab": {
          "base_uri": "https://localhost:8080/"
        },
        "id": "725150c5",
        "outputId": "b2f089d4-9e19-4469-9f34-fe1ce61b058c"
      },
      "outputs": [
        {
          "output_type": "stream",
          "name": "stdout",
          "text": [
            "Tidak ditemukan low outlier!\n",
            "Ditemukan high outlier!\n"
          ]
        }
      ],
      "source": [
        "# Mendefinisikan outlier data\n",
        "if (nilai_min < min_IQR):\n",
        "    print('Ditemukan low outlier!')\n",
        "else:\n",
        "    print('Tidak ditemukan low outlier!')  \n",
        "\n",
        "if (nilai_max > max_IQR):\n",
        "    print('Ditemukan high outlier!')\n",
        "else:\n",
        "    print('Tidak ditemukan high outlier!')"
      ]
    },
    {
      "cell_type": "code",
      "execution_count": null,
      "id": "27d0b89e",
      "metadata": {
        "colab": {
          "base_uri": "https://localhost:8080/"
        },
        "id": "27d0b89e",
        "outputId": "d5a3f1c3-b8cb-4579-b62f-6ddf8eb7bb94"
      },
      "outputs": [
        {
          "output_type": "stream",
          "name": "stdout",
          "text": [
            "Low outlier : \n",
            " []\n",
            "High outlier : \n",
            " [5420, 4770, 4380, 5180, 4410, 5050, 5310, 4550, 4290, 4290, 4800, 6070, 4870, 4860, 4860, 4410, 4760, 6050, 4740, 5403, 4380, 4640, 6050, 4370, 4570, 4670, 4860, 4270, 4890, 4390, 4250, 5670, 4475, 6070, 4300, 4390, 8010, 4460, 4610, 4380, 4250, 4930, 7390, 4640, 5320, 8000, 6563, 4740, 5450, 4440, 4830, 4280, 4570, 4370, 5710, 5620, 5774, 4470, 4490, 5040, 5770, 5180, 6400, 4490, 6055, 4250, 6300, 4350, 4460, 4340, 4250, 5110, 4700, 4910, 4750, 6840, 4930, 5180, 5130, 6640, 5740, 7350, 4510, 4300, 4870, 5020, 4740, 5370, 4860, 6930, 6550, 6110, 4883, 5010, 4660, 4600, 4910, 5410, 4270, 4520, 5340, 5230, 5370, 4730, 4430, 5780, 6240, 10040, 4250, 5360, 4610, 7480, 5620, 4340, 7080, 5760, 4400, 4280, 9200, 4320, 4420, 4380, 4580, 5310, 4660, 4300, 4240, 5180, 6810, 4690, 5830, 4930, 5700, 5990, 5070, 4750, 4270, 4750, 5040, 4890, 4350, 4280, 6390, 4570, 4350, 4410, 4430, 4720, 5450, 4470, 6410, 6330, 4250, 4290, 5860, 5990, 4260, 4360, 4370, 4440, 4970, 4940, 7220, 5480, 4740, 4386, 5440, 4500, 4700, 4410, 4240, 4470, 4650, 5180, 5400, 4810, 4750, 4490, 7050, 4370, 4870, 6210, 4270, 12050, 4250, 4360, 4260, 5480, 4530, 5850, 4280, 4800, 4240, 4380, 4320, 5250, 4330, 4350, 5330, 4560, 4560, 4540, 7100, 4580, 5230, 9640, 4460, 4410, 5030, 5660, 4330, 5067, 5270, 5150, 4380, 4460, 6430, 4430, 4610, 4250, 4460, 4420, 5720, 4500, 4300, 4530, 5584, 9890, 5770, 5540, 5050, 5220, 4340, 4830, 4850, 5844, 5530, 4480, 5270, 5860, 5545, 4610, 4700, 4440, 5960, 4420, 5000, 6510, 4610, 5050, 4600, 7400, 5730, 4260, 4490, 5370, 4350, 4320, 4720, 5000, 5440, 6085, 4250, 5461, 4400, 4470, 6640, 4620, 5300, 4380, 4500, 4850, 4400, 4290, 4330, 4560, 5000, 4590, 5000, 6900, 4570, 5840, 4980, 4560, 4340, 5490, 4320, 7420, 4850, 4310, 4690, 4780, 4590, 4370, 5100, 6200, 4500, 4360, 5280, 7440, 4610, 4285, 4430, 4690, 4450, 4440, 4600, 13540, 6980, 4270, 4590, 4300, 4340, 4390, 5850, 4460, 4260, 4590, 6380, 4550, 7880, 4440, 4330, 4320, 4470, 4790, 4500, 5270, 5370, 4340, 5190, 4290, 4730, 5350, 7620, 4430, 6200, 4410, 5840, 4320, 5550, 5290, 5290, 5020, 5480, 8670, 4480, 4770, 4930, 4320, 4420, 5470, 5160, 4570, 4600, 4370, 4260, 4780, 4670, 5770, 4300, 4980, 4280, 6040, 5310, 4830, 4790, 5010, 7000, 4320, 5600, 6030, 4830, 4400, 5170, 4670, 4660, 4680, 4400, 4560, 4590, 5310, 5930, 4240, 4630, 4310, 4720, 4510, 4560, 4420, 4510, 5550, 4390, 4430, 4240, 5860, 5810, 4700, 4500, 4250, 5210, 5110, 5960, 4640, 7730, 4285, 4475, 4300, 4620, 4740, 4610, 5610, 4270, 4280, 5090, 4240, 4270, 4440, 5150, 4310, 4960, 4510, 4560, 5480, 5040, 5120, 4410, 5550, 6500, 4920, 4480, 4860, 5190, 4560, 4820, 5570, 4340, 4960, 5240, 8020, 4390, 4575, 5470, 5540, 5820, 4670, 4420, 4290, 7710, 5020, 4280, 7320, 4270, 4660, 4410, 4290, 4690, 4710, 6630, 5510, 4720, 5490, 4370, 6490, 4460, 5300, 4260, 4440, 4460, 5080, 4520, 4360, 4660, 4910, 4270, 5430, 4600, 4890, 4310, 4630, 5610, 4660, 4270, 5050, 5330, 4590, 4800, 7850, 4280, 4420, 4490, 4645, 4570, 4700, 5305, 4320, 4670, 4650, 5120, 5220, 4340, 4360, 5060, 4700, 4920, 4810, 5635, 4410, 4410, 5550, 4270, 4420, 4690, 4280, 6670, 6530, 4640, 5350, 6370, 4360, 4470, 5790, 6260, 4600, 4390, 5780, 4700, 4410, 4490, 4750, 4360, 5790, 6160, 4360, 4490, 5370, 4500, 5940, 4700, 4450, 5520, 4495, 4240, 5190, 7120, 4390, 4490, 4370, 5430, 5010, 4680, 5640, 6880, 4350, 4460, 4310, 5230, 4590, 4620, 4360, 7270, 4920, 5150, 4300, 5090, 4420, 4410, 4350, 4500, 4850, 4910, 4470]\n"
          ]
        }
      ],
      "source": [
        "# Tampilkan letak data outlier\n",
        "low_out = []\n",
        "high_out = []\n",
        "\n",
        "for i in df_new['sqft_living']:\n",
        "    if (i < min_IQR):\n",
        "        low_out.append(i)\n",
        "    if (i > max_IQR):\n",
        "        high_out.append(i)\n",
        "\n",
        "print('Low outlier : \\n', low_out)\n",
        "print('High outlier : \\n', high_out)"
      ]
    },
    {
      "cell_type": "code",
      "execution_count": null,
      "id": "ef5305d1",
      "metadata": {
        "scrolled": false,
        "colab": {
          "base_uri": "https://localhost:8080/",
          "height": 454
        },
        "id": "ef5305d1",
        "outputId": "bf7454da-f5e3-4b58-d569-ded5c9649d3e"
      },
      "outputs": [
        {
          "output_type": "stream",
          "name": "stderr",
          "text": [
            "/usr/local/lib/python3.7/dist-packages/seaborn/_decorators.py:43: FutureWarning: Pass the following variable as a keyword arg: x. From version 0.12, the only valid positional argument will be `data`, and passing other arguments without an explicit keyword will result in an error or misinterpretation.\n",
            "  FutureWarning\n"
          ]
        },
        {
          "output_type": "display_data",
          "data": {
            "text/plain": [
              "<Figure size 1296x432 with 2 Axes>"
            ],
            "image/png": "[encoded data removed]"
          },
          "metadata": {}
        }
      ],
      "source": [
        "fig = plt.figure(figsize=(18,6))\n",
        "\n",
        "sns.set(font_scale=1.1)\n",
        "\n",
        "fig.add_subplot(1,2,1)\n",
        "p = sns.countplot(df_new['grade'], palette='RdPu')\n",
        "plt.ylabel('Total', fontsize=16)\n",
        "plt.xlabel('Grade', fontsize=16)\n",
        "\n",
        "fig.add_subplot(1,2,2)\n",
        "plt.boxplot(df_new['grade'])\n",
        "    \n",
        "plt.show()"
      ]
    },
    {
      "cell_type": "code",
      "execution_count": null,
      "id": "6bb95d3a",
      "metadata": {
        "colab": {
          "base_uri": "https://localhost:8080/"
        },
        "id": "6bb95d3a",
        "outputId": "5f21dfe2-2114-4d7e-9357-ca4c40940fcb"
      },
      "outputs": [
        {
          "output_type": "stream",
          "name": "stdout",
          "text": [
            "Kuartil 1 =  7.0\n",
            "Kuartil 2 =  7.0\n",
            "Kuartil 3 =  8.0\n",
            "IQR =  1.0\n",
            "IQR minimum =  5.5\n",
            "IQR maksimum =  9.5\n",
            "Nilai minimum data =  1\n",
            "Nilai maksimum data =  13\n"
          ]
        }
      ],
      "source": [
        "# Hitung nilai Q1 dan Q3\n",
        "Q1 = np.quantile(df_new['grade'], .25)\n",
        "Q2 = np.quantile(df_new['grade'], .50)\n",
        "Q3 = np.quantile(df_new['grade'], .75)\n",
        "IQR = Q3-Q1\n",
        "min_IQR = Q1-1.5*IQR\n",
        "max_IQR = Q3+1.5*IQR\n",
        "nilai_min = np.min(df_new['grade'])\n",
        "nilai_max = np.max(df_new['grade'])\n",
        "\n",
        "# Hitung nilai IQR\n",
        "print('Kuartil 1 = ', Q1)\n",
        "print('Kuartil 2 = ', Q2)\n",
        "print('Kuartil 3 = ', Q3)\n",
        "print('IQR = ', IQR)\n",
        "\n",
        "# Hitung min dan max IQR\n",
        "print('IQR minimum = ', min_IQR)\n",
        "print('IQR maksimum = ', max_IQR)\n",
        "\n",
        "# Hitung nilai min dan max data\n",
        "print('Nilai minimum data = ', nilai_min)\n",
        "print('Nilai maksimum data = ', nilai_max)"
      ]
    },
    {
      "cell_type": "code",
      "execution_count": null,
      "id": "c9a83803",
      "metadata": {
        "colab": {
          "base_uri": "https://localhost:8080/"
        },
        "id": "c9a83803",
        "outputId": "b338d0e2-c5c4-4f3e-897d-cc8f8c499bdd"
      },
      "outputs": [
        {
          "output_type": "stream",
          "name": "stdout",
          "text": [
            "Ditemukan low outlier!\n",
            "Ditemukan high outlier!\n"
          ]
        }
      ],
      "source": [
        "# Mendefinisikan outlier data\n",
        "if (nilai_min < min_IQR):\n",
        "    print('Ditemukan low outlier!')\n",
        "else:\n",
        "    print('Tidak ditemukan low outlier!')  \n",
        "\n",
        "if (nilai_max > max_IQR):\n",
        "    print('Ditemukan high outlier!')\n",
        "else:\n",
        "    print('Tidak ditemukan high outlier!')"
      ]
    },
    {
      "cell_type": "code",
      "execution_count": null,
      "id": "5594b04c",
      "metadata": {
        "colab": {
          "base_uri": "https://localhost:8080/"
        },
        "id": "5594b04c",
        "outputId": "5e6cbaff-32c5-49fa-ad72-de0318a219d4"
      },
      "outputs": [
        {
          "output_type": "stream",
          "name": "stdout",
          "text": [
            "Low outlier : \n",
            " [5, 5, 5, 5, 4, 5, 4, 5, 5, 5, 5, 5, 5, 5, 5, 4, 5, 5, 5, 3, 5, 5, 5, 5, 5, 5, 5, 5, 5, 5, 5, 5, 5, 5, 3, 5, 5, 5, 5, 5, 5, 5, 4, 5, 5, 5, 5, 5, 5, 4, 5, 5, 5, 5, 5, 5, 5, 5, 5, 5, 5, 5, 5, 5, 4, 5, 4, 5, 5, 5, 5, 5, 5, 5, 5, 5, 5, 5, 5, 5, 5, 3, 5, 5, 5, 5, 5, 5, 5, 5, 5, 5, 5, 4, 5, 5, 5, 5, 5, 5, 5, 5, 5, 5, 5, 5, 5, 5, 5, 4, 5, 5, 5, 5, 5, 5, 5, 5, 5, 4, 5, 5, 4, 4, 5, 5, 5, 5, 5, 5, 5, 5, 4, 4, 5, 5, 5, 5, 5, 5, 5, 5, 5, 5, 5, 5, 5, 5, 5, 5, 5, 5, 4, 5, 4, 5, 5, 5, 5, 5, 4, 5, 5, 5, 5, 5, 5, 5, 5, 5, 5, 5, 5, 5, 5, 5, 5, 5, 5, 5, 5, 5, 5, 5, 5, 5, 5, 5, 4, 5, 5, 4, 5, 5, 5, 5, 5, 5, 5, 5, 4, 5, 5, 5, 5, 5, 5, 4, 5, 5, 5, 5, 5, 5, 5, 5, 5, 5, 4, 5, 5, 5, 5, 4, 5, 5, 4, 5, 5, 5, 5, 5, 5, 5, 5, 5, 5, 5, 4, 5, 5, 5, 5, 5, 5, 5, 5, 5, 5, 5, 5, 5, 5, 5, 5, 5, 4, 5, 4, 5, 5, 4, 5, 5, 5, 5, 5, 5, 5, 5, 5, 4, 5, 1, 5]\n",
            "High outlier : \n",
            " [11, 10, 11, 10, 10, 10, 10, 12, 10, 10, 10, 10, 10, 10, 10, 11, 11, 10, 10, 10, 11, 11, 10, 10, 10, 11, 10, 10, 12, 11, 10, 10, 10, 10, 10, 10, 11, 11, 10, 10, 10, 11, 10, 12, 11, 10, 10, 11, 10, 10, 11, 10, 11, 10, 10, 12, 11, 10, 10, 10, 11, 12, 11, 10, 10, 10, 10, 10, 10, 10, 10, 10, 10, 10, 10, 11, 10, 11, 10, 11, 11, 10, 10, 10, 12, 11, 10, 10, 10, 10, 10, 10, 10, 12, 11, 12, 10, 10, 11, 10, 10, 11, 10, 10, 12, 10, 10, 11, 10, 10, 10, 10, 10, 10, 10, 11, 10, 10, 10, 10, 10, 10, 10, 10, 11, 12, 10, 10, 10, 10, 10, 10, 11, 11, 10, 10, 11, 10, 11, 10, 10, 10, 11, 10, 11, 10, 11, 10, 10, 10, 10, 10, 10, 11, 10, 10, 10, 10, 11, 11, 11, 10, 11, 10, 10, 10, 10, 10, 12, 12, 10, 12, 10, 10, 11, 10, 10, 10, 10, 11, 10, 11, 11, 10, 11, 10, 10, 10, 10, 10, 10, 10, 11, 10, 12, 11, 10, 10, 11, 10, 11, 10, 10, 10, 10, 10, 10, 10, 12, 10, 10, 10, 10, 10, 10, 10, 10, 10, 10, 12, 11, 12, 10, 10, 11, 11, 10, 11, 10, 12, 10, 10, 10, 10, 10, 10, 10, 11, 11, 10, 11, 10, 11, 10, 10, 10, 10, 10, 11, 11, 11, 10, 10, 10, 10, 10, 10, 11, 10, 11, 10, 11, 10, 10, 10, 10, 10, 11, 10, 10, 10, 10, 10, 11, 11, 10, 11, 10, 10, 11, 11, 10, 12, 10, 10, 10, 11, 10, 11, 10, 11, 10, 11, 12, 10, 12, 10, 11, 10, 10, 11, 10, 10, 10, 10, 11, 11, 10, 13, 10, 10, 10, 11, 10, 10, 11, 11, 11, 10, 10, 10, 10, 10, 11, 10, 10, 10, 10, 10, 10, 10, 11, 11, 11, 10, 10, 10, 10, 10, 13, 10, 10, 11, 10, 10, 10, 10, 11, 10, 10, 10, 10, 11, 10, 10, 11, 10, 10, 11, 11, 10, 10, 10, 10, 10, 10, 10, 11, 11, 10, 10, 10, 10, 11, 11, 11, 10, 10, 10, 10, 10, 10, 10, 10, 10, 10, 13, 10, 10, 10, 10, 10, 11, 11, 10, 10, 10, 10, 10, 10, 11, 10, 10, 10, 10, 11, 10, 11, 10, 12, 12, 11, 11, 10, 11, 10, 10, 11, 11, 10, 10, 10, 11, 10, 10, 11, 10, 10, 11, 12, 10, 13, 10, 10, 10, 10, 11, 11, 10, 10, 10, 10, 11, 10, 10, 10, 10, 11, 11, 10, 10, 10, 10, 10, 10, 10, 10, 10, 10, 11, 10, 11, 10, 10, 11, 10, 10, 11, 11, 12, 11, 10, 11, 11, 10, 11, 10, 12, 10, 12, 10, 11, 10, 10, 10, 10, 10, 10, 11, 11, 11, 10, 10, 10, 10, 10, 10, 12, 11, 11, 12, 11, 11, 10, 13, 10, 11, 10, 10, 11, 10, 10, 10, 10, 11, 10, 10, 10, 13, 11, 12, 12, 10, 10, 10, 10, 10, 10, 11, 10, 12, 10, 10, 10, 10, 10, 10, 11, 10, 10, 11, 10, 10, 11, 10, 10, 11, 10, 10, 10, 12, 10, 10, 10, 11, 10, 10, 10, 10, 11, 11, 10, 10, 10, 10, 10, 10, 11, 12, 12, 11, 11, 10, 11, 10, 13, 10, 11, 10, 10, 11, 12, 11, 11, 10, 10, 10, 11, 11, 10, 10, 10, 10, 10, 10, 10, 10, 10, 10, 11, 10, 12, 11, 11, 10, 10, 11, 10, 10, 10, 10, 10, 12, 10, 10, 11, 10, 10, 10, 11, 11, 10, 10, 11, 10, 10, 10, 10, 10, 10, 10, 10, 10, 10, 10, 10, 10, 11, 10, 10, 10, 10, 10, 10, 10, 10, 11, 13, 12, 11, 11, 10, 10, 10, 11, 10, 10, 10, 11, 11, 10, 10, 10, 11, 10, 10, 11, 10, 10, 10, 10, 10, 10, 11, 10, 10, 10, 10, 10, 11, 11, 10, 10, 10, 10, 10, 10, 10, 10, 10, 10, 10, 10, 10, 10, 11, 10, 11, 11, 10, 10, 10, 10, 10, 10, 10, 10, 10, 10, 11, 11, 10, 13, 10, 11, 10, 10, 10, 10, 10, 11, 10, 12, 10, 10, 10, 10, 10, 10, 10, 10, 10, 11, 10, 11, 10, 10, 11, 10, 11, 10, 10, 10, 10, 10, 11, 11, 10, 10, 11, 10, 11, 12, 10, 10, 10, 10, 10, 12, 10, 11, 10, 10, 11, 10, 10, 10, 10, 11, 12, 11, 10, 10, 10, 10, 11, 10, 12, 10, 10, 11, 10, 10, 10, 10, 11, 10, 11, 10, 11, 11, 12, 10, 10, 10, 10, 10, 10, 10, 11, 10, 10, 11, 10, 11, 10, 11, 11, 11, 10, 10, 10, 10, 11, 10, 10, 10, 12, 12, 10, 10, 11, 12, 12, 10, 10, 10, 12, 10, 10, 10, 10, 10, 10, 10, 10, 10, 11, 10, 10, 10, 10, 10, 11, 11, 10, 10, 10, 10, 10, 10, 11, 10, 10, 10, 10, 10, 11, 10, 10, 10, 10, 11, 10, 11, 11, 10, 10, 10, 10, 10, 11, 10, 12, 11, 11, 11, 10, 10, 11, 10, 10, 10, 10, 10, 12, 10, 10, 10, 10, 10, 10, 10, 12, 10, 10, 10, 10, 12, 11, 10, 10, 10, 10, 10, 10, 10, 11, 10, 10, 10, 11, 10, 10, 10, 10, 10, 10, 10, 11, 11, 10, 10, 10, 10, 10, 10, 11, 11, 11, 10, 10, 10, 10, 10, 12, 13, 10, 10, 11, 11, 10, 10, 11, 10, 10, 10, 10, 11, 10, 10, 10, 12, 11, 10, 11, 11, 10, 10, 10, 11, 10, 10, 10, 10, 11, 13, 11, 12, 10, 10, 11, 10, 10, 11, 10, 11, 10, 10, 10, 10, 10, 10, 10, 10, 10, 10, 11, 11, 10, 10, 11, 10, 11, 11, 10, 11, 10, 10, 10, 11, 10, 10, 11, 11, 11, 10, 10, 10, 10, 12, 11, 10, 10, 10, 10, 10, 11, 10, 13, 10, 10, 10, 10, 10, 11, 12, 12, 10, 10, 10, 10, 10, 10, 11, 10, 10, 12, 11, 10, 10, 11, 10, 11, 11, 11, 10, 10, 10, 10, 10, 11, 10, 10, 11, 10, 11, 10, 10, 10, 10, 12, 10, 11, 10, 10, 11, 10, 11, 10, 10, 10, 11, 11, 11, 10, 12, 10, 10, 12, 10, 10, 10, 10, 12, 10, 10, 11, 10, 10, 11, 10, 11, 12, 10, 11, 10, 11, 11, 10, 12, 10, 10, 10, 10, 10, 10, 10, 11, 10, 12, 11, 10, 11, 10, 10, 11, 10, 10, 10, 11, 10, 12, 10, 10, 10, 10, 10, 10, 10, 10, 10, 12, 12, 10, 10, 10, 11, 11, 10, 10, 10, 10, 12, 10, 10, 10, 10, 10, 10, 11, 11, 10, 10, 10, 10, 11, 10, 10, 10, 10, 10, 10, 10, 10, 11, 12, 10, 10, 10, 10, 11, 10, 10, 10, 10, 10, 10, 10, 11, 11, 11, 10, 10, 10, 12, 10, 10, 10, 12, 10, 11, 10, 10, 11, 11, 11, 11, 10, 11, 11, 10, 10, 12, 10, 10, 10, 10, 10, 10, 10, 10, 10, 10, 10, 10, 10, 10, 10, 10, 10, 10, 11, 10, 10, 10, 11, 10, 10, 10, 10, 10, 11, 10, 10, 10, 10, 10, 11, 10, 10, 10, 10, 10, 11, 10, 11, 10, 10, 10, 10, 11, 10, 10, 11, 11, 10, 10, 10, 10, 10, 11, 11, 10, 10, 11, 11, 10, 10, 11, 12, 10, 10, 11, 10, 10, 10, 10, 11, 11, 10, 11, 10, 10, 11, 11, 11, 10, 11, 10, 10, 10, 11, 10, 10, 10, 11, 10, 10, 10, 10, 11, 10, 10, 11, 11, 11, 12, 10, 10, 10, 10, 11, 10, 10, 12, 12, 10, 10, 10, 10, 11, 10, 10, 10, 10, 11, 10, 11, 10, 10, 10, 12, 10, 11, 10, 10, 10, 10, 11, 10, 10, 10, 10, 10, 10, 10, 10, 10, 10, 13, 10, 10, 10, 11, 10, 12, 10, 10, 11, 10, 10, 10, 11, 11, 11, 11, 10, 11, 10, 11, 10, 10, 10, 10, 11, 10, 12, 10, 10, 10, 10, 10, 10, 10, 11, 10, 10, 10, 10, 11, 10, 11, 10, 10, 10, 10, 10, 11, 11, 10, 10, 10, 10, 10, 10, 10, 10, 10, 10, 11, 10, 10, 12, 11, 10, 11, 10, 10, 10, 11, 11, 10, 11, 10, 10, 10, 10, 10, 12, 10, 10, 10, 10, 10, 10, 10, 10, 10, 10, 10, 10, 10, 10, 10, 10, 10, 11, 11, 11, 10, 10, 10, 11, 11, 10, 11, 11, 11, 10, 10, 11, 10, 10, 10, 10, 10, 10, 10, 10, 10, 10, 10, 11, 10, 11, 10, 10, 10, 10, 11, 10, 10, 10, 11, 11, 11, 11, 10, 11, 10, 10, 10, 10, 10, 10, 10, 10, 12, 11, 10, 10, 11, 10, 10, 12, 10, 10, 10, 10, 10, 10, 10, 10, 11, 10, 10, 10, 11, 10, 10, 10, 10, 11, 10, 10, 11, 10, 10, 10, 10, 10, 10, 11, 10, 10, 10, 10, 11, 10, 10, 11, 11, 10, 10, 10, 10, 10, 10, 10, 11, 11, 11, 10, 11, 10, 10, 10, 10, 11, 11, 12, 10, 10, 10, 10, 10, 10, 10, 10, 10, 11, 10, 10, 10, 10, 10, 10, 10, 10, 10, 11, 10, 11, 10, 10, 10, 11, 11, 10, 10, 10, 11, 12, 10, 10, 10, 10, 10, 10, 10, 10, 10, 10, 10, 10, 11, 10, 10, 10, 10, 10, 10, 10, 10, 10, 12, 11, 10, 10, 10, 11, 11, 11, 10, 11, 11, 10, 10, 10, 10, 10, 11, 10, 10, 11]\n"
          ]
        }
      ],
      "source": [
        "# Tampilkan letak data outlier\n",
        "low_out = []\n",
        "high_out = []\n",
        "\n",
        "for i in df_new['grade']:\n",
        "    if (i < min_IQR):\n",
        "        low_out.append(i)\n",
        "    if (i > max_IQR):\n",
        "        high_out.append(i)\n",
        "\n",
        "print('Low outlier : \\n', low_out)\n",
        "print('High outlier : \\n', high_out)"
      ]
    },
    {
      "cell_type": "code",
      "execution_count": null,
      "id": "2283df7d",
      "metadata": {
        "colab": {
          "base_uri": "https://localhost:8080/"
        },
        "id": "2283df7d",
        "outputId": "b01ff45e-e312-4290-c47f-450e1e7cf2b3"
      },
      "outputs": [
        {
          "output_type": "execute_result",
          "data": {
            "text/plain": [
              "array([ 7,  6,  8, 11,  9,  5, 10, 12,  4,  3, 13,  1])"
            ]
          },
          "metadata": {},
          "execution_count": 37
        }
      ],
      "source": [
        "df_new['grade'].unique()"
      ]
    },
    {
      "cell_type": "code",
      "execution_count": null,
      "id": "a87ec925",
      "metadata": {
        "id": "a87ec925"
      },
      "outputs": [],
      "source": [
        "df_new['grade_cat'] = df.apply(\n",
        "    lambda x: 'Di atas 6' if x['grade'] > 6\n",
        "    else 'Di bawah 6', axis=1)"
      ]
    },
    {
      "cell_type": "code",
      "execution_count": null,
      "id": "88b6d958",
      "metadata": {
        "colab": {
          "base_uri": "https://localhost:8080/"
        },
        "id": "88b6d958",
        "outputId": "489659e9-2eda-4888-c95e-0586eed120d4"
      },
      "outputs": [
        {
          "output_type": "execute_result",
          "data": {
            "text/plain": [
              "Di atas 6     19298\n",
              "Di bawah 6     2313\n",
              "Name: grade_cat, dtype: int64"
            ]
          },
          "metadata": {},
          "execution_count": 39
        }
      ],
      "source": [
        "df_new['grade_cat'].value_counts()"
      ]
    },
    {
      "cell_type": "code",
      "execution_count": null,
      "id": "18fbda46",
      "metadata": {
        "scrolled": false,
        "colab": {
          "base_uri": "https://localhost:8080/",
          "height": 562
        },
        "id": "18fbda46",
        "outputId": "c082ac6c-3e17-4f6f-d344-c0dbce58be7a"
      },
      "outputs": [
        {
          "output_type": "stream",
          "name": "stderr",
          "text": [
            "/usr/local/lib/python3.7/dist-packages/seaborn/_decorators.py:43: FutureWarning: Pass the following variable as a keyword arg: x. From version 0.12, the only valid positional argument will be `data`, and passing other arguments without an explicit keyword will result in an error or misinterpretation.\n",
            "  FutureWarning\n"
          ]
        },
        {
          "output_type": "display_data",
          "data": {
            "text/plain": [
              "<Figure size 1440x576 with 2 Axes>"
            ],
            "image/png": "[encoded data removed]"
          },
          "metadata": {}
        }
      ],
      "source": [
        "f = plt.figure(figsize=(20,8))\n",
        "\n",
        "sns.set(font_scale=1.1)\n",
        "\n",
        "f.add_subplot(1,2,1)\n",
        "p = sns.countplot(df_new['grade_cat'], palette='RdPu')\n",
        "plt.ylabel('Total', fontsize=16)\n",
        "plt.xlabel('Grade', fontsize=16)\n",
        "\n",
        "f.add_subplot(1,2,2)\n",
        "labels = df_new['grade_cat'].unique()\n",
        "colors = sns.color_palette('RdPu')\n",
        "\n",
        "grade = df_new['grade_cat'].value_counts()\n",
        "plt.pie(grade, labels=labels, autopct='%.0f%%', \n",
        "        explode=[0.25, 0], colors=colors, shadow=True, textprops={'fontsize': 16})\n",
        "    \n",
        "plt.show()"
      ]
    },
    {
      "cell_type": "code",
      "execution_count": null,
      "id": "9c9688bb",
      "metadata": {
        "scrolled": true,
        "colab": {
          "base_uri": "https://localhost:8080/"
        },
        "id": "9c9688bb",
        "outputId": "641f0d2d-ab97-4b4b-e6fd-5765190e08b4"
      },
      "outputs": [
        {
          "output_type": "execute_result",
          "data": {
            "text/plain": [
              "array([1955, 1951, 1933, 1965, 1987, 2001, 1995, 1963, 1960, 2003, 1942,\n",
              "       1927, 1977, 1900, 1979, 1994, 1921, 1969, 1947, 1968, 1985, 1941,\n",
              "       1915, 1909, 1948, 2005, 1929, 1981, 1930, 1904, 1996, 2000, 1984,\n",
              "       2014, 1922, 1959, 1966, 1953, 1950, 2008, 1991, 1954, 1973, 1925,\n",
              "       1989, 1972, 1916, 1986, 1956, 2002, 1992, 1964, 1952, 1961, 2006,\n",
              "       1988, 1962, 1939, 1946, 1967, 1975, 1980, 1910, 1983, 1978, 1905,\n",
              "       1971, 2010, 1945, 1924, 1990, 1914, 1926, 2004, 1923, 2007, 1976,\n",
              "       1949, 1999, 1901, 1993, 1920, 1997, 1943, 1957, 1940, 1918, 1928,\n",
              "       1974, 1911, 1936, 1937, 1982, 1908, 1931, 1998, 1913, 2013, 1907,\n",
              "       1958, 2012, 1912, 2011, 1917, 1932, 1944, 1902, 2009, 1903, 1970,\n",
              "       2015, 1934, 1938, 1919, 1906, 1935])"
            ]
          },
          "metadata": {},
          "execution_count": 41
        }
      ],
      "source": [
        "#tahun properti dibangun\n",
        "df_new['yr_built'].unique()"
      ]
    },
    {
      "cell_type": "code",
      "execution_count": null,
      "id": "1287f8a0",
      "metadata": {
        "id": "1287f8a0"
      },
      "outputs": [],
      "source": [
        "df_new['yr_built_cat'] = df.apply(\n",
        "    lambda x: 'Di atas tahun 2000' if x['yr_built'] > 2000\n",
        "    else 'Di bawah tahun 2000', axis=1)"
      ]
    },
    {
      "cell_type": "code",
      "execution_count": null,
      "id": "08d7be1c",
      "metadata": {
        "colab": {
          "base_uri": "https://localhost:8080/"
        },
        "id": "08d7be1c",
        "outputId": "073d60ab-e3a2-4cd4-eeb4-0605a344661f"
      },
      "outputs": [
        {
          "output_type": "execute_result",
          "data": {
            "text/plain": [
              "Di bawah tahun 2000    17070\n",
              "Di atas tahun 2000      4541\n",
              "Name: yr_built_cat, dtype: int64"
            ]
          },
          "metadata": {},
          "execution_count": 43
        }
      ],
      "source": [
        "df_new['yr_built_cat'].value_counts()"
      ]
    },
    {
      "cell_type": "code",
      "execution_count": null,
      "id": "e49350b4",
      "metadata": {
        "id": "e49350b4"
      },
      "outputs": [],
      "source": [
        "f = plt.figure(figsize=(20,8))\n",
        "\n",
        "sns.set(font_scale=1.1)\n",
        "\n",
        "f.add_subplot(1,2,1)\n",
        "p = sns.countplot(df_new['yr_built_cat'], palette='RdPu')\n",
        "plt.ylabel('Total', fontsize=16)\n",
        "plt.xlabel('Tahun Bangunan', fontsize=16)\n",
        "\n",
        "f.add_subplot(1,2,2)\n",
        "labels = df_new['yr_built_cat'].unique()\n",
        "colors = sns.color_palette('RdPu')\n",
        "\n",
        "grade = df_new['yr_built_cat'].value_counts()\n",
        "plt.pie(grade, labels=labels, autopct='%.0f%%', \n",
        "        explode=[0.25, 0], colors=colors, \n",
        "        shadow=True, textprops={'fontsize': 16})\n",
        "\n",
        "plt.show()"
      ]
    },
    {
      "cell_type": "code",
      "execution_count": null,
      "id": "64da5e0f",
      "metadata": {
        "colab": {
          "base_uri": "https://localhost:8080/",
          "height": 446
        },
        "id": "64da5e0f",
        "outputId": "8565e003-ebb1-4386-8955-e12e0cd47f01"
      },
      "outputs": [
        {
          "output_type": "display_data",
          "data": {
            "text/plain": [
              "<Figure size 1440x1080 with 2 Axes>"
            ],
            "image/png": "[encoded data removed]"
          },
          "metadata": {}
        }
      ],
      "source": [
        "g = plt.figure(figsize=(20,15))\n",
        "\n",
        "sns.set(font_scale=1.1)\n",
        "\n",
        "g.add_subplot(2,2,1)\n",
        "df_new['yr_built'].hist(density=True, alpha=0.3)\n",
        "plt.ylabel('Density', fontsize=16)\n",
        "plt.xlabel('Tahun Bangunan', fontsize=16)\n",
        "\n",
        "g.add_subplot(2,2,2)\n",
        "plt.boxplot(df_new['yr_built'])\n",
        "\n",
        "plt.show()"
      ]
    },
    {
      "cell_type": "code",
      "source": [
        "#Count Plots\n",
        "def countPlotter(dataset):\n",
        "    \"\"\"\n",
        "    This function will take dataset and will create a countplot for each column in the dataset with price column\n",
        "    \"\"\"\n",
        "    fig = plt.figure(figsize=(20, 20))\n",
        "    for i in tqdm_notebook(range(len(dataset.columns)), desc = 'Generating Count Plots'):\n",
        "        if not dataset.columns[i] == 'price':\n",
        "            fig.add_subplot(np.ceil(len(dataset.columns)/2), 2, i)\n",
        "            sns.countplot(dataset[dataset.columns[i]],\n",
        "                          order=dataset[dataset.columns[i]].value_counts().index)\n",
        "\n",
        "            fig.tight_layout(pad=3.0)"
      ],
      "metadata": {
        "id": "4bnWu4Yd0zfE"
      },
      "id": "4bnWu4Yd0zfE",
      "execution_count": null,
      "outputs": []
    },
    {
      "cell_type": "code",
      "source": [
        "#Dividing data for plotting\n",
        "plot_data = df.drop(\n",
        "    ['id', 'date', 'sqft_living15', 'sqft_lot15', 'lat', 'long', 'sqft_living', 'sqft_lot', 'sqft_above', 'sqft_basement', 'yr_built', 'yr_renovated', 'zipcode'], axis=1)"
      ],
      "metadata": {
        "id": "w6UfQFQ4091w"
      },
      "id": "w6UfQFQ4091w",
      "execution_count": null,
      "outputs": []
    },
    {
      "cell_type": "code",
      "source": [
        "countPlotter(plot_data)"
      ],
      "metadata": {
        "colab": {
          "base_uri": "https://localhost:8080/",
          "height": 1000,
          "referenced_widgets": [
            "a705b0ea419b4567b8371878583585fc",
            "9b1dd2ca4691428a9aa2bbc04c86a7e0",
            "ebe51380d1d54779b9881b9c50c85034",
            "e4ed22e992c24f15a6d587b3c2a14d1f",
            "32ced10b58f14713b006b865be168e36",
            "cd22623812444b008230771bccca4551",
            "8f1a6842f334408baa5df812c1c7cc3c",
            "85f24ec71af84a60b176837593fc022d",
            "a5ff02a9f58c4aad962e5a1bab418786",
            "d45e92bc056b4d3cb05d662aca4c3420",
            "0e957c2aabee406eb49c0771bd1c26e3"
          ]
        },
        "id": "UBRh3tu11Byz",
        "outputId": "bef20010-6ab9-4659-a3c3-87bd702a076e"
      },
      "id": "UBRh3tu11Byz",
      "execution_count": null,
      "outputs": [
        {
          "output_type": "stream",
          "name": "stderr",
          "text": [
            "/usr/local/lib/python3.7/dist-packages/ipykernel_launcher.py:7: TqdmDeprecationWarning: This function will be removed in tqdm==5.0.0\n",
            "Please use `tqdm.notebook.tqdm` instead of `tqdm.tqdm_notebook`\n",
            "  import sys\n"
          ]
        },
        {
          "output_type": "display_data",
          "data": {
            "text/plain": [
              "Generating Count Plots:   0%|          | 0/8 [00:00<?, ?it/s]"
            ],
            "application/vnd.jupyter.widget-view+json": {
              "version_major": 2,
              "version_minor": 0,
              "model_id": "a705b0ea419b4567b8371878583585fc"
            }
          },
          "metadata": {}
        },
        {
          "output_type": "stream",
          "name": "stderr",
          "text": [
            "/usr/local/lib/python3.7/dist-packages/seaborn/_decorators.py:43: FutureWarning: Pass the following variable as a keyword arg: x. From version 0.12, the only valid positional argument will be `data`, and passing other arguments without an explicit keyword will result in an error or misinterpretation.\n",
            "  FutureWarning\n",
            "/usr/local/lib/python3.7/dist-packages/seaborn/_decorators.py:43: FutureWarning: Pass the following variable as a keyword arg: x. From version 0.12, the only valid positional argument will be `data`, and passing other arguments without an explicit keyword will result in an error or misinterpretation.\n",
            "  FutureWarning\n",
            "/usr/local/lib/python3.7/dist-packages/seaborn/_decorators.py:43: FutureWarning: Pass the following variable as a keyword arg: x. From version 0.12, the only valid positional argument will be `data`, and passing other arguments without an explicit keyword will result in an error or misinterpretation.\n",
            "  FutureWarning\n",
            "/usr/local/lib/python3.7/dist-packages/seaborn/_decorators.py:43: FutureWarning: Pass the following variable as a keyword arg: x. From version 0.12, the only valid positional argument will be `data`, and passing other arguments without an explicit keyword will result in an error or misinterpretation.\n",
            "  FutureWarning\n",
            "/usr/local/lib/python3.7/dist-packages/seaborn/_decorators.py:43: FutureWarning: Pass the following variable as a keyword arg: x. From version 0.12, the only valid positional argument will be `data`, and passing other arguments without an explicit keyword will result in an error or misinterpretation.\n",
            "  FutureWarning\n",
            "/usr/local/lib/python3.7/dist-packages/seaborn/_decorators.py:43: FutureWarning: Pass the following variable as a keyword arg: x. From version 0.12, the only valid positional argument will be `data`, and passing other arguments without an explicit keyword will result in an error or misinterpretation.\n",
            "  FutureWarning\n",
            "/usr/local/lib/python3.7/dist-packages/seaborn/_decorators.py:43: FutureWarning: Pass the following variable as a keyword arg: x. From version 0.12, the only valid positional argument will be `data`, and passing other arguments without an explicit keyword will result in an error or misinterpretation.\n",
            "  FutureWarning\n"
          ]
        },
        {
          "output_type": "display_data",
          "data": {
            "text/plain": [
              "<Figure size 1440x1440 with 7 Axes>"
            ],
            "image/png": "[encoded data removed]"
          },
          "metadata": {}
        }
      ]
    },
    {
      "cell_type": "code",
      "execution_count": null,
      "id": "3e6f3b7e",
      "metadata": {
        "colab": {
          "base_uri": "https://localhost:8080/"
        },
        "id": "3e6f3b7e",
        "outputId": "c5c1c8a2-a04e-4aff-f7c4-c8213f10db54"
      },
      "outputs": [
        {
          "output_type": "stream",
          "name": "stdout",
          "text": [
            "Kuartil 1 =  1951.0\n",
            "Kuartil 2 =  1975.0\n",
            "Kuartil 3 =  1997.0\n",
            "IQR =  46.0\n",
            "IQR minimum =  1882.0\n",
            "IQR maksimum =  2066.0\n",
            "Nilai minimum data =  1900\n",
            "Nilai maksimum data =  2015\n"
          ]
        }
      ],
      "source": [
        "# Hitung nilai Q1 dan Q3\n",
        "Q1 = np.quantile(df_new['yr_built'], .25)\n",
        "Q2 = np.quantile(df_new['yr_built'], .50)\n",
        "Q3 = np.quantile(df_new['yr_built'], .75)\n",
        "IQR = Q3-Q1\n",
        "min_IQR = Q1-1.5*IQR\n",
        "max_IQR = Q3+1.5*IQR\n",
        "nilai_min = np.min(df_new['yr_built'])\n",
        "nilai_max = np.max(df_new['yr_built'])\n",
        "\n",
        "# Hitung nilai IQR\n",
        "print('Kuartil 1 = ', Q1)\n",
        "print('Kuartil 2 = ', Q2)\n",
        "print('Kuartil 3 = ', Q3)\n",
        "print('IQR = ', IQR)\n",
        "\n",
        "# Hitung min dan max IQR\n",
        "print('IQR minimum = ', min_IQR)\n",
        "print('IQR maksimum = ', max_IQR)\n",
        "\n",
        "# Hitung nilai min dan max data\n",
        "print('Nilai minimum data = ', nilai_min)\n",
        "print('Nilai maksimum data = ', nilai_max)"
      ]
    },
    {
      "cell_type": "code",
      "execution_count": null,
      "id": "f6c778af",
      "metadata": {
        "colab": {
          "base_uri": "https://localhost:8080/"
        },
        "id": "f6c778af",
        "outputId": "f9d19d30-f3ec-4ace-fd51-1632b8c77dc3"
      },
      "outputs": [
        {
          "output_type": "stream",
          "name": "stdout",
          "text": [
            "Tidak ditemukan low outlier!\n",
            "Tidak ditemukan high outlier!\n"
          ]
        }
      ],
      "source": [
        "# Mendefinisikan outlier data\n",
        "if (nilai_min < min_IQR):\n",
        "    print('Ditemukan low outlier!')\n",
        "else:\n",
        "    print('Tidak ditemukan low outlier!')  \n",
        "\n",
        "if (nilai_max > max_IQR):\n",
        "    print('Ditemukan high outlier!')\n",
        "else:\n",
        "    print('Tidak ditemukan high outlier!')"
      ]
    },
    {
      "cell_type": "code",
      "execution_count": null,
      "id": "dca74445",
      "metadata": {
        "colab": {
          "base_uri": "https://localhost:8080/"
        },
        "id": "dca74445",
        "outputId": "2cf58208-e78e-467d-f1f2-fb6f000fcd94"
      },
      "outputs": [
        {
          "output_type": "stream",
          "name": "stdout",
          "text": [
            "Low outlier : \n",
            " []\n",
            "High outlier : \n",
            " []\n"
          ]
        }
      ],
      "source": [
        "# Tampilkan letak data outlier\n",
        "low_out = []\n",
        "high_out = []\n",
        "\n",
        "for i in df_new['yr_built']:\n",
        "    if (i < min_IQR):\n",
        "        low_out.append(i)\n",
        "    if (i > max_IQR):\n",
        "        high_out.append(i)\n",
        "\n",
        "print('Low outlier : \\n', low_out)\n",
        "print('High outlier : \\n', high_out)"
      ]
    },
    {
      "cell_type": "code",
      "execution_count": null,
      "id": "cf1acc5d",
      "metadata": {
        "colab": {
          "base_uri": "https://localhost:8080/",
          "height": 422
        },
        "id": "cf1acc5d",
        "outputId": "06bfd61b-0c43-40a0-f84b-9e3156fa3e07"
      },
      "outputs": [
        {
          "output_type": "stream",
          "name": "stderr",
          "text": [
            "/usr/local/lib/python3.7/dist-packages/seaborn/axisgrid.py:2076: UserWarning: The `size` parameter has been renamed to `height`; please update your code.\n",
            "  warnings.warn(msg, UserWarning)\n"
          ]
        },
        {
          "output_type": "display_data",
          "data": {
            "text/plain": [
              "<Figure size 720x576 with 0 Axes>"
            ]
          },
          "metadata": {}
        },
        {
          "output_type": "display_data",
          "data": {
            "text/plain": [
              "<Figure size 1350x360 with 5 Axes>"
            ],
            "image/png": "[encoded data removed]"
          },
          "metadata": {}
        }
      ],
      "source": [
        "plt.figure(figsize=(10,8))\n",
        "sns.pairplot(data=df_new, x_vars=['bedrooms', 'bathrooms', 'sqft_living', 'grade', 'yr_built'], y_vars=['price'], size=5, aspect=0.75)\n",
        "plt.show()"
      ]
    },
    {
      "cell_type": "code",
      "execution_count": null,
      "id": "989ddb95",
      "metadata": {
        "colab": {
          "base_uri": "https://localhost:8080/",
          "height": 272
        },
        "id": "989ddb95",
        "outputId": "01d50e81-4f2b-48f3-cd17-3180d1f95885"
      },
      "outputs": [
        {
          "output_type": "stream",
          "name": "stderr",
          "text": [
            "/usr/local/lib/python3.7/dist-packages/ipykernel_launcher.py:1: FutureWarning: this method is deprecated in favour of `Styler.format(precision=..)`\n",
            "  \"\"\"Entry point for launching an IPython kernel.\n"
          ]
        },
        {
          "output_type": "execute_result",
          "data": {
            "text/plain": [
              "<pandas.io.formats.style.Styler at 0x7fddc0ba91d0>"
            ],
            "text/html": [
              "<style type=\"text/css\">\n",
              "#T_e388e_row0_col0, #T_e388e_row1_col1, #T_e388e_row2_col2, #T_e388e_row3_col3, #T_e388e_row4_col4, #T_e388e_row5_col5 {\n",
              "  background-color: #023858;\n",
              "  color: #f1f1f1;\n",
              "}\n",
              "#T_e388e_row0_col1 {\n",
              "  background-color: #e0dded;\n",
              "  color: #000000;\n",
              "}\n",
              "#T_e388e_row0_col2 {\n",
              "  background-color: #faf2f8;\n",
              "  color: #000000;\n",
              "}\n",
              "#T_e388e_row0_col3 {\n",
              "  background-color: #549cc7;\n",
              "  color: #f1f1f1;\n",
              "}\n",
              "#T_e388e_row0_col4 {\n",
              "  background-color: #7bacd1;\n",
              "  color: #f1f1f1;\n",
              "}\n",
              "#T_e388e_row0_col5, #T_e388e_row1_col4, #T_e388e_row5_col0, #T_e388e_row5_col1, #T_e388e_row5_col2, #T_e388e_row5_col3 {\n",
              "  background-color: #fff7fb;\n",
              "  color: #000000;\n",
              "}\n",
              "#T_e388e_row1_col0 {\n",
              "  background-color: #cacee5;\n",
              "  color: #000000;\n",
              "}\n",
              "#T_e388e_row1_col2 {\n",
              "  background-color: #fcf4fa;\n",
              "  color: #000000;\n",
              "}\n",
              "#T_e388e_row1_col3 {\n",
              "  background-color: #a4bcda;\n",
              "  color: #000000;\n",
              "}\n",
              "#T_e388e_row1_col5 {\n",
              "  background-color: #efe9f3;\n",
              "  color: #000000;\n",
              "}\n",
              "#T_e388e_row2_col0, #T_e388e_row3_col1 {\n",
              "  background-color: #75a9cf;\n",
              "  color: #f1f1f1;\n",
              "}\n",
              "#T_e388e_row2_col1 {\n",
              "  background-color: #91b5d6;\n",
              "  color: #000000;\n",
              "}\n",
              "#T_e388e_row2_col3 {\n",
              "  background-color: #308cbe;\n",
              "  color: #f1f1f1;\n",
              "}\n",
              "#T_e388e_row2_col4, #T_e388e_row2_col5 {\n",
              "  background-color: #7dacd1;\n",
              "  color: #f1f1f1;\n",
              "}\n",
              "#T_e388e_row3_col0 {\n",
              "  background-color: #1e80b8;\n",
              "  color: #f1f1f1;\n",
              "}\n",
              "#T_e388e_row3_col2 {\n",
              "  background-color: #73a9cf;\n",
              "  color: #f1f1f1;\n",
              "}\n",
              "#T_e388e_row3_col4 {\n",
              "  background-color: #348ebf;\n",
              "  color: #f1f1f1;\n",
              "}\n",
              "#T_e388e_row3_col5 {\n",
              "  background-color: #c6cce3;\n",
              "  color: #000000;\n",
              "}\n",
              "#T_e388e_row4_col0, #T_e388e_row4_col3 {\n",
              "  background-color: #2c89bd;\n",
              "  color: #f1f1f1;\n",
              "}\n",
              "#T_e388e_row4_col1 {\n",
              "  background-color: #d2d3e7;\n",
              "  color: #000000;\n",
              "}\n",
              "#T_e388e_row4_col2 {\n",
              "  background-color: #b8c6e0;\n",
              "  color: #000000;\n",
              "}\n",
              "#T_e388e_row4_col5 {\n",
              "  background-color: #96b6d7;\n",
              "  color: #000000;\n",
              "}\n",
              "#T_e388e_row5_col4 {\n",
              "  background-color: #e9e5f1;\n",
              "  color: #000000;\n",
              "}\n",
              "</style>\n",
              "<table id=\"T_e388e_\" class=\"dataframe\">\n",
              "  <thead>\n",
              "    <tr>\n",
              "      <th class=\"blank level0\" >&nbsp;</th>\n",
              "      <th class=\"col_heading level0 col0\" >price</th>\n",
              "      <th class=\"col_heading level0 col1\" >bedrooms</th>\n",
              "      <th class=\"col_heading level0 col2\" >bathrooms</th>\n",
              "      <th class=\"col_heading level0 col3\" >sqft_living</th>\n",
              "      <th class=\"col_heading level0 col4\" >grade</th>\n",
              "      <th class=\"col_heading level0 col5\" >yr_built</th>\n",
              "    </tr>\n",
              "  </thead>\n",
              "  <tbody>\n",
              "    <tr>\n",
              "      <th id=\"T_e388e_level0_row0\" class=\"row_heading level0 row0\" >price</th>\n",
              "      <td id=\"T_e388e_row0_col0\" class=\"data row0 col0\" >1.00</td>\n",
              "      <td id=\"T_e388e_row0_col1\" class=\"data row0 col1\" >0.31</td>\n",
              "      <td id=\"T_e388e_row0_col2\" class=\"data row0 col2\" >0.53</td>\n",
              "      <td id=\"T_e388e_row0_col3\" class=\"data row0 col3\" >0.70</td>\n",
              "      <td id=\"T_e388e_row0_col4\" class=\"data row0 col4\" >0.67</td>\n",
              "      <td id=\"T_e388e_row0_col5\" class=\"data row0 col5\" >0.05</td>\n",
              "    </tr>\n",
              "    <tr>\n",
              "      <th id=\"T_e388e_level0_row1\" class=\"row_heading level0 row1\" >bedrooms</th>\n",
              "      <td id=\"T_e388e_row1_col0\" class=\"data row1 col0\" >0.31</td>\n",
              "      <td id=\"T_e388e_row1_col1\" class=\"data row1 col1\" >1.00</td>\n",
              "      <td id=\"T_e388e_row1_col2\" class=\"data row1 col2\" >0.52</td>\n",
              "      <td id=\"T_e388e_row1_col3\" class=\"data row1 col3\" >0.58</td>\n",
              "      <td id=\"T_e388e_row1_col4\" class=\"data row1 col4\" >0.36</td>\n",
              "      <td id=\"T_e388e_row1_col5\" class=\"data row1 col5\" >0.15</td>\n",
              "    </tr>\n",
              "    <tr>\n",
              "      <th id=\"T_e388e_level0_row2\" class=\"row_heading level0 row2\" >bathrooms</th>\n",
              "      <td id=\"T_e388e_row2_col0\" class=\"data row2 col0\" >0.53</td>\n",
              "      <td id=\"T_e388e_row2_col1\" class=\"data row2 col1\" >0.52</td>\n",
              "      <td id=\"T_e388e_row2_col2\" class=\"data row2 col2\" >1.00</td>\n",
              "      <td id=\"T_e388e_row2_col3\" class=\"data row2 col3\" >0.75</td>\n",
              "      <td id=\"T_e388e_row2_col4\" class=\"data row2 col4\" >0.66</td>\n",
              "      <td id=\"T_e388e_row2_col5\" class=\"data row2 col5\" >0.51</td>\n",
              "    </tr>\n",
              "    <tr>\n",
              "      <th id=\"T_e388e_level0_row3\" class=\"row_heading level0 row3\" >sqft_living</th>\n",
              "      <td id=\"T_e388e_row3_col0\" class=\"data row3 col0\" >0.70</td>\n",
              "      <td id=\"T_e388e_row3_col1\" class=\"data row3 col1\" >0.58</td>\n",
              "      <td id=\"T_e388e_row3_col2\" class=\"data row3 col2\" >0.75</td>\n",
              "      <td id=\"T_e388e_row3_col3\" class=\"data row3 col3\" >1.00</td>\n",
              "      <td id=\"T_e388e_row3_col4\" class=\"data row3 col4\" >0.76</td>\n",
              "      <td id=\"T_e388e_row3_col5\" class=\"data row3 col5\" >0.32</td>\n",
              "    </tr>\n",
              "    <tr>\n",
              "      <th id=\"T_e388e_level0_row4\" class=\"row_heading level0 row4\" >grade</th>\n",
              "      <td id=\"T_e388e_row4_col0\" class=\"data row4 col0\" >0.67</td>\n",
              "      <td id=\"T_e388e_row4_col1\" class=\"data row4 col1\" >0.36</td>\n",
              "      <td id=\"T_e388e_row4_col2\" class=\"data row4 col2\" >0.66</td>\n",
              "      <td id=\"T_e388e_row4_col3\" class=\"data row4 col3\" >0.76</td>\n",
              "      <td id=\"T_e388e_row4_col4\" class=\"data row4 col4\" >1.00</td>\n",
              "      <td id=\"T_e388e_row4_col5\" class=\"data row4 col5\" >0.45</td>\n",
              "    </tr>\n",
              "    <tr>\n",
              "      <th id=\"T_e388e_level0_row5\" class=\"row_heading level0 row5\" >yr_built</th>\n",
              "      <td id=\"T_e388e_row5_col0\" class=\"data row5 col0\" >0.05</td>\n",
              "      <td id=\"T_e388e_row5_col1\" class=\"data row5 col1\" >0.15</td>\n",
              "      <td id=\"T_e388e_row5_col2\" class=\"data row5 col2\" >0.51</td>\n",
              "      <td id=\"T_e388e_row5_col3\" class=\"data row5 col3\" >0.32</td>\n",
              "      <td id=\"T_e388e_row5_col4\" class=\"data row5 col4\" >0.45</td>\n",
              "      <td id=\"T_e388e_row5_col5\" class=\"data row5 col5\" >1.00</td>\n",
              "    </tr>\n",
              "  </tbody>\n",
              "</table>\n"
            ]
          },
          "metadata": {},
          "execution_count": 53
        }
      ],
      "source": [
        "df_new.corr().style.background_gradient().set_precision(2)"
      ]
    },
    {
      "cell_type": "markdown",
      "source": [
        "**Variabel dengan korelasi tertinggi: grade,sqft_living, bathrooms, bedrooms **"
      ],
      "metadata": {
        "id": "rtIE2qndbVw3"
      },
      "id": "rtIE2qndbVw3"
    },
    {
      "cell_type": "markdown",
      "id": "94d3b581",
      "metadata": {
        "id": "94d3b581"
      },
      "source": [
        "## Machine Learning Modeling"
      ]
    },
    {
      "cell_type": "code",
      "execution_count": null,
      "id": "5491ea12",
      "metadata": {
        "id": "5491ea12"
      },
      "outputs": [],
      "source": [
        "from sklearn.linear_model import LinearRegression\n",
        "from sklearn.feature_selection import RFE\n",
        "from sklearn.model_selection import train_test_split\n",
        "from sklearn import tree, linear_model"
      ]
    },
    {
      "cell_type": "code",
      "execution_count": null,
      "id": "d2e2856b",
      "metadata": {
        "colab": {
          "base_uri": "https://localhost:8080/"
        },
        "id": "d2e2856b",
        "outputId": "e4909289-8094-4241-d36a-446b9058496b"
      },
      "outputs": [
        {
          "output_type": "execute_result",
          "data": {
            "text/plain": [
              "Index(['price', 'bedrooms', 'bathrooms', 'sqft_living', 'grade', 'yr_built',\n",
              "       'grade_cat', 'yr_built_cat'],\n",
              "      dtype='object')"
            ]
          },
          "metadata": {},
          "execution_count": 55
        }
      ],
      "source": [
        "df_new.columns"
      ]
    },
    {
      "cell_type": "code",
      "execution_count": null,
      "id": "f7a78c8e",
      "metadata": {
        "colab": {
          "base_uri": "https://localhost:8080/",
          "height": 206
        },
        "id": "f7a78c8e",
        "outputId": "bfc11008-84d0-4739-e9c1-46658d5c3594"
      },
      "outputs": [
        {
          "output_type": "execute_result",
          "data": {
            "text/plain": [
              "      price  bedrooms  bathrooms  sqft_living  grade  yr_built\n",
              "0  221900.0         3       1.00         1180      7      1955\n",
              "1  538000.0         3       2.25         2570      7      1951\n",
              "2  180000.0         2       1.00          770      6      1933\n",
              "3  604000.0         4       3.00         1960      7      1965\n",
              "4  510000.0         3       2.00         1680      8      1987"
            ],
            "text/html": [
              "\n",
              "  <div id=\"df-13f52bff-17bf-445a-ad5d-75b4164a389b\">\n",
              "    <div class=\"colab-df-container\">\n",
              "      <div>\n",
              "<style scoped>\n",
              "    .dataframe tbody tr th:only-of-type {\n",
              "        vertical-align: middle;\n",
              "    }\n",
              "\n",
              "    .dataframe tbody tr th {\n",
              "        vertical-align: top;\n",
              "    }\n",
              "\n",
              "    .dataframe thead th {\n",
              "        text-align: right;\n",
              "    }\n",
              "</style>\n",
              "<table border=\"1\" class=\"dataframe\">\n",
              "  <thead>\n",
              "    <tr style=\"text-align: right;\">\n",
              "      <th></th>\n",
              "      <th>price</th>\n",
              "      <th>bedrooms</th>\n",
              "      <th>bathrooms</th>\n",
              "      <th>sqft_living</th>\n",
              "      <th>grade</th>\n",
              "      <th>yr_built</th>\n",
              "    </tr>\n",
              "  </thead>\n",
              "  <tbody>\n",
              "    <tr>\n",
              "      <th>0</th>\n",
              "      <td>221900.0</td>\n",
              "      <td>3</td>\n",
              "      <td>1.00</td>\n",
              "      <td>1180</td>\n",
              "      <td>7</td>\n",
              "      <td>1955</td>\n",
              "    </tr>\n",
              "    <tr>\n",
              "      <th>1</th>\n",
              "      <td>538000.0</td>\n",
              "      <td>3</td>\n",
              "      <td>2.25</td>\n",
              "      <td>2570</td>\n",
              "      <td>7</td>\n",
              "      <td>1951</td>\n",
              "    </tr>\n",
              "    <tr>\n",
              "      <th>2</th>\n",
              "      <td>180000.0</td>\n",
              "      <td>2</td>\n",
              "      <td>1.00</td>\n",
              "      <td>770</td>\n",
              "      <td>6</td>\n",
              "      <td>1933</td>\n",
              "    </tr>\n",
              "    <tr>\n",
              "      <th>3</th>\n",
              "      <td>604000.0</td>\n",
              "      <td>4</td>\n",
              "      <td>3.00</td>\n",
              "      <td>1960</td>\n",
              "      <td>7</td>\n",
              "      <td>1965</td>\n",
              "    </tr>\n",
              "    <tr>\n",
              "      <th>4</th>\n",
              "      <td>510000.0</td>\n",
              "      <td>3</td>\n",
              "      <td>2.00</td>\n",
              "      <td>1680</td>\n",
              "      <td>8</td>\n",
              "      <td>1987</td>\n",
              "    </tr>\n",
              "  </tbody>\n",
              "</table>\n",
              "</div>\n",
              "      <button class=\"colab-df-convert\" onclick=\"convertToInteractive('df-13f52bff-17bf-445a-ad5d-75b4164a389b')\"\n",
              "              title=\"Convert this dataframe to an interactive table.\"\n",
              "              style=\"display:none;\">\n",
              "        \n",
              "  <svg xmlns=\"http://www.w3.org/2000/svg\" height=\"24px\"viewBox=\"0 0 24 24\"\n",
              "       width=\"24px\">\n",
              "    <path d=\"M0 0h24v24H0V0z\" fill=\"none\"/>\n",
              "    <path d=\"M18.56 5.44l.94 2.06.94-2.06 2.06-.94-2.06-.94-.94-2.06-.94 2.06-2.06.94zm-11 1L8.5 8.5l.94-2.06 2.06-.94-2.06-.94L8.5 2.5l-.94 2.06-2.06.94zm10 10l.94 2.06.94-2.06 2.06-.94-2.06-.94-.94-2.06-.94 2.06-2.06.94z\"/><path d=\"M17.41 7.96l-1.37-1.37c-.4-.4-.92-.59-1.43-.59-.52 0-1.04.2-1.43.59L10.3 9.45l-7.72 7.72c-.78.78-.78 2.05 0 2.83L4 21.41c.39.39.9.59 1.41.59.51 0 1.02-.2 1.41-.59l7.78-7.78 2.81-2.81c.8-.78.8-2.07 0-2.86zM5.41 20L4 18.59l7.72-7.72 1.47 1.35L5.41 20z\"/>\n",
              "  </svg>\n",
              "      </button>\n",
              "      \n",
              "  <style>\n",
              "    .colab-df-container {\n",
              "      display:flex;\n",
              "      flex-wrap:wrap;\n",
              "      gap: 12px;\n",
              "    }\n",
              "\n",
              "    .colab-df-convert {\n",
              "      background-color: #E8F0FE;\n",
              "      border: none;\n",
              "      border-radius: 50%;\n",
              "      cursor: pointer;\n",
              "      display: none;\n",
              "      fill: #1967D2;\n",
              "      height: 32px;\n",
              "      padding: 0 0 0 0;\n",
              "      width: 32px;\n",
              "    }\n",
              "\n",
              "    .colab-df-convert:hover {\n",
              "      background-color: #E2EBFA;\n",
              "      box-shadow: 0px 1px 2px rgba(60, 64, 67, 0.3), 0px 1px 3px 1px rgba(60, 64, 67, 0.15);\n",
              "      fill: #174EA6;\n",
              "    }\n",
              "\n",
              "    [theme=dark] .colab-df-convert {\n",
              "      background-color: #3B4455;\n",
              "      fill: #D2E3FC;\n",
              "    }\n",
              "\n",
              "    [theme=dark] .colab-df-convert:hover {\n",
              "      background-color: #434B5C;\n",
              "      box-shadow: 0px 1px 3px 1px rgba(0, 0, 0, 0.15);\n",
              "      filter: drop-shadow(0px 1px 2px rgba(0, 0, 0, 0.3));\n",
              "      fill: #FFFFFF;\n",
              "    }\n",
              "  </style>\n",
              "\n",
              "      <script>\n",
              "        const buttonEl =\n",
              "          document.querySelector('#df-13f52bff-17bf-445a-ad5d-75b4164a389b button.colab-df-convert');\n",
              "        buttonEl.style.display =\n",
              "          google.colab.kernel.accessAllowed ? 'block' : 'none';\n",
              "\n",
              "        async function convertToInteractive(key) {\n",
              "          const element = document.querySelector('#df-13f52bff-17bf-445a-ad5d-75b4164a389b');\n",
              "          const dataTable =\n",
              "            await google.colab.kernel.invokeFunction('convertToInteractive',\n",
              "                                                     [key], {});\n",
              "          if (!dataTable) return;\n",
              "\n",
              "          const docLinkHtml = 'Like what you see? Visit the ' +\n",
              "            '<a target=\"_blank\" href=https://colab.research.google.com/notebooks/data_table.ipynb>data table notebook</a>'\n",
              "            + ' to learn more about interactive tables.';\n",
              "          element.innerHTML = '';\n",
              "          dataTable['output_type'] = 'display_data';\n",
              "          await google.colab.output.renderOutput(dataTable, element);\n",
              "          const docLink = document.createElement('div');\n",
              "          docLink.innerHTML = docLinkHtml;\n",
              "          element.appendChild(docLink);\n",
              "        }\n",
              "      </script>\n",
              "    </div>\n",
              "  </div>\n",
              "  "
            ]
          },
          "metadata": {},
          "execution_count": 56
        }
      ],
      "source": [
        "df_final = df_new.drop(columns=['grade_cat', 'yr_built_cat'])\n",
        "df_final.head()"
      ]
    },
    {
      "cell_type": "code",
      "execution_count": null,
      "id": "b9a0be14",
      "metadata": {
        "id": "b9a0be14"
      },
      "outputs": [],
      "source": [
        "X = df_final.loc[:, df_final.columns != 'price']\n",
        "y = df_final['price']"
      ]
    },
    {
      "cell_type": "markdown",
      "id": "73c00fea",
      "metadata": {
        "id": "73c00fea"
      },
      "source": [
        "### Splitting data to train and test datasets"
      ]
    },
    {
      "cell_type": "code",
      "source": [
        "from sklearn.preprocessing import StandardScaler"
      ],
      "metadata": {
        "id": "g6tQe-SRIEIB"
      },
      "id": "g6tQe-SRIEIB",
      "execution_count": null,
      "outputs": []
    },
    {
      "cell_type": "code",
      "execution_count": null,
      "id": "ea51c3f7",
      "metadata": {
        "id": "ea51c3f7"
      },
      "outputs": [],
      "source": [
        "X_train, X_test, y_train, y_test = train_test_split(X, y, test_size=0.2, random_state=4)"
      ]
    },
    {
      "cell_type": "code",
      "execution_count": null,
      "id": "2c91547b",
      "metadata": {
        "scrolled": true,
        "colab": {
          "base_uri": "https://localhost:8080/"
        },
        "id": "2c91547b",
        "outputId": "b526b17e-516a-4df5-ddf0-ceb5ea4f9963"
      },
      "outputs": [
        {
          "output_type": "stream",
          "name": "stdout",
          "text": [
            "X_train\t: (17288, 5)\n",
            "y_train\t: (17288,)\n",
            "X_test\t: (4323, 5)\n",
            "y_test\t: (4323,)\n"
          ]
        }
      ],
      "source": [
        "print(\"X_train\\t:\", X_train.shape)\n",
        "print(\"y_train\\t:\", y_train.shape)\n",
        "print(\"X_test\\t:\", X_test.shape)\n",
        "print(\"y_test\\t:\", y_test.shape)"
      ]
    },
    {
      "cell_type": "markdown",
      "id": "db330516",
      "metadata": {
        "id": "db330516"
      },
      "source": [
        "### 1. Multiple Linear Regression"
      ]
    },
    {
      "cell_type": "code",
      "execution_count": null,
      "id": "427bee80",
      "metadata": {
        "id": "427bee80"
      },
      "outputs": [],
      "source": [
        "linreg_model = LinearRegression()"
      ]
    },
    {
      "cell_type": "code",
      "execution_count": null,
      "id": "44533259",
      "metadata": {
        "colab": {
          "base_uri": "https://localhost:8080/"
        },
        "id": "44533259",
        "outputId": "0e2df2f8-0a96-4d70-f32a-0a5199e6b838"
      },
      "outputs": [
        {
          "output_type": "execute_result",
          "data": {
            "text/plain": [
              "LinearRegression()"
            ]
          },
          "metadata": {},
          "execution_count": 68
        }
      ],
      "source": [
        "linreg_model.fit(X_train, y_train)"
      ]
    },
    {
      "cell_type": "code",
      "execution_count": null,
      "id": "c81c9060",
      "metadata": {
        "scrolled": true,
        "colab": {
          "base_uri": "https://localhost:8080/"
        },
        "id": "c81c9060",
        "outputId": "3eed07c5-d6e5-45aa-db2c-e97ca6f4aef3"
      },
      "outputs": [
        {
          "output_type": "stream",
          "name": "stdout",
          "text": [
            "Slope/koefisien (b) =\n",
            " [-49922.79137394  58447.50272469    190.23193719 130296.81047765\n",
            "  -4108.00012934]\n",
            "==========================================================\n",
            "Intercept (a) =\n",
            " 7288694.748919456\n"
          ]
        }
      ],
      "source": [
        "print(\"Slope/koefisien (b) =\\n\", linreg_model.coef_)\n",
        "print(\"==========================================================\")\n",
        "print(\"Intercept (a) =\\n\", linreg_model.intercept_)"
      ]
    },
    {
      "cell_type": "code",
      "execution_count": null,
      "id": "e356a595",
      "metadata": {
        "colab": {
          "base_uri": "https://localhost:8080/"
        },
        "id": "e356a595",
        "outputId": "e79c812f-6a55-4142-995d-1a8d2cda9a61"
      },
      "outputs": [
        {
          "output_type": "execute_result",
          "data": {
            "text/plain": [
              "      features     coef_value\n",
              "0     bedrooms  -49922.791374\n",
              "1    bathrooms   58447.502725\n",
              "2  sqft_living     190.231937\n",
              "3        grade  130296.810478\n",
              "4     yr_built   -4108.000129"
            ],
            "text/html": [
              "\n",
              "  <div id=\"df-ab9fb8d0-f452-4388-958a-0d59745b0278\">\n",
              "    <div class=\"colab-df-container\">\n",
              "      <div>\n",
              "<style scoped>\n",
              "    .dataframe tbody tr th:only-of-type {\n",
              "        vertical-align: middle;\n",
              "    }\n",
              "\n",
              "    .dataframe tbody tr th {\n",
              "        vertical-align: top;\n",
              "    }\n",
              "\n",
              "    .dataframe thead th {\n",
              "        text-align: right;\n",
              "    }\n",
              "</style>\n",
              "<table border=\"1\" class=\"dataframe\">\n",
              "  <thead>\n",
              "    <tr style=\"text-align: right;\">\n",
              "      <th></th>\n",
              "      <th>features</th>\n",
              "      <th>coef_value</th>\n",
              "    </tr>\n",
              "  </thead>\n",
              "  <tbody>\n",
              "    <tr>\n",
              "      <th>0</th>\n",
              "      <td>bedrooms</td>\n",
              "      <td>-49922.791374</td>\n",
              "    </tr>\n",
              "    <tr>\n",
              "      <th>1</th>\n",
              "      <td>bathrooms</td>\n",
              "      <td>58447.502725</td>\n",
              "    </tr>\n",
              "    <tr>\n",
              "      <th>2</th>\n",
              "      <td>sqft_living</td>\n",
              "      <td>190.231937</td>\n",
              "    </tr>\n",
              "    <tr>\n",
              "      <th>3</th>\n",
              "      <td>grade</td>\n",
              "      <td>130296.810478</td>\n",
              "    </tr>\n",
              "    <tr>\n",
              "      <th>4</th>\n",
              "      <td>yr_built</td>\n",
              "      <td>-4108.000129</td>\n",
              "    </tr>\n",
              "  </tbody>\n",
              "</table>\n",
              "</div>\n",
              "      <button class=\"colab-df-convert\" onclick=\"convertToInteractive('df-ab9fb8d0-f452-4388-958a-0d59745b0278')\"\n",
              "              title=\"Convert this dataframe to an interactive table.\"\n",
              "              style=\"display:none;\">\n",
              "        \n",
              "  <svg xmlns=\"http://www.w3.org/2000/svg\" height=\"24px\"viewBox=\"0 0 24 24\"\n",
              "       width=\"24px\">\n",
              "    <path d=\"M0 0h24v24H0V0z\" fill=\"none\"/>\n",
              "    <path d=\"M18.56 5.44l.94 2.06.94-2.06 2.06-.94-2.06-.94-.94-2.06-.94 2.06-2.06.94zm-11 1L8.5 8.5l.94-2.06 2.06-.94-2.06-.94L8.5 2.5l-.94 2.06-2.06.94zm10 10l.94 2.06.94-2.06 2.06-.94-2.06-.94-.94-2.06-.94 2.06-2.06.94z\"/><path d=\"M17.41 7.96l-1.37-1.37c-.4-.4-.92-.59-1.43-.59-.52 0-1.04.2-1.43.59L10.3 9.45l-7.72 7.72c-.78.78-.78 2.05 0 2.83L4 21.41c.39.39.9.59 1.41.59.51 0 1.02-.2 1.41-.59l7.78-7.78 2.81-2.81c.8-.78.8-2.07 0-2.86zM5.41 20L4 18.59l7.72-7.72 1.47 1.35L5.41 20z\"/>\n",
              "  </svg>\n",
              "      </button>\n",
              "      \n",
              "  <style>\n",
              "    .colab-df-container {\n",
              "      display:flex;\n",
              "      flex-wrap:wrap;\n",
              "      gap: 12px;\n",
              "    }\n",
              "\n",
              "    .colab-df-convert {\n",
              "      background-color: #E8F0FE;\n",
              "      border: none;\n",
              "      border-radius: 50%;\n",
              "      cursor: pointer;\n",
              "      display: none;\n",
              "      fill: #1967D2;\n",
              "      height: 32px;\n",
              "      padding: 0 0 0 0;\n",
              "      width: 32px;\n",
              "    }\n",
              "\n",
              "    .colab-df-convert:hover {\n",
              "      background-color: #E2EBFA;\n",
              "      box-shadow: 0px 1px 2px rgba(60, 64, 67, 0.3), 0px 1px 3px 1px rgba(60, 64, 67, 0.15);\n",
              "      fill: #174EA6;\n",
              "    }\n",
              "\n",
              "    [theme=dark] .colab-df-convert {\n",
              "      background-color: #3B4455;\n",
              "      fill: #D2E3FC;\n",
              "    }\n",
              "\n",
              "    [theme=dark] .colab-df-convert:hover {\n",
              "      background-color: #434B5C;\n",
              "      box-shadow: 0px 1px 3px 1px rgba(0, 0, 0, 0.15);\n",
              "      filter: drop-shadow(0px 1px 2px rgba(0, 0, 0, 0.3));\n",
              "      fill: #FFFFFF;\n",
              "    }\n",
              "  </style>\n",
              "\n",
              "      <script>\n",
              "        const buttonEl =\n",
              "          document.querySelector('#df-ab9fb8d0-f452-4388-958a-0d59745b0278 button.colab-df-convert');\n",
              "        buttonEl.style.display =\n",
              "          google.colab.kernel.accessAllowed ? 'block' : 'none';\n",
              "\n",
              "        async function convertToInteractive(key) {\n",
              "          const element = document.querySelector('#df-ab9fb8d0-f452-4388-958a-0d59745b0278');\n",
              "          const dataTable =\n",
              "            await google.colab.kernel.invokeFunction('convertToInteractive',\n",
              "                                                     [key], {});\n",
              "          if (!dataTable) return;\n",
              "\n",
              "          const docLinkHtml = 'Like what you see? Visit the ' +\n",
              "            '<a target=\"_blank\" href=https://colab.research.google.com/notebooks/data_table.ipynb>data table notebook</a>'\n",
              "            + ' to learn more about interactive tables.';\n",
              "          element.innerHTML = '';\n",
              "          dataTable['output_type'] = 'display_data';\n",
              "          await google.colab.output.renderOutput(dataTable, element);\n",
              "          const docLink = document.createElement('div');\n",
              "          docLink.innerHTML = docLinkHtml;\n",
              "          element.appendChild(docLink);\n",
              "        }\n",
              "      </script>\n",
              "    </div>\n",
              "  </div>\n",
              "  "
            ]
          },
          "metadata": {},
          "execution_count": 70
        }
      ],
      "source": [
        "coef_dict = {\n",
        "    'features' : X.columns,\n",
        "    'coef_value' : linreg_model.coef_,\n",
        "}\n",
        "coef = pd.DataFrame(coef_dict, columns=['features', 'coef_value'])\n",
        "coef"
      ]
    },
    {
      "cell_type": "code",
      "execution_count": null,
      "id": "05611b7b",
      "metadata": {
        "id": "05611b7b"
      },
      "outputs": [],
      "source": [
        "y_test_pred_linreg = linreg_model.predict(X_test)"
      ]
    },
    {
      "cell_type": "code",
      "execution_count": null,
      "id": "8b116ded",
      "metadata": {
        "scrolled": false,
        "colab": {
          "base_uri": "https://localhost:8080/"
        },
        "id": "8b116ded",
        "outputId": "e0953033-a29c-4d19-cfe0-f1cfbab66490"
      },
      "outputs": [
        {
          "output_type": "stream",
          "name": "stdout",
          "text": [
            "R: 0.7793956036981837\n",
            "R^2: 0.6074575070640562\n",
            "Adjusted R^2: 0.607002859747707\n",
            "MAE: 144958.30672975595\n",
            "MSE: 47735632725.16153\n",
            "RMSE: 218484.85696990884\n",
            "MAPE: 30.25316977375639\n"
          ]
        }
      ],
      "source": [
        "# Model Evaluation\n",
        "acc_linreg = r2_score(y_test, y_test_pred_linreg)\n",
        "def mape_value(actual, pred): \n",
        "    actual, pred = np.array(actual), np.array(pred)\n",
        "    return np.mean(np.abs((actual - pred) / actual)) * 100\n",
        "\n",
        "print('R:', np.sqrt(acc_linreg))\n",
        "print('R^2:', acc_linreg)\n",
        "print('Adjusted R^2:', 1 - (1-r2_score(y_test, y_test_pred_linreg))*(len(y_test)-1)/(len(y_test)-X_test.shape[1]-1))\n",
        "print('MAE:', mean_absolute_error(y_test, y_test_pred_linreg))\n",
        "print('MSE:', mean_squared_error(y_test, y_test_pred_linreg))\n",
        "print('RMSE:', np.sqrt(mean_squared_error(y_test, y_test_pred_linreg)))\n",
        "print('MAPE:', mape_value(y_test, y_test_pred_linreg))"
      ]
    },
    {
      "cell_type": "markdown",
      "id": "de09d7c8",
      "metadata": {
        "id": "de09d7c8"
      },
      "source": [
        "### Prediction with Case Study (Multiple Linear Regression)"
      ]
    },
    {
      "cell_type": "markdown",
      "id": "00bad919",
      "metadata": {
        "id": "00bad919"
      },
      "source": [
        "Pada suatu hari, Hilman ingin membeli sebuah rumah. Namun, rumah yang dia inginkan setidaknya memenuhi kriteria sebagai berikut:\n",
        "1. bedrooms = 3\n",
        "2. bathrooms = 2\n",
        "3. sqft_living = 1818 sqft\n",
        "4. grade = 7\n",
        "5. yr_built = 2000"
      ]
    },
    {
      "cell_type": "code",
      "execution_count": null,
      "id": "f6f72d04",
      "metadata": {
        "scrolled": true,
        "colab": {
          "base_uri": "https://localhost:8080/"
        },
        "id": "f6f72d04",
        "outputId": "958d3626-51c3-4ca5-f2b6-02bb0fc333b3"
      },
      "outputs": [
        {
          "output_type": "stream",
          "name": "stdout",
          "text": [
            "Jadi harga rumahnya yaitu = USD $[297740.45671553]\n"
          ]
        },
        {
          "output_type": "stream",
          "name": "stderr",
          "text": [
            "/usr/local/lib/python3.7/dist-packages/sklearn/base.py:451: UserWarning: X does not have valid feature names, but LinearRegression was fitted with feature names\n",
            "  \"X does not have valid feature names, but\"\n"
          ]
        }
      ],
      "source": [
        "harga_rumah = linreg_model.predict([[\n",
        "    3, # bedrooms\n",
        "    2, # bathrooms\n",
        "    1818, # sqft_living\n",
        "    7, # grade\n",
        "    2000, # year\n",
        "]])\n",
        "print(f\"Jadi harga rumahnya yaitu = USD ${harga_rumah}\")"
      ]
    },
    {
      "cell_type": "markdown",
      "source": [
        "# Correlation Pearson"
      ],
      "metadata": {
        "id": "Ft0nIWWK3c6a"
      },
      "id": "Ft0nIWWK3c6a"
    },
    {
      "cell_type": "code",
      "source": [
        "correlation = df.corr(method='pearson')\n",
        "columns = correlation.nlargest(10, 'price').index\n",
        "columns"
      ],
      "metadata": {
        "colab": {
          "base_uri": "https://localhost:8080/"
        },
        "id": "Bf8UyOSJ3jgk",
        "outputId": "2ad6c351-d22d-448d-ce53-3b75ad980077"
      },
      "id": "Bf8UyOSJ3jgk",
      "execution_count": null,
      "outputs": [
        {
          "output_type": "execute_result",
          "data": {
            "text/plain": [
              "Index(['price', 'sqft_living', 'grade', 'sqft_above', 'sqft_living15',\n",
              "       'bathrooms', 'view', 'sqft_basement', 'bedrooms', 'lat'],\n",
              "      dtype='object')"
            ]
          },
          "metadata": {},
          "execution_count": 74
        }
      ]
    },
    {
      "cell_type": "code",
      "source": [
        "plt.figure(figsize=(18,10))\n",
        "correlation_map = np.corrcoef(df[columns].values.T)\n",
        "sns.set(font_scale=1.0)\n",
        "heatmap = sns.heatmap(correlation_map, annot=True, yticklabels=columns.values, xticklabels=columns.values)\n",
        "\n",
        "plt.show()"
      ],
      "metadata": {
        "colab": {
          "base_uri": "https://localhost:8080/",
          "height": 599
        },
        "id": "l_Pddi2x3qMf",
        "outputId": "c04abccf-32ca-4170-9ec8-a96dcaca80d7"
      },
      "id": "l_Pddi2x3qMf",
      "execution_count": null,
      "outputs": [
        {
          "output_type": "display_data",
          "data": {
            "text/plain": [
              "<Figure size 1296x720 with 2 Axes>"
            ],
            "image/png": "[encoded data removed]"
          },
          "metadata": {}
        }
      ]
    },
    {
      "cell_type": "code",
      "source": [
        "#normalisasi data\n",
        "df['price'] = np.log(df['price'])\n",
        "df['sqft_living'] = np.log(df['sqft_living'])"
      ],
      "metadata": {
        "id": "12Yy6G135VmE"
      },
      "id": "12Yy6G135VmE",
      "execution_count": null,
      "outputs": []
    },
    {
      "cell_type": "markdown",
      "source": [
        "# Baseline algorithm test"
      ],
      "metadata": {
        "id": "p0nzWTlN5mhj"
      },
      "id": "p0nzWTlN5mhj"
    },
    {
      "cell_type": "code",
      "source": [
        "X1 = df[columns]\n",
        "Y1 = X1['price'].values\n",
        "X1 = X1.drop('price', axis = 1).values"
      ],
      "metadata": {
        "id": "54H1juyP5n8y"
      },
      "id": "54H1juyP5n8y",
      "execution_count": null,
      "outputs": []
    },
    {
      "cell_type": "code",
      "source": [
        "#data yang ditest sebesar 20% dr dataset\n",
        "X1_train, X1_test, Y1_train, Y1_test = train_test_split (X1, Y1, test_size = 0.20, random_state=42)"
      ],
      "metadata": {
        "id": "GKpNBodJ5y9S"
      },
      "id": "GKpNBodJ5y9S",
      "execution_count": null,
      "outputs": []
    },
    {
      "cell_type": "code",
      "source": [
        "from sklearn.linear_model import LinearRegression\n",
        "from sklearn.linear_model import Lasso\n",
        "from sklearn.linear_model import ElasticNet\n",
        "from sklearn.tree import DecisionTreeRegressor\n",
        "from sklearn.neighbors import KNeighborsRegressor\n",
        "from sklearn.ensemble import GradientBoostingRegressor\n",
        "from sklearn.pipeline import Pipeline\n",
        "from sklearn.model_selection import KFold\n",
        "from sklearn.model_selection import cross_val_score"
      ],
      "metadata": {
        "id": "W-MLKIb554pR"
      },
      "id": "W-MLKIb554pR",
      "execution_count": null,
      "outputs": []
    },
    {
      "cell_type": "markdown",
      "source": [
        "Skala raw data yang berbeda dapat mempengaruhi algoritma ini. Bagian dari persyaratan untuk kumpulan data standar adalah setiap atribut memiliki nilai rata-rata nol dan simpangan baku 1. Kami menerapkan standardisasi menggunakan pipeline. Kami kemudian menggunakan validasi silang untuk memvalidasi kinerja algoritma secara totalitas."
      ],
      "metadata": {
        "id": "IrpWF3Ev9bjI"
      },
      "id": "IrpWF3Ev9bjI"
    },
    {
      "cell_type": "code",
      "source": [
        "pipelines = []\n",
        "pipelines.append(('ScaledLR', Pipeline([('Scaler', StandardScaler()),('LR',LinearRegression())])))\n",
        "pipelines.append(('ScaledLASSO', Pipeline([('Scaler', StandardScaler()),('LASSO', Lasso())])))\n",
        "pipelines.append(('ScaledEN', Pipeline([('Scaler', StandardScaler()),('EN', ElasticNet())])))\n",
        "pipelines.append(('ScaledKNN', Pipeline([('Scaler', StandardScaler()),('KNN', KNeighborsRegressor())])))\n",
        "pipelines.append(('ScaledCART', Pipeline([('Scaler', StandardScaler()),('CART', DecisionTreeRegressor())])))\n",
        "pipelines.append(('ScaledGBR', Pipeline([('Scaler', StandardScaler()),('GBR', GradientBoostingRegressor())])))\n",
        "\n",
        "results = []\n",
        "names = []\n",
        "for name, model in pipelines:\n",
        "    kfold = KFold(n_splits=10, random_state=21, shuffle=True)\n",
        "    cv_results = cross_val_score(model, X1_train, Y1_train, cv=kfold, scoring='neg_mean_squared_error')\n",
        "    results.append(cv_results)\n",
        "    names.append(name)\n",
        "    msg = \"%s: %f (%f)\" % (name, cv_results.mean(), cv_results.std())\n",
        "    print(msg)"
      ],
      "metadata": {
        "colab": {
          "base_uri": "https://localhost:8080/"
        },
        "id": "l1YZvFZG58zh",
        "outputId": "e67c0a18-e7f3-4eca-ba49-df80cf3f045e"
      },
      "id": "l1YZvFZG58zh",
      "execution_count": null,
      "outputs": [
        {
          "output_type": "stream",
          "name": "stdout",
          "text": [
            "ScaledLR: -0.075123 (0.002797)\n",
            "ScaledLASSO: -0.276048 (0.010780)\n",
            "ScaledEN: -0.276048 (0.010780)\n",
            "ScaledKNN: -0.058035 (0.002397)\n",
            "ScaledCART: -0.091318 (0.003827)\n",
            "ScaledGBR: -0.045900 (0.001515)\n"
          ]
        }
      ]
    },
    {
      "cell_type": "markdown",
      "source": [
        "Dari output di atas, sepertinya Gradient Boosting Regressor memiliki hasil terbaik karena memiliki Mean Squared Error terkecil. Seterusnya, kami akan membangun algoritma regresi menggunakan **Gradient Boosting Regressor**. GBR akan diuji dengan beberapa n_estimators menggunakan fungsi GridSearchCV."
      ],
      "metadata": {
        "id": "1zhIjWV5-AsW"
      },
      "id": "1zhIjWV5-AsW"
    },
    {
      "cell_type": "code",
      "source": [
        "from sklearn.model_selection import GridSearchCV\n",
        "\n",
        "scaler = StandardScaler().fit(X1_train)\n",
        "rescaledX = scaler.transform(X1_train)\n",
        "param_grid = dict(n_estimators=np.array([50,100,200,300,400]))\n",
        "model = GradientBoostingRegressor(random_state=21)\n",
        "kfold = KFold(n_splits=10, random_state=21, shuffle=True)\n",
        "grid = GridSearchCV(estimator=model, param_grid=param_grid, scoring='neg_mean_squared_error', cv=kfold)\n",
        "grid_result = grid.fit(rescaledX, Y1_train)\n",
        "\n",
        "means = grid_result.cv_results_['mean_test_score']\n",
        "stds = grid_result.cv_results_['std_test_score']\n",
        "params = grid_result.cv_results_['params']\n",
        "for mean, stdev, param in zip(means, stds, params):\n",
        "    print(\"%f (%f) with: %r\" % (mean, stdev, param))\n",
        "\n",
        "print(\"Best: %f using %s\" % (grid_result.best_score_, grid_result.best_params_))"
      ],
      "metadata": {
        "colab": {
          "base_uri": "https://localhost:8080/"
        },
        "id": "Mzy9oOtv7IFj",
        "outputId": "1f69f3df-a9ac-4dc1-82dc-f6a5512dad1a"
      },
      "id": "Mzy9oOtv7IFj",
      "execution_count": null,
      "outputs": [
        {
          "output_type": "stream",
          "name": "stdout",
          "text": [
            "-0.047991 (0.001631) with: {'n_estimators': 50}\n",
            "-0.045902 (0.001501) with: {'n_estimators': 100}\n",
            "-0.044988 (0.001661) with: {'n_estimators': 200}\n",
            "-0.044710 (0.001731) with: {'n_estimators': 300}\n",
            "-0.044548 (0.001778) with: {'n_estimators': 400}\n",
            "Best: -0.044548 using {'n_estimators': 400}\n"
          ]
        }
      ]
    },
    {
      "cell_type": "markdown",
      "source": [
        "Konfigurasi n_estimator terbaik adalah 400 dengan negatif mean square error mendekati 0."
      ],
      "metadata": {
        "id": "Vbi2KOHO-UA2"
      },
      "id": "Vbi2KOHO-UA2"
    },
    {
      "cell_type": "markdown",
      "source": [
        "# Validasi Model"
      ],
      "metadata": {
        "id": "KNKmyM1n8O8f"
      },
      "id": "KNKmyM1n8O8f"
    },
    {
      "cell_type": "code",
      "source": [
        "from sklearn.metrics import mean_squared_error\n",
        "\n",
        "scaler = StandardScaler().fit(X1_train)\n",
        "rescaled_X_train = scaler.transform(X1_train)\n",
        "model = GradientBoostingRegressor(random_state=21, n_estimators=400)\n",
        "model.fit(rescaled_X_train, Y1_train)\n",
        "\n",
        "# transform the validation dataset\n",
        "rescaled_X_test = scaler.transform(X1_test)\n",
        "predictions = model.predict(rescaled_X_test)\n",
        "print (mean_squared_error(Y1_test, predictions))"
      ],
      "metadata": {
        "colab": {
          "base_uri": "https://localhost:8080/"
        },
        "id": "AfhVKJIY8RbZ",
        "outputId": "bc648ea8-e7e1-4f89-ace2-1ab93fcbf38d"
      },
      "id": "AfhVKJIY8RbZ",
      "execution_count": null,
      "outputs": [
        {
          "output_type": "stream",
          "name": "stdout",
          "text": [
            "0.046069306214221964\n"
          ]
        }
      ]
    },
    {
      "cell_type": "markdown",
      "source": [
        "Dari mean square error Gradient Boosting Regressor 0,046 antara output prediksi vs data uji. Penting untuk dicatat bahwa mean_square_error dihitung menggunakan data yang diskalakan. "
      ],
      "metadata": {
        "id": "uiK-bzGB-sF1"
      },
      "id": "uiK-bzGB-sF1"
    },
    {
      "cell_type": "code",
      "source": [
        "compare = pd.DataFrame({'Prediction': predictions, 'Test Data' : Y1_test})\n",
        "compare.head(10)"
      ],
      "metadata": {
        "colab": {
          "base_uri": "https://localhost:8080/",
          "height": 363
        },
        "id": "mAKV2nxC8gPV",
        "outputId": "3a852e0b-689e-4e0b-f711-2db1546cae97"
      },
      "id": "mAKV2nxC8gPV",
      "execution_count": null,
      "outputs": [
        {
          "output_type": "execute_result",
          "data": {
            "text/plain": [
              "   Prediction  Test Data\n",
              "0   12.861933  12.807653\n",
              "1   13.595659  13.670485\n",
              "2   14.036059  13.852806\n",
              "3   14.319927  14.214287\n",
              "4   13.557086  13.474428\n",
              "5   12.476558  12.259613\n",
              "6   13.614558  13.579788\n",
              "7   13.292049  13.429848\n",
              "8   12.994364  12.859699\n",
              "9   13.091224  13.312984"
            ],
            "text/html": [
              "\n",
              "  <div id=\"df-4f42877c-97b9-4d08-a137-217ae09ccfd0\">\n",
              "    <div class=\"colab-df-container\">\n",
              "      <div>\n",
              "<style scoped>\n",
              "    .dataframe tbody tr th:only-of-type {\n",
              "        vertical-align: middle;\n",
              "    }\n",
              "\n",
              "    .dataframe tbody tr th {\n",
              "        vertical-align: top;\n",
              "    }\n",
              "\n",
              "    .dataframe thead th {\n",
              "        text-align: right;\n",
              "    }\n",
              "</style>\n",
              "<table border=\"1\" class=\"dataframe\">\n",
              "  <thead>\n",
              "    <tr style=\"text-align: right;\">\n",
              "      <th></th>\n",
              "      <th>Prediction</th>\n",
              "      <th>Test Data</th>\n",
              "    </tr>\n",
              "  </thead>\n",
              "  <tbody>\n",
              "    <tr>\n",
              "      <th>0</th>\n",
              "      <td>12.861933</td>\n",
              "      <td>12.807653</td>\n",
              "    </tr>\n",
              "    <tr>\n",
              "      <th>1</th>\n",
              "      <td>13.595659</td>\n",
              "      <td>13.670485</td>\n",
              "    </tr>\n",
              "    <tr>\n",
              "      <th>2</th>\n",
              "      <td>14.036059</td>\n",
              "      <td>13.852806</td>\n",
              "    </tr>\n",
              "    <tr>\n",
              "      <th>3</th>\n",
              "      <td>14.319927</td>\n",
              "      <td>14.214287</td>\n",
              "    </tr>\n",
              "    <tr>\n",
              "      <th>4</th>\n",
              "      <td>13.557086</td>\n",
              "      <td>13.474428</td>\n",
              "    </tr>\n",
              "    <tr>\n",
              "      <th>5</th>\n",
              "      <td>12.476558</td>\n",
              "      <td>12.259613</td>\n",
              "    </tr>\n",
              "    <tr>\n",
              "      <th>6</th>\n",
              "      <td>13.614558</td>\n",
              "      <td>13.579788</td>\n",
              "    </tr>\n",
              "    <tr>\n",
              "      <th>7</th>\n",
              "      <td>13.292049</td>\n",
              "      <td>13.429848</td>\n",
              "    </tr>\n",
              "    <tr>\n",
              "      <th>8</th>\n",
              "      <td>12.994364</td>\n",
              "      <td>12.859699</td>\n",
              "    </tr>\n",
              "    <tr>\n",
              "      <th>9</th>\n",
              "      <td>13.091224</td>\n",
              "      <td>13.312984</td>\n",
              "    </tr>\n",
              "  </tbody>\n",
              "</table>\n",
              "</div>\n",
              "      <button class=\"colab-df-convert\" onclick=\"convertToInteractive('df-4f42877c-97b9-4d08-a137-217ae09ccfd0')\"\n",
              "              title=\"Convert this dataframe to an interactive table.\"\n",
              "              style=\"display:none;\">\n",
              "        \n",
              "  <svg xmlns=\"http://www.w3.org/2000/svg\" height=\"24px\"viewBox=\"0 0 24 24\"\n",
              "       width=\"24px\">\n",
              "    <path d=\"M0 0h24v24H0V0z\" fill=\"none\"/>\n",
              "    <path d=\"M18.56 5.44l.94 2.06.94-2.06 2.06-.94-2.06-.94-.94-2.06-.94 2.06-2.06.94zm-11 1L8.5 8.5l.94-2.06 2.06-.94-2.06-.94L8.5 2.5l-.94 2.06-2.06.94zm10 10l.94 2.06.94-2.06 2.06-.94-2.06-.94-.94-2.06-.94 2.06-2.06.94z\"/><path d=\"M17.41 7.96l-1.37-1.37c-.4-.4-.92-.59-1.43-.59-.52 0-1.04.2-1.43.59L10.3 9.45l-7.72 7.72c-.78.78-.78 2.05 0 2.83L4 21.41c.39.39.9.59 1.41.59.51 0 1.02-.2 1.41-.59l7.78-7.78 2.81-2.81c.8-.78.8-2.07 0-2.86zM5.41 20L4 18.59l7.72-7.72 1.47 1.35L5.41 20z\"/>\n",
              "  </svg>\n",
              "      </button>\n",
              "      \n",
              "  <style>\n",
              "    .colab-df-container {\n",
              "      display:flex;\n",
              "      flex-wrap:wrap;\n",
              "      gap: 12px;\n",
              "    }\n",
              "\n",
              "    .colab-df-convert {\n",
              "      background-color: #E8F0FE;\n",
              "      border: none;\n",
              "      border-radius: 50%;\n",
              "      cursor: pointer;\n",
              "      display: none;\n",
              "      fill: #1967D2;\n",
              "      height: 32px;\n",
              "      padding: 0 0 0 0;\n",
              "      width: 32px;\n",
              "    }\n",
              "\n",
              "    .colab-df-convert:hover {\n",
              "      background-color: #E2EBFA;\n",
              "      box-shadow: 0px 1px 2px rgba(60, 64, 67, 0.3), 0px 1px 3px 1px rgba(60, 64, 67, 0.15);\n",
              "      fill: #174EA6;\n",
              "    }\n",
              "\n",
              "    [theme=dark] .colab-df-convert {\n",
              "      background-color: #3B4455;\n",
              "      fill: #D2E3FC;\n",
              "    }\n",
              "\n",
              "    [theme=dark] .colab-df-convert:hover {\n",
              "      background-color: #434B5C;\n",
              "      box-shadow: 0px 1px 3px 1px rgba(0, 0, 0, 0.15);\n",
              "      filter: drop-shadow(0px 1px 2px rgba(0, 0, 0, 0.3));\n",
              "      fill: #FFFFFF;\n",
              "    }\n",
              "  </style>\n",
              "\n",
              "      <script>\n",
              "        const buttonEl =\n",
              "          document.querySelector('#df-4f42877c-97b9-4d08-a137-217ae09ccfd0 button.colab-df-convert');\n",
              "        buttonEl.style.display =\n",
              "          google.colab.kernel.accessAllowed ? 'block' : 'none';\n",
              "\n",
              "        async function convertToInteractive(key) {\n",
              "          const element = document.querySelector('#df-4f42877c-97b9-4d08-a137-217ae09ccfd0');\n",
              "          const dataTable =\n",
              "            await google.colab.kernel.invokeFunction('convertToInteractive',\n",
              "                                                     [key], {});\n",
              "          if (!dataTable) return;\n",
              "\n",
              "          const docLinkHtml = 'Like what you see? Visit the ' +\n",
              "            '<a target=\"_blank\" href=https://colab.research.google.com/notebooks/data_table.ipynb>data table notebook</a>'\n",
              "            + ' to learn more about interactive tables.';\n",
              "          element.innerHTML = '';\n",
              "          dataTable['output_type'] = 'display_data';\n",
              "          await google.colab.output.renderOutput(dataTable, element);\n",
              "          const docLink = document.createElement('div');\n",
              "          docLink.innerHTML = docLinkHtml;\n",
              "          element.appendChild(docLink);\n",
              "        }\n",
              "      </script>\n",
              "    </div>\n",
              "  </div>\n",
              "  "
            ]
          },
          "metadata": {},
          "execution_count": 77
        }
      ]
    },
    {
      "cell_type": "markdown",
      "source": [
        "Dari output frame data di atas, perbedaan antara nilai prediksi dan data uji cukup kecil. Perhatikan bahwa data diskalakan dan log dinormalisasi. Jadi, kita harus membalikkan transformasi data ini untuk melihat nilai sebenarnya. Untuk melakukan itu, kami menerapkan fungsi **inverse_transform dan exp function** ke kolom \"Prediksi\""
      ],
      "metadata": {
        "id": "FgQDxsXa_Axg"
      },
      "id": "FgQDxsXa_Axg"
    },
    {
      "cell_type": "code",
      "source": [
        "actual_y_test = np.exp(Y1_test)\n",
        "actual_predicted = np.exp(predictions)\n",
        "diff = abs(actual_y_test - actual_predicted)\n",
        "\n",
        "compare_actual = pd.DataFrame({'Test Data': actual_y_test, 'Prediksi Harga' : actual_predicted, 'Selisih' : diff})\n",
        "compare_actual = compare_actual.astype(int)\n",
        "compare_actual.head(10)"
      ],
      "metadata": {
        "colab": {
          "base_uri": "https://localhost:8080/",
          "height": 363
        },
        "id": "qa4sPcEd8rVI",
        "outputId": "10d0b730-0b83-4632-9d21-61f8452a43f4"
      },
      "id": "qa4sPcEd8rVI",
      "execution_count": null,
      "outputs": [
        {
          "output_type": "execute_result",
          "data": {
            "text/plain": [
              "   Test Data  Prediksi Harga  Selisih\n",
              "0     365000          385359    20359\n",
              "1     865000          802638    62361\n",
              "2    1038000         1246760   208760\n",
              "3    1490000         1656018   166018\n",
              "4     710999          772267    61267\n",
              "5     211000          262119    51119\n",
              "6     790000          817951    27951\n",
              "7     680000          592465    87534\n",
              "8     384499          439926    55426\n",
              "9     604999          484670   120329"
            ],
            "text/html": [
              "\n",
              "  <div id=\"df-a9ae4df2-2569-42bf-ba5c-b45755450138\">\n",
              "    <div class=\"colab-df-container\">\n",
              "      <div>\n",
              "<style scoped>\n",
              "    .dataframe tbody tr th:only-of-type {\n",
              "        vertical-align: middle;\n",
              "    }\n",
              "\n",
              "    .dataframe tbody tr th {\n",
              "        vertical-align: top;\n",
              "    }\n",
              "\n",
              "    .dataframe thead th {\n",
              "        text-align: right;\n",
              "    }\n",
              "</style>\n",
              "<table border=\"1\" class=\"dataframe\">\n",
              "  <thead>\n",
              "    <tr style=\"text-align: right;\">\n",
              "      <th></th>\n",
              "      <th>Test Data</th>\n",
              "      <th>Prediksi Harga</th>\n",
              "      <th>Selisih</th>\n",
              "    </tr>\n",
              "  </thead>\n",
              "  <tbody>\n",
              "    <tr>\n",
              "      <th>0</th>\n",
              "      <td>365000</td>\n",
              "      <td>385359</td>\n",
              "      <td>20359</td>\n",
              "    </tr>\n",
              "    <tr>\n",
              "      <th>1</th>\n",
              "      <td>865000</td>\n",
              "      <td>802638</td>\n",
              "      <td>62361</td>\n",
              "    </tr>\n",
              "    <tr>\n",
              "      <th>2</th>\n",
              "      <td>1038000</td>\n",
              "      <td>1246760</td>\n",
              "      <td>208760</td>\n",
              "    </tr>\n",
              "    <tr>\n",
              "      <th>3</th>\n",
              "      <td>1490000</td>\n",
              "      <td>1656018</td>\n",
              "      <td>166018</td>\n",
              "    </tr>\n",
              "    <tr>\n",
              "      <th>4</th>\n",
              "      <td>710999</td>\n",
              "      <td>772267</td>\n",
              "      <td>61267</td>\n",
              "    </tr>\n",
              "    <tr>\n",
              "      <th>5</th>\n",
              "      <td>211000</td>\n",
              "      <td>262119</td>\n",
              "      <td>51119</td>\n",
              "    </tr>\n",
              "    <tr>\n",
              "      <th>6</th>\n",
              "      <td>790000</td>\n",
              "      <td>817951</td>\n",
              "      <td>27951</td>\n",
              "    </tr>\n",
              "    <tr>\n",
              "      <th>7</th>\n",
              "      <td>680000</td>\n",
              "      <td>592465</td>\n",
              "      <td>87534</td>\n",
              "    </tr>\n",
              "    <tr>\n",
              "      <th>8</th>\n",
              "      <td>384499</td>\n",
              "      <td>439926</td>\n",
              "      <td>55426</td>\n",
              "    </tr>\n",
              "    <tr>\n",
              "      <th>9</th>\n",
              "      <td>604999</td>\n",
              "      <td>484670</td>\n",
              "      <td>120329</td>\n",
              "    </tr>\n",
              "  </tbody>\n",
              "</table>\n",
              "</div>\n",
              "      <button class=\"colab-df-convert\" onclick=\"convertToInteractive('df-a9ae4df2-2569-42bf-ba5c-b45755450138')\"\n",
              "              title=\"Convert this dataframe to an interactive table.\"\n",
              "              style=\"display:none;\">\n",
              "        \n",
              "  <svg xmlns=\"http://www.w3.org/2000/svg\" height=\"24px\"viewBox=\"0 0 24 24\"\n",
              "       width=\"24px\">\n",
              "    <path d=\"M0 0h24v24H0V0z\" fill=\"none\"/>\n",
              "    <path d=\"M18.56 5.44l.94 2.06.94-2.06 2.06-.94-2.06-.94-.94-2.06-.94 2.06-2.06.94zm-11 1L8.5 8.5l.94-2.06 2.06-.94-2.06-.94L8.5 2.5l-.94 2.06-2.06.94zm10 10l.94 2.06.94-2.06 2.06-.94-2.06-.94-.94-2.06-.94 2.06-2.06.94z\"/><path d=\"M17.41 7.96l-1.37-1.37c-.4-.4-.92-.59-1.43-.59-.52 0-1.04.2-1.43.59L10.3 9.45l-7.72 7.72c-.78.78-.78 2.05 0 2.83L4 21.41c.39.39.9.59 1.41.59.51 0 1.02-.2 1.41-.59l7.78-7.78 2.81-2.81c.8-.78.8-2.07 0-2.86zM5.41 20L4 18.59l7.72-7.72 1.47 1.35L5.41 20z\"/>\n",
              "  </svg>\n",
              "      </button>\n",
              "      \n",
              "  <style>\n",
              "    .colab-df-container {\n",
              "      display:flex;\n",
              "      flex-wrap:wrap;\n",
              "      gap: 12px;\n",
              "    }\n",
              "\n",
              "    .colab-df-convert {\n",
              "      background-color: #E8F0FE;\n",
              "      border: none;\n",
              "      border-radius: 50%;\n",
              "      cursor: pointer;\n",
              "      display: none;\n",
              "      fill: #1967D2;\n",
              "      height: 32px;\n",
              "      padding: 0 0 0 0;\n",
              "      width: 32px;\n",
              "    }\n",
              "\n",
              "    .colab-df-convert:hover {\n",
              "      background-color: #E2EBFA;\n",
              "      box-shadow: 0px 1px 2px rgba(60, 64, 67, 0.3), 0px 1px 3px 1px rgba(60, 64, 67, 0.15);\n",
              "      fill: #174EA6;\n",
              "    }\n",
              "\n",
              "    [theme=dark] .colab-df-convert {\n",
              "      background-color: #3B4455;\n",
              "      fill: #D2E3FC;\n",
              "    }\n",
              "\n",
              "    [theme=dark] .colab-df-convert:hover {\n",
              "      background-color: #434B5C;\n",
              "      box-shadow: 0px 1px 3px 1px rgba(0, 0, 0, 0.15);\n",
              "      filter: drop-shadow(0px 1px 2px rgba(0, 0, 0, 0.3));\n",
              "      fill: #FFFFFF;\n",
              "    }\n",
              "  </style>\n",
              "\n",
              "      <script>\n",
              "        const buttonEl =\n",
              "          document.querySelector('#df-a9ae4df2-2569-42bf-ba5c-b45755450138 button.colab-df-convert');\n",
              "        buttonEl.style.display =\n",
              "          google.colab.kernel.accessAllowed ? 'block' : 'none';\n",
              "\n",
              "        async function convertToInteractive(key) {\n",
              "          const element = document.querySelector('#df-a9ae4df2-2569-42bf-ba5c-b45755450138');\n",
              "          const dataTable =\n",
              "            await google.colab.kernel.invokeFunction('convertToInteractive',\n",
              "                                                     [key], {});\n",
              "          if (!dataTable) return;\n",
              "\n",
              "          const docLinkHtml = 'Like what you see? Visit the ' +\n",
              "            '<a target=\"_blank\" href=https://colab.research.google.com/notebooks/data_table.ipynb>data table notebook</a>'\n",
              "            + ' to learn more about interactive tables.';\n",
              "          element.innerHTML = '';\n",
              "          dataTable['output_type'] = 'display_data';\n",
              "          await google.colab.output.renderOutput(dataTable, element);\n",
              "          const docLink = document.createElement('div');\n",
              "          docLink.innerHTML = docLinkHtml;\n",
              "          element.appendChild(docLink);\n",
              "        }\n",
              "      </script>\n",
              "    </div>\n",
              "  </div>\n",
              "  "
            ]
          },
          "metadata": {},
          "execution_count": 78
        }
      ]
    }
  ],
  "metadata": {
    "kernelspec": {
      "display_name": "Python 3 (ipykernel)",
      "language": "python",
      "name": "python3"
    },
    "language_info": {
      "codemirror_mode": {
        "name": "ipython",
        "version": 3
      },
      "file_extension": ".py",
      "mimetype": "text/x-python",
      "name": "python",
      "nbconvert_exporter": "python",
      "pygments_lexer": "ipython3",
      "version": "3.9.7"
    },
    "colab": {
      "provenance": [],
      "collapsed_sections": [
        "db330516"
      ],
      "toc_visible": true,
      "include_colab_link": true
    },
    "widgets": {
      "application/vnd.jupyter.widget-state+json": {
        "a705b0ea419b4567b8371878583585fc": {
          "model_module": "@jupyter-widgets/controls",
          "model_name": "HBoxModel",
          "model_module_version": "1.5.0",
          "state": {
            "_dom_classes": [],
            "_model_module": "@jupyter-widgets/controls",
            "_model_module_version": "1.5.0",
            "_model_name": "HBoxModel",
            "_view_count": null,
            "_view_module": "@jupyter-widgets/controls",
            "_view_module_version": "1.5.0",
            "_view_name": "HBoxView",
            "box_style": "",
            "children": [
              "IPY_MODEL_9b1dd2ca4691428a9aa2bbc04c86a7e0",
              "IPY_MODEL_ebe51380d1d54779b9881b9c50c85034",
              "IPY_MODEL_e4ed22e992c24f15a6d587b3c2a14d1f"
            ],
            "layout": "IPY_MODEL_32ced10b58f14713b006b865be168e36"
          }
        },
        "9b1dd2ca4691428a9aa2bbc04c86a7e0": {
          "model_module": "@jupyter-widgets/controls",
          "model_name": "HTMLModel",
          "model_module_version": "1.5.0",
          "state": {
            "_dom_classes": [],
            "_model_module": "@jupyter-widgets/controls",
            "_model_module_version": "1.5.0",
            "_model_name": "HTMLModel",
            "_view_count": null,
            "_view_module": "@jupyter-widgets/controls",
            "_view_module_version": "1.5.0",
            "_view_name": "HTMLView",
            "description": "",
            "description_tooltip": null,
            "layout": "IPY_MODEL_cd22623812444b008230771bccca4551",
            "placeholder": "​",
            "style": "IPY_MODEL_8f1a6842f334408baa5df812c1c7cc3c",
            "value": "Generating Count Plots: 100%"
          }
        },
        "ebe51380d1d54779b9881b9c50c85034": {
          "model_module": "@jupyter-widgets/controls",
          "model_name": "FloatProgressModel",
          "model_module_version": "1.5.0",
          "state": {
            "_dom_classes": [],
            "_model_module": "@jupyter-widgets/controls",
            "_model_module_version": "1.5.0",
            "_model_name": "FloatProgressModel",
            "_view_count": null,
            "_view_module": "@jupyter-widgets/controls",
            "_view_module_version": "1.5.0",
            "_view_name": "ProgressView",
            "bar_style": "success",
            "description": "",
            "description_tooltip": null,
            "layout": "IPY_MODEL_85f24ec71af84a60b176837593fc022d",
            "max": 8,
            "min": 0,
            "orientation": "horizontal",
            "style": "IPY_MODEL_a5ff02a9f58c4aad962e5a1bab418786",
            "value": 8
          }
        },
        "e4ed22e992c24f15a6d587b3c2a14d1f": {
          "model_module": "@jupyter-widgets/controls",
          "model_name": "HTMLModel",
          "model_module_version": "1.5.0",
          "state": {
            "_dom_classes": [],
            "_model_module": "@jupyter-widgets/controls",
            "_model_module_version": "1.5.0",
            "_model_name": "HTMLModel",
            "_view_count": null,
            "_view_module": "@jupyter-widgets/controls",
            "_view_module_version": "1.5.0",
            "_view_name": "HTMLView",
            "description": "",
            "description_tooltip": null,
            "layout": "IPY_MODEL_d45e92bc056b4d3cb05d662aca4c3420",
            "placeholder": "​",
            "style": "IPY_MODEL_0e957c2aabee406eb49c0771bd1c26e3",
            "value": " 8/8 [00:01&lt;00:00,  4.11it/s]"
          }
        },
        "32ced10b58f14713b006b865be168e36": {
          "model_module": "@jupyter-widgets/base",
          "model_name": "LayoutModel",
          "model_module_version": "1.2.0",
          "state": {
            "_model_module": "@jupyter-widgets/base",
            "_model_module_version": "1.2.0",
            "_model_name": "LayoutModel",
            "_view_count": null,
            "_view_module": "@jupyter-widgets/base",
            "_view_module_version": "1.2.0",
            "_view_name": "LayoutView",
            "align_content": null,
            "align_items": null,
            "align_self": null,
            "border": null,
            "bottom": null,
            "display": null,
            "flex": null,
            "flex_flow": null,
            "grid_area": null,
            "grid_auto_columns": null,
            "grid_auto_flow": null,
            "grid_auto_rows": null,
            "grid_column": null,
            "grid_gap": null,
            "grid_row": null,
            "grid_template_areas": null,
            "grid_template_columns": null,
            "grid_template_rows": null,
            "height": null,
            "justify_content": null,
            "justify_items": null,
            "left": null,
            "margin": null,
            "max_height": null,
            "max_width": null,
            "min_height": null,
            "min_width": null,
            "object_fit": null,
            "object_position": null,
            "order": null,
            "overflow": null,
            "overflow_x": null,
            "overflow_y": null,
            "padding": null,
            "right": null,
            "top": null,
            "visibility": null,
            "width": null
          }
        },
        "cd22623812444b008230771bccca4551": {
          "model_module": "@jupyter-widgets/base",
          "model_name": "LayoutModel",
          "model_module_version": "1.2.0",
          "state": {
            "_model_module": "@jupyter-widgets/base",
            "_model_module_version": "1.2.0",
            "_model_name": "LayoutModel",
            "_view_count": null,
            "_view_module": "@jupyter-widgets/base",
            "_view_module_version": "1.2.0",
            "_view_name": "LayoutView",
            "align_content": null,
            "align_items": null,
            "align_self": null,
            "border": null,
            "bottom": null,
            "display": null,
            "flex": null,
            "flex_flow": null,
            "grid_area": null,
            "grid_auto_columns": null,
            "grid_auto_flow": null,
            "grid_auto_rows": null,
            "grid_column": null,
            "grid_gap": null,
            "grid_row": null,
            "grid_template_areas": null,
            "grid_template_columns": null,
            "grid_template_rows": null,
            "height": null,
            "justify_content": null,
            "justify_items": null,
            "left": null,
            "margin": null,
            "max_height": null,
            "max_width": null,
            "min_height": null,
            "min_width": null,
            "object_fit": null,
            "object_position": null,
            "order": null,
            "overflow": null,
            "overflow_x": null,
            "overflow_y": null,
            "padding": null,
            "right": null,
            "top": null,
            "visibility": null,
            "width": null
          }
        },
        "8f1a6842f334408baa5df812c1c7cc3c": {
          "model_module": "@jupyter-widgets/controls",
          "model_name": "DescriptionStyleModel",
          "model_module_version": "1.5.0",
          "state": {
            "_model_module": "@jupyter-widgets/controls",
            "_model_module_version": "1.5.0",
            "_model_name": "DescriptionStyleModel",
            "_view_count": null,
            "_view_module": "@jupyter-widgets/base",
            "_view_module_version": "1.2.0",
            "_view_name": "StyleView",
            "description_width": ""
          }
        },
        "85f24ec71af84a60b176837593fc022d": {
          "model_module": "@jupyter-widgets/base",
          "model_name": "LayoutModel",
          "model_module_version": "1.2.0",
          "state": {
            "_model_module": "@jupyter-widgets/base",
            "_model_module_version": "1.2.0",
            "_model_name": "LayoutModel",
            "_view_count": null,
            "_view_module": "@jupyter-widgets/base",
            "_view_module_version": "1.2.0",
            "_view_name": "LayoutView",
            "align_content": null,
            "align_items": null,
            "align_self": null,
            "border": null,
            "bottom": null,
            "display": null,
            "flex": null,
            "flex_flow": null,
            "grid_area": null,
            "grid_auto_columns": null,
            "grid_auto_flow": null,
            "grid_auto_rows": null,
            "grid_column": null,
            "grid_gap": null,
            "grid_row": null,
            "grid_template_areas": null,
            "grid_template_columns": null,
            "grid_template_rows": null,
            "height": null,
            "justify_content": null,
            "justify_items": null,
            "left": null,
            "margin": null,
            "max_height": null,
            "max_width": null,
            "min_height": null,
            "min_width": null,
            "object_fit": null,
            "object_position": null,
            "order": null,
            "overflow": null,
            "overflow_x": null,
            "overflow_y": null,
            "padding": null,
            "right": null,
            "top": null,
            "visibility": null,
            "width": null
          }
        },
        "a5ff02a9f58c4aad962e5a1bab418786": {
          "model_module": "@jupyter-widgets/controls",
          "model_name": "ProgressStyleModel",
          "model_module_version": "1.5.0",
          "state": {
            "_model_module": "@jupyter-widgets/controls",
            "_model_module_version": "1.5.0",
            "_model_name": "ProgressStyleModel",
            "_view_count": null,
            "_view_module": "@jupyter-widgets/base",
            "_view_module_version": "1.2.0",
            "_view_name": "StyleView",
            "bar_color": null,
            "description_width": ""
          }
        },
        "d45e92bc056b4d3cb05d662aca4c3420": {
          "model_module": "@jupyter-widgets/base",
          "model_name": "LayoutModel",
          "model_module_version": "1.2.0",
          "state": {
            "_model_module": "@jupyter-widgets/base",
            "_model_module_version": "1.2.0",
            "_model_name": "LayoutModel",
            "_view_count": null,
            "_view_module": "@jupyter-widgets/base",
            "_view_module_version": "1.2.0",
            "_view_name": "LayoutView",
            "align_content": null,
            "align_items": null,
            "align_self": null,
            "border": null,
            "bottom": null,
            "display": null,
            "flex": null,
            "flex_flow": null,
            "grid_area": null,
            "grid_auto_columns": null,
            "grid_auto_flow": null,
            "grid_auto_rows": null,
            "grid_column": null,
            "grid_gap": null,
            "grid_row": null,
            "grid_template_areas": null,
            "grid_template_columns": null,
            "grid_template_rows": null,
            "height": null,
            "justify_content": null,
            "justify_items": null,
            "left": null,
            "margin": null,
            "max_height": null,
            "max_width": null,
            "min_height": null,
            "min_width": null,
            "object_fit": null,
            "object_position": null,
            "order": null,
            "overflow": null,
            "overflow_x": null,
            "overflow_y": null,
            "padding": null,
            "right": null,
            "top": null,
            "visibility": null,
            "width": null
          }
        },
        "0e957c2aabee406eb49c0771bd1c26e3": {
          "model_module": "@jupyter-widgets/controls",
          "model_name": "DescriptionStyleModel",
          "model_module_version": "1.5.0",
          "state": {
            "_model_module": "@jupyter-widgets/controls",
            "_model_module_version": "1.5.0",
            "_model_name": "DescriptionStyleModel",
            "_view_count": null,
            "_view_module": "@jupyter-widgets/base",
            "_view_module_version": "1.2.0",
            "_view_name": "StyleView",
            "description_width": ""
          }
        }
      }
    }
  },
  "nbformat": 4,
  "nbformat_minor": 5
}